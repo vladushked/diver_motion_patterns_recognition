{
 "metadata": {
  "language_info": {
   "codemirror_mode": {
    "name": "ipython",
    "version": 3
   },
   "file_extension": ".py",
   "mimetype": "text/x-python",
   "name": "python",
   "nbconvert_exporter": "python",
   "pygments_lexer": "ipython3",
   "version": "3.8.5-final"
  },
  "orig_nbformat": 2,
  "kernelspec": {
   "name": "python3",
   "display_name": "Python 3",
   "language": "python"
  }
 },
 "nbformat": 4,
 "nbformat_minor": 2,
 "cells": [
  {
   "source": [
    "## Extract diving pose gestures"
   ],
   "cell_type": "markdown",
   "metadata": {}
  },
  {
   "cell_type": "code",
   "execution_count": 5,
   "metadata": {},
   "outputs": [],
   "source": [
    "import pandas as pd\n",
    "import os\n",
    "import math"
   ]
  },
  {
   "cell_type": "code",
   "execution_count": 6,
   "metadata": {},
   "outputs": [],
   "source": [
    "chalearn_path = \"/home/vlados/datasets/chalearn/\"\n",
    "# chalearn_path = \"/home/vlad/datasets/chalearn/\"\n",
    "chalearn_labels_path = chalearn_path + \"Info_devel_valid.txt\""
   ]
  },
  {
   "cell_type": "code",
   "execution_count": 7,
   "metadata": {},
   "outputs": [],
   "source": [
    "column_names = [  \"j0_x\",  \"j0_y\", \"j1_x\", \"j1_y\" , \"j2_x\", \"j2_y\", \"j3_x\", \"j3_y\", \"j4_x\", \"j4_y\", \"j5_x\", \"j5_y\", \"j6_x\", \"j6_y\", \"j7_x\", \"j7_y\", \"j8_x\", \"j8_y\", \"j9_x\", \"j9_y\", \"j10_x\", \"j10_y\", \"j11_x\", \"j11_y\", \"j12_x\", \"j12_y\", \"j13_x\", \"j13_y\", 'j14_x', \"j14_y\", \"j15_x\", \"j15_y\", \"j16_x\", \"j16_y\", \"j17_x\", \"j17_y\" ]"
   ]
  },
  {
   "cell_type": "code",
   "execution_count": 5,
   "metadata": {},
   "outputs": [],
   "source": [
    "chalearn_labels_df = pd.read_csv(chalearn_labels_path, sep=\"\\t\")"
   ]
  },
  {
   "cell_type": "code",
   "execution_count": 6,
   "metadata": {},
   "outputs": [
    {
     "output_type": "execute_result",
     "data": {
      "text/plain": [
       "     Set  Num                           Lexicon UserID              Date  \\\n",
       "0  devel    1  CanadaAviationGroundCirculation1      A  2011 10 05 16 26   \n",
       "1  devel    2          RefereeWrestlingSignals1      I  2011 09 28 14 31   \n",
       "2  devel    3                  GangHandSignals1      L  2011 09 27 12 16   \n",
       "3  devel    4                    DivingSignals2      J  2011 09 26 09 01   \n",
       "4  devel    5                   GestunoDisaster      L  2011 10 11 15 16   \n",
       "\n",
       "   MinDepth  MaxDepth  DepthRes  DepthAcc  Missing  \n",
       "0       801      1964        76         2        0  \n",
       "1       801      1968        71         1        0  \n",
       "2       801      1506        95         1        0  \n",
       "3       801      1869       100         1        0  \n",
       "4       824      1964        91         2        0  "
      ],
      "text/html": "<div>\n<style scoped>\n    .dataframe tbody tr th:only-of-type {\n        vertical-align: middle;\n    }\n\n    .dataframe tbody tr th {\n        vertical-align: top;\n    }\n\n    .dataframe thead th {\n        text-align: right;\n    }\n</style>\n<table border=\"1\" class=\"dataframe\">\n  <thead>\n    <tr style=\"text-align: right;\">\n      <th></th>\n      <th>Set</th>\n      <th>Num</th>\n      <th>Lexicon</th>\n      <th>UserID</th>\n      <th>Date</th>\n      <th>MinDepth</th>\n      <th>MaxDepth</th>\n      <th>DepthRes</th>\n      <th>DepthAcc</th>\n      <th>Missing</th>\n    </tr>\n  </thead>\n  <tbody>\n    <tr>\n      <th>0</th>\n      <td>devel</td>\n      <td>1</td>\n      <td>CanadaAviationGroundCirculation1</td>\n      <td>A</td>\n      <td>2011 10 05 16 26</td>\n      <td>801</td>\n      <td>1964</td>\n      <td>76</td>\n      <td>2</td>\n      <td>0</td>\n    </tr>\n    <tr>\n      <th>1</th>\n      <td>devel</td>\n      <td>2</td>\n      <td>RefereeWrestlingSignals1</td>\n      <td>I</td>\n      <td>2011 09 28 14 31</td>\n      <td>801</td>\n      <td>1968</td>\n      <td>71</td>\n      <td>1</td>\n      <td>0</td>\n    </tr>\n    <tr>\n      <th>2</th>\n      <td>devel</td>\n      <td>3</td>\n      <td>GangHandSignals1</td>\n      <td>L</td>\n      <td>2011 09 27 12 16</td>\n      <td>801</td>\n      <td>1506</td>\n      <td>95</td>\n      <td>1</td>\n      <td>0</td>\n    </tr>\n    <tr>\n      <th>3</th>\n      <td>devel</td>\n      <td>4</td>\n      <td>DivingSignals2</td>\n      <td>J</td>\n      <td>2011 09 26 09 01</td>\n      <td>801</td>\n      <td>1869</td>\n      <td>100</td>\n      <td>1</td>\n      <td>0</td>\n    </tr>\n    <tr>\n      <th>4</th>\n      <td>devel</td>\n      <td>5</td>\n      <td>GestunoDisaster</td>\n      <td>L</td>\n      <td>2011 10 11 15 16</td>\n      <td>824</td>\n      <td>1964</td>\n      <td>91</td>\n      <td>2</td>\n      <td>0</td>\n    </tr>\n  </tbody>\n</table>\n</div>"
     },
     "metadata": {},
     "execution_count": 6
    }
   ],
   "source": [
    "chalearn_labels_df.head()"
   ]
  },
  {
   "cell_type": "code",
   "execution_count": 7,
   "metadata": {},
   "outputs": [
    {
     "output_type": "execute_result",
     "data": {
      "text/plain": [
       "       Set  Num         Lexicon UserID\n",
       "3    devel    4  DivingSignals2      J\n",
       "19   devel   20  DivingSignals1      D\n",
       "22   valid    3  DivingSignals2      Z\n",
       "45   devel   26  DivingSignals2      L\n",
       "54   devel   35  DivingSignals1      O\n",
       "62   devel   43  DivingSignals2      L\n",
       "71   devel   52  DivingSignals1      I\n",
       "90   devel   71  DivingSignals1      R\n",
       "92   devel   73  DivingSignals1      H\n",
       "98   devel   79  DivingSignals2      M\n",
       "102  devel   83  DivingSignals2      C\n",
       "117  devel   98  DivingSignals2      B\n",
       "131  devel  112  DivingSignals1      C\n",
       "177  devel  158  DivingSignals2      A\n",
       "200  devel  181  DivingSignals2      B\n",
       "216  devel  197  DivingSignals1      Z\n",
       "217  devel  198  DivingSignals2      K\n",
       "218  devel  199  DivingSignals1      J\n",
       "274  devel  255  DivingSignals2      O\n",
       "291  devel  272  DivingSignals1      L\n",
       "312  devel  293  DivingSignals1      L\n",
       "319  devel  300  DivingSignals2      I\n",
       "322  devel  303  DivingSignals1      K\n",
       "357  devel  338  DivingSignals1      B\n",
       "380  devel  361  DivingSignals2      D\n",
       "430  devel  411  DivingSignals2      H\n",
       "439  devel  420  DivingSignals1      A\n",
       "459  devel  440  DivingSignals2      R\n",
       "494  devel  475  DivingSignals1      M"
      ],
      "text/html": "<div>\n<style scoped>\n    .dataframe tbody tr th:only-of-type {\n        vertical-align: middle;\n    }\n\n    .dataframe tbody tr th {\n        vertical-align: top;\n    }\n\n    .dataframe thead th {\n        text-align: right;\n    }\n</style>\n<table border=\"1\" class=\"dataframe\">\n  <thead>\n    <tr style=\"text-align: right;\">\n      <th></th>\n      <th>Set</th>\n      <th>Num</th>\n      <th>Lexicon</th>\n      <th>UserID</th>\n    </tr>\n  </thead>\n  <tbody>\n    <tr>\n      <th>3</th>\n      <td>devel</td>\n      <td>4</td>\n      <td>DivingSignals2</td>\n      <td>J</td>\n    </tr>\n    <tr>\n      <th>19</th>\n      <td>devel</td>\n      <td>20</td>\n      <td>DivingSignals1</td>\n      <td>D</td>\n    </tr>\n    <tr>\n      <th>22</th>\n      <td>valid</td>\n      <td>3</td>\n      <td>DivingSignals2</td>\n      <td>Z</td>\n    </tr>\n    <tr>\n      <th>45</th>\n      <td>devel</td>\n      <td>26</td>\n      <td>DivingSignals2</td>\n      <td>L</td>\n    </tr>\n    <tr>\n      <th>54</th>\n      <td>devel</td>\n      <td>35</td>\n      <td>DivingSignals1</td>\n      <td>O</td>\n    </tr>\n    <tr>\n      <th>62</th>\n      <td>devel</td>\n      <td>43</td>\n      <td>DivingSignals2</td>\n      <td>L</td>\n    </tr>\n    <tr>\n      <th>71</th>\n      <td>devel</td>\n      <td>52</td>\n      <td>DivingSignals1</td>\n      <td>I</td>\n    </tr>\n    <tr>\n      <th>90</th>\n      <td>devel</td>\n      <td>71</td>\n      <td>DivingSignals1</td>\n      <td>R</td>\n    </tr>\n    <tr>\n      <th>92</th>\n      <td>devel</td>\n      <td>73</td>\n      <td>DivingSignals1</td>\n      <td>H</td>\n    </tr>\n    <tr>\n      <th>98</th>\n      <td>devel</td>\n      <td>79</td>\n      <td>DivingSignals2</td>\n      <td>M</td>\n    </tr>\n    <tr>\n      <th>102</th>\n      <td>devel</td>\n      <td>83</td>\n      <td>DivingSignals2</td>\n      <td>C</td>\n    </tr>\n    <tr>\n      <th>117</th>\n      <td>devel</td>\n      <td>98</td>\n      <td>DivingSignals2</td>\n      <td>B</td>\n    </tr>\n    <tr>\n      <th>131</th>\n      <td>devel</td>\n      <td>112</td>\n      <td>DivingSignals1</td>\n      <td>C</td>\n    </tr>\n    <tr>\n      <th>177</th>\n      <td>devel</td>\n      <td>158</td>\n      <td>DivingSignals2</td>\n      <td>A</td>\n    </tr>\n    <tr>\n      <th>200</th>\n      <td>devel</td>\n      <td>181</td>\n      <td>DivingSignals2</td>\n      <td>B</td>\n    </tr>\n    <tr>\n      <th>216</th>\n      <td>devel</td>\n      <td>197</td>\n      <td>DivingSignals1</td>\n      <td>Z</td>\n    </tr>\n    <tr>\n      <th>217</th>\n      <td>devel</td>\n      <td>198</td>\n      <td>DivingSignals2</td>\n      <td>K</td>\n    </tr>\n    <tr>\n      <th>218</th>\n      <td>devel</td>\n      <td>199</td>\n      <td>DivingSignals1</td>\n      <td>J</td>\n    </tr>\n    <tr>\n      <th>274</th>\n      <td>devel</td>\n      <td>255</td>\n      <td>DivingSignals2</td>\n      <td>O</td>\n    </tr>\n    <tr>\n      <th>291</th>\n      <td>devel</td>\n      <td>272</td>\n      <td>DivingSignals1</td>\n      <td>L</td>\n    </tr>\n    <tr>\n      <th>312</th>\n      <td>devel</td>\n      <td>293</td>\n      <td>DivingSignals1</td>\n      <td>L</td>\n    </tr>\n    <tr>\n      <th>319</th>\n      <td>devel</td>\n      <td>300</td>\n      <td>DivingSignals2</td>\n      <td>I</td>\n    </tr>\n    <tr>\n      <th>322</th>\n      <td>devel</td>\n      <td>303</td>\n      <td>DivingSignals1</td>\n      <td>K</td>\n    </tr>\n    <tr>\n      <th>357</th>\n      <td>devel</td>\n      <td>338</td>\n      <td>DivingSignals1</td>\n      <td>B</td>\n    </tr>\n    <tr>\n      <th>380</th>\n      <td>devel</td>\n      <td>361</td>\n      <td>DivingSignals2</td>\n      <td>D</td>\n    </tr>\n    <tr>\n      <th>430</th>\n      <td>devel</td>\n      <td>411</td>\n      <td>DivingSignals2</td>\n      <td>H</td>\n    </tr>\n    <tr>\n      <th>439</th>\n      <td>devel</td>\n      <td>420</td>\n      <td>DivingSignals1</td>\n      <td>A</td>\n    </tr>\n    <tr>\n      <th>459</th>\n      <td>devel</td>\n      <td>440</td>\n      <td>DivingSignals2</td>\n      <td>R</td>\n    </tr>\n    <tr>\n      <th>494</th>\n      <td>devel</td>\n      <td>475</td>\n      <td>DivingSignals1</td>\n      <td>M</td>\n    </tr>\n  </tbody>\n</table>\n</div>"
     },
     "metadata": {},
     "execution_count": 7
    }
   ],
   "source": [
    "chlearn_diving_labels_df = chalearn_labels_df.loc[chalearn_labels_df[\"Lexicon\"].isin([\"DivingSignals1\", \"DivingSignals2\"])].drop(chalearn_labels_df.loc[:,\"Date\":], axis = 1)\n",
    "chlearn_diving_labels_df"
   ]
  },
  {
   "cell_type": "code",
   "execution_count": 8,
   "metadata": {},
   "outputs": [],
   "source": [
    "def find_dir(number, path, name):\n",
    "    for dirname in os.listdir(path):\n",
    "        splitted = dirname.split(\"-\")\n",
    "        if splitted[0] != name:\n",
    "            continue\n",
    "        if (int(splitted[1]) < number <= int(splitted[2])):\n",
    "            subpath = os.path.join(path, dirname)\n",
    "            for subdirname in os.listdir(subpath):\n",
    "                subsplitted = subdirname.split(name)\n",
    "                if subsplitted[0] != \"\":\n",
    "                    continue\n",
    "                if int(subsplitted[1]) == number:\n",
    "                    dest_path = os.path.join(subpath, subdirname)\n",
    "                    for dest_file in os.listdir(dest_path):\n",
    "                        if dest_file.split(\".\")[1] == \"csv\":\n",
    "                            yield dest_path, dest_file\n",
    "                            "
   ]
  },
  {
   "cell_type": "code",
   "execution_count": 9,
   "metadata": {},
   "outputs": [
    {
     "output_type": "execute_result",
     "data": {
      "text/plain": [
       "            name   label                                               path  \\\n",
       "0     devel04_11       3  /home/vlados/datasets/chalearn/devel-1-20/deve...   \n",
       "1     devel04_12       1  /home/vlados/datasets/chalearn/devel-1-20/deve...   \n",
       "2     devel04_13     2 7  /home/vlados/datasets/chalearn/devel-1-20/deve...   \n",
       "3     devel04_14       2  /home/vlados/datasets/chalearn/devel-1-20/deve...   \n",
       "4     devel04_15   9 5 4  /home/vlados/datasets/chalearn/devel-1-20/deve...   \n",
       "...          ...     ...                                                ...   \n",
       "1321  devel475_5       9  /home/vlados/datasets/chalearn/devel-366-480/d...   \n",
       "1322  devel475_6       8  /home/vlados/datasets/chalearn/devel-366-480/d...   \n",
       "1323  devel475_7       5  /home/vlados/datasets/chalearn/devel-366-480/d...   \n",
       "1324  devel475_8       4  /home/vlados/datasets/chalearn/devel-366-480/d...   \n",
       "1325  devel475_9       2  /home/vlados/datasets/chalearn/devel-366-480/d...   \n",
       "\n",
       "             lexicon user  \n",
       "0     DivingSignals2    J  \n",
       "1     DivingSignals2    J  \n",
       "2     DivingSignals2    J  \n",
       "3     DivingSignals2    J  \n",
       "4     DivingSignals2    J  \n",
       "...              ...  ...  \n",
       "1321  DivingSignals1    M  \n",
       "1322  DivingSignals1    M  \n",
       "1323  DivingSignals1    M  \n",
       "1324  DivingSignals1    M  \n",
       "1325  DivingSignals1    M  \n",
       "\n",
       "[1326 rows x 5 columns]"
      ],
      "text/html": "<div>\n<style scoped>\n    .dataframe tbody tr th:only-of-type {\n        vertical-align: middle;\n    }\n\n    .dataframe tbody tr th {\n        vertical-align: top;\n    }\n\n    .dataframe thead th {\n        text-align: right;\n    }\n</style>\n<table border=\"1\" class=\"dataframe\">\n  <thead>\n    <tr style=\"text-align: right;\">\n      <th></th>\n      <th>name</th>\n      <th>label</th>\n      <th>path</th>\n      <th>lexicon</th>\n      <th>user</th>\n    </tr>\n  </thead>\n  <tbody>\n    <tr>\n      <th>0</th>\n      <td>devel04_11</td>\n      <td>3</td>\n      <td>/home/vlados/datasets/chalearn/devel-1-20/deve...</td>\n      <td>DivingSignals2</td>\n      <td>J</td>\n    </tr>\n    <tr>\n      <th>1</th>\n      <td>devel04_12</td>\n      <td>1</td>\n      <td>/home/vlados/datasets/chalearn/devel-1-20/deve...</td>\n      <td>DivingSignals2</td>\n      <td>J</td>\n    </tr>\n    <tr>\n      <th>2</th>\n      <td>devel04_13</td>\n      <td>2 7</td>\n      <td>/home/vlados/datasets/chalearn/devel-1-20/deve...</td>\n      <td>DivingSignals2</td>\n      <td>J</td>\n    </tr>\n    <tr>\n      <th>3</th>\n      <td>devel04_14</td>\n      <td>2</td>\n      <td>/home/vlados/datasets/chalearn/devel-1-20/deve...</td>\n      <td>DivingSignals2</td>\n      <td>J</td>\n    </tr>\n    <tr>\n      <th>4</th>\n      <td>devel04_15</td>\n      <td>9 5 4</td>\n      <td>/home/vlados/datasets/chalearn/devel-1-20/deve...</td>\n      <td>DivingSignals2</td>\n      <td>J</td>\n    </tr>\n    <tr>\n      <th>...</th>\n      <td>...</td>\n      <td>...</td>\n      <td>...</td>\n      <td>...</td>\n      <td>...</td>\n    </tr>\n    <tr>\n      <th>1321</th>\n      <td>devel475_5</td>\n      <td>9</td>\n      <td>/home/vlados/datasets/chalearn/devel-366-480/d...</td>\n      <td>DivingSignals1</td>\n      <td>M</td>\n    </tr>\n    <tr>\n      <th>1322</th>\n      <td>devel475_6</td>\n      <td>8</td>\n      <td>/home/vlados/datasets/chalearn/devel-366-480/d...</td>\n      <td>DivingSignals1</td>\n      <td>M</td>\n    </tr>\n    <tr>\n      <th>1323</th>\n      <td>devel475_7</td>\n      <td>5</td>\n      <td>/home/vlados/datasets/chalearn/devel-366-480/d...</td>\n      <td>DivingSignals1</td>\n      <td>M</td>\n    </tr>\n    <tr>\n      <th>1324</th>\n      <td>devel475_8</td>\n      <td>4</td>\n      <td>/home/vlados/datasets/chalearn/devel-366-480/d...</td>\n      <td>DivingSignals1</td>\n      <td>M</td>\n    </tr>\n    <tr>\n      <th>1325</th>\n      <td>devel475_9</td>\n      <td>2</td>\n      <td>/home/vlados/datasets/chalearn/devel-366-480/d...</td>\n      <td>DivingSignals1</td>\n      <td>M</td>\n    </tr>\n  </tbody>\n</table>\n<p>1326 rows × 5 columns</p>\n</div>"
     },
     "metadata": {},
     "execution_count": 9
    }
   ],
   "source": [
    "df = pd.DataFrame(columns=[\"name\", \"label\", \"path\"])\n",
    "for index, row in chlearn_diving_labels_df.iterrows():\n",
    "    for dest_path, csv_file  in find_dir(row[\"Num\"], chalearn_path, row[\"Set\"]):\n",
    "        df_set = pd.read_csv(os.path.join(dest_path, csv_file), names=[\"name\", \"label\"])\n",
    "        df_set[\"path\"] = dest_path\n",
    "        df_set[\"lexicon\"] = row[\"Lexicon\"]\n",
    "        df_set[\"user\"] = row[\"UserID\"]\n",
    "        for subindex, subrow in df_set.iterrows():\n",
    "            df_set.at[subindex, \"path\"] = os.path.join(subrow.at[\"path\"], \"M_\" + subrow.at[\"name\"].split(\"_\")[1] + \".avi\")\n",
    "        df = pd.concat([df, df_set], ignore_index=True, sort=False)\n",
    "df"
   ]
  },
  {
   "cell_type": "code",
   "execution_count": 9,
   "metadata": {},
   "outputs": [
    {
     "output_type": "execute_result",
     "data": {
      "text/plain": [
       "          name         label  \\\n",
       "0   devel04_11             3   \n",
       "1   devel04_12             1   \n",
       "2   devel04_13           2 7   \n",
       "3   devel04_14             2   \n",
       "4   devel04_15         9 5 4   \n",
       "5   devel04_16             7   \n",
       "6   devel04_17       4 7 4 3   \n",
       "7   devel04_18             5   \n",
       "8   devel04_19           9 2   \n",
       "9   devel04_20      9 10 8 4   \n",
       "10  devel04_21         3 4 1   \n",
       "11  devel04_22           3 8   \n",
       "12  devel04_23             3   \n",
       "13  devel04_24          7 10   \n",
       "14  devel04_25     5 1 4 9 8   \n",
       "15  devel04_26          10 3   \n",
       "16  devel04_27       7 2 2 5   \n",
       "17  devel04_28            10   \n",
       "18  devel04_29           5 6   \n",
       "19  devel04_30    1 9 3 1 10   \n",
       "20  devel04_31             6   \n",
       "21  devel04_32         8 7 9   \n",
       "22  devel04_33           4 9   \n",
       "23  devel04_34        5 10 7   \n",
       "24  devel04_35        2 6 10   \n",
       "25  devel04_36             9   \n",
       "26  devel04_37       8 5 5 2   \n",
       "27  devel04_38     2 4 1 8 5   \n",
       "28  devel04_39             1   \n",
       "29  devel04_40           8 1   \n",
       "30  devel04_41           1 5   \n",
       "31  devel04_42           6 4   \n",
       "32  devel04_43         1 1 6   \n",
       "33  devel04_44   9 8 10 10 6   \n",
       "34  devel04_45             8   \n",
       "35  devel04_46     10 8 10 8   \n",
       "36  devel04_47             4   \n",
       "37   devel04_1             9   \n",
       "38   devel04_2             6   \n",
       "39   devel04_3             1   \n",
       "40   devel04_4             7   \n",
       "41   devel04_5             5   \n",
       "42   devel04_6             2   \n",
       "43   devel04_7             3   \n",
       "44   devel04_8            10   \n",
       "45   devel04_9             4   \n",
       "46  devel04_10             8   \n",
       "47  devel20_10             5   \n",
       "48  devel20_11       9 9 7 2   \n",
       "49  devel20_12     3 3 9 2 8   \n",
       "50  devel20_13             2   \n",
       "51  devel20_14           7 7   \n",
       "52  devel20_15           4 4   \n",
       "53  devel20_16         6 6 5   \n",
       "54  devel20_17           6 3   \n",
       "55  devel20_18         5 3 2   \n",
       "56  devel20_19       6 8 1 6   \n",
       "57  devel20_20             7   \n",
       "58  devel20_21             3   \n",
       "59  devel20_22             2   \n",
       "\n",
       "                                                 path         lexicon user  \n",
       "0   /home/vlados/datasets/chalearn/devel-1-20/deve...  DivingSignals2    J  \n",
       "1   /home/vlados/datasets/chalearn/devel-1-20/deve...  DivingSignals2    J  \n",
       "2   /home/vlados/datasets/chalearn/devel-1-20/deve...  DivingSignals2    J  \n",
       "3   /home/vlados/datasets/chalearn/devel-1-20/deve...  DivingSignals2    J  \n",
       "4   /home/vlados/datasets/chalearn/devel-1-20/deve...  DivingSignals2    J  \n",
       "5   /home/vlados/datasets/chalearn/devel-1-20/deve...  DivingSignals2    J  \n",
       "6   /home/vlados/datasets/chalearn/devel-1-20/deve...  DivingSignals2    J  \n",
       "7   /home/vlados/datasets/chalearn/devel-1-20/deve...  DivingSignals2    J  \n",
       "8   /home/vlados/datasets/chalearn/devel-1-20/deve...  DivingSignals2    J  \n",
       "9   /home/vlados/datasets/chalearn/devel-1-20/deve...  DivingSignals2    J  \n",
       "10  /home/vlados/datasets/chalearn/devel-1-20/deve...  DivingSignals2    J  \n",
       "11  /home/vlados/datasets/chalearn/devel-1-20/deve...  DivingSignals2    J  \n",
       "12  /home/vlados/datasets/chalearn/devel-1-20/deve...  DivingSignals2    J  \n",
       "13  /home/vlados/datasets/chalearn/devel-1-20/deve...  DivingSignals2    J  \n",
       "14  /home/vlados/datasets/chalearn/devel-1-20/deve...  DivingSignals2    J  \n",
       "15  /home/vlados/datasets/chalearn/devel-1-20/deve...  DivingSignals2    J  \n",
       "16  /home/vlados/datasets/chalearn/devel-1-20/deve...  DivingSignals2    J  \n",
       "17  /home/vlados/datasets/chalearn/devel-1-20/deve...  DivingSignals2    J  \n",
       "18  /home/vlados/datasets/chalearn/devel-1-20/deve...  DivingSignals2    J  \n",
       "19  /home/vlados/datasets/chalearn/devel-1-20/deve...  DivingSignals2    J  \n",
       "20  /home/vlados/datasets/chalearn/devel-1-20/deve...  DivingSignals2    J  \n",
       "21  /home/vlados/datasets/chalearn/devel-1-20/deve...  DivingSignals2    J  \n",
       "22  /home/vlados/datasets/chalearn/devel-1-20/deve...  DivingSignals2    J  \n",
       "23  /home/vlados/datasets/chalearn/devel-1-20/deve...  DivingSignals2    J  \n",
       "24  /home/vlados/datasets/chalearn/devel-1-20/deve...  DivingSignals2    J  \n",
       "25  /home/vlados/datasets/chalearn/devel-1-20/deve...  DivingSignals2    J  \n",
       "26  /home/vlados/datasets/chalearn/devel-1-20/deve...  DivingSignals2    J  \n",
       "27  /home/vlados/datasets/chalearn/devel-1-20/deve...  DivingSignals2    J  \n",
       "28  /home/vlados/datasets/chalearn/devel-1-20/deve...  DivingSignals2    J  \n",
       "29  /home/vlados/datasets/chalearn/devel-1-20/deve...  DivingSignals2    J  \n",
       "30  /home/vlados/datasets/chalearn/devel-1-20/deve...  DivingSignals2    J  \n",
       "31  /home/vlados/datasets/chalearn/devel-1-20/deve...  DivingSignals2    J  \n",
       "32  /home/vlados/datasets/chalearn/devel-1-20/deve...  DivingSignals2    J  \n",
       "33  /home/vlados/datasets/chalearn/devel-1-20/deve...  DivingSignals2    J  \n",
       "34  /home/vlados/datasets/chalearn/devel-1-20/deve...  DivingSignals2    J  \n",
       "35  /home/vlados/datasets/chalearn/devel-1-20/deve...  DivingSignals2    J  \n",
       "36  /home/vlados/datasets/chalearn/devel-1-20/deve...  DivingSignals2    J  \n",
       "37  /home/vlados/datasets/chalearn/devel-1-20/deve...  DivingSignals2    J  \n",
       "38  /home/vlados/datasets/chalearn/devel-1-20/deve...  DivingSignals2    J  \n",
       "39  /home/vlados/datasets/chalearn/devel-1-20/deve...  DivingSignals2    J  \n",
       "40  /home/vlados/datasets/chalearn/devel-1-20/deve...  DivingSignals2    J  \n",
       "41  /home/vlados/datasets/chalearn/devel-1-20/deve...  DivingSignals2    J  \n",
       "42  /home/vlados/datasets/chalearn/devel-1-20/deve...  DivingSignals2    J  \n",
       "43  /home/vlados/datasets/chalearn/devel-1-20/deve...  DivingSignals2    J  \n",
       "44  /home/vlados/datasets/chalearn/devel-1-20/deve...  DivingSignals2    J  \n",
       "45  /home/vlados/datasets/chalearn/devel-1-20/deve...  DivingSignals2    J  \n",
       "46  /home/vlados/datasets/chalearn/devel-1-20/deve...  DivingSignals2    J  \n",
       "47  /home/vlados/datasets/chalearn/devel-1-20/deve...  DivingSignals1    D  \n",
       "48  /home/vlados/datasets/chalearn/devel-1-20/deve...  DivingSignals1    D  \n",
       "49  /home/vlados/datasets/chalearn/devel-1-20/deve...  DivingSignals1    D  \n",
       "50  /home/vlados/datasets/chalearn/devel-1-20/deve...  DivingSignals1    D  \n",
       "51  /home/vlados/datasets/chalearn/devel-1-20/deve...  DivingSignals1    D  \n",
       "52  /home/vlados/datasets/chalearn/devel-1-20/deve...  DivingSignals1    D  \n",
       "53  /home/vlados/datasets/chalearn/devel-1-20/deve...  DivingSignals1    D  \n",
       "54  /home/vlados/datasets/chalearn/devel-1-20/deve...  DivingSignals1    D  \n",
       "55  /home/vlados/datasets/chalearn/devel-1-20/deve...  DivingSignals1    D  \n",
       "56  /home/vlados/datasets/chalearn/devel-1-20/deve...  DivingSignals1    D  \n",
       "57  /home/vlados/datasets/chalearn/devel-1-20/deve...  DivingSignals1    D  \n",
       "58  /home/vlados/datasets/chalearn/devel-1-20/deve...  DivingSignals1    D  \n",
       "59  /home/vlados/datasets/chalearn/devel-1-20/deve...  DivingSignals1    D  "
      ],
      "text/html": "<div>\n<style scoped>\n    .dataframe tbody tr th:only-of-type {\n        vertical-align: middle;\n    }\n\n    .dataframe tbody tr th {\n        vertical-align: top;\n    }\n\n    .dataframe thead th {\n        text-align: right;\n    }\n</style>\n<table border=\"1\" class=\"dataframe\">\n  <thead>\n    <tr style=\"text-align: right;\">\n      <th></th>\n      <th>name</th>\n      <th>label</th>\n      <th>path</th>\n      <th>lexicon</th>\n      <th>user</th>\n    </tr>\n  </thead>\n  <tbody>\n    <tr>\n      <th>0</th>\n      <td>devel04_11</td>\n      <td>3</td>\n      <td>/home/vlados/datasets/chalearn/devel-1-20/deve...</td>\n      <td>DivingSignals2</td>\n      <td>J</td>\n    </tr>\n    <tr>\n      <th>1</th>\n      <td>devel04_12</td>\n      <td>1</td>\n      <td>/home/vlados/datasets/chalearn/devel-1-20/deve...</td>\n      <td>DivingSignals2</td>\n      <td>J</td>\n    </tr>\n    <tr>\n      <th>2</th>\n      <td>devel04_13</td>\n      <td>2 7</td>\n      <td>/home/vlados/datasets/chalearn/devel-1-20/deve...</td>\n      <td>DivingSignals2</td>\n      <td>J</td>\n    </tr>\n    <tr>\n      <th>3</th>\n      <td>devel04_14</td>\n      <td>2</td>\n      <td>/home/vlados/datasets/chalearn/devel-1-20/deve...</td>\n      <td>DivingSignals2</td>\n      <td>J</td>\n    </tr>\n    <tr>\n      <th>4</th>\n      <td>devel04_15</td>\n      <td>9 5 4</td>\n      <td>/home/vlados/datasets/chalearn/devel-1-20/deve...</td>\n      <td>DivingSignals2</td>\n      <td>J</td>\n    </tr>\n    <tr>\n      <th>5</th>\n      <td>devel04_16</td>\n      <td>7</td>\n      <td>/home/vlados/datasets/chalearn/devel-1-20/deve...</td>\n      <td>DivingSignals2</td>\n      <td>J</td>\n    </tr>\n    <tr>\n      <th>6</th>\n      <td>devel04_17</td>\n      <td>4 7 4 3</td>\n      <td>/home/vlados/datasets/chalearn/devel-1-20/deve...</td>\n      <td>DivingSignals2</td>\n      <td>J</td>\n    </tr>\n    <tr>\n      <th>7</th>\n      <td>devel04_18</td>\n      <td>5</td>\n      <td>/home/vlados/datasets/chalearn/devel-1-20/deve...</td>\n      <td>DivingSignals2</td>\n      <td>J</td>\n    </tr>\n    <tr>\n      <th>8</th>\n      <td>devel04_19</td>\n      <td>9 2</td>\n      <td>/home/vlados/datasets/chalearn/devel-1-20/deve...</td>\n      <td>DivingSignals2</td>\n      <td>J</td>\n    </tr>\n    <tr>\n      <th>9</th>\n      <td>devel04_20</td>\n      <td>9 10 8 4</td>\n      <td>/home/vlados/datasets/chalearn/devel-1-20/deve...</td>\n      <td>DivingSignals2</td>\n      <td>J</td>\n    </tr>\n    <tr>\n      <th>10</th>\n      <td>devel04_21</td>\n      <td>3 4 1</td>\n      <td>/home/vlados/datasets/chalearn/devel-1-20/deve...</td>\n      <td>DivingSignals2</td>\n      <td>J</td>\n    </tr>\n    <tr>\n      <th>11</th>\n      <td>devel04_22</td>\n      <td>3 8</td>\n      <td>/home/vlados/datasets/chalearn/devel-1-20/deve...</td>\n      <td>DivingSignals2</td>\n      <td>J</td>\n    </tr>\n    <tr>\n      <th>12</th>\n      <td>devel04_23</td>\n      <td>3</td>\n      <td>/home/vlados/datasets/chalearn/devel-1-20/deve...</td>\n      <td>DivingSignals2</td>\n      <td>J</td>\n    </tr>\n    <tr>\n      <th>13</th>\n      <td>devel04_24</td>\n      <td>7 10</td>\n      <td>/home/vlados/datasets/chalearn/devel-1-20/deve...</td>\n      <td>DivingSignals2</td>\n      <td>J</td>\n    </tr>\n    <tr>\n      <th>14</th>\n      <td>devel04_25</td>\n      <td>5 1 4 9 8</td>\n      <td>/home/vlados/datasets/chalearn/devel-1-20/deve...</td>\n      <td>DivingSignals2</td>\n      <td>J</td>\n    </tr>\n    <tr>\n      <th>15</th>\n      <td>devel04_26</td>\n      <td>10 3</td>\n      <td>/home/vlados/datasets/chalearn/devel-1-20/deve...</td>\n      <td>DivingSignals2</td>\n      <td>J</td>\n    </tr>\n    <tr>\n      <th>16</th>\n      <td>devel04_27</td>\n      <td>7 2 2 5</td>\n      <td>/home/vlados/datasets/chalearn/devel-1-20/deve...</td>\n      <td>DivingSignals2</td>\n      <td>J</td>\n    </tr>\n    <tr>\n      <th>17</th>\n      <td>devel04_28</td>\n      <td>10</td>\n      <td>/home/vlados/datasets/chalearn/devel-1-20/deve...</td>\n      <td>DivingSignals2</td>\n      <td>J</td>\n    </tr>\n    <tr>\n      <th>18</th>\n      <td>devel04_29</td>\n      <td>5 6</td>\n      <td>/home/vlados/datasets/chalearn/devel-1-20/deve...</td>\n      <td>DivingSignals2</td>\n      <td>J</td>\n    </tr>\n    <tr>\n      <th>19</th>\n      <td>devel04_30</td>\n      <td>1 9 3 1 10</td>\n      <td>/home/vlados/datasets/chalearn/devel-1-20/deve...</td>\n      <td>DivingSignals2</td>\n      <td>J</td>\n    </tr>\n    <tr>\n      <th>20</th>\n      <td>devel04_31</td>\n      <td>6</td>\n      <td>/home/vlados/datasets/chalearn/devel-1-20/deve...</td>\n      <td>DivingSignals2</td>\n      <td>J</td>\n    </tr>\n    <tr>\n      <th>21</th>\n      <td>devel04_32</td>\n      <td>8 7 9</td>\n      <td>/home/vlados/datasets/chalearn/devel-1-20/deve...</td>\n      <td>DivingSignals2</td>\n      <td>J</td>\n    </tr>\n    <tr>\n      <th>22</th>\n      <td>devel04_33</td>\n      <td>4 9</td>\n      <td>/home/vlados/datasets/chalearn/devel-1-20/deve...</td>\n      <td>DivingSignals2</td>\n      <td>J</td>\n    </tr>\n    <tr>\n      <th>23</th>\n      <td>devel04_34</td>\n      <td>5 10 7</td>\n      <td>/home/vlados/datasets/chalearn/devel-1-20/deve...</td>\n      <td>DivingSignals2</td>\n      <td>J</td>\n    </tr>\n    <tr>\n      <th>24</th>\n      <td>devel04_35</td>\n      <td>2 6 10</td>\n      <td>/home/vlados/datasets/chalearn/devel-1-20/deve...</td>\n      <td>DivingSignals2</td>\n      <td>J</td>\n    </tr>\n    <tr>\n      <th>25</th>\n      <td>devel04_36</td>\n      <td>9</td>\n      <td>/home/vlados/datasets/chalearn/devel-1-20/deve...</td>\n      <td>DivingSignals2</td>\n      <td>J</td>\n    </tr>\n    <tr>\n      <th>26</th>\n      <td>devel04_37</td>\n      <td>8 5 5 2</td>\n      <td>/home/vlados/datasets/chalearn/devel-1-20/deve...</td>\n      <td>DivingSignals2</td>\n      <td>J</td>\n    </tr>\n    <tr>\n      <th>27</th>\n      <td>devel04_38</td>\n      <td>2 4 1 8 5</td>\n      <td>/home/vlados/datasets/chalearn/devel-1-20/deve...</td>\n      <td>DivingSignals2</td>\n      <td>J</td>\n    </tr>\n    <tr>\n      <th>28</th>\n      <td>devel04_39</td>\n      <td>1</td>\n      <td>/home/vlados/datasets/chalearn/devel-1-20/deve...</td>\n      <td>DivingSignals2</td>\n      <td>J</td>\n    </tr>\n    <tr>\n      <th>29</th>\n      <td>devel04_40</td>\n      <td>8 1</td>\n      <td>/home/vlados/datasets/chalearn/devel-1-20/deve...</td>\n      <td>DivingSignals2</td>\n      <td>J</td>\n    </tr>\n    <tr>\n      <th>30</th>\n      <td>devel04_41</td>\n      <td>1 5</td>\n      <td>/home/vlados/datasets/chalearn/devel-1-20/deve...</td>\n      <td>DivingSignals2</td>\n      <td>J</td>\n    </tr>\n    <tr>\n      <th>31</th>\n      <td>devel04_42</td>\n      <td>6 4</td>\n      <td>/home/vlados/datasets/chalearn/devel-1-20/deve...</td>\n      <td>DivingSignals2</td>\n      <td>J</td>\n    </tr>\n    <tr>\n      <th>32</th>\n      <td>devel04_43</td>\n      <td>1 1 6</td>\n      <td>/home/vlados/datasets/chalearn/devel-1-20/deve...</td>\n      <td>DivingSignals2</td>\n      <td>J</td>\n    </tr>\n    <tr>\n      <th>33</th>\n      <td>devel04_44</td>\n      <td>9 8 10 10 6</td>\n      <td>/home/vlados/datasets/chalearn/devel-1-20/deve...</td>\n      <td>DivingSignals2</td>\n      <td>J</td>\n    </tr>\n    <tr>\n      <th>34</th>\n      <td>devel04_45</td>\n      <td>8</td>\n      <td>/home/vlados/datasets/chalearn/devel-1-20/deve...</td>\n      <td>DivingSignals2</td>\n      <td>J</td>\n    </tr>\n    <tr>\n      <th>35</th>\n      <td>devel04_46</td>\n      <td>10 8 10 8</td>\n      <td>/home/vlados/datasets/chalearn/devel-1-20/deve...</td>\n      <td>DivingSignals2</td>\n      <td>J</td>\n    </tr>\n    <tr>\n      <th>36</th>\n      <td>devel04_47</td>\n      <td>4</td>\n      <td>/home/vlados/datasets/chalearn/devel-1-20/deve...</td>\n      <td>DivingSignals2</td>\n      <td>J</td>\n    </tr>\n    <tr>\n      <th>37</th>\n      <td>devel04_1</td>\n      <td>9</td>\n      <td>/home/vlados/datasets/chalearn/devel-1-20/deve...</td>\n      <td>DivingSignals2</td>\n      <td>J</td>\n    </tr>\n    <tr>\n      <th>38</th>\n      <td>devel04_2</td>\n      <td>6</td>\n      <td>/home/vlados/datasets/chalearn/devel-1-20/deve...</td>\n      <td>DivingSignals2</td>\n      <td>J</td>\n    </tr>\n    <tr>\n      <th>39</th>\n      <td>devel04_3</td>\n      <td>1</td>\n      <td>/home/vlados/datasets/chalearn/devel-1-20/deve...</td>\n      <td>DivingSignals2</td>\n      <td>J</td>\n    </tr>\n    <tr>\n      <th>40</th>\n      <td>devel04_4</td>\n      <td>7</td>\n      <td>/home/vlados/datasets/chalearn/devel-1-20/deve...</td>\n      <td>DivingSignals2</td>\n      <td>J</td>\n    </tr>\n    <tr>\n      <th>41</th>\n      <td>devel04_5</td>\n      <td>5</td>\n      <td>/home/vlados/datasets/chalearn/devel-1-20/deve...</td>\n      <td>DivingSignals2</td>\n      <td>J</td>\n    </tr>\n    <tr>\n      <th>42</th>\n      <td>devel04_6</td>\n      <td>2</td>\n      <td>/home/vlados/datasets/chalearn/devel-1-20/deve...</td>\n      <td>DivingSignals2</td>\n      <td>J</td>\n    </tr>\n    <tr>\n      <th>43</th>\n      <td>devel04_7</td>\n      <td>3</td>\n      <td>/home/vlados/datasets/chalearn/devel-1-20/deve...</td>\n      <td>DivingSignals2</td>\n      <td>J</td>\n    </tr>\n    <tr>\n      <th>44</th>\n      <td>devel04_8</td>\n      <td>10</td>\n      <td>/home/vlados/datasets/chalearn/devel-1-20/deve...</td>\n      <td>DivingSignals2</td>\n      <td>J</td>\n    </tr>\n    <tr>\n      <th>45</th>\n      <td>devel04_9</td>\n      <td>4</td>\n      <td>/home/vlados/datasets/chalearn/devel-1-20/deve...</td>\n      <td>DivingSignals2</td>\n      <td>J</td>\n    </tr>\n    <tr>\n      <th>46</th>\n      <td>devel04_10</td>\n      <td>8</td>\n      <td>/home/vlados/datasets/chalearn/devel-1-20/deve...</td>\n      <td>DivingSignals2</td>\n      <td>J</td>\n    </tr>\n    <tr>\n      <th>47</th>\n      <td>devel20_10</td>\n      <td>5</td>\n      <td>/home/vlados/datasets/chalearn/devel-1-20/deve...</td>\n      <td>DivingSignals1</td>\n      <td>D</td>\n    </tr>\n    <tr>\n      <th>48</th>\n      <td>devel20_11</td>\n      <td>9 9 7 2</td>\n      <td>/home/vlados/datasets/chalearn/devel-1-20/deve...</td>\n      <td>DivingSignals1</td>\n      <td>D</td>\n    </tr>\n    <tr>\n      <th>49</th>\n      <td>devel20_12</td>\n      <td>3 3 9 2 8</td>\n      <td>/home/vlados/datasets/chalearn/devel-1-20/deve...</td>\n      <td>DivingSignals1</td>\n      <td>D</td>\n    </tr>\n    <tr>\n      <th>50</th>\n      <td>devel20_13</td>\n      <td>2</td>\n      <td>/home/vlados/datasets/chalearn/devel-1-20/deve...</td>\n      <td>DivingSignals1</td>\n      <td>D</td>\n    </tr>\n    <tr>\n      <th>51</th>\n      <td>devel20_14</td>\n      <td>7 7</td>\n      <td>/home/vlados/datasets/chalearn/devel-1-20/deve...</td>\n      <td>DivingSignals1</td>\n      <td>D</td>\n    </tr>\n    <tr>\n      <th>52</th>\n      <td>devel20_15</td>\n      <td>4 4</td>\n      <td>/home/vlados/datasets/chalearn/devel-1-20/deve...</td>\n      <td>DivingSignals1</td>\n      <td>D</td>\n    </tr>\n    <tr>\n      <th>53</th>\n      <td>devel20_16</td>\n      <td>6 6 5</td>\n      <td>/home/vlados/datasets/chalearn/devel-1-20/deve...</td>\n      <td>DivingSignals1</td>\n      <td>D</td>\n    </tr>\n    <tr>\n      <th>54</th>\n      <td>devel20_17</td>\n      <td>6 3</td>\n      <td>/home/vlados/datasets/chalearn/devel-1-20/deve...</td>\n      <td>DivingSignals1</td>\n      <td>D</td>\n    </tr>\n    <tr>\n      <th>55</th>\n      <td>devel20_18</td>\n      <td>5 3 2</td>\n      <td>/home/vlados/datasets/chalearn/devel-1-20/deve...</td>\n      <td>DivingSignals1</td>\n      <td>D</td>\n    </tr>\n    <tr>\n      <th>56</th>\n      <td>devel20_19</td>\n      <td>6 8 1 6</td>\n      <td>/home/vlados/datasets/chalearn/devel-1-20/deve...</td>\n      <td>DivingSignals1</td>\n      <td>D</td>\n    </tr>\n    <tr>\n      <th>57</th>\n      <td>devel20_20</td>\n      <td>7</td>\n      <td>/home/vlados/datasets/chalearn/devel-1-20/deve...</td>\n      <td>DivingSignals1</td>\n      <td>D</td>\n    </tr>\n    <tr>\n      <th>58</th>\n      <td>devel20_21</td>\n      <td>3</td>\n      <td>/home/vlados/datasets/chalearn/devel-1-20/deve...</td>\n      <td>DivingSignals1</td>\n      <td>D</td>\n    </tr>\n    <tr>\n      <th>59</th>\n      <td>devel20_22</td>\n      <td>2</td>\n      <td>/home/vlados/datasets/chalearn/devel-1-20/deve...</td>\n      <td>DivingSignals1</td>\n      <td>D</td>\n    </tr>\n  </tbody>\n</table>\n</div>"
     },
     "metadata": {},
     "execution_count": 9
    }
   ],
   "source": [
    "df.iloc[:60]"
   ]
  },
  {
   "source": [
    "## Extract poses from each video"
   ],
   "cell_type": "markdown",
   "metadata": {}
  },
  {
   "cell_type": "code",
   "execution_count": 9,
   "metadata": {},
   "outputs": [],
   "source": [
    "import numpy as np\n",
    "import cv2\n",
    "import os\n",
    "import torch\n",
    "import torch.nn as nn\n",
    "\n",
    "os.sys.path.append('poseEstimation')\n",
    "from poseEstimation.demo import infer_fast, VideoReader\n",
    "from poseEstimation.modules.pose import Pose\n",
    "from poseEstimation.modules.load_state import load_state\n",
    "from poseEstimation.modules.keypoints import extract_keypoints, group_keypoints\n",
    "from poseEstimation.models.with_mobilenet import PoseEstimationWithMobileNet"
   ]
  },
  {
   "cell_type": "code",
   "execution_count": 10,
   "metadata": {},
   "outputs": [
    {
     "output_type": "stream",
     "name": "stdout",
     "text": [
      "Using device: cuda\n"
     ]
    }
   ],
   "source": [
    "DEVICE = \"cuda\" if torch.cuda.is_available() else \"cpu\"\n",
    "# DEVICE = \"cpu\"\n",
    "print(\"Using device: \" + DEVICE)\n",
    "if torch.backends.cudnn.is_available():\n",
    "    torch.backends.cudnn.enabled = True\n",
    "\n",
    "SEED = 42\n",
    "\n",
    "np.random.seed(SEED)\n",
    "torch.manual_seed(SEED)\n",
    "torch.cuda.manual_seed_all(SEED)\n",
    "if torch.cuda.is_available():\n",
    "    torch.backends.cudnn.deterministic = True\n",
    "\n",
    "net = PoseEstimationWithMobileNet()\n",
    "checkpoint = torch.load(\n",
    "    \"weights/checkpoint_iter_370000.pth\", map_location='cpu')\n",
    "load_state(net, checkpoint)"
   ]
  },
  {
   "cell_type": "code",
   "execution_count": 12,
   "metadata": {},
   "outputs": [],
   "source": [
    "def infer(net, image_provider, height_size, cpu):\n",
    "    net = net.eval()\n",
    "    if not cpu:\n",
    "        net = net.cuda()\n",
    "\n",
    "    stride = 8\n",
    "    upsample_ratio = 4\n",
    "    num_keypoints = Pose.num_kpts\n",
    "\n",
    "    pose_sequence = []\n",
    "    prediction = 0\n",
    "    prediction_made = False\n",
    "\n",
    "    for img in image_provider:\n",
    "        heatmaps, pafs, scale, pad = infer_fast(\n",
    "            net, img, height_size, stride, upsample_ratio, cpu)\n",
    "\n",
    "        total_keypoints_num = 0\n",
    "        all_keypoints_by_type = []\n",
    "        for kpt_idx in range(num_keypoints):  # 19th for bg\n",
    "            total_keypoints_num += extract_keypoints(\n",
    "                heatmaps[:, :, kpt_idx], all_keypoints_by_type, total_keypoints_num)\n",
    "\n",
    "        pose_entries, all_keypoints = group_keypoints(\n",
    "            all_keypoints_by_type, pafs)\n",
    "        for kpt_id in range(all_keypoints.shape[0]):\n",
    "            all_keypoints[kpt_id, 0] = (\n",
    "                all_keypoints[kpt_id, 0] * stride / upsample_ratio - pad[1]) / scale\n",
    "            all_keypoints[kpt_id, 1] = (\n",
    "                all_keypoints[kpt_id, 1] * stride / upsample_ratio - pad[0]) / scale\n",
    "        current_poses = []\n",
    "        for n in range(len(pose_entries)):\n",
    "            if len(pose_entries[n]) == 0:\n",
    "                continue\n",
    "            pose_keypoints = np.ones((num_keypoints, 2), dtype=np.int32) * -1\n",
    "            for kpt_id in range(num_keypoints):\n",
    "                \n",
    "                if pose_entries[n][kpt_id] != -1.0:  # keypoint was found\n",
    "                    pose_keypoints[kpt_id, 0] = int(\n",
    "                        all_keypoints[int(pose_entries[n][kpt_id]), 0])\n",
    "                    pose_keypoints[kpt_id, 1] = int(\n",
    "                        all_keypoints[int(pose_entries[n][kpt_id]), 1])\n",
    "                else:\n",
    "                    pose_keypoints[kpt_id, 0] = 0\n",
    "                    pose_keypoints[kpt_id, 1] = 0\n",
    "            pose = Pose(pose_keypoints, pose_entries[n][18])\n",
    "            \n",
    "            current_poses.append(pose)\n",
    "\n",
    "        if (len(current_poses) > 0):\n",
    "            pose_sequence.append(current_poses[0].keypoints.reshape([36]))\n",
    "\n",
    "    return pose_sequence"
   ]
  },
  {
   "cell_type": "code",
   "execution_count": 19,
   "metadata": {},
   "outputs": [
    {
     "output_type": "stream",
     "name": "stdout",
     "text": [
      "devel04_11\n",
      "devel04_12\n",
      "devel04_13\n",
      "devel04_14\n",
      "devel04_15\n",
      "devel04_16\n",
      "devel04_17\n",
      "devel04_18\n",
      "devel04_19\n",
      "devel04_20\n"
     ]
    }
   ],
   "source": [
    "poses_df = pd.DataFrame(columns=column_names +[\"name\"])\n",
    "for index, row in df.iterrows():\n",
    "    if index == 10:\n",
    "        break\n",
    "    print(row[\"name\"])\n",
    "    frame_provider = VideoReader(row[\"path\"])\n",
    "    pose_sequence = infer(net, frame_provider, 256, False)\n",
    "    pose_df = pd.DataFrame(pose_sequence, columns=column_names)\n",
    "    pose_df[\"name\"] = row[\"name\"]\n",
    "    poses_df = pd.concat([poses_df, pose_df], ignore_index=True, sort=False)"
   ]
  },
  {
   "cell_type": "code",
   "execution_count": 22,
   "metadata": {},
   "outputs": [],
   "source": [
    "poses_df.to_csv(\"poses_from_videos.csv\", sep=\"\\t\", index=False)"
   ]
  },
  {
   "source": [
    "## Load extracted poses from csv"
   ],
   "cell_type": "markdown",
   "metadata": {}
  },
  {
   "cell_type": "code",
   "execution_count": 10,
   "metadata": {},
   "outputs": [],
   "source": [
    "poses_df = pd.read_csv(\"poses_from_videos.csv\", sep=\"\\t\")"
   ]
  },
  {
   "cell_type": "code",
   "execution_count": 11,
   "metadata": {},
   "outputs": [
    {
     "output_type": "execute_result",
     "data": {
      "text/plain": [
       "        j0_x  j0_y  j1_x  j1_y  j2_x  j2_y  j3_x  j3_y  j4_x  j4_y  ...  \\\n",
       "0        132    80   130   110   100   108    94   150   117   165  ...   \n",
       "1        132    80   128   112   100   110    90   150   115   170  ...   \n",
       "2        132    80   128   112   100   110    89   150   109   176  ...   \n",
       "3        132    80   128   112   100   110    89   153   104   185  ...   \n",
       "4        132    80   128   112    98   112    87   155    98   196  ...   \n",
       "...      ...   ...   ...   ...   ...   ...   ...   ...   ...   ...  ...   \n",
       "104503   173    82   173   121   143   118   122   163   113   146  ...   \n",
       "104504   173    82   173   121   143   120   126   161   115   165  ...   \n",
       "104505   173    82   173   121   143   120   128   161   122   187  ...   \n",
       "104506   173    82   173   121   143   120   128   161   124   195  ...   \n",
       "104507   173    82   173   121   141   120   128   163   128   210  ...   \n",
       "\n",
       "        j13_y  j14_x  j14_y  j15_x  j15_y  j16_x  j16_y  j17_x  j17_y  \\\n",
       "0           0    126     75    137     75    117     76    147     76   \n",
       "1           0    126     75    137     75    117     76    145     76   \n",
       "2           0    126     75    137     75    117     76    145     76   \n",
       "3           0    126     75    137     75    117     76    145     76   \n",
       "4           0    126     75    137     75    119     76    147     78   \n",
       "...       ...    ...    ...    ...    ...    ...    ...    ...    ...   \n",
       "104503      0    167     78    180     76    160     84    190     84   \n",
       "104504      0    167     78    180     76    160     84    190     84   \n",
       "104505      0    167     78    180     76    160     84    190     84   \n",
       "104506      0    167     78    180     76    160     84    190     84   \n",
       "104507      0    167     76    180     76    160     84    190     84   \n",
       "\n",
       "              name  \n",
       "0        devel04_1  \n",
       "1        devel04_1  \n",
       "2        devel04_1  \n",
       "3        devel04_1  \n",
       "4        devel04_1  \n",
       "...            ...  \n",
       "104503  devel475_9  \n",
       "104504  devel475_9  \n",
       "104505  devel475_9  \n",
       "104506  devel475_9  \n",
       "104507  devel475_9  \n",
       "\n",
       "[104508 rows x 37 columns]"
      ],
      "text/html": "<div>\n<style scoped>\n    .dataframe tbody tr th:only-of-type {\n        vertical-align: middle;\n    }\n\n    .dataframe tbody tr th {\n        vertical-align: top;\n    }\n\n    .dataframe thead th {\n        text-align: right;\n    }\n</style>\n<table border=\"1\" class=\"dataframe\">\n  <thead>\n    <tr style=\"text-align: right;\">\n      <th></th>\n      <th>j0_x</th>\n      <th>j0_y</th>\n      <th>j1_x</th>\n      <th>j1_y</th>\n      <th>j2_x</th>\n      <th>j2_y</th>\n      <th>j3_x</th>\n      <th>j3_y</th>\n      <th>j4_x</th>\n      <th>j4_y</th>\n      <th>...</th>\n      <th>j13_y</th>\n      <th>j14_x</th>\n      <th>j14_y</th>\n      <th>j15_x</th>\n      <th>j15_y</th>\n      <th>j16_x</th>\n      <th>j16_y</th>\n      <th>j17_x</th>\n      <th>j17_y</th>\n      <th>name</th>\n    </tr>\n  </thead>\n  <tbody>\n    <tr>\n      <th>0</th>\n      <td>132</td>\n      <td>80</td>\n      <td>130</td>\n      <td>110</td>\n      <td>100</td>\n      <td>108</td>\n      <td>94</td>\n      <td>150</td>\n      <td>117</td>\n      <td>165</td>\n      <td>...</td>\n      <td>0</td>\n      <td>126</td>\n      <td>75</td>\n      <td>137</td>\n      <td>75</td>\n      <td>117</td>\n      <td>76</td>\n      <td>147</td>\n      <td>76</td>\n      <td>devel04_1</td>\n    </tr>\n    <tr>\n      <th>1</th>\n      <td>132</td>\n      <td>80</td>\n      <td>128</td>\n      <td>112</td>\n      <td>100</td>\n      <td>110</td>\n      <td>90</td>\n      <td>150</td>\n      <td>115</td>\n      <td>170</td>\n      <td>...</td>\n      <td>0</td>\n      <td>126</td>\n      <td>75</td>\n      <td>137</td>\n      <td>75</td>\n      <td>117</td>\n      <td>76</td>\n      <td>145</td>\n      <td>76</td>\n      <td>devel04_1</td>\n    </tr>\n    <tr>\n      <th>2</th>\n      <td>132</td>\n      <td>80</td>\n      <td>128</td>\n      <td>112</td>\n      <td>100</td>\n      <td>110</td>\n      <td>89</td>\n      <td>150</td>\n      <td>109</td>\n      <td>176</td>\n      <td>...</td>\n      <td>0</td>\n      <td>126</td>\n      <td>75</td>\n      <td>137</td>\n      <td>75</td>\n      <td>117</td>\n      <td>76</td>\n      <td>145</td>\n      <td>76</td>\n      <td>devel04_1</td>\n    </tr>\n    <tr>\n      <th>3</th>\n      <td>132</td>\n      <td>80</td>\n      <td>128</td>\n      <td>112</td>\n      <td>100</td>\n      <td>110</td>\n      <td>89</td>\n      <td>153</td>\n      <td>104</td>\n      <td>185</td>\n      <td>...</td>\n      <td>0</td>\n      <td>126</td>\n      <td>75</td>\n      <td>137</td>\n      <td>75</td>\n      <td>117</td>\n      <td>76</td>\n      <td>145</td>\n      <td>76</td>\n      <td>devel04_1</td>\n    </tr>\n    <tr>\n      <th>4</th>\n      <td>132</td>\n      <td>80</td>\n      <td>128</td>\n      <td>112</td>\n      <td>98</td>\n      <td>112</td>\n      <td>87</td>\n      <td>155</td>\n      <td>98</td>\n      <td>196</td>\n      <td>...</td>\n      <td>0</td>\n      <td>126</td>\n      <td>75</td>\n      <td>137</td>\n      <td>75</td>\n      <td>119</td>\n      <td>76</td>\n      <td>147</td>\n      <td>78</td>\n      <td>devel04_1</td>\n    </tr>\n    <tr>\n      <th>...</th>\n      <td>...</td>\n      <td>...</td>\n      <td>...</td>\n      <td>...</td>\n      <td>...</td>\n      <td>...</td>\n      <td>...</td>\n      <td>...</td>\n      <td>...</td>\n      <td>...</td>\n      <td>...</td>\n      <td>...</td>\n      <td>...</td>\n      <td>...</td>\n      <td>...</td>\n      <td>...</td>\n      <td>...</td>\n      <td>...</td>\n      <td>...</td>\n      <td>...</td>\n      <td>...</td>\n    </tr>\n    <tr>\n      <th>104503</th>\n      <td>173</td>\n      <td>82</td>\n      <td>173</td>\n      <td>121</td>\n      <td>143</td>\n      <td>118</td>\n      <td>122</td>\n      <td>163</td>\n      <td>113</td>\n      <td>146</td>\n      <td>...</td>\n      <td>0</td>\n      <td>167</td>\n      <td>78</td>\n      <td>180</td>\n      <td>76</td>\n      <td>160</td>\n      <td>84</td>\n      <td>190</td>\n      <td>84</td>\n      <td>devel475_9</td>\n    </tr>\n    <tr>\n      <th>104504</th>\n      <td>173</td>\n      <td>82</td>\n      <td>173</td>\n      <td>121</td>\n      <td>143</td>\n      <td>120</td>\n      <td>126</td>\n      <td>161</td>\n      <td>115</td>\n      <td>165</td>\n      <td>...</td>\n      <td>0</td>\n      <td>167</td>\n      <td>78</td>\n      <td>180</td>\n      <td>76</td>\n      <td>160</td>\n      <td>84</td>\n      <td>190</td>\n      <td>84</td>\n      <td>devel475_9</td>\n    </tr>\n    <tr>\n      <th>104505</th>\n      <td>173</td>\n      <td>82</td>\n      <td>173</td>\n      <td>121</td>\n      <td>143</td>\n      <td>120</td>\n      <td>128</td>\n      <td>161</td>\n      <td>122</td>\n      <td>187</td>\n      <td>...</td>\n      <td>0</td>\n      <td>167</td>\n      <td>78</td>\n      <td>180</td>\n      <td>76</td>\n      <td>160</td>\n      <td>84</td>\n      <td>190</td>\n      <td>84</td>\n      <td>devel475_9</td>\n    </tr>\n    <tr>\n      <th>104506</th>\n      <td>173</td>\n      <td>82</td>\n      <td>173</td>\n      <td>121</td>\n      <td>143</td>\n      <td>120</td>\n      <td>128</td>\n      <td>161</td>\n      <td>124</td>\n      <td>195</td>\n      <td>...</td>\n      <td>0</td>\n      <td>167</td>\n      <td>78</td>\n      <td>180</td>\n      <td>76</td>\n      <td>160</td>\n      <td>84</td>\n      <td>190</td>\n      <td>84</td>\n      <td>devel475_9</td>\n    </tr>\n    <tr>\n      <th>104507</th>\n      <td>173</td>\n      <td>82</td>\n      <td>173</td>\n      <td>121</td>\n      <td>141</td>\n      <td>120</td>\n      <td>128</td>\n      <td>163</td>\n      <td>128</td>\n      <td>210</td>\n      <td>...</td>\n      <td>0</td>\n      <td>167</td>\n      <td>76</td>\n      <td>180</td>\n      <td>76</td>\n      <td>160</td>\n      <td>84</td>\n      <td>190</td>\n      <td>84</td>\n      <td>devel475_9</td>\n    </tr>\n  </tbody>\n</table>\n<p>104508 rows × 37 columns</p>\n</div>"
     },
     "metadata": {},
     "execution_count": 11
    }
   ],
   "source": [
    "poses_df"
   ]
  },
  {
   "source": [
    "### Find the smallest number of frames for one gesture"
   ],
   "cell_type": "markdown",
   "metadata": {}
  },
  {
   "cell_type": "code",
   "execution_count": 3,
   "metadata": {},
   "outputs": [],
   "source": [
    "def count_min_frames_for_gesture(filenames_df, poses_df):\n",
    "    min_frames_count = 100\n",
    "    for index, row in filenames_df.iterrows():\n",
    "        num_frames = poses_df.loc[poses_df[\"name\"] == row[\"name\"]].shape[0]\n",
    "        if (isinstance(row[\"label\"], str)):\n",
    "            splitted_len = len(row[\"label\"].split(\" \")) - 1\n",
    "            num_frames = poses_df.loc[poses_df[\"name\"] == row[\"name\"]].shape[0] / splitted_len\n",
    "        if num_frames < min_frames_count:\n",
    "            min_frames_count = num_frames\n",
    "            print(min_frames_count, row[\"name\"], row[\"user\"])  \n",
    "    return min_frames_count       "
   ]
  },
  {
   "cell_type": "code",
   "execution_count": 13,
   "metadata": {},
   "outputs": [
    {
     "output_type": "stream",
     "name": "stdout",
     "text": [
      "78.0 devel04_11 J\n",
      "38.0 devel04_12 J\n",
      "35.0 devel04_15 J\n",
      "33.0 devel04_16 J\n",
      "32.8 devel04_25 J\n",
      "32.0 devel04_44 J\n",
      "30.0 devel20_10 D\n",
      "21.25 devel20_11 D\n",
      "20.333333333333332 devel20_18 D\n"
     ]
    },
    {
     "output_type": "error",
     "ename": "KeyboardInterrupt",
     "evalue": "",
     "traceback": [
      "\u001b[0;31m---------------------------------------------------------------------------\u001b[0m",
      "\u001b[0;31mKeyboardInterrupt\u001b[0m                         Traceback (most recent call last)",
      "\u001b[0;32m<ipython-input-13-871ccacea62b>\u001b[0m in \u001b[0;36m<module>\u001b[0;34m\u001b[0m\n\u001b[0;32m----> 1\u001b[0;31m \u001b[0mcount_min_frames_for_gesture\u001b[0m\u001b[0;34m(\u001b[0m\u001b[0mdf\u001b[0m\u001b[0;34m,\u001b[0m\u001b[0mposes_df\u001b[0m\u001b[0;34m)\u001b[0m\u001b[0;34m\u001b[0m\u001b[0;34m\u001b[0m\u001b[0m\n\u001b[0m",
      "\u001b[0;32m<ipython-input-12-b95a0186f40f>\u001b[0m in \u001b[0;36mcount_min_frames_for_gesture\u001b[0;34m(filenames_df, poses_df)\u001b[0m\n\u001b[1;32m      2\u001b[0m     \u001b[0mmin_frames_count\u001b[0m \u001b[0;34m=\u001b[0m \u001b[0;36m100\u001b[0m\u001b[0;34m\u001b[0m\u001b[0;34m\u001b[0m\u001b[0m\n\u001b[1;32m      3\u001b[0m     \u001b[0;32mfor\u001b[0m \u001b[0mindex\u001b[0m\u001b[0;34m,\u001b[0m \u001b[0mrow\u001b[0m \u001b[0;32min\u001b[0m \u001b[0mfilenames_df\u001b[0m\u001b[0;34m.\u001b[0m\u001b[0miterrows\u001b[0m\u001b[0;34m(\u001b[0m\u001b[0;34m)\u001b[0m\u001b[0;34m:\u001b[0m\u001b[0;34m\u001b[0m\u001b[0;34m\u001b[0m\u001b[0m\n\u001b[0;32m----> 4\u001b[0;31m         \u001b[0mnum_frames\u001b[0m \u001b[0;34m=\u001b[0m \u001b[0mposes_df\u001b[0m\u001b[0;34m.\u001b[0m\u001b[0mloc\u001b[0m\u001b[0;34m[\u001b[0m\u001b[0mposes_df\u001b[0m\u001b[0;34m[\u001b[0m\u001b[0;34m\"name\"\u001b[0m\u001b[0;34m]\u001b[0m \u001b[0;34m==\u001b[0m \u001b[0mrow\u001b[0m\u001b[0;34m[\u001b[0m\u001b[0;34m\"name\"\u001b[0m\u001b[0;34m]\u001b[0m\u001b[0;34m]\u001b[0m\u001b[0;34m.\u001b[0m\u001b[0mshape\u001b[0m\u001b[0;34m[\u001b[0m\u001b[0;36m0\u001b[0m\u001b[0;34m]\u001b[0m\u001b[0;34m\u001b[0m\u001b[0;34m\u001b[0m\u001b[0m\n\u001b[0m\u001b[1;32m      5\u001b[0m         \u001b[0;32mif\u001b[0m \u001b[0;34m(\u001b[0m\u001b[0misinstance\u001b[0m\u001b[0;34m(\u001b[0m\u001b[0mrow\u001b[0m\u001b[0;34m[\u001b[0m\u001b[0;34m\"label\"\u001b[0m\u001b[0;34m]\u001b[0m\u001b[0;34m,\u001b[0m \u001b[0mstr\u001b[0m\u001b[0;34m)\u001b[0m\u001b[0;34m)\u001b[0m\u001b[0;34m:\u001b[0m\u001b[0;34m\u001b[0m\u001b[0;34m\u001b[0m\u001b[0m\n\u001b[1;32m      6\u001b[0m             \u001b[0msplitted_len\u001b[0m \u001b[0;34m=\u001b[0m \u001b[0mlen\u001b[0m\u001b[0;34m(\u001b[0m\u001b[0mrow\u001b[0m\u001b[0;34m[\u001b[0m\u001b[0;34m\"label\"\u001b[0m\u001b[0;34m]\u001b[0m\u001b[0;34m.\u001b[0m\u001b[0msplit\u001b[0m\u001b[0;34m(\u001b[0m\u001b[0;34m\" \"\u001b[0m\u001b[0;34m)\u001b[0m\u001b[0;34m)\u001b[0m \u001b[0;34m-\u001b[0m \u001b[0;36m1\u001b[0m\u001b[0;34m\u001b[0m\u001b[0;34m\u001b[0m\u001b[0m\n",
      "\u001b[0;32m~/.local/lib/python3.8/site-packages/pandas/core/ops/common.py\u001b[0m in \u001b[0;36mnew_method\u001b[0;34m(self, other)\u001b[0m\n\u001b[1;32m     63\u001b[0m         \u001b[0mother\u001b[0m \u001b[0;34m=\u001b[0m \u001b[0mitem_from_zerodim\u001b[0m\u001b[0;34m(\u001b[0m\u001b[0mother\u001b[0m\u001b[0;34m)\u001b[0m\u001b[0;34m\u001b[0m\u001b[0;34m\u001b[0m\u001b[0m\n\u001b[1;32m     64\u001b[0m \u001b[0;34m\u001b[0m\u001b[0m\n\u001b[0;32m---> 65\u001b[0;31m         \u001b[0;32mreturn\u001b[0m \u001b[0mmethod\u001b[0m\u001b[0;34m(\u001b[0m\u001b[0mself\u001b[0m\u001b[0;34m,\u001b[0m \u001b[0mother\u001b[0m\u001b[0;34m)\u001b[0m\u001b[0;34m\u001b[0m\u001b[0;34m\u001b[0m\u001b[0m\n\u001b[0m\u001b[1;32m     66\u001b[0m \u001b[0;34m\u001b[0m\u001b[0m\n\u001b[1;32m     67\u001b[0m     \u001b[0;32mreturn\u001b[0m \u001b[0mnew_method\u001b[0m\u001b[0;34m\u001b[0m\u001b[0;34m\u001b[0m\u001b[0m\n",
      "\u001b[0;32m~/.local/lib/python3.8/site-packages/pandas/core/arraylike.py\u001b[0m in \u001b[0;36m__eq__\u001b[0;34m(self, other)\u001b[0m\n\u001b[1;32m     27\u001b[0m     \u001b[0;34m@\u001b[0m\u001b[0munpack_zerodim_and_defer\u001b[0m\u001b[0;34m(\u001b[0m\u001b[0;34m\"__eq__\"\u001b[0m\u001b[0;34m)\u001b[0m\u001b[0;34m\u001b[0m\u001b[0;34m\u001b[0m\u001b[0m\n\u001b[1;32m     28\u001b[0m     \u001b[0;32mdef\u001b[0m \u001b[0m__eq__\u001b[0m\u001b[0;34m(\u001b[0m\u001b[0mself\u001b[0m\u001b[0;34m,\u001b[0m \u001b[0mother\u001b[0m\u001b[0;34m)\u001b[0m\u001b[0;34m:\u001b[0m\u001b[0;34m\u001b[0m\u001b[0;34m\u001b[0m\u001b[0m\n\u001b[0;32m---> 29\u001b[0;31m         \u001b[0;32mreturn\u001b[0m \u001b[0mself\u001b[0m\u001b[0;34m.\u001b[0m\u001b[0m_cmp_method\u001b[0m\u001b[0;34m(\u001b[0m\u001b[0mother\u001b[0m\u001b[0;34m,\u001b[0m \u001b[0moperator\u001b[0m\u001b[0;34m.\u001b[0m\u001b[0meq\u001b[0m\u001b[0;34m)\u001b[0m\u001b[0;34m\u001b[0m\u001b[0;34m\u001b[0m\u001b[0m\n\u001b[0m\u001b[1;32m     30\u001b[0m \u001b[0;34m\u001b[0m\u001b[0m\n\u001b[1;32m     31\u001b[0m     \u001b[0;34m@\u001b[0m\u001b[0munpack_zerodim_and_defer\u001b[0m\u001b[0;34m(\u001b[0m\u001b[0;34m\"__ne__\"\u001b[0m\u001b[0;34m)\u001b[0m\u001b[0;34m\u001b[0m\u001b[0;34m\u001b[0m\u001b[0m\n",
      "\u001b[0;32m~/.local/lib/python3.8/site-packages/pandas/core/series.py\u001b[0m in \u001b[0;36m_cmp_method\u001b[0;34m(self, other, op)\u001b[0m\n\u001b[1;32m   4946\u001b[0m         \u001b[0mrvalues\u001b[0m \u001b[0;34m=\u001b[0m \u001b[0mextract_array\u001b[0m\u001b[0;34m(\u001b[0m\u001b[0mother\u001b[0m\u001b[0;34m,\u001b[0m \u001b[0mextract_numpy\u001b[0m\u001b[0;34m=\u001b[0m\u001b[0;32mTrue\u001b[0m\u001b[0;34m)\u001b[0m\u001b[0;34m\u001b[0m\u001b[0;34m\u001b[0m\u001b[0m\n\u001b[1;32m   4947\u001b[0m \u001b[0;34m\u001b[0m\u001b[0m\n\u001b[0;32m-> 4948\u001b[0;31m         \u001b[0mres_values\u001b[0m \u001b[0;34m=\u001b[0m \u001b[0mops\u001b[0m\u001b[0;34m.\u001b[0m\u001b[0mcomparison_op\u001b[0m\u001b[0;34m(\u001b[0m\u001b[0mlvalues\u001b[0m\u001b[0;34m,\u001b[0m \u001b[0mrvalues\u001b[0m\u001b[0;34m,\u001b[0m \u001b[0mop\u001b[0m\u001b[0;34m)\u001b[0m\u001b[0;34m\u001b[0m\u001b[0;34m\u001b[0m\u001b[0m\n\u001b[0m\u001b[1;32m   4949\u001b[0m \u001b[0;34m\u001b[0m\u001b[0m\n\u001b[1;32m   4950\u001b[0m         \u001b[0;32mreturn\u001b[0m \u001b[0mself\u001b[0m\u001b[0;34m.\u001b[0m\u001b[0m_construct_result\u001b[0m\u001b[0;34m(\u001b[0m\u001b[0mres_values\u001b[0m\u001b[0;34m,\u001b[0m \u001b[0mname\u001b[0m\u001b[0;34m=\u001b[0m\u001b[0mres_name\u001b[0m\u001b[0;34m)\u001b[0m\u001b[0;34m\u001b[0m\u001b[0;34m\u001b[0m\u001b[0m\n",
      "\u001b[0;32m~/.local/lib/python3.8/site-packages/pandas/core/ops/array_ops.py\u001b[0m in \u001b[0;36mcomparison_op\u001b[0;34m(left, right, op)\u001b[0m\n\u001b[1;32m    241\u001b[0m \u001b[0;34m\u001b[0m\u001b[0m\n\u001b[1;32m    242\u001b[0m     \u001b[0;32melif\u001b[0m \u001b[0mis_object_dtype\u001b[0m\u001b[0;34m(\u001b[0m\u001b[0mlvalues\u001b[0m\u001b[0;34m.\u001b[0m\u001b[0mdtype\u001b[0m\u001b[0;34m)\u001b[0m\u001b[0;34m:\u001b[0m\u001b[0;34m\u001b[0m\u001b[0;34m\u001b[0m\u001b[0m\n\u001b[0;32m--> 243\u001b[0;31m         \u001b[0mres_values\u001b[0m \u001b[0;34m=\u001b[0m \u001b[0mcomp_method_OBJECT_ARRAY\u001b[0m\u001b[0;34m(\u001b[0m\u001b[0mop\u001b[0m\u001b[0;34m,\u001b[0m \u001b[0mlvalues\u001b[0m\u001b[0;34m,\u001b[0m \u001b[0mrvalues\u001b[0m\u001b[0;34m)\u001b[0m\u001b[0;34m\u001b[0m\u001b[0;34m\u001b[0m\u001b[0m\n\u001b[0m\u001b[1;32m    244\u001b[0m \u001b[0;34m\u001b[0m\u001b[0m\n\u001b[1;32m    245\u001b[0m     \u001b[0;32melse\u001b[0m\u001b[0;34m:\u001b[0m\u001b[0;34m\u001b[0m\u001b[0;34m\u001b[0m\u001b[0m\n",
      "\u001b[0;32m~/.local/lib/python3.8/site-packages/pandas/core/ops/array_ops.py\u001b[0m in \u001b[0;36mcomp_method_OBJECT_ARRAY\u001b[0;34m(op, x, y)\u001b[0m\n\u001b[1;32m     53\u001b[0m         \u001b[0mresult\u001b[0m \u001b[0;34m=\u001b[0m \u001b[0mlibops\u001b[0m\u001b[0;34m.\u001b[0m\u001b[0mvec_compare\u001b[0m\u001b[0;34m(\u001b[0m\u001b[0mx\u001b[0m\u001b[0;34m.\u001b[0m\u001b[0mravel\u001b[0m\u001b[0;34m(\u001b[0m\u001b[0;34m)\u001b[0m\u001b[0;34m,\u001b[0m \u001b[0my\u001b[0m\u001b[0;34m.\u001b[0m\u001b[0mravel\u001b[0m\u001b[0;34m(\u001b[0m\u001b[0;34m)\u001b[0m\u001b[0;34m,\u001b[0m \u001b[0mop\u001b[0m\u001b[0;34m)\u001b[0m\u001b[0;34m\u001b[0m\u001b[0;34m\u001b[0m\u001b[0m\n\u001b[1;32m     54\u001b[0m     \u001b[0;32melse\u001b[0m\u001b[0;34m:\u001b[0m\u001b[0;34m\u001b[0m\u001b[0;34m\u001b[0m\u001b[0m\n\u001b[0;32m---> 55\u001b[0;31m         \u001b[0mresult\u001b[0m \u001b[0;34m=\u001b[0m \u001b[0mlibops\u001b[0m\u001b[0;34m.\u001b[0m\u001b[0mscalar_compare\u001b[0m\u001b[0;34m(\u001b[0m\u001b[0mx\u001b[0m\u001b[0;34m.\u001b[0m\u001b[0mravel\u001b[0m\u001b[0;34m(\u001b[0m\u001b[0;34m)\u001b[0m\u001b[0;34m,\u001b[0m \u001b[0my\u001b[0m\u001b[0;34m,\u001b[0m \u001b[0mop\u001b[0m\u001b[0;34m)\u001b[0m\u001b[0;34m\u001b[0m\u001b[0;34m\u001b[0m\u001b[0m\n\u001b[0m\u001b[1;32m     56\u001b[0m     \u001b[0;32mreturn\u001b[0m \u001b[0mresult\u001b[0m\u001b[0;34m.\u001b[0m\u001b[0mreshape\u001b[0m\u001b[0;34m(\u001b[0m\u001b[0mx\u001b[0m\u001b[0;34m.\u001b[0m\u001b[0mshape\u001b[0m\u001b[0;34m)\u001b[0m\u001b[0;34m\u001b[0m\u001b[0;34m\u001b[0m\u001b[0m\n\u001b[1;32m     57\u001b[0m \u001b[0;34m\u001b[0m\u001b[0m\n",
      "\u001b[0;31mKeyboardInterrupt\u001b[0m: "
     ]
    }
   ],
   "source": [
    "count_min_frames_for_gesture(df,poses_df)"
   ]
  },
  {
   "source": [
    "### Cut first 1 second from \"D\" user"
   ],
   "cell_type": "markdown",
   "metadata": {}
  },
  {
   "cell_type": "code",
   "execution_count": 24,
   "metadata": {},
   "outputs": [
    {
     "output_type": "execute_result",
     "data": {
      "text/plain": [
       "             name       label  \\\n",
       "47     devel20_10           5   \n",
       "48     devel20_11     9 9 7 2   \n",
       "49     devel20_12   3 3 9 2 8   \n",
       "50     devel20_13           2   \n",
       "51     devel20_14         7 7   \n",
       "...           ...         ...   \n",
       "1133  devel361_43         7 8   \n",
       "1134  devel361_44          10   \n",
       "1135  devel361_45           7   \n",
       "1136  devel361_46     5 1 5 6   \n",
       "1137  devel361_47         9 7   \n",
       "\n",
       "                                                   path         lexicon user  \n",
       "47    /home/vlados/datasets/chalearn/devel-1-20/deve...  DivingSignals1    D  \n",
       "48    /home/vlados/datasets/chalearn/devel-1-20/deve...  DivingSignals1    D  \n",
       "49    /home/vlados/datasets/chalearn/devel-1-20/deve...  DivingSignals1    D  \n",
       "50    /home/vlados/datasets/chalearn/devel-1-20/deve...  DivingSignals1    D  \n",
       "51    /home/vlados/datasets/chalearn/devel-1-20/deve...  DivingSignals1    D  \n",
       "...                                                 ...             ...  ...  \n",
       "1133  /home/vlados/datasets/chalearn/devel-251-365/d...  DivingSignals2    D  \n",
       "1134  /home/vlados/datasets/chalearn/devel-251-365/d...  DivingSignals2    D  \n",
       "1135  /home/vlados/datasets/chalearn/devel-251-365/d...  DivingSignals2    D  \n",
       "1136  /home/vlados/datasets/chalearn/devel-251-365/d...  DivingSignals2    D  \n",
       "1137  /home/vlados/datasets/chalearn/devel-251-365/d...  DivingSignals2    D  \n",
       "\n",
       "[94 rows x 5 columns]"
      ],
      "text/html": "<div>\n<style scoped>\n    .dataframe tbody tr th:only-of-type {\n        vertical-align: middle;\n    }\n\n    .dataframe tbody tr th {\n        vertical-align: top;\n    }\n\n    .dataframe thead th {\n        text-align: right;\n    }\n</style>\n<table border=\"1\" class=\"dataframe\">\n  <thead>\n    <tr style=\"text-align: right;\">\n      <th></th>\n      <th>name</th>\n      <th>label</th>\n      <th>path</th>\n      <th>lexicon</th>\n      <th>user</th>\n    </tr>\n  </thead>\n  <tbody>\n    <tr>\n      <th>47</th>\n      <td>devel20_10</td>\n      <td>5</td>\n      <td>/home/vlados/datasets/chalearn/devel-1-20/deve...</td>\n      <td>DivingSignals1</td>\n      <td>D</td>\n    </tr>\n    <tr>\n      <th>48</th>\n      <td>devel20_11</td>\n      <td>9 9 7 2</td>\n      <td>/home/vlados/datasets/chalearn/devel-1-20/deve...</td>\n      <td>DivingSignals1</td>\n      <td>D</td>\n    </tr>\n    <tr>\n      <th>49</th>\n      <td>devel20_12</td>\n      <td>3 3 9 2 8</td>\n      <td>/home/vlados/datasets/chalearn/devel-1-20/deve...</td>\n      <td>DivingSignals1</td>\n      <td>D</td>\n    </tr>\n    <tr>\n      <th>50</th>\n      <td>devel20_13</td>\n      <td>2</td>\n      <td>/home/vlados/datasets/chalearn/devel-1-20/deve...</td>\n      <td>DivingSignals1</td>\n      <td>D</td>\n    </tr>\n    <tr>\n      <th>51</th>\n      <td>devel20_14</td>\n      <td>7 7</td>\n      <td>/home/vlados/datasets/chalearn/devel-1-20/deve...</td>\n      <td>DivingSignals1</td>\n      <td>D</td>\n    </tr>\n    <tr>\n      <th>...</th>\n      <td>...</td>\n      <td>...</td>\n      <td>...</td>\n      <td>...</td>\n      <td>...</td>\n    </tr>\n    <tr>\n      <th>1133</th>\n      <td>devel361_43</td>\n      <td>7 8</td>\n      <td>/home/vlados/datasets/chalearn/devel-251-365/d...</td>\n      <td>DivingSignals2</td>\n      <td>D</td>\n    </tr>\n    <tr>\n      <th>1134</th>\n      <td>devel361_44</td>\n      <td>10</td>\n      <td>/home/vlados/datasets/chalearn/devel-251-365/d...</td>\n      <td>DivingSignals2</td>\n      <td>D</td>\n    </tr>\n    <tr>\n      <th>1135</th>\n      <td>devel361_45</td>\n      <td>7</td>\n      <td>/home/vlados/datasets/chalearn/devel-251-365/d...</td>\n      <td>DivingSignals2</td>\n      <td>D</td>\n    </tr>\n    <tr>\n      <th>1136</th>\n      <td>devel361_46</td>\n      <td>5 1 5 6</td>\n      <td>/home/vlados/datasets/chalearn/devel-251-365/d...</td>\n      <td>DivingSignals2</td>\n      <td>D</td>\n    </tr>\n    <tr>\n      <th>1137</th>\n      <td>devel361_47</td>\n      <td>9 7</td>\n      <td>/home/vlados/datasets/chalearn/devel-251-365/d...</td>\n      <td>DivingSignals2</td>\n      <td>D</td>\n    </tr>\n  </tbody>\n</table>\n<p>94 rows × 5 columns</p>\n</div>"
     },
     "metadata": {},
     "execution_count": 24
    }
   ],
   "source": [
    "df.loc[df[\"user\"] == \"D\"]"
   ]
  },
  {
   "cell_type": "code",
   "execution_count": 28,
   "metadata": {},
   "outputs": [
    {
     "output_type": "execute_result",
     "data": {
      "text/plain": [
       "     j0_x j0_y j1_x j1_y j2_x j2_y j3_x j3_y j4_x j4_y  ... j13_y j14_x j14_y  \\\n",
       "0     162   84  162  114  135  114   98  150  111  116  ...     0   158    78   \n",
       "1     162   86  162  114  135  114   94  136  109   99  ...     0   156    80   \n",
       "2     162   86  162  112  135  112   92  114  113   76  ...     0   156    80   \n",
       "3     162   84  162  108  135  110   96   95  122   58  ...     0   158    78   \n",
       "4     162   84  162  108  137  108  100   86  128   52  ...     0   158    78   \n",
       "...   ...  ...  ...  ...  ...  ...  ...  ...  ...  ...  ...   ...   ...   ...   \n",
       "4312  152   84  154  114  128  116  117  153  122  168  ...     0   147    78   \n",
       "4313  152   84  154  114  128  116  117  153  120  166  ...     0   147    80   \n",
       "4314  152   84  156  114  128  116  117  153  120  166  ...     0   147    78   \n",
       "4315  152   84  154  114  128  116  115  153  122  165  ...     0   147    78   \n",
       "4316  152   84  158  116  130  116  115  153  122  166  ...     0   149    78   \n",
       "\n",
       "     j15_x j15_y j16_x j16_y j17_x j17_y         name  \n",
       "0      167    78   149    84   175    84   devel20_10  \n",
       "1      167    80   149    84   175    84   devel20_10  \n",
       "2      167    80   149    84   175    86   devel20_10  \n",
       "3      167    78   149    86   175    86   devel20_10  \n",
       "4      167    78   149    84   175    84   devel20_10  \n",
       "...    ...   ...   ...   ...   ...   ...          ...  \n",
       "4312   158    78   139    84   167    84  devel361_47  \n",
       "4313   158    78   139    84   167    84  devel361_47  \n",
       "4314   158    78   139    84   167    84  devel361_47  \n",
       "4315   158    78   139    84   167    84  devel361_47  \n",
       "4316   160    78   141    84   169    84  devel361_47  \n",
       "\n",
       "[4317 rows x 37 columns]"
      ],
      "text/html": "<div>\n<style scoped>\n    .dataframe tbody tr th:only-of-type {\n        vertical-align: middle;\n    }\n\n    .dataframe tbody tr th {\n        vertical-align: top;\n    }\n\n    .dataframe thead th {\n        text-align: right;\n    }\n</style>\n<table border=\"1\" class=\"dataframe\">\n  <thead>\n    <tr style=\"text-align: right;\">\n      <th></th>\n      <th>j0_x</th>\n      <th>j0_y</th>\n      <th>j1_x</th>\n      <th>j1_y</th>\n      <th>j2_x</th>\n      <th>j2_y</th>\n      <th>j3_x</th>\n      <th>j3_y</th>\n      <th>j4_x</th>\n      <th>j4_y</th>\n      <th>...</th>\n      <th>j13_y</th>\n      <th>j14_x</th>\n      <th>j14_y</th>\n      <th>j15_x</th>\n      <th>j15_y</th>\n      <th>j16_x</th>\n      <th>j16_y</th>\n      <th>j17_x</th>\n      <th>j17_y</th>\n      <th>name</th>\n    </tr>\n  </thead>\n  <tbody>\n    <tr>\n      <th>0</th>\n      <td>162</td>\n      <td>84</td>\n      <td>162</td>\n      <td>114</td>\n      <td>135</td>\n      <td>114</td>\n      <td>98</td>\n      <td>150</td>\n      <td>111</td>\n      <td>116</td>\n      <td>...</td>\n      <td>0</td>\n      <td>158</td>\n      <td>78</td>\n      <td>167</td>\n      <td>78</td>\n      <td>149</td>\n      <td>84</td>\n      <td>175</td>\n      <td>84</td>\n      <td>devel20_10</td>\n    </tr>\n    <tr>\n      <th>1</th>\n      <td>162</td>\n      <td>86</td>\n      <td>162</td>\n      <td>114</td>\n      <td>135</td>\n      <td>114</td>\n      <td>94</td>\n      <td>136</td>\n      <td>109</td>\n      <td>99</td>\n      <td>...</td>\n      <td>0</td>\n      <td>156</td>\n      <td>80</td>\n      <td>167</td>\n      <td>80</td>\n      <td>149</td>\n      <td>84</td>\n      <td>175</td>\n      <td>84</td>\n      <td>devel20_10</td>\n    </tr>\n    <tr>\n      <th>2</th>\n      <td>162</td>\n      <td>86</td>\n      <td>162</td>\n      <td>112</td>\n      <td>135</td>\n      <td>112</td>\n      <td>92</td>\n      <td>114</td>\n      <td>113</td>\n      <td>76</td>\n      <td>...</td>\n      <td>0</td>\n      <td>156</td>\n      <td>80</td>\n      <td>167</td>\n      <td>80</td>\n      <td>149</td>\n      <td>84</td>\n      <td>175</td>\n      <td>86</td>\n      <td>devel20_10</td>\n    </tr>\n    <tr>\n      <th>3</th>\n      <td>162</td>\n      <td>84</td>\n      <td>162</td>\n      <td>108</td>\n      <td>135</td>\n      <td>110</td>\n      <td>96</td>\n      <td>95</td>\n      <td>122</td>\n      <td>58</td>\n      <td>...</td>\n      <td>0</td>\n      <td>158</td>\n      <td>78</td>\n      <td>167</td>\n      <td>78</td>\n      <td>149</td>\n      <td>86</td>\n      <td>175</td>\n      <td>86</td>\n      <td>devel20_10</td>\n    </tr>\n    <tr>\n      <th>4</th>\n      <td>162</td>\n      <td>84</td>\n      <td>162</td>\n      <td>108</td>\n      <td>137</td>\n      <td>108</td>\n      <td>100</td>\n      <td>86</td>\n      <td>128</td>\n      <td>52</td>\n      <td>...</td>\n      <td>0</td>\n      <td>158</td>\n      <td>78</td>\n      <td>167</td>\n      <td>78</td>\n      <td>149</td>\n      <td>84</td>\n      <td>175</td>\n      <td>84</td>\n      <td>devel20_10</td>\n    </tr>\n    <tr>\n      <th>...</th>\n      <td>...</td>\n      <td>...</td>\n      <td>...</td>\n      <td>...</td>\n      <td>...</td>\n      <td>...</td>\n      <td>...</td>\n      <td>...</td>\n      <td>...</td>\n      <td>...</td>\n      <td>...</td>\n      <td>...</td>\n      <td>...</td>\n      <td>...</td>\n      <td>...</td>\n      <td>...</td>\n      <td>...</td>\n      <td>...</td>\n      <td>...</td>\n      <td>...</td>\n      <td>...</td>\n    </tr>\n    <tr>\n      <th>4312</th>\n      <td>152</td>\n      <td>84</td>\n      <td>154</td>\n      <td>114</td>\n      <td>128</td>\n      <td>116</td>\n      <td>117</td>\n      <td>153</td>\n      <td>122</td>\n      <td>168</td>\n      <td>...</td>\n      <td>0</td>\n      <td>147</td>\n      <td>78</td>\n      <td>158</td>\n      <td>78</td>\n      <td>139</td>\n      <td>84</td>\n      <td>167</td>\n      <td>84</td>\n      <td>devel361_47</td>\n    </tr>\n    <tr>\n      <th>4313</th>\n      <td>152</td>\n      <td>84</td>\n      <td>154</td>\n      <td>114</td>\n      <td>128</td>\n      <td>116</td>\n      <td>117</td>\n      <td>153</td>\n      <td>120</td>\n      <td>166</td>\n      <td>...</td>\n      <td>0</td>\n      <td>147</td>\n      <td>80</td>\n      <td>158</td>\n      <td>78</td>\n      <td>139</td>\n      <td>84</td>\n      <td>167</td>\n      <td>84</td>\n      <td>devel361_47</td>\n    </tr>\n    <tr>\n      <th>4314</th>\n      <td>152</td>\n      <td>84</td>\n      <td>156</td>\n      <td>114</td>\n      <td>128</td>\n      <td>116</td>\n      <td>117</td>\n      <td>153</td>\n      <td>120</td>\n      <td>166</td>\n      <td>...</td>\n      <td>0</td>\n      <td>147</td>\n      <td>78</td>\n      <td>158</td>\n      <td>78</td>\n      <td>139</td>\n      <td>84</td>\n      <td>167</td>\n      <td>84</td>\n      <td>devel361_47</td>\n    </tr>\n    <tr>\n      <th>4315</th>\n      <td>152</td>\n      <td>84</td>\n      <td>154</td>\n      <td>114</td>\n      <td>128</td>\n      <td>116</td>\n      <td>115</td>\n      <td>153</td>\n      <td>122</td>\n      <td>165</td>\n      <td>...</td>\n      <td>0</td>\n      <td>147</td>\n      <td>78</td>\n      <td>158</td>\n      <td>78</td>\n      <td>139</td>\n      <td>84</td>\n      <td>167</td>\n      <td>84</td>\n      <td>devel361_47</td>\n    </tr>\n    <tr>\n      <th>4316</th>\n      <td>152</td>\n      <td>84</td>\n      <td>158</td>\n      <td>116</td>\n      <td>130</td>\n      <td>116</td>\n      <td>115</td>\n      <td>153</td>\n      <td>122</td>\n      <td>166</td>\n      <td>...</td>\n      <td>0</td>\n      <td>149</td>\n      <td>78</td>\n      <td>160</td>\n      <td>78</td>\n      <td>141</td>\n      <td>84</td>\n      <td>169</td>\n      <td>84</td>\n      <td>devel361_47</td>\n    </tr>\n  </tbody>\n</table>\n<p>4317 rows × 37 columns</p>\n</div>"
     },
     "metadata": {},
     "execution_count": 28
    }
   ],
   "source": [
    "D_poses_df = pd.DataFrame(columns=column_names + [\"name\"])\n",
    "for index, row in df.loc[df[\"user\"] == \"D\"].iterrows():\n",
    "    D_poses_df = pd.concat([D_poses_df, poses_df.loc[poses_df[\"name\"] == row[\"name\"]].iloc[9:]], ignore_index=True, sort=False)\n",
    "D_poses_df"
   ]
  },
  {
   "source": [
    "### Cut first and lact 1 second from \"J\" user"
   ],
   "cell_type": "markdown",
   "metadata": {}
  },
  {
   "cell_type": "code",
   "execution_count": 25,
   "metadata": {},
   "outputs": [
    {
     "output_type": "execute_result",
     "data": {
      "text/plain": [
       "           name   label                                               path  \\\n",
       "0    devel04_11       3  /home/vlados/datasets/chalearn/devel-1-20/deve...   \n",
       "1    devel04_12       1  /home/vlados/datasets/chalearn/devel-1-20/deve...   \n",
       "2    devel04_13     2 7  /home/vlados/datasets/chalearn/devel-1-20/deve...   \n",
       "3    devel04_14       2  /home/vlados/datasets/chalearn/devel-1-20/deve...   \n",
       "4    devel04_15   9 5 4  /home/vlados/datasets/chalearn/devel-1-20/deve...   \n",
       "..          ...     ...                                                ...   \n",
       "804  devel199_5       2  /home/vlados/datasets/chalearn/devel-136-250/d...   \n",
       "805  devel199_6       4  /home/vlados/datasets/chalearn/devel-136-250/d...   \n",
       "806  devel199_7       8  /home/vlados/datasets/chalearn/devel-136-250/d...   \n",
       "807  devel199_8       6  /home/vlados/datasets/chalearn/devel-136-250/d...   \n",
       "808  devel199_9       5  /home/vlados/datasets/chalearn/devel-136-250/d...   \n",
       "\n",
       "            lexicon user  \n",
       "0    DivingSignals2    J  \n",
       "1    DivingSignals2    J  \n",
       "2    DivingSignals2    J  \n",
       "3    DivingSignals2    J  \n",
       "4    DivingSignals2    J  \n",
       "..              ...  ...  \n",
       "804  DivingSignals1    J  \n",
       "805  DivingSignals1    J  \n",
       "806  DivingSignals1    J  \n",
       "807  DivingSignals1    J  \n",
       "808  DivingSignals1    J  \n",
       "\n",
       "[94 rows x 5 columns]"
      ],
      "text/html": "<div>\n<style scoped>\n    .dataframe tbody tr th:only-of-type {\n        vertical-align: middle;\n    }\n\n    .dataframe tbody tr th {\n        vertical-align: top;\n    }\n\n    .dataframe thead th {\n        text-align: right;\n    }\n</style>\n<table border=\"1\" class=\"dataframe\">\n  <thead>\n    <tr style=\"text-align: right;\">\n      <th></th>\n      <th>name</th>\n      <th>label</th>\n      <th>path</th>\n      <th>lexicon</th>\n      <th>user</th>\n    </tr>\n  </thead>\n  <tbody>\n    <tr>\n      <th>0</th>\n      <td>devel04_11</td>\n      <td>3</td>\n      <td>/home/vlados/datasets/chalearn/devel-1-20/deve...</td>\n      <td>DivingSignals2</td>\n      <td>J</td>\n    </tr>\n    <tr>\n      <th>1</th>\n      <td>devel04_12</td>\n      <td>1</td>\n      <td>/home/vlados/datasets/chalearn/devel-1-20/deve...</td>\n      <td>DivingSignals2</td>\n      <td>J</td>\n    </tr>\n    <tr>\n      <th>2</th>\n      <td>devel04_13</td>\n      <td>2 7</td>\n      <td>/home/vlados/datasets/chalearn/devel-1-20/deve...</td>\n      <td>DivingSignals2</td>\n      <td>J</td>\n    </tr>\n    <tr>\n      <th>3</th>\n      <td>devel04_14</td>\n      <td>2</td>\n      <td>/home/vlados/datasets/chalearn/devel-1-20/deve...</td>\n      <td>DivingSignals2</td>\n      <td>J</td>\n    </tr>\n    <tr>\n      <th>4</th>\n      <td>devel04_15</td>\n      <td>9 5 4</td>\n      <td>/home/vlados/datasets/chalearn/devel-1-20/deve...</td>\n      <td>DivingSignals2</td>\n      <td>J</td>\n    </tr>\n    <tr>\n      <th>...</th>\n      <td>...</td>\n      <td>...</td>\n      <td>...</td>\n      <td>...</td>\n      <td>...</td>\n    </tr>\n    <tr>\n      <th>804</th>\n      <td>devel199_5</td>\n      <td>2</td>\n      <td>/home/vlados/datasets/chalearn/devel-136-250/d...</td>\n      <td>DivingSignals1</td>\n      <td>J</td>\n    </tr>\n    <tr>\n      <th>805</th>\n      <td>devel199_6</td>\n      <td>4</td>\n      <td>/home/vlados/datasets/chalearn/devel-136-250/d...</td>\n      <td>DivingSignals1</td>\n      <td>J</td>\n    </tr>\n    <tr>\n      <th>806</th>\n      <td>devel199_7</td>\n      <td>8</td>\n      <td>/home/vlados/datasets/chalearn/devel-136-250/d...</td>\n      <td>DivingSignals1</td>\n      <td>J</td>\n    </tr>\n    <tr>\n      <th>807</th>\n      <td>devel199_8</td>\n      <td>6</td>\n      <td>/home/vlados/datasets/chalearn/devel-136-250/d...</td>\n      <td>DivingSignals1</td>\n      <td>J</td>\n    </tr>\n    <tr>\n      <th>808</th>\n      <td>devel199_9</td>\n      <td>5</td>\n      <td>/home/vlados/datasets/chalearn/devel-136-250/d...</td>\n      <td>DivingSignals1</td>\n      <td>J</td>\n    </tr>\n  </tbody>\n</table>\n<p>94 rows × 5 columns</p>\n</div>"
     },
     "metadata": {},
     "execution_count": 25
    }
   ],
   "source": [
    "df.loc[df[\"user\"] == \"J\"]"
   ]
  },
  {
   "cell_type": "code",
   "execution_count": 26,
   "metadata": {},
   "outputs": [
    {
     "output_type": "execute_result",
     "data": {
      "text/plain": [
       "     j0_x j0_y j1_x j1_y j2_x j2_y j3_x j3_y j4_x j4_y  ... j13_y j14_x j14_y  \\\n",
       "0     132   78  128  112   98  112   85  157   87  200  ...     0   126    73   \n",
       "1     132   78  128  112   98  112   85  155   90  200  ...     0   126    73   \n",
       "2     132   78  128  114   98  112   85  157   92  200  ...     0   124    73   \n",
       "3     130   78  126  114   98  112   85  155   92  200  ...     0   124    73   \n",
       "4     128   78  126  112   96  112   85  157   90  204  ...     0   122    73   \n",
       "...   ...  ...  ...  ...  ...  ...  ...  ...  ...  ...  ...   ...   ...   ...   \n",
       "7694  160   86  158  121  130  121  115  165  115  200  ...     0   154    82   \n",
       "7695  160   86  158  121  130  121  115  165  115  200  ...     0   154    82   \n",
       "7696  160   86  158  121  130  121  113  163  115  200  ...     0   154    82   \n",
       "7697  160   86  158  121  130  121  113  163  115  195  ...     0   154    82   \n",
       "7698  160   86  158  121  130  121  111  159  113  185  ...     0   154    82   \n",
       "\n",
       "     j15_x j15_y j16_x j16_y j17_x j17_y        name  \n",
       "0      137    73   117    76   145    75  devel04_11  \n",
       "1      137    71   117    76   145    75  devel04_11  \n",
       "2      137    73   115    76   145    76  devel04_11  \n",
       "3      135    73   115    75   143    76  devel04_11  \n",
       "4      135    73   113    76   143    76  devel04_11  \n",
       "...    ...   ...   ...   ...   ...   ...         ...  \n",
       "7694   165    82   147    86   175    86  devel199_9  \n",
       "7695   165    82   147    86   175    86  devel199_9  \n",
       "7696   165    82   147    86   175    86  devel199_9  \n",
       "7697   165    82   147    86   175    86  devel199_9  \n",
       "7698   165    82   147    86   175    86  devel199_9  \n",
       "\n",
       "[7699 rows x 37 columns]"
      ],
      "text/html": "<div>\n<style scoped>\n    .dataframe tbody tr th:only-of-type {\n        vertical-align: middle;\n    }\n\n    .dataframe tbody tr th {\n        vertical-align: top;\n    }\n\n    .dataframe thead th {\n        text-align: right;\n    }\n</style>\n<table border=\"1\" class=\"dataframe\">\n  <thead>\n    <tr style=\"text-align: right;\">\n      <th></th>\n      <th>j0_x</th>\n      <th>j0_y</th>\n      <th>j1_x</th>\n      <th>j1_y</th>\n      <th>j2_x</th>\n      <th>j2_y</th>\n      <th>j3_x</th>\n      <th>j3_y</th>\n      <th>j4_x</th>\n      <th>j4_y</th>\n      <th>...</th>\n      <th>j13_y</th>\n      <th>j14_x</th>\n      <th>j14_y</th>\n      <th>j15_x</th>\n      <th>j15_y</th>\n      <th>j16_x</th>\n      <th>j16_y</th>\n      <th>j17_x</th>\n      <th>j17_y</th>\n      <th>name</th>\n    </tr>\n  </thead>\n  <tbody>\n    <tr>\n      <th>0</th>\n      <td>132</td>\n      <td>78</td>\n      <td>128</td>\n      <td>112</td>\n      <td>98</td>\n      <td>112</td>\n      <td>85</td>\n      <td>157</td>\n      <td>87</td>\n      <td>200</td>\n      <td>...</td>\n      <td>0</td>\n      <td>126</td>\n      <td>73</td>\n      <td>137</td>\n      <td>73</td>\n      <td>117</td>\n      <td>76</td>\n      <td>145</td>\n      <td>75</td>\n      <td>devel04_11</td>\n    </tr>\n    <tr>\n      <th>1</th>\n      <td>132</td>\n      <td>78</td>\n      <td>128</td>\n      <td>112</td>\n      <td>98</td>\n      <td>112</td>\n      <td>85</td>\n      <td>155</td>\n      <td>90</td>\n      <td>200</td>\n      <td>...</td>\n      <td>0</td>\n      <td>126</td>\n      <td>73</td>\n      <td>137</td>\n      <td>71</td>\n      <td>117</td>\n      <td>76</td>\n      <td>145</td>\n      <td>75</td>\n      <td>devel04_11</td>\n    </tr>\n    <tr>\n      <th>2</th>\n      <td>132</td>\n      <td>78</td>\n      <td>128</td>\n      <td>114</td>\n      <td>98</td>\n      <td>112</td>\n      <td>85</td>\n      <td>157</td>\n      <td>92</td>\n      <td>200</td>\n      <td>...</td>\n      <td>0</td>\n      <td>124</td>\n      <td>73</td>\n      <td>137</td>\n      <td>73</td>\n      <td>115</td>\n      <td>76</td>\n      <td>145</td>\n      <td>76</td>\n      <td>devel04_11</td>\n    </tr>\n    <tr>\n      <th>3</th>\n      <td>130</td>\n      <td>78</td>\n      <td>126</td>\n      <td>114</td>\n      <td>98</td>\n      <td>112</td>\n      <td>85</td>\n      <td>155</td>\n      <td>92</td>\n      <td>200</td>\n      <td>...</td>\n      <td>0</td>\n      <td>124</td>\n      <td>73</td>\n      <td>135</td>\n      <td>73</td>\n      <td>115</td>\n      <td>75</td>\n      <td>143</td>\n      <td>76</td>\n      <td>devel04_11</td>\n    </tr>\n    <tr>\n      <th>4</th>\n      <td>128</td>\n      <td>78</td>\n      <td>126</td>\n      <td>112</td>\n      <td>96</td>\n      <td>112</td>\n      <td>85</td>\n      <td>157</td>\n      <td>90</td>\n      <td>204</td>\n      <td>...</td>\n      <td>0</td>\n      <td>122</td>\n      <td>73</td>\n      <td>135</td>\n      <td>73</td>\n      <td>113</td>\n      <td>76</td>\n      <td>143</td>\n      <td>76</td>\n      <td>devel04_11</td>\n    </tr>\n    <tr>\n      <th>...</th>\n      <td>...</td>\n      <td>...</td>\n      <td>...</td>\n      <td>...</td>\n      <td>...</td>\n      <td>...</td>\n      <td>...</td>\n      <td>...</td>\n      <td>...</td>\n      <td>...</td>\n      <td>...</td>\n      <td>...</td>\n      <td>...</td>\n      <td>...</td>\n      <td>...</td>\n      <td>...</td>\n      <td>...</td>\n      <td>...</td>\n      <td>...</td>\n      <td>...</td>\n      <td>...</td>\n    </tr>\n    <tr>\n      <th>7694</th>\n      <td>160</td>\n      <td>86</td>\n      <td>158</td>\n      <td>121</td>\n      <td>130</td>\n      <td>121</td>\n      <td>115</td>\n      <td>165</td>\n      <td>115</td>\n      <td>200</td>\n      <td>...</td>\n      <td>0</td>\n      <td>154</td>\n      <td>82</td>\n      <td>165</td>\n      <td>82</td>\n      <td>147</td>\n      <td>86</td>\n      <td>175</td>\n      <td>86</td>\n      <td>devel199_9</td>\n    </tr>\n    <tr>\n      <th>7695</th>\n      <td>160</td>\n      <td>86</td>\n      <td>158</td>\n      <td>121</td>\n      <td>130</td>\n      <td>121</td>\n      <td>115</td>\n      <td>165</td>\n      <td>115</td>\n      <td>200</td>\n      <td>...</td>\n      <td>0</td>\n      <td>154</td>\n      <td>82</td>\n      <td>165</td>\n      <td>82</td>\n      <td>147</td>\n      <td>86</td>\n      <td>175</td>\n      <td>86</td>\n      <td>devel199_9</td>\n    </tr>\n    <tr>\n      <th>7696</th>\n      <td>160</td>\n      <td>86</td>\n      <td>158</td>\n      <td>121</td>\n      <td>130</td>\n      <td>121</td>\n      <td>113</td>\n      <td>163</td>\n      <td>115</td>\n      <td>200</td>\n      <td>...</td>\n      <td>0</td>\n      <td>154</td>\n      <td>82</td>\n      <td>165</td>\n      <td>82</td>\n      <td>147</td>\n      <td>86</td>\n      <td>175</td>\n      <td>86</td>\n      <td>devel199_9</td>\n    </tr>\n    <tr>\n      <th>7697</th>\n      <td>160</td>\n      <td>86</td>\n      <td>158</td>\n      <td>121</td>\n      <td>130</td>\n      <td>121</td>\n      <td>113</td>\n      <td>163</td>\n      <td>115</td>\n      <td>195</td>\n      <td>...</td>\n      <td>0</td>\n      <td>154</td>\n      <td>82</td>\n      <td>165</td>\n      <td>82</td>\n      <td>147</td>\n      <td>86</td>\n      <td>175</td>\n      <td>86</td>\n      <td>devel199_9</td>\n    </tr>\n    <tr>\n      <th>7698</th>\n      <td>160</td>\n      <td>86</td>\n      <td>158</td>\n      <td>121</td>\n      <td>130</td>\n      <td>121</td>\n      <td>111</td>\n      <td>159</td>\n      <td>113</td>\n      <td>185</td>\n      <td>...</td>\n      <td>0</td>\n      <td>154</td>\n      <td>82</td>\n      <td>165</td>\n      <td>82</td>\n      <td>147</td>\n      <td>86</td>\n      <td>175</td>\n      <td>86</td>\n      <td>devel199_9</td>\n    </tr>\n  </tbody>\n</table>\n<p>7699 rows × 37 columns</p>\n</div>"
     },
     "metadata": {},
     "execution_count": 26
    }
   ],
   "source": [
    "J_poses_df = pd.DataFrame(columns=column_names + [\"name\"])\n",
    "for index, row in df.loc[df[\"user\"] == \"J\"].iterrows():\n",
    "    J_poses_df = pd.concat([J_poses_df, poses_df.loc[poses_df[\"name\"] == row[\"name\"]].iloc[9:]], ignore_index=True, sort=False)\n",
    "J_poses_df"
   ]
  },
  {
   "source": [
    "### Cut first and lact 1 second from \"Z\" user"
   ],
   "cell_type": "markdown",
   "metadata": {}
  },
  {
   "cell_type": "code",
   "execution_count": 27,
   "metadata": {},
   "outputs": [
    {
     "output_type": "execute_result",
     "data": {
      "text/plain": [
       "     j0_x j0_y j1_x j1_y j2_x j2_y j3_x j3_y j4_x j4_y  ... j13_y j14_x j14_y  \\\n",
       "0     143   67  150  108  124  110  115  146  111  168  ...     0   137    63   \n",
       "1     143   67  152  108  122  112  115  148  111  168  ...     0   137    63   \n",
       "2     143   67  150  108  124  110  115  146  111  168  ...     0   137    63   \n",
       "3     143   65  150  108  122  110  115  148  113  170  ...     0   137    61   \n",
       "4     143   65  150  108  122  110  115  146  113  170  ...     0   137    61   \n",
       "...   ...  ...  ...  ...  ...  ...  ...  ...  ...  ...  ...   ...   ...   ...   \n",
       "5950  152   69  160  110  132  110  119  157  109  196  ...     0   147    65   \n",
       "5951  152   69  160  110  132  110  119  159  109  195  ...     0   147    65   \n",
       "5952  152   69  160  110  132  110  119  157  111  196  ...     0   147    65   \n",
       "5953  152   69  160  110  132  110  119  157  111  195  ...     0   147    65   \n",
       "5954  150   71  160  110  132  110  119  157  111  196  ...     0   147    65   \n",
       "\n",
       "     j15_x j15_y j16_x j16_y j17_x j17_y         name  \n",
       "0      150    61   134    71   164    67    valid03_1  \n",
       "1      150    61   134    71   164    67    valid03_1  \n",
       "2      150    61   134    71   164    67    valid03_1  \n",
       "3      150    61   134    69   164    67    valid03_1  \n",
       "4      150    61   134    69   164    67    valid03_1  \n",
       "...    ...   ...   ...   ...   ...   ...          ...  \n",
       "5950   158    63   143    73   173    69  devel197_47  \n",
       "5951   158    63   143    73   173    69  devel197_47  \n",
       "5952   158    63   143    75   173    71  devel197_47  \n",
       "5953   158    63   143    75   173    69  devel197_47  \n",
       "5954   158    63   143    73   173    71  devel197_47  \n",
       "\n",
       "[5955 rows x 37 columns]"
      ],
      "text/html": "<div>\n<style scoped>\n    .dataframe tbody tr th:only-of-type {\n        vertical-align: middle;\n    }\n\n    .dataframe tbody tr th {\n        vertical-align: top;\n    }\n\n    .dataframe thead th {\n        text-align: right;\n    }\n</style>\n<table border=\"1\" class=\"dataframe\">\n  <thead>\n    <tr style=\"text-align: right;\">\n      <th></th>\n      <th>j0_x</th>\n      <th>j0_y</th>\n      <th>j1_x</th>\n      <th>j1_y</th>\n      <th>j2_x</th>\n      <th>j2_y</th>\n      <th>j3_x</th>\n      <th>j3_y</th>\n      <th>j4_x</th>\n      <th>j4_y</th>\n      <th>...</th>\n      <th>j13_y</th>\n      <th>j14_x</th>\n      <th>j14_y</th>\n      <th>j15_x</th>\n      <th>j15_y</th>\n      <th>j16_x</th>\n      <th>j16_y</th>\n      <th>j17_x</th>\n      <th>j17_y</th>\n      <th>name</th>\n    </tr>\n  </thead>\n  <tbody>\n    <tr>\n      <th>0</th>\n      <td>143</td>\n      <td>67</td>\n      <td>150</td>\n      <td>108</td>\n      <td>124</td>\n      <td>110</td>\n      <td>115</td>\n      <td>146</td>\n      <td>111</td>\n      <td>168</td>\n      <td>...</td>\n      <td>0</td>\n      <td>137</td>\n      <td>63</td>\n      <td>150</td>\n      <td>61</td>\n      <td>134</td>\n      <td>71</td>\n      <td>164</td>\n      <td>67</td>\n      <td>valid03_1</td>\n    </tr>\n    <tr>\n      <th>1</th>\n      <td>143</td>\n      <td>67</td>\n      <td>152</td>\n      <td>108</td>\n      <td>122</td>\n      <td>112</td>\n      <td>115</td>\n      <td>148</td>\n      <td>111</td>\n      <td>168</td>\n      <td>...</td>\n      <td>0</td>\n      <td>137</td>\n      <td>63</td>\n      <td>150</td>\n      <td>61</td>\n      <td>134</td>\n      <td>71</td>\n      <td>164</td>\n      <td>67</td>\n      <td>valid03_1</td>\n    </tr>\n    <tr>\n      <th>2</th>\n      <td>143</td>\n      <td>67</td>\n      <td>150</td>\n      <td>108</td>\n      <td>124</td>\n      <td>110</td>\n      <td>115</td>\n      <td>146</td>\n      <td>111</td>\n      <td>168</td>\n      <td>...</td>\n      <td>0</td>\n      <td>137</td>\n      <td>63</td>\n      <td>150</td>\n      <td>61</td>\n      <td>134</td>\n      <td>71</td>\n      <td>164</td>\n      <td>67</td>\n      <td>valid03_1</td>\n    </tr>\n    <tr>\n      <th>3</th>\n      <td>143</td>\n      <td>65</td>\n      <td>150</td>\n      <td>108</td>\n      <td>122</td>\n      <td>110</td>\n      <td>115</td>\n      <td>148</td>\n      <td>113</td>\n      <td>170</td>\n      <td>...</td>\n      <td>0</td>\n      <td>137</td>\n      <td>61</td>\n      <td>150</td>\n      <td>61</td>\n      <td>134</td>\n      <td>69</td>\n      <td>164</td>\n      <td>67</td>\n      <td>valid03_1</td>\n    </tr>\n    <tr>\n      <th>4</th>\n      <td>143</td>\n      <td>65</td>\n      <td>150</td>\n      <td>108</td>\n      <td>122</td>\n      <td>110</td>\n      <td>115</td>\n      <td>146</td>\n      <td>113</td>\n      <td>170</td>\n      <td>...</td>\n      <td>0</td>\n      <td>137</td>\n      <td>61</td>\n      <td>150</td>\n      <td>61</td>\n      <td>134</td>\n      <td>69</td>\n      <td>164</td>\n      <td>67</td>\n      <td>valid03_1</td>\n    </tr>\n    <tr>\n      <th>...</th>\n      <td>...</td>\n      <td>...</td>\n      <td>...</td>\n      <td>...</td>\n      <td>...</td>\n      <td>...</td>\n      <td>...</td>\n      <td>...</td>\n      <td>...</td>\n      <td>...</td>\n      <td>...</td>\n      <td>...</td>\n      <td>...</td>\n      <td>...</td>\n      <td>...</td>\n      <td>...</td>\n      <td>...</td>\n      <td>...</td>\n      <td>...</td>\n      <td>...</td>\n      <td>...</td>\n    </tr>\n    <tr>\n      <th>5950</th>\n      <td>152</td>\n      <td>69</td>\n      <td>160</td>\n      <td>110</td>\n      <td>132</td>\n      <td>110</td>\n      <td>119</td>\n      <td>157</td>\n      <td>109</td>\n      <td>196</td>\n      <td>...</td>\n      <td>0</td>\n      <td>147</td>\n      <td>65</td>\n      <td>158</td>\n      <td>63</td>\n      <td>143</td>\n      <td>73</td>\n      <td>173</td>\n      <td>69</td>\n      <td>devel197_47</td>\n    </tr>\n    <tr>\n      <th>5951</th>\n      <td>152</td>\n      <td>69</td>\n      <td>160</td>\n      <td>110</td>\n      <td>132</td>\n      <td>110</td>\n      <td>119</td>\n      <td>159</td>\n      <td>109</td>\n      <td>195</td>\n      <td>...</td>\n      <td>0</td>\n      <td>147</td>\n      <td>65</td>\n      <td>158</td>\n      <td>63</td>\n      <td>143</td>\n      <td>73</td>\n      <td>173</td>\n      <td>69</td>\n      <td>devel197_47</td>\n    </tr>\n    <tr>\n      <th>5952</th>\n      <td>152</td>\n      <td>69</td>\n      <td>160</td>\n      <td>110</td>\n      <td>132</td>\n      <td>110</td>\n      <td>119</td>\n      <td>157</td>\n      <td>111</td>\n      <td>196</td>\n      <td>...</td>\n      <td>0</td>\n      <td>147</td>\n      <td>65</td>\n      <td>158</td>\n      <td>63</td>\n      <td>143</td>\n      <td>75</td>\n      <td>173</td>\n      <td>71</td>\n      <td>devel197_47</td>\n    </tr>\n    <tr>\n      <th>5953</th>\n      <td>152</td>\n      <td>69</td>\n      <td>160</td>\n      <td>110</td>\n      <td>132</td>\n      <td>110</td>\n      <td>119</td>\n      <td>157</td>\n      <td>111</td>\n      <td>195</td>\n      <td>...</td>\n      <td>0</td>\n      <td>147</td>\n      <td>65</td>\n      <td>158</td>\n      <td>63</td>\n      <td>143</td>\n      <td>75</td>\n      <td>173</td>\n      <td>69</td>\n      <td>devel197_47</td>\n    </tr>\n    <tr>\n      <th>5954</th>\n      <td>150</td>\n      <td>71</td>\n      <td>160</td>\n      <td>110</td>\n      <td>132</td>\n      <td>110</td>\n      <td>119</td>\n      <td>157</td>\n      <td>111</td>\n      <td>196</td>\n      <td>...</td>\n      <td>0</td>\n      <td>147</td>\n      <td>65</td>\n      <td>158</td>\n      <td>63</td>\n      <td>143</td>\n      <td>73</td>\n      <td>173</td>\n      <td>71</td>\n      <td>devel197_47</td>\n    </tr>\n  </tbody>\n</table>\n<p>5955 rows × 37 columns</p>\n</div>"
     },
     "metadata": {},
     "execution_count": 27
    }
   ],
   "source": [
    "Z_poses_df = pd.DataFrame(columns=column_names + [\"name\"])\n",
    "for index, row in df.loc[df[\"user\"] == \"Z\"].iterrows():\n",
    "    Z_poses_df = pd.concat([Z_poses_df, poses_df.loc[poses_df[\"name\"] == row[\"name\"]].iloc[9:]], ignore_index=True, sort=False)\n",
    "Z_poses_df"
   ]
  },
  {
   "source": [
    "### Concatenate all"
   ],
   "cell_type": "markdown",
   "metadata": {}
  },
  {
   "cell_type": "code",
   "execution_count": 31,
   "metadata": {},
   "outputs": [
    {
     "output_type": "execute_result",
     "data": {
      "text/plain": [
       "            name label                                               path  \\\n",
       "104    devel26_1     4  /home/vlados/datasets/chalearn/devel-21-135/de...   \n",
       "105    devel26_2     7  /home/vlados/datasets/chalearn/devel-21-135/de...   \n",
       "106    devel26_3     2  /home/vlados/datasets/chalearn/devel-21-135/de...   \n",
       "107    devel26_4    10  /home/vlados/datasets/chalearn/devel-21-135/de...   \n",
       "108    devel26_5     9  /home/vlados/datasets/chalearn/devel-21-135/de...   \n",
       "...          ...   ...                                                ...   \n",
       "1321  devel475_5     9  /home/vlados/datasets/chalearn/devel-366-480/d...   \n",
       "1322  devel475_6     8  /home/vlados/datasets/chalearn/devel-366-480/d...   \n",
       "1323  devel475_7     5  /home/vlados/datasets/chalearn/devel-366-480/d...   \n",
       "1324  devel475_8     4  /home/vlados/datasets/chalearn/devel-366-480/d...   \n",
       "1325  devel475_9     2  /home/vlados/datasets/chalearn/devel-366-480/d...   \n",
       "\n",
       "             lexicon user  \n",
       "104   DivingSignals2    L  \n",
       "105   DivingSignals2    L  \n",
       "106   DivingSignals2    L  \n",
       "107   DivingSignals2    L  \n",
       "108   DivingSignals2    L  \n",
       "...              ...  ...  \n",
       "1321  DivingSignals1    M  \n",
       "1322  DivingSignals1    M  \n",
       "1323  DivingSignals1    M  \n",
       "1324  DivingSignals1    M  \n",
       "1325  DivingSignals1    M  \n",
       "\n",
       "[1081 rows x 5 columns]"
      ],
      "text/html": "<div>\n<style scoped>\n    .dataframe tbody tr th:only-of-type {\n        vertical-align: middle;\n    }\n\n    .dataframe tbody tr th {\n        vertical-align: top;\n    }\n\n    .dataframe thead th {\n        text-align: right;\n    }\n</style>\n<table border=\"1\" class=\"dataframe\">\n  <thead>\n    <tr style=\"text-align: right;\">\n      <th></th>\n      <th>name</th>\n      <th>label</th>\n      <th>path</th>\n      <th>lexicon</th>\n      <th>user</th>\n    </tr>\n  </thead>\n  <tbody>\n    <tr>\n      <th>104</th>\n      <td>devel26_1</td>\n      <td>4</td>\n      <td>/home/vlados/datasets/chalearn/devel-21-135/de...</td>\n      <td>DivingSignals2</td>\n      <td>L</td>\n    </tr>\n    <tr>\n      <th>105</th>\n      <td>devel26_2</td>\n      <td>7</td>\n      <td>/home/vlados/datasets/chalearn/devel-21-135/de...</td>\n      <td>DivingSignals2</td>\n      <td>L</td>\n    </tr>\n    <tr>\n      <th>106</th>\n      <td>devel26_3</td>\n      <td>2</td>\n      <td>/home/vlados/datasets/chalearn/devel-21-135/de...</td>\n      <td>DivingSignals2</td>\n      <td>L</td>\n    </tr>\n    <tr>\n      <th>107</th>\n      <td>devel26_4</td>\n      <td>10</td>\n      <td>/home/vlados/datasets/chalearn/devel-21-135/de...</td>\n      <td>DivingSignals2</td>\n      <td>L</td>\n    </tr>\n    <tr>\n      <th>108</th>\n      <td>devel26_5</td>\n      <td>9</td>\n      <td>/home/vlados/datasets/chalearn/devel-21-135/de...</td>\n      <td>DivingSignals2</td>\n      <td>L</td>\n    </tr>\n    <tr>\n      <th>...</th>\n      <td>...</td>\n      <td>...</td>\n      <td>...</td>\n      <td>...</td>\n      <td>...</td>\n    </tr>\n    <tr>\n      <th>1321</th>\n      <td>devel475_5</td>\n      <td>9</td>\n      <td>/home/vlados/datasets/chalearn/devel-366-480/d...</td>\n      <td>DivingSignals1</td>\n      <td>M</td>\n    </tr>\n    <tr>\n      <th>1322</th>\n      <td>devel475_6</td>\n      <td>8</td>\n      <td>/home/vlados/datasets/chalearn/devel-366-480/d...</td>\n      <td>DivingSignals1</td>\n      <td>M</td>\n    </tr>\n    <tr>\n      <th>1323</th>\n      <td>devel475_7</td>\n      <td>5</td>\n      <td>/home/vlados/datasets/chalearn/devel-366-480/d...</td>\n      <td>DivingSignals1</td>\n      <td>M</td>\n    </tr>\n    <tr>\n      <th>1324</th>\n      <td>devel475_8</td>\n      <td>4</td>\n      <td>/home/vlados/datasets/chalearn/devel-366-480/d...</td>\n      <td>DivingSignals1</td>\n      <td>M</td>\n    </tr>\n    <tr>\n      <th>1325</th>\n      <td>devel475_9</td>\n      <td>2</td>\n      <td>/home/vlados/datasets/chalearn/devel-366-480/d...</td>\n      <td>DivingSignals1</td>\n      <td>M</td>\n    </tr>\n  </tbody>\n</table>\n<p>1081 rows × 5 columns</p>\n</div>"
     },
     "metadata": {},
     "execution_count": 31
    }
   ],
   "source": [
    "df.loc[(df[\"user\"] != \"J\") & (df[\"user\"] != \"Z\") & (df[\"user\"] != \"D\")]\n"
   ]
  },
  {
   "source": [
    "### D is kinda crappy and freaks me out"
   ],
   "cell_type": "markdown",
   "metadata": {}
  },
  {
   "cell_type": "code",
   "execution_count": 4,
   "metadata": {},
   "outputs": [
    {
     "output_type": "error",
     "ename": "NameError",
     "evalue": "name 'pd' is not defined",
     "traceback": [
      "\u001b[0;31m---------------------------------------------------------------------------\u001b[0m",
      "\u001b[0;31mNameError\u001b[0m                                 Traceback (most recent call last)",
      "\u001b[0;32m<ipython-input-4-d6ff489be7bb>\u001b[0m in \u001b[0;36m<module>\u001b[0;34m\u001b[0m\n\u001b[0;32m----> 1\u001b[0;31m \u001b[0mnew_poses_df\u001b[0m \u001b[0;34m=\u001b[0m \u001b[0mpd\u001b[0m\u001b[0;34m.\u001b[0m\u001b[0mDataFrame\u001b[0m\u001b[0;34m(\u001b[0m\u001b[0mcolumns\u001b[0m\u001b[0;34m=\u001b[0m\u001b[0mcolumn_names\u001b[0m \u001b[0;34m+\u001b[0m \u001b[0;34m[\u001b[0m\u001b[0;34m\"name\"\u001b[0m\u001b[0;34m]\u001b[0m\u001b[0;34m)\u001b[0m\u001b[0;34m\u001b[0m\u001b[0;34m\u001b[0m\u001b[0m\n\u001b[0m\u001b[1;32m      2\u001b[0m \u001b[0;32mfor\u001b[0m \u001b[0mindex\u001b[0m\u001b[0;34m,\u001b[0m \u001b[0mrow\u001b[0m \u001b[0;32min\u001b[0m \u001b[0mdf\u001b[0m\u001b[0;34m.\u001b[0m\u001b[0mloc\u001b[0m\u001b[0;34m[\u001b[0m\u001b[0;34m(\u001b[0m\u001b[0mdf\u001b[0m\u001b[0;34m[\u001b[0m\u001b[0;34m\"user\"\u001b[0m\u001b[0;34m]\u001b[0m \u001b[0;34m!=\u001b[0m \u001b[0;34m\"J\"\u001b[0m\u001b[0;34m)\u001b[0m \u001b[0;34m&\u001b[0m \u001b[0;34m(\u001b[0m\u001b[0mdf\u001b[0m\u001b[0;34m[\u001b[0m\u001b[0;34m\"user\"\u001b[0m\u001b[0;34m]\u001b[0m \u001b[0;34m!=\u001b[0m \u001b[0;34m\"Z\"\u001b[0m\u001b[0;34m)\u001b[0m \u001b[0;34m&\u001b[0m \u001b[0;34m(\u001b[0m\u001b[0mdf\u001b[0m\u001b[0;34m[\u001b[0m\u001b[0;34m\"user\"\u001b[0m\u001b[0;34m]\u001b[0m \u001b[0;34m!=\u001b[0m \u001b[0;34m\"D\"\u001b[0m\u001b[0;34m)\u001b[0m\u001b[0;34m]\u001b[0m\u001b[0;34m.\u001b[0m\u001b[0miterrows\u001b[0m\u001b[0;34m(\u001b[0m\u001b[0;34m)\u001b[0m\u001b[0;34m:\u001b[0m\u001b[0;34m\u001b[0m\u001b[0;34m\u001b[0m\u001b[0m\n\u001b[1;32m      3\u001b[0m     \u001b[0mnew_poses_df\u001b[0m \u001b[0;34m=\u001b[0m \u001b[0mpd\u001b[0m\u001b[0;34m.\u001b[0m\u001b[0mconcat\u001b[0m\u001b[0;34m(\u001b[0m\u001b[0;34m[\u001b[0m\u001b[0mnew_poses_df\u001b[0m\u001b[0;34m,\u001b[0m \u001b[0mposes_df\u001b[0m\u001b[0;34m.\u001b[0m\u001b[0mloc\u001b[0m\u001b[0;34m[\u001b[0m\u001b[0mposes_df\u001b[0m\u001b[0;34m[\u001b[0m\u001b[0;34m\"name\"\u001b[0m\u001b[0;34m]\u001b[0m \u001b[0;34m==\u001b[0m \u001b[0mrow\u001b[0m\u001b[0;34m[\u001b[0m\u001b[0;34m\"name\"\u001b[0m\u001b[0;34m]\u001b[0m\u001b[0;34m]\u001b[0m\u001b[0;34m]\u001b[0m\u001b[0;34m,\u001b[0m \u001b[0mignore_index\u001b[0m\u001b[0;34m=\u001b[0m\u001b[0;32mTrue\u001b[0m\u001b[0;34m,\u001b[0m \u001b[0msort\u001b[0m\u001b[0;34m=\u001b[0m\u001b[0;32mFalse\u001b[0m\u001b[0;34m)\u001b[0m\u001b[0;34m\u001b[0m\u001b[0;34m\u001b[0m\u001b[0m\n",
      "\u001b[0;31mNameError\u001b[0m: name 'pd' is not defined"
     ]
    }
   ],
   "source": [
    "new_poses_df = pd.DataFrame(columns=column_names + [\"name\"])\n",
    "for index, row in df.loc[(df[\"user\"] != \"J\") & (df[\"user\"] != \"Z\") & (df[\"user\"] != \"D\")].iterrows():\n",
    "    new_poses_df = pd.concat([new_poses_df, poses_df.loc[poses_df[\"name\"] == row[\"name\"]]], ignore_index=True, sort=False)"
   ]
  },
  {
   "cell_type": "code",
   "execution_count": 36,
   "metadata": {},
   "outputs": [],
   "source": [
    "new_poses_df = pd.concat([new_poses_df, J_poses_df], ignore_index=True, sort=False)\n",
    "new_poses_df = pd.concat([new_poses_df, Z_poses_df], ignore_index=True, sort=False)"
   ]
  },
  {
   "cell_type": "code",
   "execution_count": 37,
   "metadata": {},
   "outputs": [
    {
     "output_type": "execute_result",
     "data": {
      "text/plain": [
       "      j0_x j0_y j1_x j1_y j2_x j2_y j3_x j3_y j4_x j4_y  ... j13_y j14_x  \\\n",
       "0      164   48  175   84  143   86  135  138  137  183  ...     0   158   \n",
       "1      164   46  175   84  143   86  135  138  137  183  ...     0   158   \n",
       "2      164   46  175   84  143   86  135  138  137  183  ...     0   158   \n",
       "3      164   46  175   84  145   86  135  138  135  183  ...     0   158   \n",
       "4      164   46  175   84  145   86  135  138  135  183  ...     0   158   \n",
       "...    ...  ...  ...  ...  ...  ...  ...  ...  ...  ...  ...   ...   ...   \n",
       "97981  152   69  160  110  132  110  119  157  109  196  ...     0   147   \n",
       "97982  152   69  160  110  132  110  119  159  109  195  ...     0   147   \n",
       "97983  152   69  160  110  132  110  119  157  111  196  ...     0   147   \n",
       "97984  152   69  160  110  132  110  119  157  111  195  ...     0   147   \n",
       "97985  150   71  160  110  132  110  119  157  111  196  ...     0   147   \n",
       "\n",
       "      j14_y j15_x j15_y j16_x j16_y j17_x j17_y         name  \n",
       "0        41   169    41   150    45   188    41    devel26_1  \n",
       "1        41   169    41   152    45   188    43    devel26_1  \n",
       "2        41   169    39   152    45   188    41    devel26_1  \n",
       "3        41   169    39   152    45   188    41    devel26_1  \n",
       "4        41   169    39   152    45   188    41    devel26_1  \n",
       "...     ...   ...   ...   ...   ...   ...   ...          ...  \n",
       "97981    65   158    63   143    73   173    69  devel197_47  \n",
       "97982    65   158    63   143    73   173    69  devel197_47  \n",
       "97983    65   158    63   143    75   173    71  devel197_47  \n",
       "97984    65   158    63   143    75   173    69  devel197_47  \n",
       "97985    65   158    63   143    73   173    71  devel197_47  \n",
       "\n",
       "[97986 rows x 37 columns]"
      ],
      "text/html": "<div>\n<style scoped>\n    .dataframe tbody tr th:only-of-type {\n        vertical-align: middle;\n    }\n\n    .dataframe tbody tr th {\n        vertical-align: top;\n    }\n\n    .dataframe thead th {\n        text-align: right;\n    }\n</style>\n<table border=\"1\" class=\"dataframe\">\n  <thead>\n    <tr style=\"text-align: right;\">\n      <th></th>\n      <th>j0_x</th>\n      <th>j0_y</th>\n      <th>j1_x</th>\n      <th>j1_y</th>\n      <th>j2_x</th>\n      <th>j2_y</th>\n      <th>j3_x</th>\n      <th>j3_y</th>\n      <th>j4_x</th>\n      <th>j4_y</th>\n      <th>...</th>\n      <th>j13_y</th>\n      <th>j14_x</th>\n      <th>j14_y</th>\n      <th>j15_x</th>\n      <th>j15_y</th>\n      <th>j16_x</th>\n      <th>j16_y</th>\n      <th>j17_x</th>\n      <th>j17_y</th>\n      <th>name</th>\n    </tr>\n  </thead>\n  <tbody>\n    <tr>\n      <th>0</th>\n      <td>164</td>\n      <td>48</td>\n      <td>175</td>\n      <td>84</td>\n      <td>143</td>\n      <td>86</td>\n      <td>135</td>\n      <td>138</td>\n      <td>137</td>\n      <td>183</td>\n      <td>...</td>\n      <td>0</td>\n      <td>158</td>\n      <td>41</td>\n      <td>169</td>\n      <td>41</td>\n      <td>150</td>\n      <td>45</td>\n      <td>188</td>\n      <td>41</td>\n      <td>devel26_1</td>\n    </tr>\n    <tr>\n      <th>1</th>\n      <td>164</td>\n      <td>46</td>\n      <td>175</td>\n      <td>84</td>\n      <td>143</td>\n      <td>86</td>\n      <td>135</td>\n      <td>138</td>\n      <td>137</td>\n      <td>183</td>\n      <td>...</td>\n      <td>0</td>\n      <td>158</td>\n      <td>41</td>\n      <td>169</td>\n      <td>41</td>\n      <td>152</td>\n      <td>45</td>\n      <td>188</td>\n      <td>43</td>\n      <td>devel26_1</td>\n    </tr>\n    <tr>\n      <th>2</th>\n      <td>164</td>\n      <td>46</td>\n      <td>175</td>\n      <td>84</td>\n      <td>143</td>\n      <td>86</td>\n      <td>135</td>\n      <td>138</td>\n      <td>137</td>\n      <td>183</td>\n      <td>...</td>\n      <td>0</td>\n      <td>158</td>\n      <td>41</td>\n      <td>169</td>\n      <td>39</td>\n      <td>152</td>\n      <td>45</td>\n      <td>188</td>\n      <td>41</td>\n      <td>devel26_1</td>\n    </tr>\n    <tr>\n      <th>3</th>\n      <td>164</td>\n      <td>46</td>\n      <td>175</td>\n      <td>84</td>\n      <td>145</td>\n      <td>86</td>\n      <td>135</td>\n      <td>138</td>\n      <td>135</td>\n      <td>183</td>\n      <td>...</td>\n      <td>0</td>\n      <td>158</td>\n      <td>41</td>\n      <td>169</td>\n      <td>39</td>\n      <td>152</td>\n      <td>45</td>\n      <td>188</td>\n      <td>41</td>\n      <td>devel26_1</td>\n    </tr>\n    <tr>\n      <th>4</th>\n      <td>164</td>\n      <td>46</td>\n      <td>175</td>\n      <td>84</td>\n      <td>145</td>\n      <td>86</td>\n      <td>135</td>\n      <td>138</td>\n      <td>135</td>\n      <td>183</td>\n      <td>...</td>\n      <td>0</td>\n      <td>158</td>\n      <td>41</td>\n      <td>169</td>\n      <td>39</td>\n      <td>152</td>\n      <td>45</td>\n      <td>188</td>\n      <td>41</td>\n      <td>devel26_1</td>\n    </tr>\n    <tr>\n      <th>...</th>\n      <td>...</td>\n      <td>...</td>\n      <td>...</td>\n      <td>...</td>\n      <td>...</td>\n      <td>...</td>\n      <td>...</td>\n      <td>...</td>\n      <td>...</td>\n      <td>...</td>\n      <td>...</td>\n      <td>...</td>\n      <td>...</td>\n      <td>...</td>\n      <td>...</td>\n      <td>...</td>\n      <td>...</td>\n      <td>...</td>\n      <td>...</td>\n      <td>...</td>\n      <td>...</td>\n    </tr>\n    <tr>\n      <th>97981</th>\n      <td>152</td>\n      <td>69</td>\n      <td>160</td>\n      <td>110</td>\n      <td>132</td>\n      <td>110</td>\n      <td>119</td>\n      <td>157</td>\n      <td>109</td>\n      <td>196</td>\n      <td>...</td>\n      <td>0</td>\n      <td>147</td>\n      <td>65</td>\n      <td>158</td>\n      <td>63</td>\n      <td>143</td>\n      <td>73</td>\n      <td>173</td>\n      <td>69</td>\n      <td>devel197_47</td>\n    </tr>\n    <tr>\n      <th>97982</th>\n      <td>152</td>\n      <td>69</td>\n      <td>160</td>\n      <td>110</td>\n      <td>132</td>\n      <td>110</td>\n      <td>119</td>\n      <td>159</td>\n      <td>109</td>\n      <td>195</td>\n      <td>...</td>\n      <td>0</td>\n      <td>147</td>\n      <td>65</td>\n      <td>158</td>\n      <td>63</td>\n      <td>143</td>\n      <td>73</td>\n      <td>173</td>\n      <td>69</td>\n      <td>devel197_47</td>\n    </tr>\n    <tr>\n      <th>97983</th>\n      <td>152</td>\n      <td>69</td>\n      <td>160</td>\n      <td>110</td>\n      <td>132</td>\n      <td>110</td>\n      <td>119</td>\n      <td>157</td>\n      <td>111</td>\n      <td>196</td>\n      <td>...</td>\n      <td>0</td>\n      <td>147</td>\n      <td>65</td>\n      <td>158</td>\n      <td>63</td>\n      <td>143</td>\n      <td>75</td>\n      <td>173</td>\n      <td>71</td>\n      <td>devel197_47</td>\n    </tr>\n    <tr>\n      <th>97984</th>\n      <td>152</td>\n      <td>69</td>\n      <td>160</td>\n      <td>110</td>\n      <td>132</td>\n      <td>110</td>\n      <td>119</td>\n      <td>157</td>\n      <td>111</td>\n      <td>195</td>\n      <td>...</td>\n      <td>0</td>\n      <td>147</td>\n      <td>65</td>\n      <td>158</td>\n      <td>63</td>\n      <td>143</td>\n      <td>75</td>\n      <td>173</td>\n      <td>69</td>\n      <td>devel197_47</td>\n    </tr>\n    <tr>\n      <th>97985</th>\n      <td>150</td>\n      <td>71</td>\n      <td>160</td>\n      <td>110</td>\n      <td>132</td>\n      <td>110</td>\n      <td>119</td>\n      <td>157</td>\n      <td>111</td>\n      <td>196</td>\n      <td>...</td>\n      <td>0</td>\n      <td>147</td>\n      <td>65</td>\n      <td>158</td>\n      <td>63</td>\n      <td>143</td>\n      <td>73</td>\n      <td>173</td>\n      <td>71</td>\n      <td>devel197_47</td>\n    </tr>\n  </tbody>\n</table>\n<p>97986 rows × 37 columns</p>\n</div>"
     },
     "metadata": {},
     "execution_count": 37
    }
   ],
   "source": [
    "new_poses_df"
   ]
  },
  {
   "cell_type": "code",
   "execution_count": 38,
   "metadata": {},
   "outputs": [],
   "source": [
    "new_poses_df.to_csv(\"filtered_without_D_poses_from_videos.csv\", sep=\"\\t\")"
   ]
  },
  {
   "source": [
    "## Prepare data for training"
   ],
   "cell_type": "markdown",
   "metadata": {}
  },
  {
   "cell_type": "code",
   "execution_count": 8,
   "metadata": {},
   "outputs": [],
   "source": [
    "# new_poses_df = pd.read_csv(\"filtered_poses_from_videos.csv\", sep=\"\\t\")\n",
    "new_poses_df = pd.read_csv(\"filtered_without_D_poses_from_videos.csv\", sep=\"\\t\")"
   ]
  },
  {
   "cell_type": "code",
   "execution_count": 9,
   "metadata": {},
   "outputs": [],
   "source": [
    "sequence_size = 9"
   ]
  },
  {
   "cell_type": "code",
   "execution_count": 14,
   "metadata": {},
   "outputs": [
    {
     "output_type": "stream",
     "name": "stdout",
     "text": [
      "69.0 devel04_11 J\n",
      "29.0 devel04_12 J\n",
      "24.0 devel04_16 J\n",
      "23.0 devel35_18 O\n",
      "22.0 devel98_23 B\n",
      "21.8 devel98_29 B\n",
      "18.25 devel98_38 B\n",
      "16.6 devel181_23 B\n",
      "15.333333333333334 devel181_26 B\n"
     ]
    },
    {
     "output_type": "execute_result",
     "data": {
      "text/plain": [
       "16"
      ]
     },
     "metadata": {},
     "execution_count": 14
    }
   ],
   "source": [
    "# sequence_size = int(count_min_frames_for_gesture(df,new_poses_df))\n",
    "sequence_size = math.ceil(count_min_frames_for_gesture(df.loc[df[\"user\"] != \"D\"],new_poses_df))\n",
    "sequence_size"
   ]
  },
  {
   "cell_type": "code",
   "execution_count": 15,
   "metadata": {},
   "outputs": [
    {
     "output_type": "execute_result",
     "data": {
      "text/plain": [
       "8"
      ]
     },
     "metadata": {},
     "execution_count": 15
    }
   ],
   "source": [
    "batch_step_size = math.ceil(sequence_size / 2)\n",
    "batch_step_size"
   ]
  },
  {
   "cell_type": "code",
   "execution_count": 18,
   "metadata": {},
   "outputs": [
    {
     "output_type": "execute_result",
     "data": {
      "text/plain": [
       "   Unnamed: 0  j0_x  j0_y  j1_x  j1_y  j2_x  j2_y  j3_x  j3_y  j4_x  ...  \\\n",
       "0           0   164    48   175    84   143    86   135   138   137  ...   \n",
       "1           1   164    46   175    84   143    86   135   138   137  ...   \n",
       "2           2   164    46   175    84   143    86   135   138   137  ...   \n",
       "\n",
       "   j13_y  j14_x  j14_y  j15_x  j15_y  j16_x  j16_y  j17_x  j17_y       name  \n",
       "0      0    158     41    169     41    150     45    188     41  devel26_1  \n",
       "1      0    158     41    169     41    152     45    188     43  devel26_1  \n",
       "2      0    158     41    169     39    152     45    188     41  devel26_1  \n",
       "\n",
       "[3 rows x 38 columns]"
      ],
      "text/html": "<div>\n<style scoped>\n    .dataframe tbody tr th:only-of-type {\n        vertical-align: middle;\n    }\n\n    .dataframe tbody tr th {\n        vertical-align: top;\n    }\n\n    .dataframe thead th {\n        text-align: right;\n    }\n</style>\n<table border=\"1\" class=\"dataframe\">\n  <thead>\n    <tr style=\"text-align: right;\">\n      <th></th>\n      <th>Unnamed: 0</th>\n      <th>j0_x</th>\n      <th>j0_y</th>\n      <th>j1_x</th>\n      <th>j1_y</th>\n      <th>j2_x</th>\n      <th>j2_y</th>\n      <th>j3_x</th>\n      <th>j3_y</th>\n      <th>j4_x</th>\n      <th>...</th>\n      <th>j13_y</th>\n      <th>j14_x</th>\n      <th>j14_y</th>\n      <th>j15_x</th>\n      <th>j15_y</th>\n      <th>j16_x</th>\n      <th>j16_y</th>\n      <th>j17_x</th>\n      <th>j17_y</th>\n      <th>name</th>\n    </tr>\n  </thead>\n  <tbody>\n    <tr>\n      <th>0</th>\n      <td>0</td>\n      <td>164</td>\n      <td>48</td>\n      <td>175</td>\n      <td>84</td>\n      <td>143</td>\n      <td>86</td>\n      <td>135</td>\n      <td>138</td>\n      <td>137</td>\n      <td>...</td>\n      <td>0</td>\n      <td>158</td>\n      <td>41</td>\n      <td>169</td>\n      <td>41</td>\n      <td>150</td>\n      <td>45</td>\n      <td>188</td>\n      <td>41</td>\n      <td>devel26_1</td>\n    </tr>\n    <tr>\n      <th>1</th>\n      <td>1</td>\n      <td>164</td>\n      <td>46</td>\n      <td>175</td>\n      <td>84</td>\n      <td>143</td>\n      <td>86</td>\n      <td>135</td>\n      <td>138</td>\n      <td>137</td>\n      <td>...</td>\n      <td>0</td>\n      <td>158</td>\n      <td>41</td>\n      <td>169</td>\n      <td>41</td>\n      <td>152</td>\n      <td>45</td>\n      <td>188</td>\n      <td>43</td>\n      <td>devel26_1</td>\n    </tr>\n    <tr>\n      <th>2</th>\n      <td>2</td>\n      <td>164</td>\n      <td>46</td>\n      <td>175</td>\n      <td>84</td>\n      <td>143</td>\n      <td>86</td>\n      <td>135</td>\n      <td>138</td>\n      <td>137</td>\n      <td>...</td>\n      <td>0</td>\n      <td>158</td>\n      <td>41</td>\n      <td>169</td>\n      <td>39</td>\n      <td>152</td>\n      <td>45</td>\n      <td>188</td>\n      <td>41</td>\n      <td>devel26_1</td>\n    </tr>\n  </tbody>\n</table>\n<p>3 rows × 38 columns</p>\n</div>"
     },
     "metadata": {},
     "execution_count": 18
    }
   ],
   "source": [
    "new_poses_df.iloc[0:3]"
   ]
  },
  {
   "cell_type": "code",
   "execution_count": 49,
   "metadata": {},
   "outputs": [],
   "source": [
    "poses_from_one_video = new_poses_df.loc[new_poses_df[\"name\"] == df.iloc[2][\"name\"]]\n",
    "labels_string = str(df.iloc[2][\"label\"]);\n",
    "splitted = labels_string.split(\" \")\n",
    "del splitted[0]\n",
    "num_labels = len(splitted)\n",
    "label_sequence_size = math.ceil(poses_from_one_video.shape[0] / num_labels)\n"
   ]
  },
  {
   "cell_type": "code",
   "execution_count": 50,
   "metadata": {},
   "outputs": [
    {
     "output_type": "stream",
     "name": "stdout",
     "text": [
      " 2 7\n['2', '7']\n2\n"
     ]
    },
    {
     "output_type": "execute_result",
     "data": {
      "text/plain": [
       "       Unnamed: 0  j0_x  j0_y  j1_x  j1_y  j2_x  j2_y  j3_x  j3_y  j4_x  ...  \\\n",
       "84430       84430   132    78   128   112    98   112    85   155    90  ...   \n",
       "84431       84431   132    78   128   112    98   112    85   155    90  ...   \n",
       "84432       84432   132    78   128   112   100   112    85   153    85  ...   \n",
       "84433       84433   132    78   128   110    98   108    83   150    83  ...   \n",
       "84434       84434   134    78   130   106   100   106    85   144    96  ...   \n",
       "...           ...   ...   ...   ...   ...   ...   ...   ...   ...   ...  ...   \n",
       "84495       84495   135    76   130   112   100   112    87   155    92  ...   \n",
       "84496       84496   134    76   130   112   100   112    87   155    94  ...   \n",
       "84497       84497   134    76   130   112    98   112    87   153    98  ...   \n",
       "84498       84498   132    78   128   112    98   112    87   151   102  ...   \n",
       "84499       84499   130    78   128   112    98   110    85   150   104  ...   \n",
       "\n",
       "       j13_y  j14_x  j14_y  j15_x  j15_y  j16_x  j16_y  j17_x  j17_y  \\\n",
       "84430      0    126     73    137     71    115     75    145     75   \n",
       "84431      0    126     71    137     71    115     75    145     75   \n",
       "84432      0    126     73    137     71    115     75    145     75   \n",
       "84433      0    126     73    137     73    115     75    145     76   \n",
       "84434      0    126     73    139     73    117     76    145     76   \n",
       "...      ...    ...    ...    ...    ...    ...    ...    ...    ...   \n",
       "84495      0    128     71    139     71    119     73    145     75   \n",
       "84496      0    128     71    139     71    117     73    145     75   \n",
       "84497      0    128     71    137     71    117     73    145     76   \n",
       "84498      0    126     71    137     71    115     73    145     75   \n",
       "84499      0    126     71    137     73    115     75    145     75   \n",
       "\n",
       "             name  \n",
       "84430  devel04_13  \n",
       "84431  devel04_13  \n",
       "84432  devel04_13  \n",
       "84433  devel04_13  \n",
       "84434  devel04_13  \n",
       "...           ...  \n",
       "84495  devel04_13  \n",
       "84496  devel04_13  \n",
       "84497  devel04_13  \n",
       "84498  devel04_13  \n",
       "84499  devel04_13  \n",
       "\n",
       "[70 rows x 38 columns]"
      ],
      "text/html": "<div>\n<style scoped>\n    .dataframe tbody tr th:only-of-type {\n        vertical-align: middle;\n    }\n\n    .dataframe tbody tr th {\n        vertical-align: top;\n    }\n\n    .dataframe thead th {\n        text-align: right;\n    }\n</style>\n<table border=\"1\" class=\"dataframe\">\n  <thead>\n    <tr style=\"text-align: right;\">\n      <th></th>\n      <th>Unnamed: 0</th>\n      <th>j0_x</th>\n      <th>j0_y</th>\n      <th>j1_x</th>\n      <th>j1_y</th>\n      <th>j2_x</th>\n      <th>j2_y</th>\n      <th>j3_x</th>\n      <th>j3_y</th>\n      <th>j4_x</th>\n      <th>...</th>\n      <th>j13_y</th>\n      <th>j14_x</th>\n      <th>j14_y</th>\n      <th>j15_x</th>\n      <th>j15_y</th>\n      <th>j16_x</th>\n      <th>j16_y</th>\n      <th>j17_x</th>\n      <th>j17_y</th>\n      <th>name</th>\n    </tr>\n  </thead>\n  <tbody>\n    <tr>\n      <th>84430</th>\n      <td>84430</td>\n      <td>132</td>\n      <td>78</td>\n      <td>128</td>\n      <td>112</td>\n      <td>98</td>\n      <td>112</td>\n      <td>85</td>\n      <td>155</td>\n      <td>90</td>\n      <td>...</td>\n      <td>0</td>\n      <td>126</td>\n      <td>73</td>\n      <td>137</td>\n      <td>71</td>\n      <td>115</td>\n      <td>75</td>\n      <td>145</td>\n      <td>75</td>\n      <td>devel04_13</td>\n    </tr>\n    <tr>\n      <th>84431</th>\n      <td>84431</td>\n      <td>132</td>\n      <td>78</td>\n      <td>128</td>\n      <td>112</td>\n      <td>98</td>\n      <td>112</td>\n      <td>85</td>\n      <td>155</td>\n      <td>90</td>\n      <td>...</td>\n      <td>0</td>\n      <td>126</td>\n      <td>71</td>\n      <td>137</td>\n      <td>71</td>\n      <td>115</td>\n      <td>75</td>\n      <td>145</td>\n      <td>75</td>\n      <td>devel04_13</td>\n    </tr>\n    <tr>\n      <th>84432</th>\n      <td>84432</td>\n      <td>132</td>\n      <td>78</td>\n      <td>128</td>\n      <td>112</td>\n      <td>100</td>\n      <td>112</td>\n      <td>85</td>\n      <td>153</td>\n      <td>85</td>\n      <td>...</td>\n      <td>0</td>\n      <td>126</td>\n      <td>73</td>\n      <td>137</td>\n      <td>71</td>\n      <td>115</td>\n      <td>75</td>\n      <td>145</td>\n      <td>75</td>\n      <td>devel04_13</td>\n    </tr>\n    <tr>\n      <th>84433</th>\n      <td>84433</td>\n      <td>132</td>\n      <td>78</td>\n      <td>128</td>\n      <td>110</td>\n      <td>98</td>\n      <td>108</td>\n      <td>83</td>\n      <td>150</td>\n      <td>83</td>\n      <td>...</td>\n      <td>0</td>\n      <td>126</td>\n      <td>73</td>\n      <td>137</td>\n      <td>73</td>\n      <td>115</td>\n      <td>75</td>\n      <td>145</td>\n      <td>76</td>\n      <td>devel04_13</td>\n    </tr>\n    <tr>\n      <th>84434</th>\n      <td>84434</td>\n      <td>134</td>\n      <td>78</td>\n      <td>130</td>\n      <td>106</td>\n      <td>100</td>\n      <td>106</td>\n      <td>85</td>\n      <td>144</td>\n      <td>96</td>\n      <td>...</td>\n      <td>0</td>\n      <td>126</td>\n      <td>73</td>\n      <td>139</td>\n      <td>73</td>\n      <td>117</td>\n      <td>76</td>\n      <td>145</td>\n      <td>76</td>\n      <td>devel04_13</td>\n    </tr>\n    <tr>\n      <th>...</th>\n      <td>...</td>\n      <td>...</td>\n      <td>...</td>\n      <td>...</td>\n      <td>...</td>\n      <td>...</td>\n      <td>...</td>\n      <td>...</td>\n      <td>...</td>\n      <td>...</td>\n      <td>...</td>\n      <td>...</td>\n      <td>...</td>\n      <td>...</td>\n      <td>...</td>\n      <td>...</td>\n      <td>...</td>\n      <td>...</td>\n      <td>...</td>\n      <td>...</td>\n      <td>...</td>\n    </tr>\n    <tr>\n      <th>84495</th>\n      <td>84495</td>\n      <td>135</td>\n      <td>76</td>\n      <td>130</td>\n      <td>112</td>\n      <td>100</td>\n      <td>112</td>\n      <td>87</td>\n      <td>155</td>\n      <td>92</td>\n      <td>...</td>\n      <td>0</td>\n      <td>128</td>\n      <td>71</td>\n      <td>139</td>\n      <td>71</td>\n      <td>119</td>\n      <td>73</td>\n      <td>145</td>\n      <td>75</td>\n      <td>devel04_13</td>\n    </tr>\n    <tr>\n      <th>84496</th>\n      <td>84496</td>\n      <td>134</td>\n      <td>76</td>\n      <td>130</td>\n      <td>112</td>\n      <td>100</td>\n      <td>112</td>\n      <td>87</td>\n      <td>155</td>\n      <td>94</td>\n      <td>...</td>\n      <td>0</td>\n      <td>128</td>\n      <td>71</td>\n      <td>139</td>\n      <td>71</td>\n      <td>117</td>\n      <td>73</td>\n      <td>145</td>\n      <td>75</td>\n      <td>devel04_13</td>\n    </tr>\n    <tr>\n      <th>84497</th>\n      <td>84497</td>\n      <td>134</td>\n      <td>76</td>\n      <td>130</td>\n      <td>112</td>\n      <td>98</td>\n      <td>112</td>\n      <td>87</td>\n      <td>153</td>\n      <td>98</td>\n      <td>...</td>\n      <td>0</td>\n      <td>128</td>\n      <td>71</td>\n      <td>137</td>\n      <td>71</td>\n      <td>117</td>\n      <td>73</td>\n      <td>145</td>\n      <td>76</td>\n      <td>devel04_13</td>\n    </tr>\n    <tr>\n      <th>84498</th>\n      <td>84498</td>\n      <td>132</td>\n      <td>78</td>\n      <td>128</td>\n      <td>112</td>\n      <td>98</td>\n      <td>112</td>\n      <td>87</td>\n      <td>151</td>\n      <td>102</td>\n      <td>...</td>\n      <td>0</td>\n      <td>126</td>\n      <td>71</td>\n      <td>137</td>\n      <td>71</td>\n      <td>115</td>\n      <td>73</td>\n      <td>145</td>\n      <td>75</td>\n      <td>devel04_13</td>\n    </tr>\n    <tr>\n      <th>84499</th>\n      <td>84499</td>\n      <td>130</td>\n      <td>78</td>\n      <td>128</td>\n      <td>112</td>\n      <td>98</td>\n      <td>110</td>\n      <td>85</td>\n      <td>150</td>\n      <td>104</td>\n      <td>...</td>\n      <td>0</td>\n      <td>126</td>\n      <td>71</td>\n      <td>137</td>\n      <td>73</td>\n      <td>115</td>\n      <td>75</td>\n      <td>145</td>\n      <td>75</td>\n      <td>devel04_13</td>\n    </tr>\n  </tbody>\n</table>\n<p>70 rows × 38 columns</p>\n</div>"
     },
     "metadata": {},
     "execution_count": 50
    }
   ],
   "source": [
    "print(labels_string)\n",
    "print(splitted)\n",
    "print(num_labels)\n",
    "poses_from_one_video"
   ]
  },
  {
   "cell_type": "code",
   "execution_count": 52,
   "metadata": {
    "tags": []
   },
   "outputs": [
    {
     "output_type": "stream",
     "name": "stdout",
     "text": [
      "6\n6\n"
     ]
    }
   ],
   "source": [
    "final_poses_df = pd.DataFrame(columns=column_names + [\"name\"])\n",
    "final_labels_df = pd.DataFrame(columns=[\"label\"])\n",
    "for i, label in enumerate(splitted):\n",
    "    pose_sequence = poses_from_one_video.iloc[label_sequence_size * i:label_sequence_size + label_sequence_size * i]\n",
    "    for j in range(math.ceil(label_sequence_size / batch_step_size)):\n",
    "        temp_poses = pose_sequence.iloc[batch_step_size * j: batch_step_size * j + sequence_size]\n",
    "        if temp_poses.shape[0] < sequence_size:\n",
    "            temp_poses = pose_sequence.tail(sequence_size)\n",
    "            print(j)\n",
    "        final_poses_df = pd.concat([final_poses_df, temp_poses], ignore_index=True, sort=False)\n",
    "        final_labels_df.loc[final_labels_df.shape[0]] = label"
   ]
  },
  {
   "cell_type": "code",
   "execution_count": 53,
   "metadata": {},
   "outputs": [
    {
     "output_type": "execute_result",
     "data": {
      "text/plain": [
       "   label\n",
       "0      2\n",
       "1      2\n",
       "2      2\n",
       "3      2\n",
       "4      2\n",
       "5      2\n",
       "6      2\n",
       "7      7\n",
       "8      7\n",
       "9      7\n",
       "10     7\n",
       "11     7\n",
       "12     7\n",
       "13     7"
      ],
      "text/html": "<div>\n<style scoped>\n    .dataframe tbody tr th:only-of-type {\n        vertical-align: middle;\n    }\n\n    .dataframe tbody tr th {\n        vertical-align: top;\n    }\n\n    .dataframe thead th {\n        text-align: right;\n    }\n</style>\n<table border=\"1\" class=\"dataframe\">\n  <thead>\n    <tr style=\"text-align: right;\">\n      <th></th>\n      <th>label</th>\n    </tr>\n  </thead>\n  <tbody>\n    <tr>\n      <th>0</th>\n      <td>2</td>\n    </tr>\n    <tr>\n      <th>1</th>\n      <td>2</td>\n    </tr>\n    <tr>\n      <th>2</th>\n      <td>2</td>\n    </tr>\n    <tr>\n      <th>3</th>\n      <td>2</td>\n    </tr>\n    <tr>\n      <th>4</th>\n      <td>2</td>\n    </tr>\n    <tr>\n      <th>5</th>\n      <td>2</td>\n    </tr>\n    <tr>\n      <th>6</th>\n      <td>2</td>\n    </tr>\n    <tr>\n      <th>7</th>\n      <td>7</td>\n    </tr>\n    <tr>\n      <th>8</th>\n      <td>7</td>\n    </tr>\n    <tr>\n      <th>9</th>\n      <td>7</td>\n    </tr>\n    <tr>\n      <th>10</th>\n      <td>7</td>\n    </tr>\n    <tr>\n      <th>11</th>\n      <td>7</td>\n    </tr>\n    <tr>\n      <th>12</th>\n      <td>7</td>\n    </tr>\n    <tr>\n      <th>13</th>\n      <td>7</td>\n    </tr>\n  </tbody>\n</table>\n</div>"
     },
     "metadata": {},
     "execution_count": 53
    }
   ],
   "source": [
    "final_labels_df"
   ]
  },
  {
   "cell_type": "code",
   "execution_count": 16,
   "metadata": {},
   "outputs": [],
   "source": [
    "new_labels = [0,1,2,3,4,5,6,7,8,9,10,11,12,13,14]\n",
    "new_DivingSignals1 = [0,1,2,3,4,5,6,5,7]\n",
    "new_DivingSignals2 = [8,9,10,11,12,13,6,6,14,2]"
   ]
  },
  {
   "cell_type": "code",
   "execution_count": 56,
   "metadata": {},
   "outputs": [],
   "source": [
    "def make_batches_from_poses(poses_df, labels_df, batch_step_size, sequence_size, new_ds1_labels, new_ds2_labels):\n",
    "    final_labels = []\n",
    "    final_poses = []\n",
    "    size = 0\n",
    "    for index, row in labels_df.iterrows():\n",
    "        poses_from_one_video = poses_df.loc[new_poses_df[\"name\"] == row[\"name\"]]\n",
    "        labels_string = str(row[\"label\"]);\n",
    "        splitted = labels_string.split(\" \")\n",
    "        try:\n",
    "            splitted.remove(\"\")\n",
    "        except:\n",
    "            pass\n",
    "        num_labels = len(splitted)\n",
    "        label_sequence_size = math.ceil(poses_from_one_video.shape[0] / num_labels)\n",
    "        for i, label in enumerate(splitted):\n",
    "            pose_sequence = poses_from_one_video.iloc[label_sequence_size * i:label_sequence_size + label_sequence_size * i]\n",
    "            if pose_sequence.shape[0] < sequence_size:\n",
    "                pose_sequence = poses_from_one_video.tail(sequence_size)\n",
    "            if row[\"lexicon\"] == \"DivingSignals1\":\n",
    "                label = new_ds1_labels[int(label) - 1]\n",
    "            if row[\"lexicon\"] == \"DivingSignals2\":\n",
    "                label = new_ds2_labels[int(label) - 1]\n",
    "                \n",
    "            for j in range(math.ceil(label_sequence_size / batch_step_size)):\n",
    "                temp_poses = pose_sequence.iloc[batch_step_size * j: batch_step_size * j + sequence_size]\n",
    "                if temp_poses.shape[0] < sequence_size:\n",
    "                    temp_poses = pose_sequence.tail(sequence_size)\n",
    "                # print(temp_poses.shape[0])\n",
    "                final_labels.append(label)\n",
    "                final_poses.append(temp_poses.iloc[:,1:])\n",
    "                if temp_poses.shape[0] != sequence_size:\n",
    "                    print(index, temp_poses.shape[0], pose_sequence.shape[0])\n",
    "                size += 1\n",
    "        # print(index)\n",
    "    print(size)\n",
    "    final_labels_df = pd.DataFrame()\n",
    "    final_labels_df[\"labels\"] = final_labels\n",
    "    final_poses_df = pd.concat(final_poses, ignore_index=True, sort=False)\n",
    "    return final_labels_df, final_poses_df"
   ]
  },
  {
   "cell_type": "code",
   "execution_count": 57,
   "metadata": {},
   "outputs": [
    {
     "output_type": "stream",
     "name": "stdout",
     "text": [
      "13446\n"
     ]
    }
   ],
   "source": [
    "final_labels_df, final_poses_df = make_batches_from_poses(new_poses_df, df.loc[df[\"user\"] != \"D\"], batch_step_size, sequence_size,new_DivingSignals1,new_DivingSignals2)\n"
   ]
  },
  {
   "cell_type": "code",
   "execution_count": 62,
   "metadata": {},
   "outputs": [
    {
     "output_type": "execute_result",
     "data": {
      "text/plain": [
       "        j0_x  j0_y  j1_x  j1_y  j2_x  j2_y  j3_x  j3_y  j4_x  j4_y  ...  \\\n",
       "0        132    78   128   112    98   112    85   157    87   200  ...   \n",
       "1        132    78   128   112    98   112    85   155    90   200  ...   \n",
       "2        132    78   128   114    98   112    85   157    92   200  ...   \n",
       "3        130    78   126   114    98   112    85   155    92   200  ...   \n",
       "4        128    78   126   112    96   112    85   157    90   204  ...   \n",
       "...      ...   ...   ...   ...   ...   ...   ...   ...   ...   ...  ...   \n",
       "215131   173    82   173   121   143   118   122   163   113   146  ...   \n",
       "215132   173    82   173   121   143   120   126   161   115   165  ...   \n",
       "215133   173    82   173   121   143   120   128   161   122   187  ...   \n",
       "215134   173    82   173   121   143   120   128   161   124   195  ...   \n",
       "215135   173    82   173   121   141   120   128   163   128   210  ...   \n",
       "\n",
       "        j13_x  j13_y  j14_x  j14_y  j15_x  j15_y  j16_x  j16_y  j17_x  j17_y  \n",
       "0           0      0    126     73    137     73    117     76    145     75  \n",
       "1           0      0    126     73    137     71    117     76    145     75  \n",
       "2           0      0    124     73    137     73    115     76    145     76  \n",
       "3           0      0    124     73    135     73    115     75    143     76  \n",
       "4           0      0    122     73    135     73    113     76    143     76  \n",
       "...       ...    ...    ...    ...    ...    ...    ...    ...    ...    ...  \n",
       "215131      0      0    167     78    180     76    160     84    190     84  \n",
       "215132      0      0    167     78    180     76    160     84    190     84  \n",
       "215133      0      0    167     78    180     76    160     84    190     84  \n",
       "215134      0      0    167     78    180     76    160     84    190     84  \n",
       "215135      0      0    167     76    180     76    160     84    190     84  \n",
       "\n",
       "[215136 rows x 36 columns]"
      ],
      "text/html": "<div>\n<style scoped>\n    .dataframe tbody tr th:only-of-type {\n        vertical-align: middle;\n    }\n\n    .dataframe tbody tr th {\n        vertical-align: top;\n    }\n\n    .dataframe thead th {\n        text-align: right;\n    }\n</style>\n<table border=\"1\" class=\"dataframe\">\n  <thead>\n    <tr style=\"text-align: right;\">\n      <th></th>\n      <th>j0_x</th>\n      <th>j0_y</th>\n      <th>j1_x</th>\n      <th>j1_y</th>\n      <th>j2_x</th>\n      <th>j2_y</th>\n      <th>j3_x</th>\n      <th>j3_y</th>\n      <th>j4_x</th>\n      <th>j4_y</th>\n      <th>...</th>\n      <th>j13_x</th>\n      <th>j13_y</th>\n      <th>j14_x</th>\n      <th>j14_y</th>\n      <th>j15_x</th>\n      <th>j15_y</th>\n      <th>j16_x</th>\n      <th>j16_y</th>\n      <th>j17_x</th>\n      <th>j17_y</th>\n    </tr>\n  </thead>\n  <tbody>\n    <tr>\n      <th>0</th>\n      <td>132</td>\n      <td>78</td>\n      <td>128</td>\n      <td>112</td>\n      <td>98</td>\n      <td>112</td>\n      <td>85</td>\n      <td>157</td>\n      <td>87</td>\n      <td>200</td>\n      <td>...</td>\n      <td>0</td>\n      <td>0</td>\n      <td>126</td>\n      <td>73</td>\n      <td>137</td>\n      <td>73</td>\n      <td>117</td>\n      <td>76</td>\n      <td>145</td>\n      <td>75</td>\n    </tr>\n    <tr>\n      <th>1</th>\n      <td>132</td>\n      <td>78</td>\n      <td>128</td>\n      <td>112</td>\n      <td>98</td>\n      <td>112</td>\n      <td>85</td>\n      <td>155</td>\n      <td>90</td>\n      <td>200</td>\n      <td>...</td>\n      <td>0</td>\n      <td>0</td>\n      <td>126</td>\n      <td>73</td>\n      <td>137</td>\n      <td>71</td>\n      <td>117</td>\n      <td>76</td>\n      <td>145</td>\n      <td>75</td>\n    </tr>\n    <tr>\n      <th>2</th>\n      <td>132</td>\n      <td>78</td>\n      <td>128</td>\n      <td>114</td>\n      <td>98</td>\n      <td>112</td>\n      <td>85</td>\n      <td>157</td>\n      <td>92</td>\n      <td>200</td>\n      <td>...</td>\n      <td>0</td>\n      <td>0</td>\n      <td>124</td>\n      <td>73</td>\n      <td>137</td>\n      <td>73</td>\n      <td>115</td>\n      <td>76</td>\n      <td>145</td>\n      <td>76</td>\n    </tr>\n    <tr>\n      <th>3</th>\n      <td>130</td>\n      <td>78</td>\n      <td>126</td>\n      <td>114</td>\n      <td>98</td>\n      <td>112</td>\n      <td>85</td>\n      <td>155</td>\n      <td>92</td>\n      <td>200</td>\n      <td>...</td>\n      <td>0</td>\n      <td>0</td>\n      <td>124</td>\n      <td>73</td>\n      <td>135</td>\n      <td>73</td>\n      <td>115</td>\n      <td>75</td>\n      <td>143</td>\n      <td>76</td>\n    </tr>\n    <tr>\n      <th>4</th>\n      <td>128</td>\n      <td>78</td>\n      <td>126</td>\n      <td>112</td>\n      <td>96</td>\n      <td>112</td>\n      <td>85</td>\n      <td>157</td>\n      <td>90</td>\n      <td>204</td>\n      <td>...</td>\n      <td>0</td>\n      <td>0</td>\n      <td>122</td>\n      <td>73</td>\n      <td>135</td>\n      <td>73</td>\n      <td>113</td>\n      <td>76</td>\n      <td>143</td>\n      <td>76</td>\n    </tr>\n    <tr>\n      <th>...</th>\n      <td>...</td>\n      <td>...</td>\n      <td>...</td>\n      <td>...</td>\n      <td>...</td>\n      <td>...</td>\n      <td>...</td>\n      <td>...</td>\n      <td>...</td>\n      <td>...</td>\n      <td>...</td>\n      <td>...</td>\n      <td>...</td>\n      <td>...</td>\n      <td>...</td>\n      <td>...</td>\n      <td>...</td>\n      <td>...</td>\n      <td>...</td>\n      <td>...</td>\n      <td>...</td>\n    </tr>\n    <tr>\n      <th>215131</th>\n      <td>173</td>\n      <td>82</td>\n      <td>173</td>\n      <td>121</td>\n      <td>143</td>\n      <td>118</td>\n      <td>122</td>\n      <td>163</td>\n      <td>113</td>\n      <td>146</td>\n      <td>...</td>\n      <td>0</td>\n      <td>0</td>\n      <td>167</td>\n      <td>78</td>\n      <td>180</td>\n      <td>76</td>\n      <td>160</td>\n      <td>84</td>\n      <td>190</td>\n      <td>84</td>\n    </tr>\n    <tr>\n      <th>215132</th>\n      <td>173</td>\n      <td>82</td>\n      <td>173</td>\n      <td>121</td>\n      <td>143</td>\n      <td>120</td>\n      <td>126</td>\n      <td>161</td>\n      <td>115</td>\n      <td>165</td>\n      <td>...</td>\n      <td>0</td>\n      <td>0</td>\n      <td>167</td>\n      <td>78</td>\n      <td>180</td>\n      <td>76</td>\n      <td>160</td>\n      <td>84</td>\n      <td>190</td>\n      <td>84</td>\n    </tr>\n    <tr>\n      <th>215133</th>\n      <td>173</td>\n      <td>82</td>\n      <td>173</td>\n      <td>121</td>\n      <td>143</td>\n      <td>120</td>\n      <td>128</td>\n      <td>161</td>\n      <td>122</td>\n      <td>187</td>\n      <td>...</td>\n      <td>0</td>\n      <td>0</td>\n      <td>167</td>\n      <td>78</td>\n      <td>180</td>\n      <td>76</td>\n      <td>160</td>\n      <td>84</td>\n      <td>190</td>\n      <td>84</td>\n    </tr>\n    <tr>\n      <th>215134</th>\n      <td>173</td>\n      <td>82</td>\n      <td>173</td>\n      <td>121</td>\n      <td>143</td>\n      <td>120</td>\n      <td>128</td>\n      <td>161</td>\n      <td>124</td>\n      <td>195</td>\n      <td>...</td>\n      <td>0</td>\n      <td>0</td>\n      <td>167</td>\n      <td>78</td>\n      <td>180</td>\n      <td>76</td>\n      <td>160</td>\n      <td>84</td>\n      <td>190</td>\n      <td>84</td>\n    </tr>\n    <tr>\n      <th>215135</th>\n      <td>173</td>\n      <td>82</td>\n      <td>173</td>\n      <td>121</td>\n      <td>141</td>\n      <td>120</td>\n      <td>128</td>\n      <td>163</td>\n      <td>128</td>\n      <td>210</td>\n      <td>...</td>\n      <td>0</td>\n      <td>0</td>\n      <td>167</td>\n      <td>76</td>\n      <td>180</td>\n      <td>76</td>\n      <td>160</td>\n      <td>84</td>\n      <td>190</td>\n      <td>84</td>\n    </tr>\n  </tbody>\n</table>\n<p>215136 rows × 36 columns</p>\n</div>"
     },
     "metadata": {},
     "execution_count": 62
    }
   ],
   "source": [
    "final_poses_df.iloc[:,:-1]"
   ]
  },
  {
   "cell_type": "code",
   "execution_count": 64,
   "metadata": {},
   "outputs": [],
   "source": [
    "# final_poses_df.to_csv(\"final_poses_from_videos.csv\", sep=\"\\t\", index=False)\n",
    "# final_labels_df.to_csv(\"final_labels_from_videos.csv\", sep=\"\\t\", index=False)\n",
    "final_poses_df.iloc[:,:-1].to_csv(\"final_poses_withot_D_from_videos.csv\", sep=\"\\t\", header=None, index=False)\n",
    "final_labels_df.to_csv(\"final_labels_withot_D_from_videos.csv\", sep=\"\\t\", header=None, index=False)\n"
   ]
  },
  {
   "source": [
    "## Group similar classes"
   ],
   "cell_type": "markdown",
   "metadata": {}
  },
  {
   "cell_type": "code",
   "execution_count": 55,
   "metadata": {},
   "outputs": [],
   "source": [
    "# final_poses_df = pd.read_csv(\"final_poses_from_videos.csv\", sep=\"\\t\")\n",
    "# final_labels_df = pd.read_csv(\"final_labels_from_videos.csv\", sep=\"\\t\")\n",
    "final_poses_df = pd.read_csv(\"final_poses_withot_D_from_videos.csv\", sep=\"\\t\")\n",
    "final_labels_df = pd.read_csv(\"final_labels_withot_D_from_videos.csv\", sep=\"\\t\")"
   ]
  },
  {
   "cell_type": "code",
   "execution_count": 60,
   "metadata": {},
   "outputs": [
    {
     "output_type": "stream",
     "name": "stdout",
     "text": [
      "(215136, 37)\n(13446, 1)\n"
     ]
    }
   ],
   "source": [
    "print(final_poses_df.shape)\n",
    "print(final_labels_df.shape)"
   ]
  },
  {
   "cell_type": "code",
   "execution_count": 68,
   "metadata": {},
   "outputs": [
    {
     "output_type": "execute_result",
     "data": {
      "text/plain": [
       "           name       label  \\\n",
       "151   devel35_1           7   \n",
       "152   devel35_2           8   \n",
       "153   devel35_3           5   \n",
       "154   devel35_4           2   \n",
       "155   devel35_5           6   \n",
       "156   devel35_6           1   \n",
       "157   devel35_7           3   \n",
       "158   devel35_8           4   \n",
       "159   devel35_9           9   \n",
       "160  devel35_10       4 2 3   \n",
       "161  devel35_11     9 1 6 5   \n",
       "162  devel35_12       2 9 5   \n",
       "163  devel35_13         5 6   \n",
       "164  devel35_14       7 3 8   \n",
       "165  devel35_15       8 8 4   \n",
       "166  devel35_16           3   \n",
       "167  devel35_17   6 8 8 5 8   \n",
       "168  devel35_18           9   \n",
       "169  devel35_19           2   \n",
       "170  devel35_20         3 2   \n",
       "171  devel35_21           8   \n",
       "172  devel35_22     7 4 3 6   \n",
       "173  devel35_23       6 6 1   \n",
       "174  devel35_24           4   \n",
       "175  devel35_25           3   \n",
       "176  devel35_26     1 6 5 3   \n",
       "177  devel35_27         7 9   \n",
       "178  devel35_28       3 5 6   \n",
       "179  devel35_29   3 9 1 9 4   \n",
       "180  devel35_30           7   \n",
       "181  devel35_31         4 1   \n",
       "182  devel35_32           5   \n",
       "183  devel35_33   9 5 6 1 6   \n",
       "184  devel35_34           8   \n",
       "185  devel35_35         6 8   \n",
       "186  devel35_36         3 2   \n",
       "187  devel35_37     2 8 4 8   \n",
       "188  devel35_38   5 1 5 4 2   \n",
       "189  devel35_39           6   \n",
       "190  devel35_40         2 5   \n",
       "191  devel35_41           1   \n",
       "192  devel35_42         8 4   \n",
       "193  devel35_43           9   \n",
       "194  devel35_44     8 2 9 2   \n",
       "195  devel35_45         1 3   \n",
       "196  devel35_46           5   \n",
       "197  devel35_47         9 7   \n",
       "245   devel52_1           8   \n",
       "246   devel52_2           2   \n",
       "247   devel52_3           1   \n",
       "248   devel52_4           4   \n",
       "249   devel52_5           9   \n",
       "250   devel52_6           7   \n",
       "251   devel52_7           6   \n",
       "252   devel52_8           5   \n",
       "253   devel52_9           3   \n",
       "254  devel52_10           4   \n",
       "255  devel52_11     5 5 4 3   \n",
       "256  devel52_12           1   \n",
       "257  devel52_13         4 6   \n",
       "\n",
       "                                                  path         lexicon user  \n",
       "151  /home/vlados/datasets/chalearn/devel-21-135/de...  DivingSignals1    O  \n",
       "152  /home/vlados/datasets/chalearn/devel-21-135/de...  DivingSignals1    O  \n",
       "153  /home/vlados/datasets/chalearn/devel-21-135/de...  DivingSignals1    O  \n",
       "154  /home/vlados/datasets/chalearn/devel-21-135/de...  DivingSignals1    O  \n",
       "155  /home/vlados/datasets/chalearn/devel-21-135/de...  DivingSignals1    O  \n",
       "156  /home/vlados/datasets/chalearn/devel-21-135/de...  DivingSignals1    O  \n",
       "157  /home/vlados/datasets/chalearn/devel-21-135/de...  DivingSignals1    O  \n",
       "158  /home/vlados/datasets/chalearn/devel-21-135/de...  DivingSignals1    O  \n",
       "159  /home/vlados/datasets/chalearn/devel-21-135/de...  DivingSignals1    O  \n",
       "160  /home/vlados/datasets/chalearn/devel-21-135/de...  DivingSignals1    O  \n",
       "161  /home/vlados/datasets/chalearn/devel-21-135/de...  DivingSignals1    O  \n",
       "162  /home/vlados/datasets/chalearn/devel-21-135/de...  DivingSignals1    O  \n",
       "163  /home/vlados/datasets/chalearn/devel-21-135/de...  DivingSignals1    O  \n",
       "164  /home/vlados/datasets/chalearn/devel-21-135/de...  DivingSignals1    O  \n",
       "165  /home/vlados/datasets/chalearn/devel-21-135/de...  DivingSignals1    O  \n",
       "166  /home/vlados/datasets/chalearn/devel-21-135/de...  DivingSignals1    O  \n",
       "167  /home/vlados/datasets/chalearn/devel-21-135/de...  DivingSignals1    O  \n",
       "168  /home/vlados/datasets/chalearn/devel-21-135/de...  DivingSignals1    O  \n",
       "169  /home/vlados/datasets/chalearn/devel-21-135/de...  DivingSignals1    O  \n",
       "170  /home/vlados/datasets/chalearn/devel-21-135/de...  DivingSignals1    O  \n",
       "171  /home/vlados/datasets/chalearn/devel-21-135/de...  DivingSignals1    O  \n",
       "172  /home/vlados/datasets/chalearn/devel-21-135/de...  DivingSignals1    O  \n",
       "173  /home/vlados/datasets/chalearn/devel-21-135/de...  DivingSignals1    O  \n",
       "174  /home/vlados/datasets/chalearn/devel-21-135/de...  DivingSignals1    O  \n",
       "175  /home/vlados/datasets/chalearn/devel-21-135/de...  DivingSignals1    O  \n",
       "176  /home/vlados/datasets/chalearn/devel-21-135/de...  DivingSignals1    O  \n",
       "177  /home/vlados/datasets/chalearn/devel-21-135/de...  DivingSignals1    O  \n",
       "178  /home/vlados/datasets/chalearn/devel-21-135/de...  DivingSignals1    O  \n",
       "179  /home/vlados/datasets/chalearn/devel-21-135/de...  DivingSignals1    O  \n",
       "180  /home/vlados/datasets/chalearn/devel-21-135/de...  DivingSignals1    O  \n",
       "181  /home/vlados/datasets/chalearn/devel-21-135/de...  DivingSignals1    O  \n",
       "182  /home/vlados/datasets/chalearn/devel-21-135/de...  DivingSignals1    O  \n",
       "183  /home/vlados/datasets/chalearn/devel-21-135/de...  DivingSignals1    O  \n",
       "184  /home/vlados/datasets/chalearn/devel-21-135/de...  DivingSignals1    O  \n",
       "185  /home/vlados/datasets/chalearn/devel-21-135/de...  DivingSignals1    O  \n",
       "186  /home/vlados/datasets/chalearn/devel-21-135/de...  DivingSignals1    O  \n",
       "187  /home/vlados/datasets/chalearn/devel-21-135/de...  DivingSignals1    O  \n",
       "188  /home/vlados/datasets/chalearn/devel-21-135/de...  DivingSignals1    O  \n",
       "189  /home/vlados/datasets/chalearn/devel-21-135/de...  DivingSignals1    O  \n",
       "190  /home/vlados/datasets/chalearn/devel-21-135/de...  DivingSignals1    O  \n",
       "191  /home/vlados/datasets/chalearn/devel-21-135/de...  DivingSignals1    O  \n",
       "192  /home/vlados/datasets/chalearn/devel-21-135/de...  DivingSignals1    O  \n",
       "193  /home/vlados/datasets/chalearn/devel-21-135/de...  DivingSignals1    O  \n",
       "194  /home/vlados/datasets/chalearn/devel-21-135/de...  DivingSignals1    O  \n",
       "195  /home/vlados/datasets/chalearn/devel-21-135/de...  DivingSignals1    O  \n",
       "196  /home/vlados/datasets/chalearn/devel-21-135/de...  DivingSignals1    O  \n",
       "197  /home/vlados/datasets/chalearn/devel-21-135/de...  DivingSignals1    O  \n",
       "245  /home/vlados/datasets/chalearn/devel-21-135/de...  DivingSignals1    I  \n",
       "246  /home/vlados/datasets/chalearn/devel-21-135/de...  DivingSignals1    I  \n",
       "247  /home/vlados/datasets/chalearn/devel-21-135/de...  DivingSignals1    I  \n",
       "248  /home/vlados/datasets/chalearn/devel-21-135/de...  DivingSignals1    I  \n",
       "249  /home/vlados/datasets/chalearn/devel-21-135/de...  DivingSignals1    I  \n",
       "250  /home/vlados/datasets/chalearn/devel-21-135/de...  DivingSignals1    I  \n",
       "251  /home/vlados/datasets/chalearn/devel-21-135/de...  DivingSignals1    I  \n",
       "252  /home/vlados/datasets/chalearn/devel-21-135/de...  DivingSignals1    I  \n",
       "253  /home/vlados/datasets/chalearn/devel-21-135/de...  DivingSignals1    I  \n",
       "254  /home/vlados/datasets/chalearn/devel-21-135/de...  DivingSignals1    I  \n",
       "255  /home/vlados/datasets/chalearn/devel-21-135/de...  DivingSignals1    I  \n",
       "256  /home/vlados/datasets/chalearn/devel-21-135/de...  DivingSignals1    I  \n",
       "257  /home/vlados/datasets/chalearn/devel-21-135/de...  DivingSignals1    I  "
      ],
      "text/html": "<div>\n<style scoped>\n    .dataframe tbody tr th:only-of-type {\n        vertical-align: middle;\n    }\n\n    .dataframe tbody tr th {\n        vertical-align: top;\n    }\n\n    .dataframe thead th {\n        text-align: right;\n    }\n</style>\n<table border=\"1\" class=\"dataframe\">\n  <thead>\n    <tr style=\"text-align: right;\">\n      <th></th>\n      <th>name</th>\n      <th>label</th>\n      <th>path</th>\n      <th>lexicon</th>\n      <th>user</th>\n    </tr>\n  </thead>\n  <tbody>\n    <tr>\n      <th>151</th>\n      <td>devel35_1</td>\n      <td>7</td>\n      <td>/home/vlados/datasets/chalearn/devel-21-135/de...</td>\n      <td>DivingSignals1</td>\n      <td>O</td>\n    </tr>\n    <tr>\n      <th>152</th>\n      <td>devel35_2</td>\n      <td>8</td>\n      <td>/home/vlados/datasets/chalearn/devel-21-135/de...</td>\n      <td>DivingSignals1</td>\n      <td>O</td>\n    </tr>\n    <tr>\n      <th>153</th>\n      <td>devel35_3</td>\n      <td>5</td>\n      <td>/home/vlados/datasets/chalearn/devel-21-135/de...</td>\n      <td>DivingSignals1</td>\n      <td>O</td>\n    </tr>\n    <tr>\n      <th>154</th>\n      <td>devel35_4</td>\n      <td>2</td>\n      <td>/home/vlados/datasets/chalearn/devel-21-135/de...</td>\n      <td>DivingSignals1</td>\n      <td>O</td>\n    </tr>\n    <tr>\n      <th>155</th>\n      <td>devel35_5</td>\n      <td>6</td>\n      <td>/home/vlados/datasets/chalearn/devel-21-135/de...</td>\n      <td>DivingSignals1</td>\n      <td>O</td>\n    </tr>\n    <tr>\n      <th>156</th>\n      <td>devel35_6</td>\n      <td>1</td>\n      <td>/home/vlados/datasets/chalearn/devel-21-135/de...</td>\n      <td>DivingSignals1</td>\n      <td>O</td>\n    </tr>\n    <tr>\n      <th>157</th>\n      <td>devel35_7</td>\n      <td>3</td>\n      <td>/home/vlados/datasets/chalearn/devel-21-135/de...</td>\n      <td>DivingSignals1</td>\n      <td>O</td>\n    </tr>\n    <tr>\n      <th>158</th>\n      <td>devel35_8</td>\n      <td>4</td>\n      <td>/home/vlados/datasets/chalearn/devel-21-135/de...</td>\n      <td>DivingSignals1</td>\n      <td>O</td>\n    </tr>\n    <tr>\n      <th>159</th>\n      <td>devel35_9</td>\n      <td>9</td>\n      <td>/home/vlados/datasets/chalearn/devel-21-135/de...</td>\n      <td>DivingSignals1</td>\n      <td>O</td>\n    </tr>\n    <tr>\n      <th>160</th>\n      <td>devel35_10</td>\n      <td>4 2 3</td>\n      <td>/home/vlados/datasets/chalearn/devel-21-135/de...</td>\n      <td>DivingSignals1</td>\n      <td>O</td>\n    </tr>\n    <tr>\n      <th>161</th>\n      <td>devel35_11</td>\n      <td>9 1 6 5</td>\n      <td>/home/vlados/datasets/chalearn/devel-21-135/de...</td>\n      <td>DivingSignals1</td>\n      <td>O</td>\n    </tr>\n    <tr>\n      <th>162</th>\n      <td>devel35_12</td>\n      <td>2 9 5</td>\n      <td>/home/vlados/datasets/chalearn/devel-21-135/de...</td>\n      <td>DivingSignals1</td>\n      <td>O</td>\n    </tr>\n    <tr>\n      <th>163</th>\n      <td>devel35_13</td>\n      <td>5 6</td>\n      <td>/home/vlados/datasets/chalearn/devel-21-135/de...</td>\n      <td>DivingSignals1</td>\n      <td>O</td>\n    </tr>\n    <tr>\n      <th>164</th>\n      <td>devel35_14</td>\n      <td>7 3 8</td>\n      <td>/home/vlados/datasets/chalearn/devel-21-135/de...</td>\n      <td>DivingSignals1</td>\n      <td>O</td>\n    </tr>\n    <tr>\n      <th>165</th>\n      <td>devel35_15</td>\n      <td>8 8 4</td>\n      <td>/home/vlados/datasets/chalearn/devel-21-135/de...</td>\n      <td>DivingSignals1</td>\n      <td>O</td>\n    </tr>\n    <tr>\n      <th>166</th>\n      <td>devel35_16</td>\n      <td>3</td>\n      <td>/home/vlados/datasets/chalearn/devel-21-135/de...</td>\n      <td>DivingSignals1</td>\n      <td>O</td>\n    </tr>\n    <tr>\n      <th>167</th>\n      <td>devel35_17</td>\n      <td>6 8 8 5 8</td>\n      <td>/home/vlados/datasets/chalearn/devel-21-135/de...</td>\n      <td>DivingSignals1</td>\n      <td>O</td>\n    </tr>\n    <tr>\n      <th>168</th>\n      <td>devel35_18</td>\n      <td>9</td>\n      <td>/home/vlados/datasets/chalearn/devel-21-135/de...</td>\n      <td>DivingSignals1</td>\n      <td>O</td>\n    </tr>\n    <tr>\n      <th>169</th>\n      <td>devel35_19</td>\n      <td>2</td>\n      <td>/home/vlados/datasets/chalearn/devel-21-135/de...</td>\n      <td>DivingSignals1</td>\n      <td>O</td>\n    </tr>\n    <tr>\n      <th>170</th>\n      <td>devel35_20</td>\n      <td>3 2</td>\n      <td>/home/vlados/datasets/chalearn/devel-21-135/de...</td>\n      <td>DivingSignals1</td>\n      <td>O</td>\n    </tr>\n    <tr>\n      <th>171</th>\n      <td>devel35_21</td>\n      <td>8</td>\n      <td>/home/vlados/datasets/chalearn/devel-21-135/de...</td>\n      <td>DivingSignals1</td>\n      <td>O</td>\n    </tr>\n    <tr>\n      <th>172</th>\n      <td>devel35_22</td>\n      <td>7 4 3 6</td>\n      <td>/home/vlados/datasets/chalearn/devel-21-135/de...</td>\n      <td>DivingSignals1</td>\n      <td>O</td>\n    </tr>\n    <tr>\n      <th>173</th>\n      <td>devel35_23</td>\n      <td>6 6 1</td>\n      <td>/home/vlados/datasets/chalearn/devel-21-135/de...</td>\n      <td>DivingSignals1</td>\n      <td>O</td>\n    </tr>\n    <tr>\n      <th>174</th>\n      <td>devel35_24</td>\n      <td>4</td>\n      <td>/home/vlados/datasets/chalearn/devel-21-135/de...</td>\n      <td>DivingSignals1</td>\n      <td>O</td>\n    </tr>\n    <tr>\n      <th>175</th>\n      <td>devel35_25</td>\n      <td>3</td>\n      <td>/home/vlados/datasets/chalearn/devel-21-135/de...</td>\n      <td>DivingSignals1</td>\n      <td>O</td>\n    </tr>\n    <tr>\n      <th>176</th>\n      <td>devel35_26</td>\n      <td>1 6 5 3</td>\n      <td>/home/vlados/datasets/chalearn/devel-21-135/de...</td>\n      <td>DivingSignals1</td>\n      <td>O</td>\n    </tr>\n    <tr>\n      <th>177</th>\n      <td>devel35_27</td>\n      <td>7 9</td>\n      <td>/home/vlados/datasets/chalearn/devel-21-135/de...</td>\n      <td>DivingSignals1</td>\n      <td>O</td>\n    </tr>\n    <tr>\n      <th>178</th>\n      <td>devel35_28</td>\n      <td>3 5 6</td>\n      <td>/home/vlados/datasets/chalearn/devel-21-135/de...</td>\n      <td>DivingSignals1</td>\n      <td>O</td>\n    </tr>\n    <tr>\n      <th>179</th>\n      <td>devel35_29</td>\n      <td>3 9 1 9 4</td>\n      <td>/home/vlados/datasets/chalearn/devel-21-135/de...</td>\n      <td>DivingSignals1</td>\n      <td>O</td>\n    </tr>\n    <tr>\n      <th>180</th>\n      <td>devel35_30</td>\n      <td>7</td>\n      <td>/home/vlados/datasets/chalearn/devel-21-135/de...</td>\n      <td>DivingSignals1</td>\n      <td>O</td>\n    </tr>\n    <tr>\n      <th>181</th>\n      <td>devel35_31</td>\n      <td>4 1</td>\n      <td>/home/vlados/datasets/chalearn/devel-21-135/de...</td>\n      <td>DivingSignals1</td>\n      <td>O</td>\n    </tr>\n    <tr>\n      <th>182</th>\n      <td>devel35_32</td>\n      <td>5</td>\n      <td>/home/vlados/datasets/chalearn/devel-21-135/de...</td>\n      <td>DivingSignals1</td>\n      <td>O</td>\n    </tr>\n    <tr>\n      <th>183</th>\n      <td>devel35_33</td>\n      <td>9 5 6 1 6</td>\n      <td>/home/vlados/datasets/chalearn/devel-21-135/de...</td>\n      <td>DivingSignals1</td>\n      <td>O</td>\n    </tr>\n    <tr>\n      <th>184</th>\n      <td>devel35_34</td>\n      <td>8</td>\n      <td>/home/vlados/datasets/chalearn/devel-21-135/de...</td>\n      <td>DivingSignals1</td>\n      <td>O</td>\n    </tr>\n    <tr>\n      <th>185</th>\n      <td>devel35_35</td>\n      <td>6 8</td>\n      <td>/home/vlados/datasets/chalearn/devel-21-135/de...</td>\n      <td>DivingSignals1</td>\n      <td>O</td>\n    </tr>\n    <tr>\n      <th>186</th>\n      <td>devel35_36</td>\n      <td>3 2</td>\n      <td>/home/vlados/datasets/chalearn/devel-21-135/de...</td>\n      <td>DivingSignals1</td>\n      <td>O</td>\n    </tr>\n    <tr>\n      <th>187</th>\n      <td>devel35_37</td>\n      <td>2 8 4 8</td>\n      <td>/home/vlados/datasets/chalearn/devel-21-135/de...</td>\n      <td>DivingSignals1</td>\n      <td>O</td>\n    </tr>\n    <tr>\n      <th>188</th>\n      <td>devel35_38</td>\n      <td>5 1 5 4 2</td>\n      <td>/home/vlados/datasets/chalearn/devel-21-135/de...</td>\n      <td>DivingSignals1</td>\n      <td>O</td>\n    </tr>\n    <tr>\n      <th>189</th>\n      <td>devel35_39</td>\n      <td>6</td>\n      <td>/home/vlados/datasets/chalearn/devel-21-135/de...</td>\n      <td>DivingSignals1</td>\n      <td>O</td>\n    </tr>\n    <tr>\n      <th>190</th>\n      <td>devel35_40</td>\n      <td>2 5</td>\n      <td>/home/vlados/datasets/chalearn/devel-21-135/de...</td>\n      <td>DivingSignals1</td>\n      <td>O</td>\n    </tr>\n    <tr>\n      <th>191</th>\n      <td>devel35_41</td>\n      <td>1</td>\n      <td>/home/vlados/datasets/chalearn/devel-21-135/de...</td>\n      <td>DivingSignals1</td>\n      <td>O</td>\n    </tr>\n    <tr>\n      <th>192</th>\n      <td>devel35_42</td>\n      <td>8 4</td>\n      <td>/home/vlados/datasets/chalearn/devel-21-135/de...</td>\n      <td>DivingSignals1</td>\n      <td>O</td>\n    </tr>\n    <tr>\n      <th>193</th>\n      <td>devel35_43</td>\n      <td>9</td>\n      <td>/home/vlados/datasets/chalearn/devel-21-135/de...</td>\n      <td>DivingSignals1</td>\n      <td>O</td>\n    </tr>\n    <tr>\n      <th>194</th>\n      <td>devel35_44</td>\n      <td>8 2 9 2</td>\n      <td>/home/vlados/datasets/chalearn/devel-21-135/de...</td>\n      <td>DivingSignals1</td>\n      <td>O</td>\n    </tr>\n    <tr>\n      <th>195</th>\n      <td>devel35_45</td>\n      <td>1 3</td>\n      <td>/home/vlados/datasets/chalearn/devel-21-135/de...</td>\n      <td>DivingSignals1</td>\n      <td>O</td>\n    </tr>\n    <tr>\n      <th>196</th>\n      <td>devel35_46</td>\n      <td>5</td>\n      <td>/home/vlados/datasets/chalearn/devel-21-135/de...</td>\n      <td>DivingSignals1</td>\n      <td>O</td>\n    </tr>\n    <tr>\n      <th>197</th>\n      <td>devel35_47</td>\n      <td>9 7</td>\n      <td>/home/vlados/datasets/chalearn/devel-21-135/de...</td>\n      <td>DivingSignals1</td>\n      <td>O</td>\n    </tr>\n    <tr>\n      <th>245</th>\n      <td>devel52_1</td>\n      <td>8</td>\n      <td>/home/vlados/datasets/chalearn/devel-21-135/de...</td>\n      <td>DivingSignals1</td>\n      <td>I</td>\n    </tr>\n    <tr>\n      <th>246</th>\n      <td>devel52_2</td>\n      <td>2</td>\n      <td>/home/vlados/datasets/chalearn/devel-21-135/de...</td>\n      <td>DivingSignals1</td>\n      <td>I</td>\n    </tr>\n    <tr>\n      <th>247</th>\n      <td>devel52_3</td>\n      <td>1</td>\n      <td>/home/vlados/datasets/chalearn/devel-21-135/de...</td>\n      <td>DivingSignals1</td>\n      <td>I</td>\n    </tr>\n    <tr>\n      <th>248</th>\n      <td>devel52_4</td>\n      <td>4</td>\n      <td>/home/vlados/datasets/chalearn/devel-21-135/de...</td>\n      <td>DivingSignals1</td>\n      <td>I</td>\n    </tr>\n    <tr>\n      <th>249</th>\n      <td>devel52_5</td>\n      <td>9</td>\n      <td>/home/vlados/datasets/chalearn/devel-21-135/de...</td>\n      <td>DivingSignals1</td>\n      <td>I</td>\n    </tr>\n    <tr>\n      <th>250</th>\n      <td>devel52_6</td>\n      <td>7</td>\n      <td>/home/vlados/datasets/chalearn/devel-21-135/de...</td>\n      <td>DivingSignals1</td>\n      <td>I</td>\n    </tr>\n    <tr>\n      <th>251</th>\n      <td>devel52_7</td>\n      <td>6</td>\n      <td>/home/vlados/datasets/chalearn/devel-21-135/de...</td>\n      <td>DivingSignals1</td>\n      <td>I</td>\n    </tr>\n    <tr>\n      <th>252</th>\n      <td>devel52_8</td>\n      <td>5</td>\n      <td>/home/vlados/datasets/chalearn/devel-21-135/de...</td>\n      <td>DivingSignals1</td>\n      <td>I</td>\n    </tr>\n    <tr>\n      <th>253</th>\n      <td>devel52_9</td>\n      <td>3</td>\n      <td>/home/vlados/datasets/chalearn/devel-21-135/de...</td>\n      <td>DivingSignals1</td>\n      <td>I</td>\n    </tr>\n    <tr>\n      <th>254</th>\n      <td>devel52_10</td>\n      <td>4</td>\n      <td>/home/vlados/datasets/chalearn/devel-21-135/de...</td>\n      <td>DivingSignals1</td>\n      <td>I</td>\n    </tr>\n    <tr>\n      <th>255</th>\n      <td>devel52_11</td>\n      <td>5 5 4 3</td>\n      <td>/home/vlados/datasets/chalearn/devel-21-135/de...</td>\n      <td>DivingSignals1</td>\n      <td>I</td>\n    </tr>\n    <tr>\n      <th>256</th>\n      <td>devel52_12</td>\n      <td>1</td>\n      <td>/home/vlados/datasets/chalearn/devel-21-135/de...</td>\n      <td>DivingSignals1</td>\n      <td>I</td>\n    </tr>\n    <tr>\n      <th>257</th>\n      <td>devel52_13</td>\n      <td>4 6</td>\n      <td>/home/vlados/datasets/chalearn/devel-21-135/de...</td>\n      <td>DivingSignals1</td>\n      <td>I</td>\n    </tr>\n  </tbody>\n</table>\n</div>"
     },
     "metadata": {},
     "execution_count": 68
    }
   ],
   "source": [
    "df.loc[(df[\"user\"] != \"D\") & (df[\"lexicon\"] == \"DivingSignals1\")].iloc[:60]"
   ]
  },
  {
   "cell_type": "code",
   "execution_count": 61,
   "metadata": {},
   "outputs": [
    {
     "output_type": "execute_result",
     "data": {
      "text/plain": [
       "        j0_x  j0_y  j1_x  j1_y  j2_x  j2_y  j3_x  j3_y  j4_x  j4_y  ...  \\\n",
       "0        132    78   128   112    98   112    85   157    87   200  ...   \n",
       "1        132    78   128   112    98   112    85   155    90   200  ...   \n",
       "2        132    78   128   114    98   112    85   157    92   200  ...   \n",
       "3        130    78   126   114    98   112    85   155    92   200  ...   \n",
       "4        128    78   126   112    96   112    85   157    90   204  ...   \n",
       "...      ...   ...   ...   ...   ...   ...   ...   ...   ...   ...  ...   \n",
       "215131   173    82   173   121   143   118   122   163   113   146  ...   \n",
       "215132   173    82   173   121   143   120   126   161   115   165  ...   \n",
       "215133   173    82   173   121   143   120   128   161   122   187  ...   \n",
       "215134   173    82   173   121   143   120   128   161   124   195  ...   \n",
       "215135   173    82   173   121   141   120   128   163   128   210  ...   \n",
       "\n",
       "        j13_y  j14_x  j14_y  j15_x  j15_y  j16_x  j16_y  j17_x  j17_y  \\\n",
       "0           0    126     73    137     73    117     76    145     75   \n",
       "1           0    126     73    137     71    117     76    145     75   \n",
       "2           0    124     73    137     73    115     76    145     76   \n",
       "3           0    124     73    135     73    115     75    143     76   \n",
       "4           0    122     73    135     73    113     76    143     76   \n",
       "...       ...    ...    ...    ...    ...    ...    ...    ...    ...   \n",
       "215131      0    167     78    180     76    160     84    190     84   \n",
       "215132      0    167     78    180     76    160     84    190     84   \n",
       "215133      0    167     78    180     76    160     84    190     84   \n",
       "215134      0    167     78    180     76    160     84    190     84   \n",
       "215135      0    167     76    180     76    160     84    190     84   \n",
       "\n",
       "              name  \n",
       "0       devel04_11  \n",
       "1       devel04_11  \n",
       "2       devel04_11  \n",
       "3       devel04_11  \n",
       "4       devel04_11  \n",
       "...            ...  \n",
       "215131  devel475_9  \n",
       "215132  devel475_9  \n",
       "215133  devel475_9  \n",
       "215134  devel475_9  \n",
       "215135  devel475_9  \n",
       "\n",
       "[215136 rows x 37 columns]"
      ],
      "text/html": "<div>\n<style scoped>\n    .dataframe tbody tr th:only-of-type {\n        vertical-align: middle;\n    }\n\n    .dataframe tbody tr th {\n        vertical-align: top;\n    }\n\n    .dataframe thead th {\n        text-align: right;\n    }\n</style>\n<table border=\"1\" class=\"dataframe\">\n  <thead>\n    <tr style=\"text-align: right;\">\n      <th></th>\n      <th>j0_x</th>\n      <th>j0_y</th>\n      <th>j1_x</th>\n      <th>j1_y</th>\n      <th>j2_x</th>\n      <th>j2_y</th>\n      <th>j3_x</th>\n      <th>j3_y</th>\n      <th>j4_x</th>\n      <th>j4_y</th>\n      <th>...</th>\n      <th>j13_y</th>\n      <th>j14_x</th>\n      <th>j14_y</th>\n      <th>j15_x</th>\n      <th>j15_y</th>\n      <th>j16_x</th>\n      <th>j16_y</th>\n      <th>j17_x</th>\n      <th>j17_y</th>\n      <th>name</th>\n    </tr>\n  </thead>\n  <tbody>\n    <tr>\n      <th>0</th>\n      <td>132</td>\n      <td>78</td>\n      <td>128</td>\n      <td>112</td>\n      <td>98</td>\n      <td>112</td>\n      <td>85</td>\n      <td>157</td>\n      <td>87</td>\n      <td>200</td>\n      <td>...</td>\n      <td>0</td>\n      <td>126</td>\n      <td>73</td>\n      <td>137</td>\n      <td>73</td>\n      <td>117</td>\n      <td>76</td>\n      <td>145</td>\n      <td>75</td>\n      <td>devel04_11</td>\n    </tr>\n    <tr>\n      <th>1</th>\n      <td>132</td>\n      <td>78</td>\n      <td>128</td>\n      <td>112</td>\n      <td>98</td>\n      <td>112</td>\n      <td>85</td>\n      <td>155</td>\n      <td>90</td>\n      <td>200</td>\n      <td>...</td>\n      <td>0</td>\n      <td>126</td>\n      <td>73</td>\n      <td>137</td>\n      <td>71</td>\n      <td>117</td>\n      <td>76</td>\n      <td>145</td>\n      <td>75</td>\n      <td>devel04_11</td>\n    </tr>\n    <tr>\n      <th>2</th>\n      <td>132</td>\n      <td>78</td>\n      <td>128</td>\n      <td>114</td>\n      <td>98</td>\n      <td>112</td>\n      <td>85</td>\n      <td>157</td>\n      <td>92</td>\n      <td>200</td>\n      <td>...</td>\n      <td>0</td>\n      <td>124</td>\n      <td>73</td>\n      <td>137</td>\n      <td>73</td>\n      <td>115</td>\n      <td>76</td>\n      <td>145</td>\n      <td>76</td>\n      <td>devel04_11</td>\n    </tr>\n    <tr>\n      <th>3</th>\n      <td>130</td>\n      <td>78</td>\n      <td>126</td>\n      <td>114</td>\n      <td>98</td>\n      <td>112</td>\n      <td>85</td>\n      <td>155</td>\n      <td>92</td>\n      <td>200</td>\n      <td>...</td>\n      <td>0</td>\n      <td>124</td>\n      <td>73</td>\n      <td>135</td>\n      <td>73</td>\n      <td>115</td>\n      <td>75</td>\n      <td>143</td>\n      <td>76</td>\n      <td>devel04_11</td>\n    </tr>\n    <tr>\n      <th>4</th>\n      <td>128</td>\n      <td>78</td>\n      <td>126</td>\n      <td>112</td>\n      <td>96</td>\n      <td>112</td>\n      <td>85</td>\n      <td>157</td>\n      <td>90</td>\n      <td>204</td>\n      <td>...</td>\n      <td>0</td>\n      <td>122</td>\n      <td>73</td>\n      <td>135</td>\n      <td>73</td>\n      <td>113</td>\n      <td>76</td>\n      <td>143</td>\n      <td>76</td>\n      <td>devel04_11</td>\n    </tr>\n    <tr>\n      <th>...</th>\n      <td>...</td>\n      <td>...</td>\n      <td>...</td>\n      <td>...</td>\n      <td>...</td>\n      <td>...</td>\n      <td>...</td>\n      <td>...</td>\n      <td>...</td>\n      <td>...</td>\n      <td>...</td>\n      <td>...</td>\n      <td>...</td>\n      <td>...</td>\n      <td>...</td>\n      <td>...</td>\n      <td>...</td>\n      <td>...</td>\n      <td>...</td>\n      <td>...</td>\n      <td>...</td>\n    </tr>\n    <tr>\n      <th>215131</th>\n      <td>173</td>\n      <td>82</td>\n      <td>173</td>\n      <td>121</td>\n      <td>143</td>\n      <td>118</td>\n      <td>122</td>\n      <td>163</td>\n      <td>113</td>\n      <td>146</td>\n      <td>...</td>\n      <td>0</td>\n      <td>167</td>\n      <td>78</td>\n      <td>180</td>\n      <td>76</td>\n      <td>160</td>\n      <td>84</td>\n      <td>190</td>\n      <td>84</td>\n      <td>devel475_9</td>\n    </tr>\n    <tr>\n      <th>215132</th>\n      <td>173</td>\n      <td>82</td>\n      <td>173</td>\n      <td>121</td>\n      <td>143</td>\n      <td>120</td>\n      <td>126</td>\n      <td>161</td>\n      <td>115</td>\n      <td>165</td>\n      <td>...</td>\n      <td>0</td>\n      <td>167</td>\n      <td>78</td>\n      <td>180</td>\n      <td>76</td>\n      <td>160</td>\n      <td>84</td>\n      <td>190</td>\n      <td>84</td>\n      <td>devel475_9</td>\n    </tr>\n    <tr>\n      <th>215133</th>\n      <td>173</td>\n      <td>82</td>\n      <td>173</td>\n      <td>121</td>\n      <td>143</td>\n      <td>120</td>\n      <td>128</td>\n      <td>161</td>\n      <td>122</td>\n      <td>187</td>\n      <td>...</td>\n      <td>0</td>\n      <td>167</td>\n      <td>78</td>\n      <td>180</td>\n      <td>76</td>\n      <td>160</td>\n      <td>84</td>\n      <td>190</td>\n      <td>84</td>\n      <td>devel475_9</td>\n    </tr>\n    <tr>\n      <th>215134</th>\n      <td>173</td>\n      <td>82</td>\n      <td>173</td>\n      <td>121</td>\n      <td>143</td>\n      <td>120</td>\n      <td>128</td>\n      <td>161</td>\n      <td>124</td>\n      <td>195</td>\n      <td>...</td>\n      <td>0</td>\n      <td>167</td>\n      <td>78</td>\n      <td>180</td>\n      <td>76</td>\n      <td>160</td>\n      <td>84</td>\n      <td>190</td>\n      <td>84</td>\n      <td>devel475_9</td>\n    </tr>\n    <tr>\n      <th>215135</th>\n      <td>173</td>\n      <td>82</td>\n      <td>173</td>\n      <td>121</td>\n      <td>141</td>\n      <td>120</td>\n      <td>128</td>\n      <td>163</td>\n      <td>128</td>\n      <td>210</td>\n      <td>...</td>\n      <td>0</td>\n      <td>167</td>\n      <td>76</td>\n      <td>180</td>\n      <td>76</td>\n      <td>160</td>\n      <td>84</td>\n      <td>190</td>\n      <td>84</td>\n      <td>devel475_9</td>\n    </tr>\n  </tbody>\n</table>\n<p>215136 rows × 37 columns</p>\n</div>"
     },
     "metadata": {},
     "execution_count": 61
    }
   ],
   "source": [
    "final_poses_df"
   ]
  },
  {
   "cell_type": "code",
   "execution_count": null,
   "metadata": {},
   "outputs": [],
   "source": [
    "for "
   ]
  }
 ]
}