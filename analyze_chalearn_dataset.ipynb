{
 "metadata": {
  "language_info": {
   "codemirror_mode": {
    "name": "ipython",
    "version": 3
   },
   "file_extension": ".py",
   "mimetype": "text/x-python",
   "name": "python",
   "nbconvert_exporter": "python",
   "pygments_lexer": "ipython3",
   "version": "3.8.5-final"
  },
  "orig_nbformat": 2,
  "kernelspec": {
   "name": "python3",
   "display_name": "Python 3",
   "language": "python"
  }
 },
 "nbformat": 4,
 "nbformat_minor": 2,
 "cells": [
  {
   "source": [
    "## Extract diving pose gestures"
   ],
   "cell_type": "markdown",
   "metadata": {}
  },
  {
   "cell_type": "code",
   "execution_count": 1,
   "metadata": {},
   "outputs": [],
   "source": [
    "import pandas as pd"
   ]
  },
  {
   "cell_type": "code",
   "execution_count": 2,
   "metadata": {},
   "outputs": [],
   "source": [
    "chalearn_path = \"/home/vlados/datasets/chalearn/\"\n",
    "chalearn_labels_path = chalearn_path + \"Info_devel_valid.txt\""
   ]
  },
  {
   "cell_type": "code",
   "execution_count": 3,
   "metadata": {},
   "outputs": [],
   "source": [
    "chalearn_labels_df = pd.read_csv(chalearn_labels_path, sep=\"\\t\")"
   ]
  },
  {
   "cell_type": "code",
   "execution_count": 4,
   "metadata": {},
   "outputs": [
    {
     "output_type": "execute_result",
     "data": {
      "text/plain": [
       "     Set  Num                           Lexicon UserID              Date  \\\n",
       "0  devel    1  CanadaAviationGroundCirculation1      A  2011 10 05 16 26   \n",
       "1  devel    2          RefereeWrestlingSignals1      I  2011 09 28 14 31   \n",
       "2  devel    3                  GangHandSignals1      L  2011 09 27 12 16   \n",
       "3  devel    4                    DivingSignals2      J  2011 09 26 09 01   \n",
       "4  devel    5                   GestunoDisaster      L  2011 10 11 15 16   \n",
       "\n",
       "   MinDepth  MaxDepth  DepthRes  DepthAcc  Missing  \n",
       "0       801      1964        76         2        0  \n",
       "1       801      1968        71         1        0  \n",
       "2       801      1506        95         1        0  \n",
       "3       801      1869       100         1        0  \n",
       "4       824      1964        91         2        0  "
      ],
      "text/html": "<div>\n<style scoped>\n    .dataframe tbody tr th:only-of-type {\n        vertical-align: middle;\n    }\n\n    .dataframe tbody tr th {\n        vertical-align: top;\n    }\n\n    .dataframe thead th {\n        text-align: right;\n    }\n</style>\n<table border=\"1\" class=\"dataframe\">\n  <thead>\n    <tr style=\"text-align: right;\">\n      <th></th>\n      <th>Set</th>\n      <th>Num</th>\n      <th>Lexicon</th>\n      <th>UserID</th>\n      <th>Date</th>\n      <th>MinDepth</th>\n      <th>MaxDepth</th>\n      <th>DepthRes</th>\n      <th>DepthAcc</th>\n      <th>Missing</th>\n    </tr>\n  </thead>\n  <tbody>\n    <tr>\n      <th>0</th>\n      <td>devel</td>\n      <td>1</td>\n      <td>CanadaAviationGroundCirculation1</td>\n      <td>A</td>\n      <td>2011 10 05 16 26</td>\n      <td>801</td>\n      <td>1964</td>\n      <td>76</td>\n      <td>2</td>\n      <td>0</td>\n    </tr>\n    <tr>\n      <th>1</th>\n      <td>devel</td>\n      <td>2</td>\n      <td>RefereeWrestlingSignals1</td>\n      <td>I</td>\n      <td>2011 09 28 14 31</td>\n      <td>801</td>\n      <td>1968</td>\n      <td>71</td>\n      <td>1</td>\n      <td>0</td>\n    </tr>\n    <tr>\n      <th>2</th>\n      <td>devel</td>\n      <td>3</td>\n      <td>GangHandSignals1</td>\n      <td>L</td>\n      <td>2011 09 27 12 16</td>\n      <td>801</td>\n      <td>1506</td>\n      <td>95</td>\n      <td>1</td>\n      <td>0</td>\n    </tr>\n    <tr>\n      <th>3</th>\n      <td>devel</td>\n      <td>4</td>\n      <td>DivingSignals2</td>\n      <td>J</td>\n      <td>2011 09 26 09 01</td>\n      <td>801</td>\n      <td>1869</td>\n      <td>100</td>\n      <td>1</td>\n      <td>0</td>\n    </tr>\n    <tr>\n      <th>4</th>\n      <td>devel</td>\n      <td>5</td>\n      <td>GestunoDisaster</td>\n      <td>L</td>\n      <td>2011 10 11 15 16</td>\n      <td>824</td>\n      <td>1964</td>\n      <td>91</td>\n      <td>2</td>\n      <td>0</td>\n    </tr>\n  </tbody>\n</table>\n</div>"
     },
     "metadata": {},
     "execution_count": 4
    }
   ],
   "source": [
    "chalearn_labels_df.head()"
   ]
  },
  {
   "cell_type": "code",
   "execution_count": 5,
   "metadata": {},
   "outputs": [
    {
     "output_type": "execute_result",
     "data": {
      "text/plain": [
       "       Set  Num         Lexicon\n",
       "3    devel    4  DivingSignals2\n",
       "19   devel   20  DivingSignals1\n",
       "22   valid    3  DivingSignals2\n",
       "45   devel   26  DivingSignals2\n",
       "54   devel   35  DivingSignals1\n",
       "62   devel   43  DivingSignals2\n",
       "71   devel   52  DivingSignals1\n",
       "90   devel   71  DivingSignals1\n",
       "92   devel   73  DivingSignals1\n",
       "98   devel   79  DivingSignals2\n",
       "102  devel   83  DivingSignals2\n",
       "117  devel   98  DivingSignals2\n",
       "131  devel  112  DivingSignals1\n",
       "177  devel  158  DivingSignals2\n",
       "200  devel  181  DivingSignals2\n",
       "216  devel  197  DivingSignals1\n",
       "217  devel  198  DivingSignals2\n",
       "218  devel  199  DivingSignals1\n",
       "274  devel  255  DivingSignals2\n",
       "291  devel  272  DivingSignals1\n",
       "312  devel  293  DivingSignals1\n",
       "319  devel  300  DivingSignals2\n",
       "322  devel  303  DivingSignals1\n",
       "357  devel  338  DivingSignals1\n",
       "380  devel  361  DivingSignals2\n",
       "430  devel  411  DivingSignals2\n",
       "439  devel  420  DivingSignals1\n",
       "459  devel  440  DivingSignals2\n",
       "494  devel  475  DivingSignals1"
      ],
      "text/html": "<div>\n<style scoped>\n    .dataframe tbody tr th:only-of-type {\n        vertical-align: middle;\n    }\n\n    .dataframe tbody tr th {\n        vertical-align: top;\n    }\n\n    .dataframe thead th {\n        text-align: right;\n    }\n</style>\n<table border=\"1\" class=\"dataframe\">\n  <thead>\n    <tr style=\"text-align: right;\">\n      <th></th>\n      <th>Set</th>\n      <th>Num</th>\n      <th>Lexicon</th>\n    </tr>\n  </thead>\n  <tbody>\n    <tr>\n      <th>3</th>\n      <td>devel</td>\n      <td>4</td>\n      <td>DivingSignals2</td>\n    </tr>\n    <tr>\n      <th>19</th>\n      <td>devel</td>\n      <td>20</td>\n      <td>DivingSignals1</td>\n    </tr>\n    <tr>\n      <th>22</th>\n      <td>valid</td>\n      <td>3</td>\n      <td>DivingSignals2</td>\n    </tr>\n    <tr>\n      <th>45</th>\n      <td>devel</td>\n      <td>26</td>\n      <td>DivingSignals2</td>\n    </tr>\n    <tr>\n      <th>54</th>\n      <td>devel</td>\n      <td>35</td>\n      <td>DivingSignals1</td>\n    </tr>\n    <tr>\n      <th>62</th>\n      <td>devel</td>\n      <td>43</td>\n      <td>DivingSignals2</td>\n    </tr>\n    <tr>\n      <th>71</th>\n      <td>devel</td>\n      <td>52</td>\n      <td>DivingSignals1</td>\n    </tr>\n    <tr>\n      <th>90</th>\n      <td>devel</td>\n      <td>71</td>\n      <td>DivingSignals1</td>\n    </tr>\n    <tr>\n      <th>92</th>\n      <td>devel</td>\n      <td>73</td>\n      <td>DivingSignals1</td>\n    </tr>\n    <tr>\n      <th>98</th>\n      <td>devel</td>\n      <td>79</td>\n      <td>DivingSignals2</td>\n    </tr>\n    <tr>\n      <th>102</th>\n      <td>devel</td>\n      <td>83</td>\n      <td>DivingSignals2</td>\n    </tr>\n    <tr>\n      <th>117</th>\n      <td>devel</td>\n      <td>98</td>\n      <td>DivingSignals2</td>\n    </tr>\n    <tr>\n      <th>131</th>\n      <td>devel</td>\n      <td>112</td>\n      <td>DivingSignals1</td>\n    </tr>\n    <tr>\n      <th>177</th>\n      <td>devel</td>\n      <td>158</td>\n      <td>DivingSignals2</td>\n    </tr>\n    <tr>\n      <th>200</th>\n      <td>devel</td>\n      <td>181</td>\n      <td>DivingSignals2</td>\n    </tr>\n    <tr>\n      <th>216</th>\n      <td>devel</td>\n      <td>197</td>\n      <td>DivingSignals1</td>\n    </tr>\n    <tr>\n      <th>217</th>\n      <td>devel</td>\n      <td>198</td>\n      <td>DivingSignals2</td>\n    </tr>\n    <tr>\n      <th>218</th>\n      <td>devel</td>\n      <td>199</td>\n      <td>DivingSignals1</td>\n    </tr>\n    <tr>\n      <th>274</th>\n      <td>devel</td>\n      <td>255</td>\n      <td>DivingSignals2</td>\n    </tr>\n    <tr>\n      <th>291</th>\n      <td>devel</td>\n      <td>272</td>\n      <td>DivingSignals1</td>\n    </tr>\n    <tr>\n      <th>312</th>\n      <td>devel</td>\n      <td>293</td>\n      <td>DivingSignals1</td>\n    </tr>\n    <tr>\n      <th>319</th>\n      <td>devel</td>\n      <td>300</td>\n      <td>DivingSignals2</td>\n    </tr>\n    <tr>\n      <th>322</th>\n      <td>devel</td>\n      <td>303</td>\n      <td>DivingSignals1</td>\n    </tr>\n    <tr>\n      <th>357</th>\n      <td>devel</td>\n      <td>338</td>\n      <td>DivingSignals1</td>\n    </tr>\n    <tr>\n      <th>380</th>\n      <td>devel</td>\n      <td>361</td>\n      <td>DivingSignals2</td>\n    </tr>\n    <tr>\n      <th>430</th>\n      <td>devel</td>\n      <td>411</td>\n      <td>DivingSignals2</td>\n    </tr>\n    <tr>\n      <th>439</th>\n      <td>devel</td>\n      <td>420</td>\n      <td>DivingSignals1</td>\n    </tr>\n    <tr>\n      <th>459</th>\n      <td>devel</td>\n      <td>440</td>\n      <td>DivingSignals2</td>\n    </tr>\n    <tr>\n      <th>494</th>\n      <td>devel</td>\n      <td>475</td>\n      <td>DivingSignals1</td>\n    </tr>\n  </tbody>\n</table>\n</div>"
     },
     "metadata": {},
     "execution_count": 5
    }
   ],
   "source": [
    "chlearn_diving_labels_df = chalearn_labels_df.loc[chalearn_labels_df[\"Lexicon\"].isin([\"DivingSignals1\", \"DivingSignals2\"])].drop(chalearn_labels_df.loc[:,\"UserID\":], axis = 1)\n",
    "chlearn_diving_labels_df"
   ]
  },
  {
   "cell_type": "code",
   "execution_count": 6,
   "metadata": {},
   "outputs": [],
   "source": [
    "import os"
   ]
  },
  {
   "cell_type": "code",
   "execution_count": 7,
   "metadata": {},
   "outputs": [],
   "source": [
    "def find_dir(number, path, name):\n",
    "    for dirname in os.listdir(path):\n",
    "        splitted = dirname.split(\"-\")\n",
    "        if splitted[0] != name:\n",
    "            continue\n",
    "        if (int(splitted[1]) < number <= int(splitted[2])):\n",
    "            subpath = os.path.join(path, dirname)\n",
    "            for subdirname in os.listdir(subpath):\n",
    "                subsplitted = subdirname.split(name)\n",
    "                if subsplitted[0] != \"\":\n",
    "                    continue\n",
    "                if int(subsplitted[1]) == number:\n",
    "                    dest_path = os.path.join(subpath, subdirname)\n",
    "                    for dest_file in os.listdir(dest_path):\n",
    "                        if dest_file.split(\".\")[1] == \"csv\":\n",
    "                            yield dest_path, dest_file\n",
    "                            "
   ]
  },
  {
   "cell_type": "code",
   "execution_count": 18,
   "metadata": {},
   "outputs": [
    {
     "output_type": "execute_result",
     "data": {
      "text/plain": [
       "(1326, 4)"
      ]
     },
     "metadata": {},
     "execution_count": 18
    }
   ],
   "source": [
    "df = pd.DataFrame(columns=[\"name\", \"label\", \"path\"])\n",
    "for index, row in chlearn_diving_labels_df.iterrows():\n",
    "    for dest_path, csv_file  in find_dir(row[\"Num\"], chalearn_path, row[\"Set\"]):\n",
    "        df_set = pd.read_csv(os.path.join(dest_path, csv_file), names=[\"name\", \"label\"])\n",
    "        df_set[\"path\"] = dest_path\n",
    "        df_set[\"lexicon\"] = row[\"Lexicon\"]\n",
    "        for subindex, subrow in df_set.iterrows():\n",
    "            subrow.at[\"name\"].split(\"_\")[1]\n",
    "            subrow.at[\"path\"] = os.path.join(subrow.at[\"path\"], \"M_\" + subrow.at[\"name\"].split(\"_\")[1] + \".avi\")\n",
    "        df = pd.concat([df, df_set], ignore_index=True, sort=False)\n",
    "df.shape"
   ]
  },
  {
   "source": [
    "## Extract poses from each video"
   ],
   "cell_type": "markdown",
   "metadata": {}
  },
  {
   "cell_type": "code",
   "execution_count": 9,
   "metadata": {},
   "outputs": [],
   "source": [
    "import numpy as np\n",
    "import cv2\n",
    "import os\n",
    "import torch\n",
    "import torch.nn as nn\n",
    "\n",
    "os.sys.path.append('poseEstimation')\n",
    "from poseEstimation.demo import infer_fast, VideoReader\n",
    "from poseEstimation.modules.pose import Pose\n",
    "from poseEstimation.modules.load_state import load_state\n",
    "from poseEstimation.modules.keypoints import extract_keypoints, group_keypoints\n",
    "from poseEstimation.models.with_mobilenet import PoseEstimationWithMobileNet"
   ]
  },
  {
   "cell_type": "code",
   "execution_count": 10,
   "metadata": {},
   "outputs": [
    {
     "output_type": "stream",
     "name": "stdout",
     "text": [
      "Using device: cuda\n"
     ]
    }
   ],
   "source": [
    "DEVICE = \"cuda\" if torch.cuda.is_available() else \"cpu\"\n",
    "# DEVICE = \"cpu\"\n",
    "print(\"Using device: \" + DEVICE)\n",
    "if torch.backends.cudnn.is_available():\n",
    "    torch.backends.cudnn.enabled = True\n",
    "\n",
    "SEED = 42\n",
    "\n",
    "np.random.seed(SEED)\n",
    "torch.manual_seed(SEED)\n",
    "torch.cuda.manual_seed_all(SEED)\n",
    "if torch.cuda.is_available():\n",
    "    torch.backends.cudnn.deterministic = True\n",
    "\n",
    "net = PoseEstimationWithMobileNet()\n",
    "checkpoint = torch.load(\n",
    "    \"weights/checkpoint_iter_370000.pth\", map_location='cpu')\n",
    "load_state(net, checkpoint)"
   ]
  },
  {
   "cell_type": "code",
   "execution_count": 11,
   "metadata": {},
   "outputs": [],
   "source": [
    "column_names = [  \"j0_x\",  \"j0_y\", \"j1_x\", \"j1_y\" , \"j2_x\", \"j2_y\", \"j3_x\", \"j3_y\", \"j4_x\", \"j4_y\", \"j5_x\", \"j5_y\", \"j6_x\", \"j6_y\", \"j7_x\", \"j7_y\", \"j8_x\", \"j8_y\", \"j9_x\", \"j9_y\", \"j10_x\", \"j10_y\", \"j11_x\", \"j11_y\", \"j12_x\", \"j12_y\", \"j13_x\", \"j13_y\", 'j14_x', \"j14_y\", \"j15_x\", \"j15_y\", \"j16_x\", \"j16_y\", \"j17_x\", \"j17_y\" ]"
   ]
  },
  {
   "cell_type": "code",
   "execution_count": 12,
   "metadata": {},
   "outputs": [],
   "source": [
    "def infer(net, image_provider, height_size, cpu):\n",
    "    net = net.eval()\n",
    "    if not cpu:\n",
    "        net = net.cuda()\n",
    "\n",
    "    stride = 8\n",
    "    upsample_ratio = 4\n",
    "    num_keypoints = Pose.num_kpts\n",
    "\n",
    "    pose_sequence = []\n",
    "    prediction = 0\n",
    "    prediction_made = False\n",
    "\n",
    "    for img in image_provider:\n",
    "        heatmaps, pafs, scale, pad = infer_fast(\n",
    "            net, img, height_size, stride, upsample_ratio, cpu)\n",
    "\n",
    "        total_keypoints_num = 0\n",
    "        all_keypoints_by_type = []\n",
    "        for kpt_idx in range(num_keypoints):  # 19th for bg\n",
    "            total_keypoints_num += extract_keypoints(\n",
    "                heatmaps[:, :, kpt_idx], all_keypoints_by_type, total_keypoints_num)\n",
    "\n",
    "        pose_entries, all_keypoints = group_keypoints(\n",
    "            all_keypoints_by_type, pafs)\n",
    "        for kpt_id in range(all_keypoints.shape[0]):\n",
    "            all_keypoints[kpt_id, 0] = (\n",
    "                all_keypoints[kpt_id, 0] * stride / upsample_ratio - pad[1]) / scale\n",
    "            all_keypoints[kpt_id, 1] = (\n",
    "                all_keypoints[kpt_id, 1] * stride / upsample_ratio - pad[0]) / scale\n",
    "        current_poses = []\n",
    "        for n in range(len(pose_entries)):\n",
    "            if len(pose_entries[n]) == 0:\n",
    "                continue\n",
    "            pose_keypoints = np.ones((num_keypoints, 2), dtype=np.int32) * -1\n",
    "            for kpt_id in range(num_keypoints):\n",
    "                \n",
    "                if pose_entries[n][kpt_id] != -1.0:  # keypoint was found\n",
    "                    pose_keypoints[kpt_id, 0] = int(\n",
    "                        all_keypoints[int(pose_entries[n][kpt_id]), 0])\n",
    "                    pose_keypoints[kpt_id, 1] = int(\n",
    "                        all_keypoints[int(pose_entries[n][kpt_id]), 1])\n",
    "                else:\n",
    "                    pose_keypoints[kpt_id, 0] = 0\n",
    "                    pose_keypoints[kpt_id, 1] = 0\n",
    "            pose = Pose(pose_keypoints, pose_entries[n][18])\n",
    "            \n",
    "            current_poses.append(pose)\n",
    "\n",
    "        if (len(current_poses) > 0):\n",
    "            pose_sequence.append(current_poses[0].keypoints.reshape([36]))\n",
    "\n",
    "    return pose_sequence"
   ]
  },
  {
   "cell_type": "code",
   "execution_count": 19,
   "metadata": {},
   "outputs": [
    {
     "output_type": "stream",
     "name": "stdout",
     "text": [
      "devel04_11\n",
      "devel04_12\n",
      "devel04_13\n",
      "devel04_14\n",
      "devel04_15\n",
      "devel04_16\n",
      "devel04_17\n",
      "devel04_18\n",
      "devel04_19\n",
      "devel04_20\n"
     ]
    }
   ],
   "source": [
    "poses_df = pd.DataFrame(columns=column_names +[\"name\"])\n",
    "for index, row in df.iterrows():\n",
    "    if index == 10:\n",
    "        break\n",
    "    print(row[\"name\"])\n",
    "    frame_provider = VideoReader(row[\"path\"])\n",
    "    pose_sequence = infer(net, frame_provider, 256, False)\n",
    "    pose_df = pd.DataFrame(pose_sequence, columns=column_names)\n",
    "    pose_df[\"name\"] = row[\"name\"]\n",
    "    poses_df = pd.concat([poses_df, pose_df], ignore_index=True, sort=False)"
   ]
  },
  {
   "cell_type": "code",
   "execution_count": 20,
   "metadata": {},
   "outputs": [
    {
     "output_type": "execute_result",
     "data": {
      "text/plain": [
       "    j0_x j0_y j1_x j1_y j2_x j2_y j3_x j3_y j4_x j4_y  ... j13_y j14_x j14_y  \\\n",
       "0    132   78  128  110  100  110   90  150  117  166  ...     0   126    73   \n",
       "1    132   78  128  112  100  112   89  151  113  172  ...     0   126    73   \n",
       "2    132   78  128  112   98  112   89  151  105  185  ...     0   128    73   \n",
       "3    132   78  128  114   98  112   90  157  102  198  ...     0   126    73   \n",
       "4    132   78  128  112   98  112   89  159   92  204  ...     0   126    73   \n",
       "..   ...  ...  ...  ...  ...  ...  ...  ...  ...  ...  ...   ...   ...   ...   \n",
       "784  137   73  135  108  105  108   94  153   98  195  ...     0   132    67   \n",
       "785  137   73  135  108  105  108   92  153   94  193  ...     0   132    67   \n",
       "786  137   73  135  108  104  108   92  151   96  191  ...     0   132    67   \n",
       "787  137   73  135  108  104  108   92  150  100  187  ...     0   132    67   \n",
       "788  137   73  135  108  104  108   92  148  102  180  ...     0   132    67   \n",
       "\n",
       "    j15_x j15_y j16_x j16_y j17_x j17_y        name  \n",
       "0     137    73   117    76   145    76  devel04_11  \n",
       "1     137    73   117    76   145    76  devel04_11  \n",
       "2     137    73   117    76   145    76  devel04_11  \n",
       "3     139    73   117    76   145    76  devel04_11  \n",
       "4     137    71   117    76   145    75  devel04_11  \n",
       "..    ...   ...   ...   ...   ...   ...         ...  \n",
       "784   143    69   122    71   150    71  devel04_20  \n",
       "785   143    69   122    71   150    71  devel04_20  \n",
       "786   143    69   120    71   150    71  devel04_20  \n",
       "787   143    69   120    71   150    71  devel04_20  \n",
       "788   143    69   120    71   149    71  devel04_20  \n",
       "\n",
       "[789 rows x 37 columns]"
      ],
      "text/html": "<div>\n<style scoped>\n    .dataframe tbody tr th:only-of-type {\n        vertical-align: middle;\n    }\n\n    .dataframe tbody tr th {\n        vertical-align: top;\n    }\n\n    .dataframe thead th {\n        text-align: right;\n    }\n</style>\n<table border=\"1\" class=\"dataframe\">\n  <thead>\n    <tr style=\"text-align: right;\">\n      <th></th>\n      <th>j0_x</th>\n      <th>j0_y</th>\n      <th>j1_x</th>\n      <th>j1_y</th>\n      <th>j2_x</th>\n      <th>j2_y</th>\n      <th>j3_x</th>\n      <th>j3_y</th>\n      <th>j4_x</th>\n      <th>j4_y</th>\n      <th>...</th>\n      <th>j13_y</th>\n      <th>j14_x</th>\n      <th>j14_y</th>\n      <th>j15_x</th>\n      <th>j15_y</th>\n      <th>j16_x</th>\n      <th>j16_y</th>\n      <th>j17_x</th>\n      <th>j17_y</th>\n      <th>name</th>\n    </tr>\n  </thead>\n  <tbody>\n    <tr>\n      <th>0</th>\n      <td>132</td>\n      <td>78</td>\n      <td>128</td>\n      <td>110</td>\n      <td>100</td>\n      <td>110</td>\n      <td>90</td>\n      <td>150</td>\n      <td>117</td>\n      <td>166</td>\n      <td>...</td>\n      <td>0</td>\n      <td>126</td>\n      <td>73</td>\n      <td>137</td>\n      <td>73</td>\n      <td>117</td>\n      <td>76</td>\n      <td>145</td>\n      <td>76</td>\n      <td>devel04_11</td>\n    </tr>\n    <tr>\n      <th>1</th>\n      <td>132</td>\n      <td>78</td>\n      <td>128</td>\n      <td>112</td>\n      <td>100</td>\n      <td>112</td>\n      <td>89</td>\n      <td>151</td>\n      <td>113</td>\n      <td>172</td>\n      <td>...</td>\n      <td>0</td>\n      <td>126</td>\n      <td>73</td>\n      <td>137</td>\n      <td>73</td>\n      <td>117</td>\n      <td>76</td>\n      <td>145</td>\n      <td>76</td>\n      <td>devel04_11</td>\n    </tr>\n    <tr>\n      <th>2</th>\n      <td>132</td>\n      <td>78</td>\n      <td>128</td>\n      <td>112</td>\n      <td>98</td>\n      <td>112</td>\n      <td>89</td>\n      <td>151</td>\n      <td>105</td>\n      <td>185</td>\n      <td>...</td>\n      <td>0</td>\n      <td>128</td>\n      <td>73</td>\n      <td>137</td>\n      <td>73</td>\n      <td>117</td>\n      <td>76</td>\n      <td>145</td>\n      <td>76</td>\n      <td>devel04_11</td>\n    </tr>\n    <tr>\n      <th>3</th>\n      <td>132</td>\n      <td>78</td>\n      <td>128</td>\n      <td>114</td>\n      <td>98</td>\n      <td>112</td>\n      <td>90</td>\n      <td>157</td>\n      <td>102</td>\n      <td>198</td>\n      <td>...</td>\n      <td>0</td>\n      <td>126</td>\n      <td>73</td>\n      <td>139</td>\n      <td>73</td>\n      <td>117</td>\n      <td>76</td>\n      <td>145</td>\n      <td>76</td>\n      <td>devel04_11</td>\n    </tr>\n    <tr>\n      <th>4</th>\n      <td>132</td>\n      <td>78</td>\n      <td>128</td>\n      <td>112</td>\n      <td>98</td>\n      <td>112</td>\n      <td>89</td>\n      <td>159</td>\n      <td>92</td>\n      <td>204</td>\n      <td>...</td>\n      <td>0</td>\n      <td>126</td>\n      <td>73</td>\n      <td>137</td>\n      <td>71</td>\n      <td>117</td>\n      <td>76</td>\n      <td>145</td>\n      <td>75</td>\n      <td>devel04_11</td>\n    </tr>\n    <tr>\n      <th>...</th>\n      <td>...</td>\n      <td>...</td>\n      <td>...</td>\n      <td>...</td>\n      <td>...</td>\n      <td>...</td>\n      <td>...</td>\n      <td>...</td>\n      <td>...</td>\n      <td>...</td>\n      <td>...</td>\n      <td>...</td>\n      <td>...</td>\n      <td>...</td>\n      <td>...</td>\n      <td>...</td>\n      <td>...</td>\n      <td>...</td>\n      <td>...</td>\n      <td>...</td>\n      <td>...</td>\n    </tr>\n    <tr>\n      <th>784</th>\n      <td>137</td>\n      <td>73</td>\n      <td>135</td>\n      <td>108</td>\n      <td>105</td>\n      <td>108</td>\n      <td>94</td>\n      <td>153</td>\n      <td>98</td>\n      <td>195</td>\n      <td>...</td>\n      <td>0</td>\n      <td>132</td>\n      <td>67</td>\n      <td>143</td>\n      <td>69</td>\n      <td>122</td>\n      <td>71</td>\n      <td>150</td>\n      <td>71</td>\n      <td>devel04_20</td>\n    </tr>\n    <tr>\n      <th>785</th>\n      <td>137</td>\n      <td>73</td>\n      <td>135</td>\n      <td>108</td>\n      <td>105</td>\n      <td>108</td>\n      <td>92</td>\n      <td>153</td>\n      <td>94</td>\n      <td>193</td>\n      <td>...</td>\n      <td>0</td>\n      <td>132</td>\n      <td>67</td>\n      <td>143</td>\n      <td>69</td>\n      <td>122</td>\n      <td>71</td>\n      <td>150</td>\n      <td>71</td>\n      <td>devel04_20</td>\n    </tr>\n    <tr>\n      <th>786</th>\n      <td>137</td>\n      <td>73</td>\n      <td>135</td>\n      <td>108</td>\n      <td>104</td>\n      <td>108</td>\n      <td>92</td>\n      <td>151</td>\n      <td>96</td>\n      <td>191</td>\n      <td>...</td>\n      <td>0</td>\n      <td>132</td>\n      <td>67</td>\n      <td>143</td>\n      <td>69</td>\n      <td>120</td>\n      <td>71</td>\n      <td>150</td>\n      <td>71</td>\n      <td>devel04_20</td>\n    </tr>\n    <tr>\n      <th>787</th>\n      <td>137</td>\n      <td>73</td>\n      <td>135</td>\n      <td>108</td>\n      <td>104</td>\n      <td>108</td>\n      <td>92</td>\n      <td>150</td>\n      <td>100</td>\n      <td>187</td>\n      <td>...</td>\n      <td>0</td>\n      <td>132</td>\n      <td>67</td>\n      <td>143</td>\n      <td>69</td>\n      <td>120</td>\n      <td>71</td>\n      <td>150</td>\n      <td>71</td>\n      <td>devel04_20</td>\n    </tr>\n    <tr>\n      <th>788</th>\n      <td>137</td>\n      <td>73</td>\n      <td>135</td>\n      <td>108</td>\n      <td>104</td>\n      <td>108</td>\n      <td>92</td>\n      <td>148</td>\n      <td>102</td>\n      <td>180</td>\n      <td>...</td>\n      <td>0</td>\n      <td>132</td>\n      <td>67</td>\n      <td>143</td>\n      <td>69</td>\n      <td>120</td>\n      <td>71</td>\n      <td>149</td>\n      <td>71</td>\n      <td>devel04_20</td>\n    </tr>\n  </tbody>\n</table>\n<p>789 rows × 37 columns</p>\n</div>"
     },
     "metadata": {},
     "execution_count": 20
    }
   ],
   "source": [
    "poses_df"
   ]
  },
  {
   "cell_type": "code",
   "execution_count": null,
   "metadata": {},
   "outputs": [],
   "source": []
  }
 ]
}