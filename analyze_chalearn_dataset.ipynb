{
 "metadata": {
  "language_info": {
   "codemirror_mode": {
    "name": "ipython",
    "version": 3
   },
   "file_extension": ".py",
   "mimetype": "text/x-python",
   "name": "python",
   "nbconvert_exporter": "python",
   "pygments_lexer": "ipython3",
   "version": "3.8.5-final"
  },
  "orig_nbformat": 2,
  "kernelspec": {
   "name": "python3",
   "display_name": "Python 3",
   "language": "python"
  }
 },
 "nbformat": 4,
 "nbformat_minor": 2,
 "cells": [
  {
   "cell_type": "code",
   "execution_count": 2,
   "metadata": {},
   "outputs": [],
   "source": [
    "import pandas as pd"
   ]
  },
  {
   "cell_type": "code",
   "execution_count": 19,
   "metadata": {},
   "outputs": [],
   "source": [
    "chalearn_path = \"/home/vlados/datasets/chalearn/\"\n",
    "chalearn_labels_path = chalearn_path + \"Info_devel_valid.txt\""
   ]
  },
  {
   "cell_type": "code",
   "execution_count": 4,
   "metadata": {},
   "outputs": [],
   "source": [
    "chalearn_labels_df = pd.read_csv(chalearn_labels_path, sep=\"\\t\")"
   ]
  },
  {
   "cell_type": "code",
   "execution_count": 5,
   "metadata": {},
   "outputs": [
    {
     "output_type": "execute_result",
     "data": {
      "text/plain": [
       "     Set  Num                           Lexicon UserID              Date  \\\n",
       "0  devel    1  CanadaAviationGroundCirculation1      A  2011 10 05 16 26   \n",
       "1  devel    2          RefereeWrestlingSignals1      I  2011 09 28 14 31   \n",
       "2  devel    3                  GangHandSignals1      L  2011 09 27 12 16   \n",
       "3  devel    4                    DivingSignals2      J  2011 09 26 09 01   \n",
       "4  devel    5                   GestunoDisaster      L  2011 10 11 15 16   \n",
       "\n",
       "   MinDepth  MaxDepth  DepthRes  DepthAcc  Missing  \n",
       "0       801      1964        76         2        0  \n",
       "1       801      1968        71         1        0  \n",
       "2       801      1506        95         1        0  \n",
       "3       801      1869       100         1        0  \n",
       "4       824      1964        91         2        0  "
      ],
      "text/html": "<div>\n<style scoped>\n    .dataframe tbody tr th:only-of-type {\n        vertical-align: middle;\n    }\n\n    .dataframe tbody tr th {\n        vertical-align: top;\n    }\n\n    .dataframe thead th {\n        text-align: right;\n    }\n</style>\n<table border=\"1\" class=\"dataframe\">\n  <thead>\n    <tr style=\"text-align: right;\">\n      <th></th>\n      <th>Set</th>\n      <th>Num</th>\n      <th>Lexicon</th>\n      <th>UserID</th>\n      <th>Date</th>\n      <th>MinDepth</th>\n      <th>MaxDepth</th>\n      <th>DepthRes</th>\n      <th>DepthAcc</th>\n      <th>Missing</th>\n    </tr>\n  </thead>\n  <tbody>\n    <tr>\n      <th>0</th>\n      <td>devel</td>\n      <td>1</td>\n      <td>CanadaAviationGroundCirculation1</td>\n      <td>A</td>\n      <td>2011 10 05 16 26</td>\n      <td>801</td>\n      <td>1964</td>\n      <td>76</td>\n      <td>2</td>\n      <td>0</td>\n    </tr>\n    <tr>\n      <th>1</th>\n      <td>devel</td>\n      <td>2</td>\n      <td>RefereeWrestlingSignals1</td>\n      <td>I</td>\n      <td>2011 09 28 14 31</td>\n      <td>801</td>\n      <td>1968</td>\n      <td>71</td>\n      <td>1</td>\n      <td>0</td>\n    </tr>\n    <tr>\n      <th>2</th>\n      <td>devel</td>\n      <td>3</td>\n      <td>GangHandSignals1</td>\n      <td>L</td>\n      <td>2011 09 27 12 16</td>\n      <td>801</td>\n      <td>1506</td>\n      <td>95</td>\n      <td>1</td>\n      <td>0</td>\n    </tr>\n    <tr>\n      <th>3</th>\n      <td>devel</td>\n      <td>4</td>\n      <td>DivingSignals2</td>\n      <td>J</td>\n      <td>2011 09 26 09 01</td>\n      <td>801</td>\n      <td>1869</td>\n      <td>100</td>\n      <td>1</td>\n      <td>0</td>\n    </tr>\n    <tr>\n      <th>4</th>\n      <td>devel</td>\n      <td>5</td>\n      <td>GestunoDisaster</td>\n      <td>L</td>\n      <td>2011 10 11 15 16</td>\n      <td>824</td>\n      <td>1964</td>\n      <td>91</td>\n      <td>2</td>\n      <td>0</td>\n    </tr>\n  </tbody>\n</table>\n</div>"
     },
     "metadata": {},
     "execution_count": 5
    }
   ],
   "source": [
    "chalearn_labels_df.head()"
   ]
  },
  {
   "cell_type": "code",
   "execution_count": 17,
   "metadata": {},
   "outputs": [
    {
     "output_type": "execute_result",
     "data": {
      "text/plain": [
       "       Set  Num         Lexicon\n",
       "3    devel    4  DivingSignals2\n",
       "19   devel   20  DivingSignals1\n",
       "22   valid    3  DivingSignals2\n",
       "45   devel   26  DivingSignals2\n",
       "54   devel   35  DivingSignals1\n",
       "62   devel   43  DivingSignals2\n",
       "71   devel   52  DivingSignals1\n",
       "90   devel   71  DivingSignals1\n",
       "92   devel   73  DivingSignals1\n",
       "98   devel   79  DivingSignals2\n",
       "102  devel   83  DivingSignals2\n",
       "117  devel   98  DivingSignals2\n",
       "131  devel  112  DivingSignals1\n",
       "177  devel  158  DivingSignals2\n",
       "200  devel  181  DivingSignals2\n",
       "216  devel  197  DivingSignals1\n",
       "217  devel  198  DivingSignals2\n",
       "218  devel  199  DivingSignals1\n",
       "274  devel  255  DivingSignals2\n",
       "291  devel  272  DivingSignals1\n",
       "312  devel  293  DivingSignals1\n",
       "319  devel  300  DivingSignals2\n",
       "322  devel  303  DivingSignals1\n",
       "357  devel  338  DivingSignals1\n",
       "380  devel  361  DivingSignals2\n",
       "430  devel  411  DivingSignals2\n",
       "439  devel  420  DivingSignals1\n",
       "459  devel  440  DivingSignals2\n",
       "494  devel  475  DivingSignals1"
      ],
      "text/html": "<div>\n<style scoped>\n    .dataframe tbody tr th:only-of-type {\n        vertical-align: middle;\n    }\n\n    .dataframe tbody tr th {\n        vertical-align: top;\n    }\n\n    .dataframe thead th {\n        text-align: right;\n    }\n</style>\n<table border=\"1\" class=\"dataframe\">\n  <thead>\n    <tr style=\"text-align: right;\">\n      <th></th>\n      <th>Set</th>\n      <th>Num</th>\n      <th>Lexicon</th>\n    </tr>\n  </thead>\n  <tbody>\n    <tr>\n      <th>3</th>\n      <td>devel</td>\n      <td>4</td>\n      <td>DivingSignals2</td>\n    </tr>\n    <tr>\n      <th>19</th>\n      <td>devel</td>\n      <td>20</td>\n      <td>DivingSignals1</td>\n    </tr>\n    <tr>\n      <th>22</th>\n      <td>valid</td>\n      <td>3</td>\n      <td>DivingSignals2</td>\n    </tr>\n    <tr>\n      <th>45</th>\n      <td>devel</td>\n      <td>26</td>\n      <td>DivingSignals2</td>\n    </tr>\n    <tr>\n      <th>54</th>\n      <td>devel</td>\n      <td>35</td>\n      <td>DivingSignals1</td>\n    </tr>\n    <tr>\n      <th>62</th>\n      <td>devel</td>\n      <td>43</td>\n      <td>DivingSignals2</td>\n    </tr>\n    <tr>\n      <th>71</th>\n      <td>devel</td>\n      <td>52</td>\n      <td>DivingSignals1</td>\n    </tr>\n    <tr>\n      <th>90</th>\n      <td>devel</td>\n      <td>71</td>\n      <td>DivingSignals1</td>\n    </tr>\n    <tr>\n      <th>92</th>\n      <td>devel</td>\n      <td>73</td>\n      <td>DivingSignals1</td>\n    </tr>\n    <tr>\n      <th>98</th>\n      <td>devel</td>\n      <td>79</td>\n      <td>DivingSignals2</td>\n    </tr>\n    <tr>\n      <th>102</th>\n      <td>devel</td>\n      <td>83</td>\n      <td>DivingSignals2</td>\n    </tr>\n    <tr>\n      <th>117</th>\n      <td>devel</td>\n      <td>98</td>\n      <td>DivingSignals2</td>\n    </tr>\n    <tr>\n      <th>131</th>\n      <td>devel</td>\n      <td>112</td>\n      <td>DivingSignals1</td>\n    </tr>\n    <tr>\n      <th>177</th>\n      <td>devel</td>\n      <td>158</td>\n      <td>DivingSignals2</td>\n    </tr>\n    <tr>\n      <th>200</th>\n      <td>devel</td>\n      <td>181</td>\n      <td>DivingSignals2</td>\n    </tr>\n    <tr>\n      <th>216</th>\n      <td>devel</td>\n      <td>197</td>\n      <td>DivingSignals1</td>\n    </tr>\n    <tr>\n      <th>217</th>\n      <td>devel</td>\n      <td>198</td>\n      <td>DivingSignals2</td>\n    </tr>\n    <tr>\n      <th>218</th>\n      <td>devel</td>\n      <td>199</td>\n      <td>DivingSignals1</td>\n    </tr>\n    <tr>\n      <th>274</th>\n      <td>devel</td>\n      <td>255</td>\n      <td>DivingSignals2</td>\n    </tr>\n    <tr>\n      <th>291</th>\n      <td>devel</td>\n      <td>272</td>\n      <td>DivingSignals1</td>\n    </tr>\n    <tr>\n      <th>312</th>\n      <td>devel</td>\n      <td>293</td>\n      <td>DivingSignals1</td>\n    </tr>\n    <tr>\n      <th>319</th>\n      <td>devel</td>\n      <td>300</td>\n      <td>DivingSignals2</td>\n    </tr>\n    <tr>\n      <th>322</th>\n      <td>devel</td>\n      <td>303</td>\n      <td>DivingSignals1</td>\n    </tr>\n    <tr>\n      <th>357</th>\n      <td>devel</td>\n      <td>338</td>\n      <td>DivingSignals1</td>\n    </tr>\n    <tr>\n      <th>380</th>\n      <td>devel</td>\n      <td>361</td>\n      <td>DivingSignals2</td>\n    </tr>\n    <tr>\n      <th>430</th>\n      <td>devel</td>\n      <td>411</td>\n      <td>DivingSignals2</td>\n    </tr>\n    <tr>\n      <th>439</th>\n      <td>devel</td>\n      <td>420</td>\n      <td>DivingSignals1</td>\n    </tr>\n    <tr>\n      <th>459</th>\n      <td>devel</td>\n      <td>440</td>\n      <td>DivingSignals2</td>\n    </tr>\n    <tr>\n      <th>494</th>\n      <td>devel</td>\n      <td>475</td>\n      <td>DivingSignals1</td>\n    </tr>\n  </tbody>\n</table>\n</div>"
     },
     "metadata": {},
     "execution_count": 17
    }
   ],
   "source": [
    "chlearn_diving_labels_df = chalearn_labels_df.loc[chalearn_labels_df[\"Lexicon\"].isin([\"DivingSignals1\", \"DivingSignals2\"])].drop(chalearn_labels_df.loc[:,\"UserID\":], axis = 1)\n",
    "chlearn_diving_labels_df"
   ]
  },
  {
   "cell_type": "code",
   "execution_count": 18,
   "metadata": {},
   "outputs": [],
   "source": [
    "import os"
   ]
  },
  {
   "cell_type": "code",
   "execution_count": 95,
   "metadata": {},
   "outputs": [],
   "source": [
    "def find_dir(number, path):\n",
    "    for dirname in os.listdir(path):\n",
    "        splitted = dirname.split(\"-\")\n",
    "        if splitted[0] != \"devel\":\n",
    "            continue\n",
    "        if (int(splitted[1]) < number <= int(splitted[2])):\n",
    "            subpath = os.path.join(path, dirname)\n",
    "            for subdirname in os.listdir(subpath):\n",
    "                subsplitted = subdirname.split(\"devel\")\n",
    "                if subsplitted[0] != \"\":\n",
    "                    continue\n",
    "                if int(subsplitted[1]) == number:\n",
    "                    dest_path = os.path.join(subpath, subdirname)\n",
    "                    for dest_file in os.listdir(dest_path):\n",
    "                        if dest_file.split(\".\")[1] == \"csv\":\n",
    "                            yield os.path.join(dest_path, dest_file)\n",
    "                            "
   ]
  },
  {
   "cell_type": "code",
   "execution_count": 104,
   "metadata": {},
   "outputs": [
    {
     "output_type": "execute_result",
     "data": {
      "text/plain": [
       "         video         label\n",
       "0   devel04_11             3\n",
       "1   devel04_12             1\n",
       "2   devel04_13           2 7\n",
       "3   devel04_14             2\n",
       "4   devel04_15         9 5 4\n",
       "5   devel04_16             7\n",
       "6   devel04_17       4 7 4 3\n",
       "7   devel04_18             5\n",
       "8   devel04_19           9 2\n",
       "9   devel04_20      9 10 8 4\n",
       "10  devel04_21         3 4 1\n",
       "11  devel04_22           3 8\n",
       "12  devel04_23             3\n",
       "13  devel04_24          7 10\n",
       "14  devel04_25     5 1 4 9 8\n",
       "15  devel04_26          10 3\n",
       "16  devel04_27       7 2 2 5\n",
       "17  devel04_28            10\n",
       "18  devel04_29           5 6\n",
       "19  devel04_30    1 9 3 1 10\n",
       "20  devel04_31             6\n",
       "21  devel04_32         8 7 9\n",
       "22  devel04_33           4 9\n",
       "23  devel04_34        5 10 7\n",
       "24  devel04_35        2 6 10\n",
       "25  devel04_36             9\n",
       "26  devel04_37       8 5 5 2\n",
       "27  devel04_38     2 4 1 8 5\n",
       "28  devel04_39             1\n",
       "29  devel04_40           8 1\n",
       "30  devel04_41           1 5\n",
       "31  devel04_42           6 4\n",
       "32  devel04_43         1 1 6\n",
       "33  devel04_44   9 8 10 10 6\n",
       "34  devel04_45             8\n",
       "35  devel04_46     10 8 10 8\n",
       "36  devel04_47             4\n",
       "37   devel04_1             9\n",
       "38   devel04_2             6\n",
       "39   devel04_3             1\n",
       "40   devel04_4             7\n",
       "41   devel04_5             5\n",
       "42   devel04_6             2\n",
       "43   devel04_7             3\n",
       "44   devel04_8            10\n",
       "45   devel04_9             4\n",
       "46  devel04_10             8"
      ],
      "text/html": "<div>\n<style scoped>\n    .dataframe tbody tr th:only-of-type {\n        vertical-align: middle;\n    }\n\n    .dataframe tbody tr th {\n        vertical-align: top;\n    }\n\n    .dataframe thead th {\n        text-align: right;\n    }\n</style>\n<table border=\"1\" class=\"dataframe\">\n  <thead>\n    <tr style=\"text-align: right;\">\n      <th></th>\n      <th>video</th>\n      <th>label</th>\n    </tr>\n  </thead>\n  <tbody>\n    <tr>\n      <th>0</th>\n      <td>devel04_11</td>\n      <td>3</td>\n    </tr>\n    <tr>\n      <th>1</th>\n      <td>devel04_12</td>\n      <td>1</td>\n    </tr>\n    <tr>\n      <th>2</th>\n      <td>devel04_13</td>\n      <td>2 7</td>\n    </tr>\n    <tr>\n      <th>3</th>\n      <td>devel04_14</td>\n      <td>2</td>\n    </tr>\n    <tr>\n      <th>4</th>\n      <td>devel04_15</td>\n      <td>9 5 4</td>\n    </tr>\n    <tr>\n      <th>5</th>\n      <td>devel04_16</td>\n      <td>7</td>\n    </tr>\n    <tr>\n      <th>6</th>\n      <td>devel04_17</td>\n      <td>4 7 4 3</td>\n    </tr>\n    <tr>\n      <th>7</th>\n      <td>devel04_18</td>\n      <td>5</td>\n    </tr>\n    <tr>\n      <th>8</th>\n      <td>devel04_19</td>\n      <td>9 2</td>\n    </tr>\n    <tr>\n      <th>9</th>\n      <td>devel04_20</td>\n      <td>9 10 8 4</td>\n    </tr>\n    <tr>\n      <th>10</th>\n      <td>devel04_21</td>\n      <td>3 4 1</td>\n    </tr>\n    <tr>\n      <th>11</th>\n      <td>devel04_22</td>\n      <td>3 8</td>\n    </tr>\n    <tr>\n      <th>12</th>\n      <td>devel04_23</td>\n      <td>3</td>\n    </tr>\n    <tr>\n      <th>13</th>\n      <td>devel04_24</td>\n      <td>7 10</td>\n    </tr>\n    <tr>\n      <th>14</th>\n      <td>devel04_25</td>\n      <td>5 1 4 9 8</td>\n    </tr>\n    <tr>\n      <th>15</th>\n      <td>devel04_26</td>\n      <td>10 3</td>\n    </tr>\n    <tr>\n      <th>16</th>\n      <td>devel04_27</td>\n      <td>7 2 2 5</td>\n    </tr>\n    <tr>\n      <th>17</th>\n      <td>devel04_28</td>\n      <td>10</td>\n    </tr>\n    <tr>\n      <th>18</th>\n      <td>devel04_29</td>\n      <td>5 6</td>\n    </tr>\n    <tr>\n      <th>19</th>\n      <td>devel04_30</td>\n      <td>1 9 3 1 10</td>\n    </tr>\n    <tr>\n      <th>20</th>\n      <td>devel04_31</td>\n      <td>6</td>\n    </tr>\n    <tr>\n      <th>21</th>\n      <td>devel04_32</td>\n      <td>8 7 9</td>\n    </tr>\n    <tr>\n      <th>22</th>\n      <td>devel04_33</td>\n      <td>4 9</td>\n    </tr>\n    <tr>\n      <th>23</th>\n      <td>devel04_34</td>\n      <td>5 10 7</td>\n    </tr>\n    <tr>\n      <th>24</th>\n      <td>devel04_35</td>\n      <td>2 6 10</td>\n    </tr>\n    <tr>\n      <th>25</th>\n      <td>devel04_36</td>\n      <td>9</td>\n    </tr>\n    <tr>\n      <th>26</th>\n      <td>devel04_37</td>\n      <td>8 5 5 2</td>\n    </tr>\n    <tr>\n      <th>27</th>\n      <td>devel04_38</td>\n      <td>2 4 1 8 5</td>\n    </tr>\n    <tr>\n      <th>28</th>\n      <td>devel04_39</td>\n      <td>1</td>\n    </tr>\n    <tr>\n      <th>29</th>\n      <td>devel04_40</td>\n      <td>8 1</td>\n    </tr>\n    <tr>\n      <th>30</th>\n      <td>devel04_41</td>\n      <td>1 5</td>\n    </tr>\n    <tr>\n      <th>31</th>\n      <td>devel04_42</td>\n      <td>6 4</td>\n    </tr>\n    <tr>\n      <th>32</th>\n      <td>devel04_43</td>\n      <td>1 1 6</td>\n    </tr>\n    <tr>\n      <th>33</th>\n      <td>devel04_44</td>\n      <td>9 8 10 10 6</td>\n    </tr>\n    <tr>\n      <th>34</th>\n      <td>devel04_45</td>\n      <td>8</td>\n    </tr>\n    <tr>\n      <th>35</th>\n      <td>devel04_46</td>\n      <td>10 8 10 8</td>\n    </tr>\n    <tr>\n      <th>36</th>\n      <td>devel04_47</td>\n      <td>4</td>\n    </tr>\n    <tr>\n      <th>37</th>\n      <td>devel04_1</td>\n      <td>9</td>\n    </tr>\n    <tr>\n      <th>38</th>\n      <td>devel04_2</td>\n      <td>6</td>\n    </tr>\n    <tr>\n      <th>39</th>\n      <td>devel04_3</td>\n      <td>1</td>\n    </tr>\n    <tr>\n      <th>40</th>\n      <td>devel04_4</td>\n      <td>7</td>\n    </tr>\n    <tr>\n      <th>41</th>\n      <td>devel04_5</td>\n      <td>5</td>\n    </tr>\n    <tr>\n      <th>42</th>\n      <td>devel04_6</td>\n      <td>2</td>\n    </tr>\n    <tr>\n      <th>43</th>\n      <td>devel04_7</td>\n      <td>3</td>\n    </tr>\n    <tr>\n      <th>44</th>\n      <td>devel04_8</td>\n      <td>10</td>\n    </tr>\n    <tr>\n      <th>45</th>\n      <td>devel04_9</td>\n      <td>4</td>\n    </tr>\n    <tr>\n      <th>46</th>\n      <td>devel04_10</td>\n      <td>8</td>\n    </tr>\n  </tbody>\n</table>\n</div>"
     },
     "metadata": {},
     "execution_count": 104
    }
   ],
   "source": [
    "df = pd.DataFrame(columns=[\"video\", \"label\"])\n",
    "for df_path in find_dir(chlearn_diving_labels_df.iloc[0][\"Num\"], chalearn_path):\n",
    "    df = pd.concat([df, pd.read_csv(df_path,names=[\"video\", \"label\"])], ignore_index=True, sort=False)\n",
    "df"
   ]
  },
  {
   "cell_type": "code",
   "execution_count": 52,
   "metadata": {},
   "outputs": [
    {
     "output_type": "stream",
     "name": "stdout",
     "text": [
      "devel-1-20\ndevel-1-20\ndevel-1-20\ndevel-21-135\ndevel-21-135\ndevel-21-135\ndevel-21-135\ndevel-21-135\ndevel-21-135\ndevel-21-135\ndevel-21-135\ndevel-21-135\ndevel-21-135\ndevel-136-250\ndevel-136-250\ndevel-136-250\ndevel-136-250\ndevel-136-250\ndevel-251-365\ndevel-251-365\ndevel-251-365\ndevel-251-365\ndevel-251-365\ndevel-251-365\ndevel-251-365\ndevel-366-480\ndevel-366-480\ndevel-366-480\ndevel-366-480\n"
     ]
    }
   ],
   "source": [
    "\n",
    "for index, row in chlearn_diving_labels_df.iterrows():\n",
    "    print(find_dir(row[\"Num\"]))"
   ]
  },
  {
   "cell_type": "code",
   "execution_count": null,
   "metadata": {},
   "outputs": [],
   "source": []
  }
 ]
}