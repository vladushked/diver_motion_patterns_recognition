{
 "metadata": {
  "language_info": {
   "codemirror_mode": {
    "name": "ipython",
    "version": 3
   },
   "file_extension": ".py",
   "mimetype": "text/x-python",
   "name": "python",
   "nbconvert_exporter": "python",
   "pygments_lexer": "ipython3",
   "version": "3.8.5-final"
  },
  "orig_nbformat": 2,
  "kernelspec": {
   "name": "python3",
   "display_name": "Python 3",
   "language": "python"
  }
 },
 "nbformat": 4,
 "nbformat_minor": 2,
 "cells": [
  {
   "source": [
    "## Extract diving pose gestures"
   ],
   "cell_type": "markdown",
   "metadata": {}
  },
  {
   "cell_type": "code",
   "execution_count": 1,
   "metadata": {},
   "outputs": [],
   "source": [
    "import pandas as pd"
   ]
  },
  {
   "cell_type": "code",
   "execution_count": 2,
   "metadata": {},
   "outputs": [],
   "source": [
    "chalearn_path = \"/home/vlados/datasets/chalearn/\"\n",
    "chalearn_labels_path = chalearn_path + \"Info_devel_valid.txt\""
   ]
  },
  {
   "cell_type": "code",
   "execution_count": 3,
   "metadata": {},
   "outputs": [],
   "source": [
    "chalearn_labels_df = pd.read_csv(chalearn_labels_path, sep=\"\\t\")"
   ]
  },
  {
   "cell_type": "code",
   "execution_count": 4,
   "metadata": {},
   "outputs": [
    {
     "output_type": "execute_result",
     "data": {
      "text/plain": [
       "     Set  Num                           Lexicon UserID              Date  \\\n",
       "0  devel    1  CanadaAviationGroundCirculation1      A  2011 10 05 16 26   \n",
       "1  devel    2          RefereeWrestlingSignals1      I  2011 09 28 14 31   \n",
       "2  devel    3                  GangHandSignals1      L  2011 09 27 12 16   \n",
       "3  devel    4                    DivingSignals2      J  2011 09 26 09 01   \n",
       "4  devel    5                   GestunoDisaster      L  2011 10 11 15 16   \n",
       "\n",
       "   MinDepth  MaxDepth  DepthRes  DepthAcc  Missing  \n",
       "0       801      1964        76         2        0  \n",
       "1       801      1968        71         1        0  \n",
       "2       801      1506        95         1        0  \n",
       "3       801      1869       100         1        0  \n",
       "4       824      1964        91         2        0  "
      ],
      "text/html": "<div>\n<style scoped>\n    .dataframe tbody tr th:only-of-type {\n        vertical-align: middle;\n    }\n\n    .dataframe tbody tr th {\n        vertical-align: top;\n    }\n\n    .dataframe thead th {\n        text-align: right;\n    }\n</style>\n<table border=\"1\" class=\"dataframe\">\n  <thead>\n    <tr style=\"text-align: right;\">\n      <th></th>\n      <th>Set</th>\n      <th>Num</th>\n      <th>Lexicon</th>\n      <th>UserID</th>\n      <th>Date</th>\n      <th>MinDepth</th>\n      <th>MaxDepth</th>\n      <th>DepthRes</th>\n      <th>DepthAcc</th>\n      <th>Missing</th>\n    </tr>\n  </thead>\n  <tbody>\n    <tr>\n      <th>0</th>\n      <td>devel</td>\n      <td>1</td>\n      <td>CanadaAviationGroundCirculation1</td>\n      <td>A</td>\n      <td>2011 10 05 16 26</td>\n      <td>801</td>\n      <td>1964</td>\n      <td>76</td>\n      <td>2</td>\n      <td>0</td>\n    </tr>\n    <tr>\n      <th>1</th>\n      <td>devel</td>\n      <td>2</td>\n      <td>RefereeWrestlingSignals1</td>\n      <td>I</td>\n      <td>2011 09 28 14 31</td>\n      <td>801</td>\n      <td>1968</td>\n      <td>71</td>\n      <td>1</td>\n      <td>0</td>\n    </tr>\n    <tr>\n      <th>2</th>\n      <td>devel</td>\n      <td>3</td>\n      <td>GangHandSignals1</td>\n      <td>L</td>\n      <td>2011 09 27 12 16</td>\n      <td>801</td>\n      <td>1506</td>\n      <td>95</td>\n      <td>1</td>\n      <td>0</td>\n    </tr>\n    <tr>\n      <th>3</th>\n      <td>devel</td>\n      <td>4</td>\n      <td>DivingSignals2</td>\n      <td>J</td>\n      <td>2011 09 26 09 01</td>\n      <td>801</td>\n      <td>1869</td>\n      <td>100</td>\n      <td>1</td>\n      <td>0</td>\n    </tr>\n    <tr>\n      <th>4</th>\n      <td>devel</td>\n      <td>5</td>\n      <td>GestunoDisaster</td>\n      <td>L</td>\n      <td>2011 10 11 15 16</td>\n      <td>824</td>\n      <td>1964</td>\n      <td>91</td>\n      <td>2</td>\n      <td>0</td>\n    </tr>\n  </tbody>\n</table>\n</div>"
     },
     "metadata": {},
     "execution_count": 4
    }
   ],
   "source": [
    "chalearn_labels_df.head()"
   ]
  },
  {
   "cell_type": "code",
   "execution_count": 65,
   "metadata": {},
   "outputs": [
    {
     "output_type": "execute_result",
     "data": {
      "text/plain": [
       "       Set  Num         Lexicon UserID\n",
       "3    devel    4  DivingSignals2      J\n",
       "19   devel   20  DivingSignals1      D\n",
       "22   valid    3  DivingSignals2      Z\n",
       "45   devel   26  DivingSignals2      L\n",
       "54   devel   35  DivingSignals1      O\n",
       "62   devel   43  DivingSignals2      L\n",
       "71   devel   52  DivingSignals1      I\n",
       "90   devel   71  DivingSignals1      R\n",
       "92   devel   73  DivingSignals1      H\n",
       "98   devel   79  DivingSignals2      M\n",
       "102  devel   83  DivingSignals2      C\n",
       "117  devel   98  DivingSignals2      B\n",
       "131  devel  112  DivingSignals1      C\n",
       "177  devel  158  DivingSignals2      A\n",
       "200  devel  181  DivingSignals2      B\n",
       "216  devel  197  DivingSignals1      Z\n",
       "217  devel  198  DivingSignals2      K\n",
       "218  devel  199  DivingSignals1      J\n",
       "274  devel  255  DivingSignals2      O\n",
       "291  devel  272  DivingSignals1      L\n",
       "312  devel  293  DivingSignals1      L\n",
       "319  devel  300  DivingSignals2      I\n",
       "322  devel  303  DivingSignals1      K\n",
       "357  devel  338  DivingSignals1      B\n",
       "380  devel  361  DivingSignals2      D\n",
       "430  devel  411  DivingSignals2      H\n",
       "439  devel  420  DivingSignals1      A\n",
       "459  devel  440  DivingSignals2      R\n",
       "494  devel  475  DivingSignals1      M"
      ],
      "text/html": "<div>\n<style scoped>\n    .dataframe tbody tr th:only-of-type {\n        vertical-align: middle;\n    }\n\n    .dataframe tbody tr th {\n        vertical-align: top;\n    }\n\n    .dataframe thead th {\n        text-align: right;\n    }\n</style>\n<table border=\"1\" class=\"dataframe\">\n  <thead>\n    <tr style=\"text-align: right;\">\n      <th></th>\n      <th>Set</th>\n      <th>Num</th>\n      <th>Lexicon</th>\n      <th>UserID</th>\n    </tr>\n  </thead>\n  <tbody>\n    <tr>\n      <th>3</th>\n      <td>devel</td>\n      <td>4</td>\n      <td>DivingSignals2</td>\n      <td>J</td>\n    </tr>\n    <tr>\n      <th>19</th>\n      <td>devel</td>\n      <td>20</td>\n      <td>DivingSignals1</td>\n      <td>D</td>\n    </tr>\n    <tr>\n      <th>22</th>\n      <td>valid</td>\n      <td>3</td>\n      <td>DivingSignals2</td>\n      <td>Z</td>\n    </tr>\n    <tr>\n      <th>45</th>\n      <td>devel</td>\n      <td>26</td>\n      <td>DivingSignals2</td>\n      <td>L</td>\n    </tr>\n    <tr>\n      <th>54</th>\n      <td>devel</td>\n      <td>35</td>\n      <td>DivingSignals1</td>\n      <td>O</td>\n    </tr>\n    <tr>\n      <th>62</th>\n      <td>devel</td>\n      <td>43</td>\n      <td>DivingSignals2</td>\n      <td>L</td>\n    </tr>\n    <tr>\n      <th>71</th>\n      <td>devel</td>\n      <td>52</td>\n      <td>DivingSignals1</td>\n      <td>I</td>\n    </tr>\n    <tr>\n      <th>90</th>\n      <td>devel</td>\n      <td>71</td>\n      <td>DivingSignals1</td>\n      <td>R</td>\n    </tr>\n    <tr>\n      <th>92</th>\n      <td>devel</td>\n      <td>73</td>\n      <td>DivingSignals1</td>\n      <td>H</td>\n    </tr>\n    <tr>\n      <th>98</th>\n      <td>devel</td>\n      <td>79</td>\n      <td>DivingSignals2</td>\n      <td>M</td>\n    </tr>\n    <tr>\n      <th>102</th>\n      <td>devel</td>\n      <td>83</td>\n      <td>DivingSignals2</td>\n      <td>C</td>\n    </tr>\n    <tr>\n      <th>117</th>\n      <td>devel</td>\n      <td>98</td>\n      <td>DivingSignals2</td>\n      <td>B</td>\n    </tr>\n    <tr>\n      <th>131</th>\n      <td>devel</td>\n      <td>112</td>\n      <td>DivingSignals1</td>\n      <td>C</td>\n    </tr>\n    <tr>\n      <th>177</th>\n      <td>devel</td>\n      <td>158</td>\n      <td>DivingSignals2</td>\n      <td>A</td>\n    </tr>\n    <tr>\n      <th>200</th>\n      <td>devel</td>\n      <td>181</td>\n      <td>DivingSignals2</td>\n      <td>B</td>\n    </tr>\n    <tr>\n      <th>216</th>\n      <td>devel</td>\n      <td>197</td>\n      <td>DivingSignals1</td>\n      <td>Z</td>\n    </tr>\n    <tr>\n      <th>217</th>\n      <td>devel</td>\n      <td>198</td>\n      <td>DivingSignals2</td>\n      <td>K</td>\n    </tr>\n    <tr>\n      <th>218</th>\n      <td>devel</td>\n      <td>199</td>\n      <td>DivingSignals1</td>\n      <td>J</td>\n    </tr>\n    <tr>\n      <th>274</th>\n      <td>devel</td>\n      <td>255</td>\n      <td>DivingSignals2</td>\n      <td>O</td>\n    </tr>\n    <tr>\n      <th>291</th>\n      <td>devel</td>\n      <td>272</td>\n      <td>DivingSignals1</td>\n      <td>L</td>\n    </tr>\n    <tr>\n      <th>312</th>\n      <td>devel</td>\n      <td>293</td>\n      <td>DivingSignals1</td>\n      <td>L</td>\n    </tr>\n    <tr>\n      <th>319</th>\n      <td>devel</td>\n      <td>300</td>\n      <td>DivingSignals2</td>\n      <td>I</td>\n    </tr>\n    <tr>\n      <th>322</th>\n      <td>devel</td>\n      <td>303</td>\n      <td>DivingSignals1</td>\n      <td>K</td>\n    </tr>\n    <tr>\n      <th>357</th>\n      <td>devel</td>\n      <td>338</td>\n      <td>DivingSignals1</td>\n      <td>B</td>\n    </tr>\n    <tr>\n      <th>380</th>\n      <td>devel</td>\n      <td>361</td>\n      <td>DivingSignals2</td>\n      <td>D</td>\n    </tr>\n    <tr>\n      <th>430</th>\n      <td>devel</td>\n      <td>411</td>\n      <td>DivingSignals2</td>\n      <td>H</td>\n    </tr>\n    <tr>\n      <th>439</th>\n      <td>devel</td>\n      <td>420</td>\n      <td>DivingSignals1</td>\n      <td>A</td>\n    </tr>\n    <tr>\n      <th>459</th>\n      <td>devel</td>\n      <td>440</td>\n      <td>DivingSignals2</td>\n      <td>R</td>\n    </tr>\n    <tr>\n      <th>494</th>\n      <td>devel</td>\n      <td>475</td>\n      <td>DivingSignals1</td>\n      <td>M</td>\n    </tr>\n  </tbody>\n</table>\n</div>"
     },
     "metadata": {},
     "execution_count": 65
    }
   ],
   "source": [
    "chlearn_diving_labels_df = chalearn_labels_df.loc[chalearn_labels_df[\"Lexicon\"].isin([\"DivingSignals1\", \"DivingSignals2\"])].drop(chalearn_labels_df.loc[:,\"Date\":], axis = 1)\n",
    "chlearn_diving_labels_df"
   ]
  },
  {
   "cell_type": "code",
   "execution_count": 6,
   "metadata": {},
   "outputs": [],
   "source": [
    "import os"
   ]
  },
  {
   "cell_type": "code",
   "execution_count": 7,
   "metadata": {},
   "outputs": [],
   "source": [
    "def find_dir(number, path, name):\n",
    "    for dirname in os.listdir(path):\n",
    "        splitted = dirname.split(\"-\")\n",
    "        if splitted[0] != name:\n",
    "            continue\n",
    "        if (int(splitted[1]) < number <= int(splitted[2])):\n",
    "            subpath = os.path.join(path, dirname)\n",
    "            for subdirname in os.listdir(subpath):\n",
    "                subsplitted = subdirname.split(name)\n",
    "                if subsplitted[0] != \"\":\n",
    "                    continue\n",
    "                if int(subsplitted[1]) == number:\n",
    "                    dest_path = os.path.join(subpath, subdirname)\n",
    "                    for dest_file in os.listdir(dest_path):\n",
    "                        if dest_file.split(\".\")[1] == \"csv\":\n",
    "                            yield dest_path, dest_file\n",
    "                            "
   ]
  },
  {
   "cell_type": "code",
   "execution_count": 66,
   "metadata": {},
   "outputs": [
    {
     "output_type": "execute_result",
     "data": {
      "text/plain": [
       "            name   label                                               path  \\\n",
       "0     devel04_11       3  /home/vlados/datasets/chalearn/devel-1-20/deve...   \n",
       "1     devel04_12       1  /home/vlados/datasets/chalearn/devel-1-20/deve...   \n",
       "2     devel04_13     2 7  /home/vlados/datasets/chalearn/devel-1-20/deve...   \n",
       "3     devel04_14       2  /home/vlados/datasets/chalearn/devel-1-20/deve...   \n",
       "4     devel04_15   9 5 4  /home/vlados/datasets/chalearn/devel-1-20/deve...   \n",
       "...          ...     ...                                                ...   \n",
       "1321  devel475_5       9  /home/vlados/datasets/chalearn/devel-366-480/d...   \n",
       "1322  devel475_6       8  /home/vlados/datasets/chalearn/devel-366-480/d...   \n",
       "1323  devel475_7       5  /home/vlados/datasets/chalearn/devel-366-480/d...   \n",
       "1324  devel475_8       4  /home/vlados/datasets/chalearn/devel-366-480/d...   \n",
       "1325  devel475_9       2  /home/vlados/datasets/chalearn/devel-366-480/d...   \n",
       "\n",
       "             lexicon user  \n",
       "0     DivingSignals2    J  \n",
       "1     DivingSignals2    J  \n",
       "2     DivingSignals2    J  \n",
       "3     DivingSignals2    J  \n",
       "4     DivingSignals2    J  \n",
       "...              ...  ...  \n",
       "1321  DivingSignals1    M  \n",
       "1322  DivingSignals1    M  \n",
       "1323  DivingSignals1    M  \n",
       "1324  DivingSignals1    M  \n",
       "1325  DivingSignals1    M  \n",
       "\n",
       "[1326 rows x 5 columns]"
      ],
      "text/html": "<div>\n<style scoped>\n    .dataframe tbody tr th:only-of-type {\n        vertical-align: middle;\n    }\n\n    .dataframe tbody tr th {\n        vertical-align: top;\n    }\n\n    .dataframe thead th {\n        text-align: right;\n    }\n</style>\n<table border=\"1\" class=\"dataframe\">\n  <thead>\n    <tr style=\"text-align: right;\">\n      <th></th>\n      <th>name</th>\n      <th>label</th>\n      <th>path</th>\n      <th>lexicon</th>\n      <th>user</th>\n    </tr>\n  </thead>\n  <tbody>\n    <tr>\n      <th>0</th>\n      <td>devel04_11</td>\n      <td>3</td>\n      <td>/home/vlados/datasets/chalearn/devel-1-20/deve...</td>\n      <td>DivingSignals2</td>\n      <td>J</td>\n    </tr>\n    <tr>\n      <th>1</th>\n      <td>devel04_12</td>\n      <td>1</td>\n      <td>/home/vlados/datasets/chalearn/devel-1-20/deve...</td>\n      <td>DivingSignals2</td>\n      <td>J</td>\n    </tr>\n    <tr>\n      <th>2</th>\n      <td>devel04_13</td>\n      <td>2 7</td>\n      <td>/home/vlados/datasets/chalearn/devel-1-20/deve...</td>\n      <td>DivingSignals2</td>\n      <td>J</td>\n    </tr>\n    <tr>\n      <th>3</th>\n      <td>devel04_14</td>\n      <td>2</td>\n      <td>/home/vlados/datasets/chalearn/devel-1-20/deve...</td>\n      <td>DivingSignals2</td>\n      <td>J</td>\n    </tr>\n    <tr>\n      <th>4</th>\n      <td>devel04_15</td>\n      <td>9 5 4</td>\n      <td>/home/vlados/datasets/chalearn/devel-1-20/deve...</td>\n      <td>DivingSignals2</td>\n      <td>J</td>\n    </tr>\n    <tr>\n      <th>...</th>\n      <td>...</td>\n      <td>...</td>\n      <td>...</td>\n      <td>...</td>\n      <td>...</td>\n    </tr>\n    <tr>\n      <th>1321</th>\n      <td>devel475_5</td>\n      <td>9</td>\n      <td>/home/vlados/datasets/chalearn/devel-366-480/d...</td>\n      <td>DivingSignals1</td>\n      <td>M</td>\n    </tr>\n    <tr>\n      <th>1322</th>\n      <td>devel475_6</td>\n      <td>8</td>\n      <td>/home/vlados/datasets/chalearn/devel-366-480/d...</td>\n      <td>DivingSignals1</td>\n      <td>M</td>\n    </tr>\n    <tr>\n      <th>1323</th>\n      <td>devel475_7</td>\n      <td>5</td>\n      <td>/home/vlados/datasets/chalearn/devel-366-480/d...</td>\n      <td>DivingSignals1</td>\n      <td>M</td>\n    </tr>\n    <tr>\n      <th>1324</th>\n      <td>devel475_8</td>\n      <td>4</td>\n      <td>/home/vlados/datasets/chalearn/devel-366-480/d...</td>\n      <td>DivingSignals1</td>\n      <td>M</td>\n    </tr>\n    <tr>\n      <th>1325</th>\n      <td>devel475_9</td>\n      <td>2</td>\n      <td>/home/vlados/datasets/chalearn/devel-366-480/d...</td>\n      <td>DivingSignals1</td>\n      <td>M</td>\n    </tr>\n  </tbody>\n</table>\n<p>1326 rows × 5 columns</p>\n</div>"
     },
     "metadata": {},
     "execution_count": 66
    }
   ],
   "source": [
    "df = pd.DataFrame(columns=[\"name\", \"label\", \"path\"])\n",
    "for index, row in chlearn_diving_labels_df.iterrows():\n",
    "    for dest_path, csv_file  in find_dir(row[\"Num\"], chalearn_path, row[\"Set\"]):\n",
    "        df_set = pd.read_csv(os.path.join(dest_path, csv_file), names=[\"name\", \"label\"])\n",
    "        df_set[\"path\"] = dest_path\n",
    "        df_set[\"lexicon\"] = row[\"Lexicon\"]\n",
    "        df_set[\"user\"] = row[\"UserID\"]\n",
    "        for subindex, subrow in df_set.iterrows():\n",
    "            df_set.at[subindex, \"path\"] = os.path.join(subrow.at[\"path\"], \"M_\" + subrow.at[\"name\"].split(\"_\")[1] + \".avi\")\n",
    "        df = pd.concat([df, df_set], ignore_index=True, sort=False)\n",
    "df"
   ]
  },
  {
   "source": [
    "## Extract poses from each video"
   ],
   "cell_type": "markdown",
   "metadata": {}
  },
  {
   "cell_type": "code",
   "execution_count": 9,
   "metadata": {},
   "outputs": [],
   "source": [
    "import numpy as np\n",
    "import cv2\n",
    "import os\n",
    "import torch\n",
    "import torch.nn as nn\n",
    "\n",
    "os.sys.path.append('poseEstimation')\n",
    "from poseEstimation.demo import infer_fast, VideoReader\n",
    "from poseEstimation.modules.pose import Pose\n",
    "from poseEstimation.modules.load_state import load_state\n",
    "from poseEstimation.modules.keypoints import extract_keypoints, group_keypoints\n",
    "from poseEstimation.models.with_mobilenet import PoseEstimationWithMobileNet"
   ]
  },
  {
   "cell_type": "code",
   "execution_count": 10,
   "metadata": {},
   "outputs": [
    {
     "output_type": "stream",
     "name": "stdout",
     "text": [
      "Using device: cuda\n"
     ]
    }
   ],
   "source": [
    "DEVICE = \"cuda\" if torch.cuda.is_available() else \"cpu\"\n",
    "# DEVICE = \"cpu\"\n",
    "print(\"Using device: \" + DEVICE)\n",
    "if torch.backends.cudnn.is_available():\n",
    "    torch.backends.cudnn.enabled = True\n",
    "\n",
    "SEED = 42\n",
    "\n",
    "np.random.seed(SEED)\n",
    "torch.manual_seed(SEED)\n",
    "torch.cuda.manual_seed_all(SEED)\n",
    "if torch.cuda.is_available():\n",
    "    torch.backends.cudnn.deterministic = True\n",
    "\n",
    "net = PoseEstimationWithMobileNet()\n",
    "checkpoint = torch.load(\n",
    "    \"weights/checkpoint_iter_370000.pth\", map_location='cpu')\n",
    "load_state(net, checkpoint)"
   ]
  },
  {
   "cell_type": "code",
   "execution_count": 11,
   "metadata": {},
   "outputs": [],
   "source": [
    "column_names = [  \"j0_x\",  \"j0_y\", \"j1_x\", \"j1_y\" , \"j2_x\", \"j2_y\", \"j3_x\", \"j3_y\", \"j4_x\", \"j4_y\", \"j5_x\", \"j5_y\", \"j6_x\", \"j6_y\", \"j7_x\", \"j7_y\", \"j8_x\", \"j8_y\", \"j9_x\", \"j9_y\", \"j10_x\", \"j10_y\", \"j11_x\", \"j11_y\", \"j12_x\", \"j12_y\", \"j13_x\", \"j13_y\", 'j14_x', \"j14_y\", \"j15_x\", \"j15_y\", \"j16_x\", \"j16_y\", \"j17_x\", \"j17_y\" ]"
   ]
  },
  {
   "cell_type": "code",
   "execution_count": 12,
   "metadata": {},
   "outputs": [],
   "source": [
    "def infer(net, image_provider, height_size, cpu):\n",
    "    net = net.eval()\n",
    "    if not cpu:\n",
    "        net = net.cuda()\n",
    "\n",
    "    stride = 8\n",
    "    upsample_ratio = 4\n",
    "    num_keypoints = Pose.num_kpts\n",
    "\n",
    "    pose_sequence = []\n",
    "    prediction = 0\n",
    "    prediction_made = False\n",
    "\n",
    "    for img in image_provider:\n",
    "        heatmaps, pafs, scale, pad = infer_fast(\n",
    "            net, img, height_size, stride, upsample_ratio, cpu)\n",
    "\n",
    "        total_keypoints_num = 0\n",
    "        all_keypoints_by_type = []\n",
    "        for kpt_idx in range(num_keypoints):  # 19th for bg\n",
    "            total_keypoints_num += extract_keypoints(\n",
    "                heatmaps[:, :, kpt_idx], all_keypoints_by_type, total_keypoints_num)\n",
    "\n",
    "        pose_entries, all_keypoints = group_keypoints(\n",
    "            all_keypoints_by_type, pafs)\n",
    "        for kpt_id in range(all_keypoints.shape[0]):\n",
    "            all_keypoints[kpt_id, 0] = (\n",
    "                all_keypoints[kpt_id, 0] * stride / upsample_ratio - pad[1]) / scale\n",
    "            all_keypoints[kpt_id, 1] = (\n",
    "                all_keypoints[kpt_id, 1] * stride / upsample_ratio - pad[0]) / scale\n",
    "        current_poses = []\n",
    "        for n in range(len(pose_entries)):\n",
    "            if len(pose_entries[n]) == 0:\n",
    "                continue\n",
    "            pose_keypoints = np.ones((num_keypoints, 2), dtype=np.int32) * -1\n",
    "            for kpt_id in range(num_keypoints):\n",
    "                \n",
    "                if pose_entries[n][kpt_id] != -1.0:  # keypoint was found\n",
    "                    pose_keypoints[kpt_id, 0] = int(\n",
    "                        all_keypoints[int(pose_entries[n][kpt_id]), 0])\n",
    "                    pose_keypoints[kpt_id, 1] = int(\n",
    "                        all_keypoints[int(pose_entries[n][kpt_id]), 1])\n",
    "                else:\n",
    "                    pose_keypoints[kpt_id, 0] = 0\n",
    "                    pose_keypoints[kpt_id, 1] = 0\n",
    "            pose = Pose(pose_keypoints, pose_entries[n][18])\n",
    "            \n",
    "            current_poses.append(pose)\n",
    "\n",
    "        if (len(current_poses) > 0):\n",
    "            pose_sequence.append(current_poses[0].keypoints.reshape([36]))\n",
    "\n",
    "    return pose_sequence"
   ]
  },
  {
   "cell_type": "code",
   "execution_count": 19,
   "metadata": {},
   "outputs": [
    {
     "output_type": "stream",
     "name": "stdout",
     "text": [
      "devel04_11\n",
      "devel04_12\n",
      "devel04_13\n",
      "devel04_14\n",
      "devel04_15\n",
      "devel04_16\n",
      "devel04_17\n",
      "devel04_18\n",
      "devel04_19\n",
      "devel04_20\n"
     ]
    }
   ],
   "source": [
    "poses_df = pd.DataFrame(columns=column_names +[\"name\"])\n",
    "for index, row in df.iterrows():\n",
    "    if index == 10:\n",
    "        break\n",
    "    print(row[\"name\"])\n",
    "    frame_provider = VideoReader(row[\"path\"])\n",
    "    pose_sequence = infer(net, frame_provider, 256, False)\n",
    "    pose_df = pd.DataFrame(pose_sequence, columns=column_names)\n",
    "    pose_df[\"name\"] = row[\"name\"]\n",
    "    poses_df = pd.concat([poses_df, pose_df], ignore_index=True, sort=False)"
   ]
  },
  {
   "cell_type": "code",
   "execution_count": 22,
   "metadata": {},
   "outputs": [],
   "source": [
    "poses_df.to_csv(\"poses_from_videos.csv\", sep=\"\\t\", index=False)"
   ]
  },
  {
   "source": [
    "## Load extracted poses from csv"
   ],
   "cell_type": "markdown",
   "metadata": {}
  },
  {
   "cell_type": "code",
   "execution_count": 32,
   "metadata": {},
   "outputs": [],
   "source": [
    "poses_df = pd.read_csv(\"poses_from_videos.csv\", sep=\"\\t\")"
   ]
  },
  {
   "cell_type": "code",
   "execution_count": 46,
   "metadata": {},
   "outputs": [
    {
     "output_type": "execute_result",
     "data": {
      "text/plain": [
       "(104508, 37)"
      ]
     },
     "metadata": {},
     "execution_count": 46
    }
   ],
   "source": [
    "poses_df.shape"
   ]
  },
  {
   "source": [
    "### Find the smallest number of frames for one gesture"
   ],
   "cell_type": "markdown",
   "metadata": {}
  },
  {
   "cell_type": "code",
   "execution_count": 67,
   "metadata": {},
   "outputs": [
    {
     "output_type": "stream",
     "name": "stdout",
     "text": [
      "78.0 devel04_11 J\n",
      "38.0 devel04_12 J\n",
      "35.0 devel04_15 J\n",
      "33.0 devel04_16 J\n",
      "32.8 devel04_25 J\n",
      "32.0 devel04_44 J\n",
      "30.0 devel20_10 D\n",
      "21.25 devel20_11 D\n",
      "20.333333333333332 devel20_18 D\n",
      "18.25 devel98_38 B\n",
      "16.6 devel181_23 B\n",
      "15.333333333333334 devel181_26 B\n",
      "13.333333333333334 devel361_34 D\n"
     ]
    },
    {
     "output_type": "execute_result",
     "data": {
      "text/plain": [
       "13.333333333333334"
      ]
     },
     "metadata": {},
     "execution_count": 67
    }
   ],
   "source": [
    "min_frames_count = 100\n",
    "for index, row in df.iterrows():\n",
    "    num_frames = poses_df.loc[poses_df[\"name\"] == row[\"name\"]].shape[0]\n",
    "    if (isinstance(row[\"label\"], str)):\n",
    "        splitted_len = len(row[\"label\"].split(\" \")) - 1\n",
    "        num_frames = poses_df.loc[poses_df[\"name\"] == row[\"name\"]].shape[0] / splitted_len\n",
    "    if num_frames < min_frames_count:\n",
    "        min_frames_count = num_frames\n",
    "        print(min_frames_count, row[\"name\"], row[\"user\"])        \n",
    "min_frames_count"
   ]
  },
  {
   "source": [
    "### Cut first 1 second from \"D\" user"
   ],
   "cell_type": "markdown",
   "metadata": {}
  },
  {
   "cell_type": "code",
   "execution_count": null,
   "metadata": {},
   "outputs": [],
   "source": []
  }
 ]
}