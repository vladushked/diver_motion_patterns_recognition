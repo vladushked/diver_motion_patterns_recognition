{
 "metadata": {
  "language_info": {
   "codemirror_mode": {
    "name": "ipython",
    "version": 3
   },
   "file_extension": ".py",
   "mimetype": "text/x-python",
   "name": "python",
   "nbconvert_exporter": "python",
   "pygments_lexer": "ipython3",
   "version": "3.8.5-final"
  },
  "orig_nbformat": 2,
  "kernelspec": {
   "name": "python3",
   "display_name": "Python 3",
   "language": "python"
  }
 },
 "nbformat": 4,
 "nbformat_minor": 2,
 "cells": [
  {
   "source": [
    "## Extract diving pose gestures"
   ],
   "cell_type": "markdown",
   "metadata": {}
  },
  {
   "cell_type": "code",
   "execution_count": 4,
   "metadata": {},
   "outputs": [],
   "source": [
    "import pandas as pd"
   ]
  },
  {
   "cell_type": "code",
   "execution_count": 5,
   "metadata": {},
   "outputs": [],
   "source": [
    "chalearn_path = \"/home/vlados/datasets/chalearn/\"\n",
    "chalearn_labels_path = chalearn_path + \"Info_devel_valid.txt\""
   ]
  },
  {
   "cell_type": "code",
   "execution_count": 6,
   "metadata": {},
   "outputs": [],
   "source": [
    "chalearn_labels_df = pd.read_csv(chalearn_labels_path, sep=\"\\t\")"
   ]
  },
  {
   "cell_type": "code",
   "execution_count": 7,
   "metadata": {},
   "outputs": [
    {
     "output_type": "execute_result",
     "data": {
      "text/plain": [
       "     Set  Num                           Lexicon UserID              Date  \\\n",
       "0  devel    1  CanadaAviationGroundCirculation1      A  2011 10 05 16 26   \n",
       "1  devel    2          RefereeWrestlingSignals1      I  2011 09 28 14 31   \n",
       "2  devel    3                  GangHandSignals1      L  2011 09 27 12 16   \n",
       "3  devel    4                    DivingSignals2      J  2011 09 26 09 01   \n",
       "4  devel    5                   GestunoDisaster      L  2011 10 11 15 16   \n",
       "\n",
       "   MinDepth  MaxDepth  DepthRes  DepthAcc  Missing  \n",
       "0       801      1964        76         2        0  \n",
       "1       801      1968        71         1        0  \n",
       "2       801      1506        95         1        0  \n",
       "3       801      1869       100         1        0  \n",
       "4       824      1964        91         2        0  "
      ],
      "text/html": "<div>\n<style scoped>\n    .dataframe tbody tr th:only-of-type {\n        vertical-align: middle;\n    }\n\n    .dataframe tbody tr th {\n        vertical-align: top;\n    }\n\n    .dataframe thead th {\n        text-align: right;\n    }\n</style>\n<table border=\"1\" class=\"dataframe\">\n  <thead>\n    <tr style=\"text-align: right;\">\n      <th></th>\n      <th>Set</th>\n      <th>Num</th>\n      <th>Lexicon</th>\n      <th>UserID</th>\n      <th>Date</th>\n      <th>MinDepth</th>\n      <th>MaxDepth</th>\n      <th>DepthRes</th>\n      <th>DepthAcc</th>\n      <th>Missing</th>\n    </tr>\n  </thead>\n  <tbody>\n    <tr>\n      <th>0</th>\n      <td>devel</td>\n      <td>1</td>\n      <td>CanadaAviationGroundCirculation1</td>\n      <td>A</td>\n      <td>2011 10 05 16 26</td>\n      <td>801</td>\n      <td>1964</td>\n      <td>76</td>\n      <td>2</td>\n      <td>0</td>\n    </tr>\n    <tr>\n      <th>1</th>\n      <td>devel</td>\n      <td>2</td>\n      <td>RefereeWrestlingSignals1</td>\n      <td>I</td>\n      <td>2011 09 28 14 31</td>\n      <td>801</td>\n      <td>1968</td>\n      <td>71</td>\n      <td>1</td>\n      <td>0</td>\n    </tr>\n    <tr>\n      <th>2</th>\n      <td>devel</td>\n      <td>3</td>\n      <td>GangHandSignals1</td>\n      <td>L</td>\n      <td>2011 09 27 12 16</td>\n      <td>801</td>\n      <td>1506</td>\n      <td>95</td>\n      <td>1</td>\n      <td>0</td>\n    </tr>\n    <tr>\n      <th>3</th>\n      <td>devel</td>\n      <td>4</td>\n      <td>DivingSignals2</td>\n      <td>J</td>\n      <td>2011 09 26 09 01</td>\n      <td>801</td>\n      <td>1869</td>\n      <td>100</td>\n      <td>1</td>\n      <td>0</td>\n    </tr>\n    <tr>\n      <th>4</th>\n      <td>devel</td>\n      <td>5</td>\n      <td>GestunoDisaster</td>\n      <td>L</td>\n      <td>2011 10 11 15 16</td>\n      <td>824</td>\n      <td>1964</td>\n      <td>91</td>\n      <td>2</td>\n      <td>0</td>\n    </tr>\n  </tbody>\n</table>\n</div>"
     },
     "metadata": {},
     "execution_count": 7
    }
   ],
   "source": [
    "chalearn_labels_df.head()"
   ]
  },
  {
   "cell_type": "code",
   "execution_count": 8,
   "metadata": {},
   "outputs": [
    {
     "output_type": "execute_result",
     "data": {
      "text/plain": [
       "       Set  Num         Lexicon UserID\n",
       "3    devel    4  DivingSignals2      J\n",
       "19   devel   20  DivingSignals1      D\n",
       "22   valid    3  DivingSignals2      Z\n",
       "45   devel   26  DivingSignals2      L\n",
       "54   devel   35  DivingSignals1      O\n",
       "62   devel   43  DivingSignals2      L\n",
       "71   devel   52  DivingSignals1      I\n",
       "90   devel   71  DivingSignals1      R\n",
       "92   devel   73  DivingSignals1      H\n",
       "98   devel   79  DivingSignals2      M\n",
       "102  devel   83  DivingSignals2      C\n",
       "117  devel   98  DivingSignals2      B\n",
       "131  devel  112  DivingSignals1      C\n",
       "177  devel  158  DivingSignals2      A\n",
       "200  devel  181  DivingSignals2      B\n",
       "216  devel  197  DivingSignals1      Z\n",
       "217  devel  198  DivingSignals2      K\n",
       "218  devel  199  DivingSignals1      J\n",
       "274  devel  255  DivingSignals2      O\n",
       "291  devel  272  DivingSignals1      L\n",
       "312  devel  293  DivingSignals1      L\n",
       "319  devel  300  DivingSignals2      I\n",
       "322  devel  303  DivingSignals1      K\n",
       "357  devel  338  DivingSignals1      B\n",
       "380  devel  361  DivingSignals2      D\n",
       "430  devel  411  DivingSignals2      H\n",
       "439  devel  420  DivingSignals1      A\n",
       "459  devel  440  DivingSignals2      R\n",
       "494  devel  475  DivingSignals1      M"
      ],
      "text/html": "<div>\n<style scoped>\n    .dataframe tbody tr th:only-of-type {\n        vertical-align: middle;\n    }\n\n    .dataframe tbody tr th {\n        vertical-align: top;\n    }\n\n    .dataframe thead th {\n        text-align: right;\n    }\n</style>\n<table border=\"1\" class=\"dataframe\">\n  <thead>\n    <tr style=\"text-align: right;\">\n      <th></th>\n      <th>Set</th>\n      <th>Num</th>\n      <th>Lexicon</th>\n      <th>UserID</th>\n    </tr>\n  </thead>\n  <tbody>\n    <tr>\n      <th>3</th>\n      <td>devel</td>\n      <td>4</td>\n      <td>DivingSignals2</td>\n      <td>J</td>\n    </tr>\n    <tr>\n      <th>19</th>\n      <td>devel</td>\n      <td>20</td>\n      <td>DivingSignals1</td>\n      <td>D</td>\n    </tr>\n    <tr>\n      <th>22</th>\n      <td>valid</td>\n      <td>3</td>\n      <td>DivingSignals2</td>\n      <td>Z</td>\n    </tr>\n    <tr>\n      <th>45</th>\n      <td>devel</td>\n      <td>26</td>\n      <td>DivingSignals2</td>\n      <td>L</td>\n    </tr>\n    <tr>\n      <th>54</th>\n      <td>devel</td>\n      <td>35</td>\n      <td>DivingSignals1</td>\n      <td>O</td>\n    </tr>\n    <tr>\n      <th>62</th>\n      <td>devel</td>\n      <td>43</td>\n      <td>DivingSignals2</td>\n      <td>L</td>\n    </tr>\n    <tr>\n      <th>71</th>\n      <td>devel</td>\n      <td>52</td>\n      <td>DivingSignals1</td>\n      <td>I</td>\n    </tr>\n    <tr>\n      <th>90</th>\n      <td>devel</td>\n      <td>71</td>\n      <td>DivingSignals1</td>\n      <td>R</td>\n    </tr>\n    <tr>\n      <th>92</th>\n      <td>devel</td>\n      <td>73</td>\n      <td>DivingSignals1</td>\n      <td>H</td>\n    </tr>\n    <tr>\n      <th>98</th>\n      <td>devel</td>\n      <td>79</td>\n      <td>DivingSignals2</td>\n      <td>M</td>\n    </tr>\n    <tr>\n      <th>102</th>\n      <td>devel</td>\n      <td>83</td>\n      <td>DivingSignals2</td>\n      <td>C</td>\n    </tr>\n    <tr>\n      <th>117</th>\n      <td>devel</td>\n      <td>98</td>\n      <td>DivingSignals2</td>\n      <td>B</td>\n    </tr>\n    <tr>\n      <th>131</th>\n      <td>devel</td>\n      <td>112</td>\n      <td>DivingSignals1</td>\n      <td>C</td>\n    </tr>\n    <tr>\n      <th>177</th>\n      <td>devel</td>\n      <td>158</td>\n      <td>DivingSignals2</td>\n      <td>A</td>\n    </tr>\n    <tr>\n      <th>200</th>\n      <td>devel</td>\n      <td>181</td>\n      <td>DivingSignals2</td>\n      <td>B</td>\n    </tr>\n    <tr>\n      <th>216</th>\n      <td>devel</td>\n      <td>197</td>\n      <td>DivingSignals1</td>\n      <td>Z</td>\n    </tr>\n    <tr>\n      <th>217</th>\n      <td>devel</td>\n      <td>198</td>\n      <td>DivingSignals2</td>\n      <td>K</td>\n    </tr>\n    <tr>\n      <th>218</th>\n      <td>devel</td>\n      <td>199</td>\n      <td>DivingSignals1</td>\n      <td>J</td>\n    </tr>\n    <tr>\n      <th>274</th>\n      <td>devel</td>\n      <td>255</td>\n      <td>DivingSignals2</td>\n      <td>O</td>\n    </tr>\n    <tr>\n      <th>291</th>\n      <td>devel</td>\n      <td>272</td>\n      <td>DivingSignals1</td>\n      <td>L</td>\n    </tr>\n    <tr>\n      <th>312</th>\n      <td>devel</td>\n      <td>293</td>\n      <td>DivingSignals1</td>\n      <td>L</td>\n    </tr>\n    <tr>\n      <th>319</th>\n      <td>devel</td>\n      <td>300</td>\n      <td>DivingSignals2</td>\n      <td>I</td>\n    </tr>\n    <tr>\n      <th>322</th>\n      <td>devel</td>\n      <td>303</td>\n      <td>DivingSignals1</td>\n      <td>K</td>\n    </tr>\n    <tr>\n      <th>357</th>\n      <td>devel</td>\n      <td>338</td>\n      <td>DivingSignals1</td>\n      <td>B</td>\n    </tr>\n    <tr>\n      <th>380</th>\n      <td>devel</td>\n      <td>361</td>\n      <td>DivingSignals2</td>\n      <td>D</td>\n    </tr>\n    <tr>\n      <th>430</th>\n      <td>devel</td>\n      <td>411</td>\n      <td>DivingSignals2</td>\n      <td>H</td>\n    </tr>\n    <tr>\n      <th>439</th>\n      <td>devel</td>\n      <td>420</td>\n      <td>DivingSignals1</td>\n      <td>A</td>\n    </tr>\n    <tr>\n      <th>459</th>\n      <td>devel</td>\n      <td>440</td>\n      <td>DivingSignals2</td>\n      <td>R</td>\n    </tr>\n    <tr>\n      <th>494</th>\n      <td>devel</td>\n      <td>475</td>\n      <td>DivingSignals1</td>\n      <td>M</td>\n    </tr>\n  </tbody>\n</table>\n</div>"
     },
     "metadata": {},
     "execution_count": 8
    }
   ],
   "source": [
    "chlearn_diving_labels_df = chalearn_labels_df.loc[chalearn_labels_df[\"Lexicon\"].isin([\"DivingSignals1\", \"DivingSignals2\"])].drop(chalearn_labels_df.loc[:,\"Date\":], axis = 1)\n",
    "chlearn_diving_labels_df"
   ]
  },
  {
   "cell_type": "code",
   "execution_count": 9,
   "metadata": {},
   "outputs": [],
   "source": [
    "import os"
   ]
  },
  {
   "cell_type": "code",
   "execution_count": 10,
   "metadata": {},
   "outputs": [],
   "source": [
    "def find_dir(number, path, name):\n",
    "    for dirname in os.listdir(path):\n",
    "        splitted = dirname.split(\"-\")\n",
    "        if splitted[0] != name:\n",
    "            continue\n",
    "        if (int(splitted[1]) < number <= int(splitted[2])):\n",
    "            subpath = os.path.join(path, dirname)\n",
    "            for subdirname in os.listdir(subpath):\n",
    "                subsplitted = subdirname.split(name)\n",
    "                if subsplitted[0] != \"\":\n",
    "                    continue\n",
    "                if int(subsplitted[1]) == number:\n",
    "                    dest_path = os.path.join(subpath, subdirname)\n",
    "                    for dest_file in os.listdir(dest_path):\n",
    "                        if dest_file.split(\".\")[1] == \"csv\":\n",
    "                            yield dest_path, dest_file\n",
    "                            "
   ]
  },
  {
   "cell_type": "code",
   "execution_count": 11,
   "metadata": {},
   "outputs": [
    {
     "output_type": "execute_result",
     "data": {
      "text/plain": [
       "            name   label                                               path  \\\n",
       "0     devel04_11       3  /home/vlados/datasets/chalearn/devel-1-20/deve...   \n",
       "1     devel04_12       1  /home/vlados/datasets/chalearn/devel-1-20/deve...   \n",
       "2     devel04_13     2 7  /home/vlados/datasets/chalearn/devel-1-20/deve...   \n",
       "3     devel04_14       2  /home/vlados/datasets/chalearn/devel-1-20/deve...   \n",
       "4     devel04_15   9 5 4  /home/vlados/datasets/chalearn/devel-1-20/deve...   \n",
       "...          ...     ...                                                ...   \n",
       "1321  devel475_5       9  /home/vlados/datasets/chalearn/devel-366-480/d...   \n",
       "1322  devel475_6       8  /home/vlados/datasets/chalearn/devel-366-480/d...   \n",
       "1323  devel475_7       5  /home/vlados/datasets/chalearn/devel-366-480/d...   \n",
       "1324  devel475_8       4  /home/vlados/datasets/chalearn/devel-366-480/d...   \n",
       "1325  devel475_9       2  /home/vlados/datasets/chalearn/devel-366-480/d...   \n",
       "\n",
       "             lexicon user  \n",
       "0     DivingSignals2    J  \n",
       "1     DivingSignals2    J  \n",
       "2     DivingSignals2    J  \n",
       "3     DivingSignals2    J  \n",
       "4     DivingSignals2    J  \n",
       "...              ...  ...  \n",
       "1321  DivingSignals1    M  \n",
       "1322  DivingSignals1    M  \n",
       "1323  DivingSignals1    M  \n",
       "1324  DivingSignals1    M  \n",
       "1325  DivingSignals1    M  \n",
       "\n",
       "[1326 rows x 5 columns]"
      ],
      "text/html": "<div>\n<style scoped>\n    .dataframe tbody tr th:only-of-type {\n        vertical-align: middle;\n    }\n\n    .dataframe tbody tr th {\n        vertical-align: top;\n    }\n\n    .dataframe thead th {\n        text-align: right;\n    }\n</style>\n<table border=\"1\" class=\"dataframe\">\n  <thead>\n    <tr style=\"text-align: right;\">\n      <th></th>\n      <th>name</th>\n      <th>label</th>\n      <th>path</th>\n      <th>lexicon</th>\n      <th>user</th>\n    </tr>\n  </thead>\n  <tbody>\n    <tr>\n      <th>0</th>\n      <td>devel04_11</td>\n      <td>3</td>\n      <td>/home/vlados/datasets/chalearn/devel-1-20/deve...</td>\n      <td>DivingSignals2</td>\n      <td>J</td>\n    </tr>\n    <tr>\n      <th>1</th>\n      <td>devel04_12</td>\n      <td>1</td>\n      <td>/home/vlados/datasets/chalearn/devel-1-20/deve...</td>\n      <td>DivingSignals2</td>\n      <td>J</td>\n    </tr>\n    <tr>\n      <th>2</th>\n      <td>devel04_13</td>\n      <td>2 7</td>\n      <td>/home/vlados/datasets/chalearn/devel-1-20/deve...</td>\n      <td>DivingSignals2</td>\n      <td>J</td>\n    </tr>\n    <tr>\n      <th>3</th>\n      <td>devel04_14</td>\n      <td>2</td>\n      <td>/home/vlados/datasets/chalearn/devel-1-20/deve...</td>\n      <td>DivingSignals2</td>\n      <td>J</td>\n    </tr>\n    <tr>\n      <th>4</th>\n      <td>devel04_15</td>\n      <td>9 5 4</td>\n      <td>/home/vlados/datasets/chalearn/devel-1-20/deve...</td>\n      <td>DivingSignals2</td>\n      <td>J</td>\n    </tr>\n    <tr>\n      <th>...</th>\n      <td>...</td>\n      <td>...</td>\n      <td>...</td>\n      <td>...</td>\n      <td>...</td>\n    </tr>\n    <tr>\n      <th>1321</th>\n      <td>devel475_5</td>\n      <td>9</td>\n      <td>/home/vlados/datasets/chalearn/devel-366-480/d...</td>\n      <td>DivingSignals1</td>\n      <td>M</td>\n    </tr>\n    <tr>\n      <th>1322</th>\n      <td>devel475_6</td>\n      <td>8</td>\n      <td>/home/vlados/datasets/chalearn/devel-366-480/d...</td>\n      <td>DivingSignals1</td>\n      <td>M</td>\n    </tr>\n    <tr>\n      <th>1323</th>\n      <td>devel475_7</td>\n      <td>5</td>\n      <td>/home/vlados/datasets/chalearn/devel-366-480/d...</td>\n      <td>DivingSignals1</td>\n      <td>M</td>\n    </tr>\n    <tr>\n      <th>1324</th>\n      <td>devel475_8</td>\n      <td>4</td>\n      <td>/home/vlados/datasets/chalearn/devel-366-480/d...</td>\n      <td>DivingSignals1</td>\n      <td>M</td>\n    </tr>\n    <tr>\n      <th>1325</th>\n      <td>devel475_9</td>\n      <td>2</td>\n      <td>/home/vlados/datasets/chalearn/devel-366-480/d...</td>\n      <td>DivingSignals1</td>\n      <td>M</td>\n    </tr>\n  </tbody>\n</table>\n<p>1326 rows × 5 columns</p>\n</div>"
     },
     "metadata": {},
     "execution_count": 11
    }
   ],
   "source": [
    "df = pd.DataFrame(columns=[\"name\", \"label\", \"path\"])\n",
    "for index, row in chlearn_diving_labels_df.iterrows():\n",
    "    for dest_path, csv_file  in find_dir(row[\"Num\"], chalearn_path, row[\"Set\"]):\n",
    "        df_set = pd.read_csv(os.path.join(dest_path, csv_file), names=[\"name\", \"label\"])\n",
    "        df_set[\"path\"] = dest_path\n",
    "        df_set[\"lexicon\"] = row[\"Lexicon\"]\n",
    "        df_set[\"user\"] = row[\"UserID\"]\n",
    "        for subindex, subrow in df_set.iterrows():\n",
    "            df_set.at[subindex, \"path\"] = os.path.join(subrow.at[\"path\"], \"M_\" + subrow.at[\"name\"].split(\"_\")[1] + \".avi\")\n",
    "        df = pd.concat([df, df_set], ignore_index=True, sort=False)\n",
    "df"
   ]
  },
  {
   "source": [
    "## Extract poses from each video"
   ],
   "cell_type": "markdown",
   "metadata": {}
  },
  {
   "cell_type": "code",
   "execution_count": 9,
   "metadata": {},
   "outputs": [],
   "source": [
    "import numpy as np\n",
    "import cv2\n",
    "import os\n",
    "import torch\n",
    "import torch.nn as nn\n",
    "\n",
    "os.sys.path.append('poseEstimation')\n",
    "from poseEstimation.demo import infer_fast, VideoReader\n",
    "from poseEstimation.modules.pose import Pose\n",
    "from poseEstimation.modules.load_state import load_state\n",
    "from poseEstimation.modules.keypoints import extract_keypoints, group_keypoints\n",
    "from poseEstimation.models.with_mobilenet import PoseEstimationWithMobileNet"
   ]
  },
  {
   "cell_type": "code",
   "execution_count": 10,
   "metadata": {},
   "outputs": [
    {
     "output_type": "stream",
     "name": "stdout",
     "text": [
      "Using device: cuda\n"
     ]
    }
   ],
   "source": [
    "DEVICE = \"cuda\" if torch.cuda.is_available() else \"cpu\"\n",
    "# DEVICE = \"cpu\"\n",
    "print(\"Using device: \" + DEVICE)\n",
    "if torch.backends.cudnn.is_available():\n",
    "    torch.backends.cudnn.enabled = True\n",
    "\n",
    "SEED = 42\n",
    "\n",
    "np.random.seed(SEED)\n",
    "torch.manual_seed(SEED)\n",
    "torch.cuda.manual_seed_all(SEED)\n",
    "if torch.cuda.is_available():\n",
    "    torch.backends.cudnn.deterministic = True\n",
    "\n",
    "net = PoseEstimationWithMobileNet()\n",
    "checkpoint = torch.load(\n",
    "    \"weights/checkpoint_iter_370000.pth\", map_location='cpu')\n",
    "load_state(net, checkpoint)"
   ]
  },
  {
   "cell_type": "code",
   "execution_count": 27,
   "metadata": {},
   "outputs": [],
   "source": [
    "column_names = [  \"j0_x\",  \"j0_y\", \"j1_x\", \"j1_y\" , \"j2_x\", \"j2_y\", \"j3_x\", \"j3_y\", \"j4_x\", \"j4_y\", \"j5_x\", \"j5_y\", \"j6_x\", \"j6_y\", \"j7_x\", \"j7_y\", \"j8_x\", \"j8_y\", \"j9_x\", \"j9_y\", \"j10_x\", \"j10_y\", \"j11_x\", \"j11_y\", \"j12_x\", \"j12_y\", \"j13_x\", \"j13_y\", 'j14_x', \"j14_y\", \"j15_x\", \"j15_y\", \"j16_x\", \"j16_y\", \"j17_x\", \"j17_y\" ]"
   ]
  },
  {
   "cell_type": "code",
   "execution_count": 12,
   "metadata": {},
   "outputs": [],
   "source": [
    "def infer(net, image_provider, height_size, cpu):\n",
    "    net = net.eval()\n",
    "    if not cpu:\n",
    "        net = net.cuda()\n",
    "\n",
    "    stride = 8\n",
    "    upsample_ratio = 4\n",
    "    num_keypoints = Pose.num_kpts\n",
    "\n",
    "    pose_sequence = []\n",
    "    prediction = 0\n",
    "    prediction_made = False\n",
    "\n",
    "    for img in image_provider:\n",
    "        heatmaps, pafs, scale, pad = infer_fast(\n",
    "            net, img, height_size, stride, upsample_ratio, cpu)\n",
    "\n",
    "        total_keypoints_num = 0\n",
    "        all_keypoints_by_type = []\n",
    "        for kpt_idx in range(num_keypoints):  # 19th for bg\n",
    "            total_keypoints_num += extract_keypoints(\n",
    "                heatmaps[:, :, kpt_idx], all_keypoints_by_type, total_keypoints_num)\n",
    "\n",
    "        pose_entries, all_keypoints = group_keypoints(\n",
    "            all_keypoints_by_type, pafs)\n",
    "        for kpt_id in range(all_keypoints.shape[0]):\n",
    "            all_keypoints[kpt_id, 0] = (\n",
    "                all_keypoints[kpt_id, 0] * stride / upsample_ratio - pad[1]) / scale\n",
    "            all_keypoints[kpt_id, 1] = (\n",
    "                all_keypoints[kpt_id, 1] * stride / upsample_ratio - pad[0]) / scale\n",
    "        current_poses = []\n",
    "        for n in range(len(pose_entries)):\n",
    "            if len(pose_entries[n]) == 0:\n",
    "                continue\n",
    "            pose_keypoints = np.ones((num_keypoints, 2), dtype=np.int32) * -1\n",
    "            for kpt_id in range(num_keypoints):\n",
    "                \n",
    "                if pose_entries[n][kpt_id] != -1.0:  # keypoint was found\n",
    "                    pose_keypoints[kpt_id, 0] = int(\n",
    "                        all_keypoints[int(pose_entries[n][kpt_id]), 0])\n",
    "                    pose_keypoints[kpt_id, 1] = int(\n",
    "                        all_keypoints[int(pose_entries[n][kpt_id]), 1])\n",
    "                else:\n",
    "                    pose_keypoints[kpt_id, 0] = 0\n",
    "                    pose_keypoints[kpt_id, 1] = 0\n",
    "            pose = Pose(pose_keypoints, pose_entries[n][18])\n",
    "            \n",
    "            current_poses.append(pose)\n",
    "\n",
    "        if (len(current_poses) > 0):\n",
    "            pose_sequence.append(current_poses[0].keypoints.reshape([36]))\n",
    "\n",
    "    return pose_sequence"
   ]
  },
  {
   "cell_type": "code",
   "execution_count": 19,
   "metadata": {},
   "outputs": [
    {
     "output_type": "stream",
     "name": "stdout",
     "text": [
      "devel04_11\n",
      "devel04_12\n",
      "devel04_13\n",
      "devel04_14\n",
      "devel04_15\n",
      "devel04_16\n",
      "devel04_17\n",
      "devel04_18\n",
      "devel04_19\n",
      "devel04_20\n"
     ]
    }
   ],
   "source": [
    "poses_df = pd.DataFrame(columns=column_names +[\"name\"])\n",
    "for index, row in df.iterrows():\n",
    "    if index == 10:\n",
    "        break\n",
    "    print(row[\"name\"])\n",
    "    frame_provider = VideoReader(row[\"path\"])\n",
    "    pose_sequence = infer(net, frame_provider, 256, False)\n",
    "    pose_df = pd.DataFrame(pose_sequence, columns=column_names)\n",
    "    pose_df[\"name\"] = row[\"name\"]\n",
    "    poses_df = pd.concat([poses_df, pose_df], ignore_index=True, sort=False)"
   ]
  },
  {
   "cell_type": "code",
   "execution_count": 22,
   "metadata": {},
   "outputs": [],
   "source": [
    "poses_df.to_csv(\"poses_from_videos.csv\", sep=\"\\t\", index=False)"
   ]
  },
  {
   "source": [
    "## Load extracted poses from csv"
   ],
   "cell_type": "markdown",
   "metadata": {}
  },
  {
   "cell_type": "code",
   "execution_count": 12,
   "metadata": {},
   "outputs": [],
   "source": [
    "poses_df = pd.read_csv(\"poses_from_videos.csv\", sep=\"\\t\")"
   ]
  },
  {
   "cell_type": "code",
   "execution_count": 47,
   "metadata": {},
   "outputs": [
    {
     "output_type": "execute_result",
     "data": {
      "text/plain": [
       "        j0_x  j0_y  j1_x  j1_y  j2_x  j2_y  j3_x  j3_y  j4_x  j4_y  ...  \\\n",
       "0        132    80   130   110   100   108    94   150   117   165  ...   \n",
       "1        132    80   128   112   100   110    90   150   115   170  ...   \n",
       "2        132    80   128   112   100   110    89   150   109   176  ...   \n",
       "3        132    80   128   112   100   110    89   153   104   185  ...   \n",
       "4        132    80   128   112    98   112    87   155    98   196  ...   \n",
       "...      ...   ...   ...   ...   ...   ...   ...   ...   ...   ...  ...   \n",
       "104503   173    82   173   121   143   118   122   163   113   146  ...   \n",
       "104504   173    82   173   121   143   120   126   161   115   165  ...   \n",
       "104505   173    82   173   121   143   120   128   161   122   187  ...   \n",
       "104506   173    82   173   121   143   120   128   161   124   195  ...   \n",
       "104507   173    82   173   121   141   120   128   163   128   210  ...   \n",
       "\n",
       "        j13_y  j14_x  j14_y  j15_x  j15_y  j16_x  j16_y  j17_x  j17_y  \\\n",
       "0           0    126     75    137     75    117     76    147     76   \n",
       "1           0    126     75    137     75    117     76    145     76   \n",
       "2           0    126     75    137     75    117     76    145     76   \n",
       "3           0    126     75    137     75    117     76    145     76   \n",
       "4           0    126     75    137     75    119     76    147     78   \n",
       "...       ...    ...    ...    ...    ...    ...    ...    ...    ...   \n",
       "104503      0    167     78    180     76    160     84    190     84   \n",
       "104504      0    167     78    180     76    160     84    190     84   \n",
       "104505      0    167     78    180     76    160     84    190     84   \n",
       "104506      0    167     78    180     76    160     84    190     84   \n",
       "104507      0    167     76    180     76    160     84    190     84   \n",
       "\n",
       "              name  \n",
       "0        devel04_1  \n",
       "1        devel04_1  \n",
       "2        devel04_1  \n",
       "3        devel04_1  \n",
       "4        devel04_1  \n",
       "...            ...  \n",
       "104503  devel475_9  \n",
       "104504  devel475_9  \n",
       "104505  devel475_9  \n",
       "104506  devel475_9  \n",
       "104507  devel475_9  \n",
       "\n",
       "[104508 rows x 37 columns]"
      ],
      "text/html": "<div>\n<style scoped>\n    .dataframe tbody tr th:only-of-type {\n        vertical-align: middle;\n    }\n\n    .dataframe tbody tr th {\n        vertical-align: top;\n    }\n\n    .dataframe thead th {\n        text-align: right;\n    }\n</style>\n<table border=\"1\" class=\"dataframe\">\n  <thead>\n    <tr style=\"text-align: right;\">\n      <th></th>\n      <th>j0_x</th>\n      <th>j0_y</th>\n      <th>j1_x</th>\n      <th>j1_y</th>\n      <th>j2_x</th>\n      <th>j2_y</th>\n      <th>j3_x</th>\n      <th>j3_y</th>\n      <th>j4_x</th>\n      <th>j4_y</th>\n      <th>...</th>\n      <th>j13_y</th>\n      <th>j14_x</th>\n      <th>j14_y</th>\n      <th>j15_x</th>\n      <th>j15_y</th>\n      <th>j16_x</th>\n      <th>j16_y</th>\n      <th>j17_x</th>\n      <th>j17_y</th>\n      <th>name</th>\n    </tr>\n  </thead>\n  <tbody>\n    <tr>\n      <th>0</th>\n      <td>132</td>\n      <td>80</td>\n      <td>130</td>\n      <td>110</td>\n      <td>100</td>\n      <td>108</td>\n      <td>94</td>\n      <td>150</td>\n      <td>117</td>\n      <td>165</td>\n      <td>...</td>\n      <td>0</td>\n      <td>126</td>\n      <td>75</td>\n      <td>137</td>\n      <td>75</td>\n      <td>117</td>\n      <td>76</td>\n      <td>147</td>\n      <td>76</td>\n      <td>devel04_1</td>\n    </tr>\n    <tr>\n      <th>1</th>\n      <td>132</td>\n      <td>80</td>\n      <td>128</td>\n      <td>112</td>\n      <td>100</td>\n      <td>110</td>\n      <td>90</td>\n      <td>150</td>\n      <td>115</td>\n      <td>170</td>\n      <td>...</td>\n      <td>0</td>\n      <td>126</td>\n      <td>75</td>\n      <td>137</td>\n      <td>75</td>\n      <td>117</td>\n      <td>76</td>\n      <td>145</td>\n      <td>76</td>\n      <td>devel04_1</td>\n    </tr>\n    <tr>\n      <th>2</th>\n      <td>132</td>\n      <td>80</td>\n      <td>128</td>\n      <td>112</td>\n      <td>100</td>\n      <td>110</td>\n      <td>89</td>\n      <td>150</td>\n      <td>109</td>\n      <td>176</td>\n      <td>...</td>\n      <td>0</td>\n      <td>126</td>\n      <td>75</td>\n      <td>137</td>\n      <td>75</td>\n      <td>117</td>\n      <td>76</td>\n      <td>145</td>\n      <td>76</td>\n      <td>devel04_1</td>\n    </tr>\n    <tr>\n      <th>3</th>\n      <td>132</td>\n      <td>80</td>\n      <td>128</td>\n      <td>112</td>\n      <td>100</td>\n      <td>110</td>\n      <td>89</td>\n      <td>153</td>\n      <td>104</td>\n      <td>185</td>\n      <td>...</td>\n      <td>0</td>\n      <td>126</td>\n      <td>75</td>\n      <td>137</td>\n      <td>75</td>\n      <td>117</td>\n      <td>76</td>\n      <td>145</td>\n      <td>76</td>\n      <td>devel04_1</td>\n    </tr>\n    <tr>\n      <th>4</th>\n      <td>132</td>\n      <td>80</td>\n      <td>128</td>\n      <td>112</td>\n      <td>98</td>\n      <td>112</td>\n      <td>87</td>\n      <td>155</td>\n      <td>98</td>\n      <td>196</td>\n      <td>...</td>\n      <td>0</td>\n      <td>126</td>\n      <td>75</td>\n      <td>137</td>\n      <td>75</td>\n      <td>119</td>\n      <td>76</td>\n      <td>147</td>\n      <td>78</td>\n      <td>devel04_1</td>\n    </tr>\n    <tr>\n      <th>...</th>\n      <td>...</td>\n      <td>...</td>\n      <td>...</td>\n      <td>...</td>\n      <td>...</td>\n      <td>...</td>\n      <td>...</td>\n      <td>...</td>\n      <td>...</td>\n      <td>...</td>\n      <td>...</td>\n      <td>...</td>\n      <td>...</td>\n      <td>...</td>\n      <td>...</td>\n      <td>...</td>\n      <td>...</td>\n      <td>...</td>\n      <td>...</td>\n      <td>...</td>\n      <td>...</td>\n    </tr>\n    <tr>\n      <th>104503</th>\n      <td>173</td>\n      <td>82</td>\n      <td>173</td>\n      <td>121</td>\n      <td>143</td>\n      <td>118</td>\n      <td>122</td>\n      <td>163</td>\n      <td>113</td>\n      <td>146</td>\n      <td>...</td>\n      <td>0</td>\n      <td>167</td>\n      <td>78</td>\n      <td>180</td>\n      <td>76</td>\n      <td>160</td>\n      <td>84</td>\n      <td>190</td>\n      <td>84</td>\n      <td>devel475_9</td>\n    </tr>\n    <tr>\n      <th>104504</th>\n      <td>173</td>\n      <td>82</td>\n      <td>173</td>\n      <td>121</td>\n      <td>143</td>\n      <td>120</td>\n      <td>126</td>\n      <td>161</td>\n      <td>115</td>\n      <td>165</td>\n      <td>...</td>\n      <td>0</td>\n      <td>167</td>\n      <td>78</td>\n      <td>180</td>\n      <td>76</td>\n      <td>160</td>\n      <td>84</td>\n      <td>190</td>\n      <td>84</td>\n      <td>devel475_9</td>\n    </tr>\n    <tr>\n      <th>104505</th>\n      <td>173</td>\n      <td>82</td>\n      <td>173</td>\n      <td>121</td>\n      <td>143</td>\n      <td>120</td>\n      <td>128</td>\n      <td>161</td>\n      <td>122</td>\n      <td>187</td>\n      <td>...</td>\n      <td>0</td>\n      <td>167</td>\n      <td>78</td>\n      <td>180</td>\n      <td>76</td>\n      <td>160</td>\n      <td>84</td>\n      <td>190</td>\n      <td>84</td>\n      <td>devel475_9</td>\n    </tr>\n    <tr>\n      <th>104506</th>\n      <td>173</td>\n      <td>82</td>\n      <td>173</td>\n      <td>121</td>\n      <td>143</td>\n      <td>120</td>\n      <td>128</td>\n      <td>161</td>\n      <td>124</td>\n      <td>195</td>\n      <td>...</td>\n      <td>0</td>\n      <td>167</td>\n      <td>78</td>\n      <td>180</td>\n      <td>76</td>\n      <td>160</td>\n      <td>84</td>\n      <td>190</td>\n      <td>84</td>\n      <td>devel475_9</td>\n    </tr>\n    <tr>\n      <th>104507</th>\n      <td>173</td>\n      <td>82</td>\n      <td>173</td>\n      <td>121</td>\n      <td>141</td>\n      <td>120</td>\n      <td>128</td>\n      <td>163</td>\n      <td>128</td>\n      <td>210</td>\n      <td>...</td>\n      <td>0</td>\n      <td>167</td>\n      <td>76</td>\n      <td>180</td>\n      <td>76</td>\n      <td>160</td>\n      <td>84</td>\n      <td>190</td>\n      <td>84</td>\n      <td>devel475_9</td>\n    </tr>\n  </tbody>\n</table>\n<p>104508 rows × 37 columns</p>\n</div>"
     },
     "metadata": {},
     "execution_count": 47
    }
   ],
   "source": [
    "poses_df"
   ]
  },
  {
   "source": [
    "### Find the smallest number of frames for one gesture"
   ],
   "cell_type": "markdown",
   "metadata": {}
  },
  {
   "cell_type": "code",
   "execution_count": 51,
   "metadata": {},
   "outputs": [],
   "source": [
    "def count_min_frames_for_gesture(filenames_df, poses_df):\n",
    "    min_frames_count = 100\n",
    "    for index, row in filenames_df.iterrows():\n",
    "        num_frames = poses_df.loc[poses_df[\"name\"] == row[\"name\"]].shape[0]\n",
    "        if (isinstance(row[\"label\"], str)):\n",
    "            splitted_len = len(row[\"label\"].split(\" \")) - 1\n",
    "            num_frames = poses_df.loc[poses_df[\"name\"] == row[\"name\"]].shape[0] / splitted_len\n",
    "        if num_frames < min_frames_count:\n",
    "            min_frames_count = num_frames\n",
    "            print(min_frames_count, row[\"name\"], row[\"user\"])  \n",
    "    return min_frames_count       "
   ]
  },
  {
   "cell_type": "code",
   "execution_count": 52,
   "metadata": {},
   "outputs": [
    {
     "output_type": "stream",
     "name": "stdout",
     "text": [
      "78.0 devel04_11 J\n",
      "38.0 devel04_12 J\n",
      "35.0 devel04_15 J\n",
      "33.0 devel04_16 J\n",
      "32.8 devel04_25 J\n",
      "32.0 devel04_44 J\n",
      "30.0 devel20_10 D\n",
      "21.25 devel20_11 D\n",
      "20.333333333333332 devel20_18 D\n",
      "18.25 devel98_38 B\n",
      "16.6 devel181_23 B\n",
      "15.333333333333334 devel181_26 B\n",
      "13.333333333333334 devel361_34 D\n"
     ]
    },
    {
     "output_type": "execute_result",
     "data": {
      "text/plain": [
       "13.333333333333334"
      ]
     },
     "metadata": {},
     "execution_count": 52
    }
   ],
   "source": [
    "count_min_frames_for_gesture(df,poses_df)"
   ]
  },
  {
   "source": [
    "### Cut first 1 second from \"D\" user"
   ],
   "cell_type": "markdown",
   "metadata": {}
  },
  {
   "cell_type": "code",
   "execution_count": 17,
   "metadata": {},
   "outputs": [
    {
     "output_type": "execute_result",
     "data": {
      "text/plain": [
       "             name       label  \\\n",
       "47     devel20_10           5   \n",
       "48     devel20_11     9 9 7 2   \n",
       "49     devel20_12   3 3 9 2 8   \n",
       "50     devel20_13           2   \n",
       "51     devel20_14         7 7   \n",
       "...           ...         ...   \n",
       "1133  devel361_43         7 8   \n",
       "1134  devel361_44          10   \n",
       "1135  devel361_45           7   \n",
       "1136  devel361_46     5 1 5 6   \n",
       "1137  devel361_47         9 7   \n",
       "\n",
       "                                                   path         lexicon user  \n",
       "47    /home/vlados/datasets/chalearn/devel-1-20/deve...  DivingSignals1    D  \n",
       "48    /home/vlados/datasets/chalearn/devel-1-20/deve...  DivingSignals1    D  \n",
       "49    /home/vlados/datasets/chalearn/devel-1-20/deve...  DivingSignals1    D  \n",
       "50    /home/vlados/datasets/chalearn/devel-1-20/deve...  DivingSignals1    D  \n",
       "51    /home/vlados/datasets/chalearn/devel-1-20/deve...  DivingSignals1    D  \n",
       "...                                                 ...             ...  ...  \n",
       "1133  /home/vlados/datasets/chalearn/devel-251-365/d...  DivingSignals2    D  \n",
       "1134  /home/vlados/datasets/chalearn/devel-251-365/d...  DivingSignals2    D  \n",
       "1135  /home/vlados/datasets/chalearn/devel-251-365/d...  DivingSignals2    D  \n",
       "1136  /home/vlados/datasets/chalearn/devel-251-365/d...  DivingSignals2    D  \n",
       "1137  /home/vlados/datasets/chalearn/devel-251-365/d...  DivingSignals2    D  \n",
       "\n",
       "[94 rows x 5 columns]"
      ],
      "text/html": "<div>\n<style scoped>\n    .dataframe tbody tr th:only-of-type {\n        vertical-align: middle;\n    }\n\n    .dataframe tbody tr th {\n        vertical-align: top;\n    }\n\n    .dataframe thead th {\n        text-align: right;\n    }\n</style>\n<table border=\"1\" class=\"dataframe\">\n  <thead>\n    <tr style=\"text-align: right;\">\n      <th></th>\n      <th>name</th>\n      <th>label</th>\n      <th>path</th>\n      <th>lexicon</th>\n      <th>user</th>\n    </tr>\n  </thead>\n  <tbody>\n    <tr>\n      <th>47</th>\n      <td>devel20_10</td>\n      <td>5</td>\n      <td>/home/vlados/datasets/chalearn/devel-1-20/deve...</td>\n      <td>DivingSignals1</td>\n      <td>D</td>\n    </tr>\n    <tr>\n      <th>48</th>\n      <td>devel20_11</td>\n      <td>9 9 7 2</td>\n      <td>/home/vlados/datasets/chalearn/devel-1-20/deve...</td>\n      <td>DivingSignals1</td>\n      <td>D</td>\n    </tr>\n    <tr>\n      <th>49</th>\n      <td>devel20_12</td>\n      <td>3 3 9 2 8</td>\n      <td>/home/vlados/datasets/chalearn/devel-1-20/deve...</td>\n      <td>DivingSignals1</td>\n      <td>D</td>\n    </tr>\n    <tr>\n      <th>50</th>\n      <td>devel20_13</td>\n      <td>2</td>\n      <td>/home/vlados/datasets/chalearn/devel-1-20/deve...</td>\n      <td>DivingSignals1</td>\n      <td>D</td>\n    </tr>\n    <tr>\n      <th>51</th>\n      <td>devel20_14</td>\n      <td>7 7</td>\n      <td>/home/vlados/datasets/chalearn/devel-1-20/deve...</td>\n      <td>DivingSignals1</td>\n      <td>D</td>\n    </tr>\n    <tr>\n      <th>...</th>\n      <td>...</td>\n      <td>...</td>\n      <td>...</td>\n      <td>...</td>\n      <td>...</td>\n    </tr>\n    <tr>\n      <th>1133</th>\n      <td>devel361_43</td>\n      <td>7 8</td>\n      <td>/home/vlados/datasets/chalearn/devel-251-365/d...</td>\n      <td>DivingSignals2</td>\n      <td>D</td>\n    </tr>\n    <tr>\n      <th>1134</th>\n      <td>devel361_44</td>\n      <td>10</td>\n      <td>/home/vlados/datasets/chalearn/devel-251-365/d...</td>\n      <td>DivingSignals2</td>\n      <td>D</td>\n    </tr>\n    <tr>\n      <th>1135</th>\n      <td>devel361_45</td>\n      <td>7</td>\n      <td>/home/vlados/datasets/chalearn/devel-251-365/d...</td>\n      <td>DivingSignals2</td>\n      <td>D</td>\n    </tr>\n    <tr>\n      <th>1136</th>\n      <td>devel361_46</td>\n      <td>5 1 5 6</td>\n      <td>/home/vlados/datasets/chalearn/devel-251-365/d...</td>\n      <td>DivingSignals2</td>\n      <td>D</td>\n    </tr>\n    <tr>\n      <th>1137</th>\n      <td>devel361_47</td>\n      <td>9 7</td>\n      <td>/home/vlados/datasets/chalearn/devel-251-365/d...</td>\n      <td>DivingSignals2</td>\n      <td>D</td>\n    </tr>\n  </tbody>\n</table>\n<p>94 rows × 5 columns</p>\n</div>"
     },
     "metadata": {},
     "execution_count": 17
    }
   ],
   "source": [
    "df.loc[df[\"user\"] == \"D\"]"
   ]
  },
  {
   "cell_type": "code",
   "execution_count": 28,
   "metadata": {},
   "outputs": [
    {
     "output_type": "execute_result",
     "data": {
      "text/plain": [
       "     j0_x j0_y j1_x j1_y j2_x j2_y j3_x j3_y j4_x j4_y  ... j13_y j14_x j14_y  \\\n",
       "0     162   84  162  114  135  114   98  150  111  116  ...     0   158    78   \n",
       "1     162   86  162  114  135  114   94  136  109   99  ...     0   156    80   \n",
       "2     162   86  162  112  135  112   92  114  113   76  ...     0   156    80   \n",
       "3     162   84  162  108  135  110   96   95  122   58  ...     0   158    78   \n",
       "4     162   84  162  108  137  108  100   86  128   52  ...     0   158    78   \n",
       "...   ...  ...  ...  ...  ...  ...  ...  ...  ...  ...  ...   ...   ...   ...   \n",
       "4312  152   84  154  114  128  116  117  153  122  168  ...     0   147    78   \n",
       "4313  152   84  154  114  128  116  117  153  120  166  ...     0   147    80   \n",
       "4314  152   84  156  114  128  116  117  153  120  166  ...     0   147    78   \n",
       "4315  152   84  154  114  128  116  115  153  122  165  ...     0   147    78   \n",
       "4316  152   84  158  116  130  116  115  153  122  166  ...     0   149    78   \n",
       "\n",
       "     j15_x j15_y j16_x j16_y j17_x j17_y         name  \n",
       "0      167    78   149    84   175    84   devel20_10  \n",
       "1      167    80   149    84   175    84   devel20_10  \n",
       "2      167    80   149    84   175    86   devel20_10  \n",
       "3      167    78   149    86   175    86   devel20_10  \n",
       "4      167    78   149    84   175    84   devel20_10  \n",
       "...    ...   ...   ...   ...   ...   ...          ...  \n",
       "4312   158    78   139    84   167    84  devel361_47  \n",
       "4313   158    78   139    84   167    84  devel361_47  \n",
       "4314   158    78   139    84   167    84  devel361_47  \n",
       "4315   158    78   139    84   167    84  devel361_47  \n",
       "4316   160    78   141    84   169    84  devel361_47  \n",
       "\n",
       "[4317 rows x 37 columns]"
      ],
      "text/html": "<div>\n<style scoped>\n    .dataframe tbody tr th:only-of-type {\n        vertical-align: middle;\n    }\n\n    .dataframe tbody tr th {\n        vertical-align: top;\n    }\n\n    .dataframe thead th {\n        text-align: right;\n    }\n</style>\n<table border=\"1\" class=\"dataframe\">\n  <thead>\n    <tr style=\"text-align: right;\">\n      <th></th>\n      <th>j0_x</th>\n      <th>j0_y</th>\n      <th>j1_x</th>\n      <th>j1_y</th>\n      <th>j2_x</th>\n      <th>j2_y</th>\n      <th>j3_x</th>\n      <th>j3_y</th>\n      <th>j4_x</th>\n      <th>j4_y</th>\n      <th>...</th>\n      <th>j13_y</th>\n      <th>j14_x</th>\n      <th>j14_y</th>\n      <th>j15_x</th>\n      <th>j15_y</th>\n      <th>j16_x</th>\n      <th>j16_y</th>\n      <th>j17_x</th>\n      <th>j17_y</th>\n      <th>name</th>\n    </tr>\n  </thead>\n  <tbody>\n    <tr>\n      <th>0</th>\n      <td>162</td>\n      <td>84</td>\n      <td>162</td>\n      <td>114</td>\n      <td>135</td>\n      <td>114</td>\n      <td>98</td>\n      <td>150</td>\n      <td>111</td>\n      <td>116</td>\n      <td>...</td>\n      <td>0</td>\n      <td>158</td>\n      <td>78</td>\n      <td>167</td>\n      <td>78</td>\n      <td>149</td>\n      <td>84</td>\n      <td>175</td>\n      <td>84</td>\n      <td>devel20_10</td>\n    </tr>\n    <tr>\n      <th>1</th>\n      <td>162</td>\n      <td>86</td>\n      <td>162</td>\n      <td>114</td>\n      <td>135</td>\n      <td>114</td>\n      <td>94</td>\n      <td>136</td>\n      <td>109</td>\n      <td>99</td>\n      <td>...</td>\n      <td>0</td>\n      <td>156</td>\n      <td>80</td>\n      <td>167</td>\n      <td>80</td>\n      <td>149</td>\n      <td>84</td>\n      <td>175</td>\n      <td>84</td>\n      <td>devel20_10</td>\n    </tr>\n    <tr>\n      <th>2</th>\n      <td>162</td>\n      <td>86</td>\n      <td>162</td>\n      <td>112</td>\n      <td>135</td>\n      <td>112</td>\n      <td>92</td>\n      <td>114</td>\n      <td>113</td>\n      <td>76</td>\n      <td>...</td>\n      <td>0</td>\n      <td>156</td>\n      <td>80</td>\n      <td>167</td>\n      <td>80</td>\n      <td>149</td>\n      <td>84</td>\n      <td>175</td>\n      <td>86</td>\n      <td>devel20_10</td>\n    </tr>\n    <tr>\n      <th>3</th>\n      <td>162</td>\n      <td>84</td>\n      <td>162</td>\n      <td>108</td>\n      <td>135</td>\n      <td>110</td>\n      <td>96</td>\n      <td>95</td>\n      <td>122</td>\n      <td>58</td>\n      <td>...</td>\n      <td>0</td>\n      <td>158</td>\n      <td>78</td>\n      <td>167</td>\n      <td>78</td>\n      <td>149</td>\n      <td>86</td>\n      <td>175</td>\n      <td>86</td>\n      <td>devel20_10</td>\n    </tr>\n    <tr>\n      <th>4</th>\n      <td>162</td>\n      <td>84</td>\n      <td>162</td>\n      <td>108</td>\n      <td>137</td>\n      <td>108</td>\n      <td>100</td>\n      <td>86</td>\n      <td>128</td>\n      <td>52</td>\n      <td>...</td>\n      <td>0</td>\n      <td>158</td>\n      <td>78</td>\n      <td>167</td>\n      <td>78</td>\n      <td>149</td>\n      <td>84</td>\n      <td>175</td>\n      <td>84</td>\n      <td>devel20_10</td>\n    </tr>\n    <tr>\n      <th>...</th>\n      <td>...</td>\n      <td>...</td>\n      <td>...</td>\n      <td>...</td>\n      <td>...</td>\n      <td>...</td>\n      <td>...</td>\n      <td>...</td>\n      <td>...</td>\n      <td>...</td>\n      <td>...</td>\n      <td>...</td>\n      <td>...</td>\n      <td>...</td>\n      <td>...</td>\n      <td>...</td>\n      <td>...</td>\n      <td>...</td>\n      <td>...</td>\n      <td>...</td>\n      <td>...</td>\n    </tr>\n    <tr>\n      <th>4312</th>\n      <td>152</td>\n      <td>84</td>\n      <td>154</td>\n      <td>114</td>\n      <td>128</td>\n      <td>116</td>\n      <td>117</td>\n      <td>153</td>\n      <td>122</td>\n      <td>168</td>\n      <td>...</td>\n      <td>0</td>\n      <td>147</td>\n      <td>78</td>\n      <td>158</td>\n      <td>78</td>\n      <td>139</td>\n      <td>84</td>\n      <td>167</td>\n      <td>84</td>\n      <td>devel361_47</td>\n    </tr>\n    <tr>\n      <th>4313</th>\n      <td>152</td>\n      <td>84</td>\n      <td>154</td>\n      <td>114</td>\n      <td>128</td>\n      <td>116</td>\n      <td>117</td>\n      <td>153</td>\n      <td>120</td>\n      <td>166</td>\n      <td>...</td>\n      <td>0</td>\n      <td>147</td>\n      <td>80</td>\n      <td>158</td>\n      <td>78</td>\n      <td>139</td>\n      <td>84</td>\n      <td>167</td>\n      <td>84</td>\n      <td>devel361_47</td>\n    </tr>\n    <tr>\n      <th>4314</th>\n      <td>152</td>\n      <td>84</td>\n      <td>156</td>\n      <td>114</td>\n      <td>128</td>\n      <td>116</td>\n      <td>117</td>\n      <td>153</td>\n      <td>120</td>\n      <td>166</td>\n      <td>...</td>\n      <td>0</td>\n      <td>147</td>\n      <td>78</td>\n      <td>158</td>\n      <td>78</td>\n      <td>139</td>\n      <td>84</td>\n      <td>167</td>\n      <td>84</td>\n      <td>devel361_47</td>\n    </tr>\n    <tr>\n      <th>4315</th>\n      <td>152</td>\n      <td>84</td>\n      <td>154</td>\n      <td>114</td>\n      <td>128</td>\n      <td>116</td>\n      <td>115</td>\n      <td>153</td>\n      <td>122</td>\n      <td>165</td>\n      <td>...</td>\n      <td>0</td>\n      <td>147</td>\n      <td>78</td>\n      <td>158</td>\n      <td>78</td>\n      <td>139</td>\n      <td>84</td>\n      <td>167</td>\n      <td>84</td>\n      <td>devel361_47</td>\n    </tr>\n    <tr>\n      <th>4316</th>\n      <td>152</td>\n      <td>84</td>\n      <td>158</td>\n      <td>116</td>\n      <td>130</td>\n      <td>116</td>\n      <td>115</td>\n      <td>153</td>\n      <td>122</td>\n      <td>166</td>\n      <td>...</td>\n      <td>0</td>\n      <td>149</td>\n      <td>78</td>\n      <td>160</td>\n      <td>78</td>\n      <td>141</td>\n      <td>84</td>\n      <td>169</td>\n      <td>84</td>\n      <td>devel361_47</td>\n    </tr>\n  </tbody>\n</table>\n<p>4317 rows × 37 columns</p>\n</div>"
     },
     "metadata": {},
     "execution_count": 28
    }
   ],
   "source": [
    "D_poses_df = pd.DataFrame(columns=column_names + [\"name\"])\n",
    "for index, row in df.loc[df[\"user\"] == \"D\"].iterrows():\n",
    "    D_poses_df = pd.concat([D_poses_df, poses_df.loc[poses_df[\"name\"] == row[\"name\"]].iloc[9:]], ignore_index=True, sort=False)\n",
    "D_poses_df"
   ]
  },
  {
   "source": [
    "### Cut first and lact 1 second from \"J\" user"
   ],
   "cell_type": "markdown",
   "metadata": {}
  },
  {
   "cell_type": "code",
   "execution_count": 38,
   "metadata": {},
   "outputs": [
    {
     "output_type": "execute_result",
     "data": {
      "text/plain": [
       "           name   label                                               path  \\\n",
       "0    devel04_11       3  /home/vlados/datasets/chalearn/devel-1-20/deve...   \n",
       "1    devel04_12       1  /home/vlados/datasets/chalearn/devel-1-20/deve...   \n",
       "2    devel04_13     2 7  /home/vlados/datasets/chalearn/devel-1-20/deve...   \n",
       "3    devel04_14       2  /home/vlados/datasets/chalearn/devel-1-20/deve...   \n",
       "4    devel04_15   9 5 4  /home/vlados/datasets/chalearn/devel-1-20/deve...   \n",
       "..          ...     ...                                                ...   \n",
       "804  devel199_5       2  /home/vlados/datasets/chalearn/devel-136-250/d...   \n",
       "805  devel199_6       4  /home/vlados/datasets/chalearn/devel-136-250/d...   \n",
       "806  devel199_7       8  /home/vlados/datasets/chalearn/devel-136-250/d...   \n",
       "807  devel199_8       6  /home/vlados/datasets/chalearn/devel-136-250/d...   \n",
       "808  devel199_9       5  /home/vlados/datasets/chalearn/devel-136-250/d...   \n",
       "\n",
       "            lexicon user  \n",
       "0    DivingSignals2    J  \n",
       "1    DivingSignals2    J  \n",
       "2    DivingSignals2    J  \n",
       "3    DivingSignals2    J  \n",
       "4    DivingSignals2    J  \n",
       "..              ...  ...  \n",
       "804  DivingSignals1    J  \n",
       "805  DivingSignals1    J  \n",
       "806  DivingSignals1    J  \n",
       "807  DivingSignals1    J  \n",
       "808  DivingSignals1    J  \n",
       "\n",
       "[94 rows x 5 columns]"
      ],
      "text/html": "<div>\n<style scoped>\n    .dataframe tbody tr th:only-of-type {\n        vertical-align: middle;\n    }\n\n    .dataframe tbody tr th {\n        vertical-align: top;\n    }\n\n    .dataframe thead th {\n        text-align: right;\n    }\n</style>\n<table border=\"1\" class=\"dataframe\">\n  <thead>\n    <tr style=\"text-align: right;\">\n      <th></th>\n      <th>name</th>\n      <th>label</th>\n      <th>path</th>\n      <th>lexicon</th>\n      <th>user</th>\n    </tr>\n  </thead>\n  <tbody>\n    <tr>\n      <th>0</th>\n      <td>devel04_11</td>\n      <td>3</td>\n      <td>/home/vlados/datasets/chalearn/devel-1-20/deve...</td>\n      <td>DivingSignals2</td>\n      <td>J</td>\n    </tr>\n    <tr>\n      <th>1</th>\n      <td>devel04_12</td>\n      <td>1</td>\n      <td>/home/vlados/datasets/chalearn/devel-1-20/deve...</td>\n      <td>DivingSignals2</td>\n      <td>J</td>\n    </tr>\n    <tr>\n      <th>2</th>\n      <td>devel04_13</td>\n      <td>2 7</td>\n      <td>/home/vlados/datasets/chalearn/devel-1-20/deve...</td>\n      <td>DivingSignals2</td>\n      <td>J</td>\n    </tr>\n    <tr>\n      <th>3</th>\n      <td>devel04_14</td>\n      <td>2</td>\n      <td>/home/vlados/datasets/chalearn/devel-1-20/deve...</td>\n      <td>DivingSignals2</td>\n      <td>J</td>\n    </tr>\n    <tr>\n      <th>4</th>\n      <td>devel04_15</td>\n      <td>9 5 4</td>\n      <td>/home/vlados/datasets/chalearn/devel-1-20/deve...</td>\n      <td>DivingSignals2</td>\n      <td>J</td>\n    </tr>\n    <tr>\n      <th>...</th>\n      <td>...</td>\n      <td>...</td>\n      <td>...</td>\n      <td>...</td>\n      <td>...</td>\n    </tr>\n    <tr>\n      <th>804</th>\n      <td>devel199_5</td>\n      <td>2</td>\n      <td>/home/vlados/datasets/chalearn/devel-136-250/d...</td>\n      <td>DivingSignals1</td>\n      <td>J</td>\n    </tr>\n    <tr>\n      <th>805</th>\n      <td>devel199_6</td>\n      <td>4</td>\n      <td>/home/vlados/datasets/chalearn/devel-136-250/d...</td>\n      <td>DivingSignals1</td>\n      <td>J</td>\n    </tr>\n    <tr>\n      <th>806</th>\n      <td>devel199_7</td>\n      <td>8</td>\n      <td>/home/vlados/datasets/chalearn/devel-136-250/d...</td>\n      <td>DivingSignals1</td>\n      <td>J</td>\n    </tr>\n    <tr>\n      <th>807</th>\n      <td>devel199_8</td>\n      <td>6</td>\n      <td>/home/vlados/datasets/chalearn/devel-136-250/d...</td>\n      <td>DivingSignals1</td>\n      <td>J</td>\n    </tr>\n    <tr>\n      <th>808</th>\n      <td>devel199_9</td>\n      <td>5</td>\n      <td>/home/vlados/datasets/chalearn/devel-136-250/d...</td>\n      <td>DivingSignals1</td>\n      <td>J</td>\n    </tr>\n  </tbody>\n</table>\n<p>94 rows × 5 columns</p>\n</div>"
     },
     "metadata": {},
     "execution_count": 38
    }
   ],
   "source": [
    "df.loc[df[\"user\"] == \"J\"]"
   ]
  },
  {
   "cell_type": "code",
   "execution_count": 34,
   "metadata": {},
   "outputs": [
    {
     "output_type": "execute_result",
     "data": {
      "text/plain": [
       "     j0_x j0_y j1_x j1_y j2_x j2_y j3_x j3_y j4_x j4_y  ... j13_y j14_x j14_y  \\\n",
       "0     132   78  128  112   98  112   85  157   87  200  ...     0   126    73   \n",
       "1     132   78  128  112   98  112   85  155   90  200  ...     0   126    73   \n",
       "2     132   78  128  114   98  112   85  157   92  200  ...     0   124    73   \n",
       "3     130   78  126  114   98  112   85  155   92  200  ...     0   124    73   \n",
       "4     128   78  126  112   96  112   85  157   90  204  ...     0   122    73   \n",
       "...   ...  ...  ...  ...  ...  ...  ...  ...  ...  ...  ...   ...   ...   ...   \n",
       "7694  160   86  158  121  130  121  115  165  115  200  ...     0   154    82   \n",
       "7695  160   86  158  121  130  121  115  165  115  200  ...     0   154    82   \n",
       "7696  160   86  158  121  130  121  113  163  115  200  ...     0   154    82   \n",
       "7697  160   86  158  121  130  121  113  163  115  195  ...     0   154    82   \n",
       "7698  160   86  158  121  130  121  111  159  113  185  ...     0   154    82   \n",
       "\n",
       "     j15_x j15_y j16_x j16_y j17_x j17_y        name  \n",
       "0      137    73   117    76   145    75  devel04_11  \n",
       "1      137    71   117    76   145    75  devel04_11  \n",
       "2      137    73   115    76   145    76  devel04_11  \n",
       "3      135    73   115    75   143    76  devel04_11  \n",
       "4      135    73   113    76   143    76  devel04_11  \n",
       "...    ...   ...   ...   ...   ...   ...         ...  \n",
       "7694   165    82   147    86   175    86  devel199_9  \n",
       "7695   165    82   147    86   175    86  devel199_9  \n",
       "7696   165    82   147    86   175    86  devel199_9  \n",
       "7697   165    82   147    86   175    86  devel199_9  \n",
       "7698   165    82   147    86   175    86  devel199_9  \n",
       "\n",
       "[7699 rows x 37 columns]"
      ],
      "text/html": "<div>\n<style scoped>\n    .dataframe tbody tr th:only-of-type {\n        vertical-align: middle;\n    }\n\n    .dataframe tbody tr th {\n        vertical-align: top;\n    }\n\n    .dataframe thead th {\n        text-align: right;\n    }\n</style>\n<table border=\"1\" class=\"dataframe\">\n  <thead>\n    <tr style=\"text-align: right;\">\n      <th></th>\n      <th>j0_x</th>\n      <th>j0_y</th>\n      <th>j1_x</th>\n      <th>j1_y</th>\n      <th>j2_x</th>\n      <th>j2_y</th>\n      <th>j3_x</th>\n      <th>j3_y</th>\n      <th>j4_x</th>\n      <th>j4_y</th>\n      <th>...</th>\n      <th>j13_y</th>\n      <th>j14_x</th>\n      <th>j14_y</th>\n      <th>j15_x</th>\n      <th>j15_y</th>\n      <th>j16_x</th>\n      <th>j16_y</th>\n      <th>j17_x</th>\n      <th>j17_y</th>\n      <th>name</th>\n    </tr>\n  </thead>\n  <tbody>\n    <tr>\n      <th>0</th>\n      <td>132</td>\n      <td>78</td>\n      <td>128</td>\n      <td>112</td>\n      <td>98</td>\n      <td>112</td>\n      <td>85</td>\n      <td>157</td>\n      <td>87</td>\n      <td>200</td>\n      <td>...</td>\n      <td>0</td>\n      <td>126</td>\n      <td>73</td>\n      <td>137</td>\n      <td>73</td>\n      <td>117</td>\n      <td>76</td>\n      <td>145</td>\n      <td>75</td>\n      <td>devel04_11</td>\n    </tr>\n    <tr>\n      <th>1</th>\n      <td>132</td>\n      <td>78</td>\n      <td>128</td>\n      <td>112</td>\n      <td>98</td>\n      <td>112</td>\n      <td>85</td>\n      <td>155</td>\n      <td>90</td>\n      <td>200</td>\n      <td>...</td>\n      <td>0</td>\n      <td>126</td>\n      <td>73</td>\n      <td>137</td>\n      <td>71</td>\n      <td>117</td>\n      <td>76</td>\n      <td>145</td>\n      <td>75</td>\n      <td>devel04_11</td>\n    </tr>\n    <tr>\n      <th>2</th>\n      <td>132</td>\n      <td>78</td>\n      <td>128</td>\n      <td>114</td>\n      <td>98</td>\n      <td>112</td>\n      <td>85</td>\n      <td>157</td>\n      <td>92</td>\n      <td>200</td>\n      <td>...</td>\n      <td>0</td>\n      <td>124</td>\n      <td>73</td>\n      <td>137</td>\n      <td>73</td>\n      <td>115</td>\n      <td>76</td>\n      <td>145</td>\n      <td>76</td>\n      <td>devel04_11</td>\n    </tr>\n    <tr>\n      <th>3</th>\n      <td>130</td>\n      <td>78</td>\n      <td>126</td>\n      <td>114</td>\n      <td>98</td>\n      <td>112</td>\n      <td>85</td>\n      <td>155</td>\n      <td>92</td>\n      <td>200</td>\n      <td>...</td>\n      <td>0</td>\n      <td>124</td>\n      <td>73</td>\n      <td>135</td>\n      <td>73</td>\n      <td>115</td>\n      <td>75</td>\n      <td>143</td>\n      <td>76</td>\n      <td>devel04_11</td>\n    </tr>\n    <tr>\n      <th>4</th>\n      <td>128</td>\n      <td>78</td>\n      <td>126</td>\n      <td>112</td>\n      <td>96</td>\n      <td>112</td>\n      <td>85</td>\n      <td>157</td>\n      <td>90</td>\n      <td>204</td>\n      <td>...</td>\n      <td>0</td>\n      <td>122</td>\n      <td>73</td>\n      <td>135</td>\n      <td>73</td>\n      <td>113</td>\n      <td>76</td>\n      <td>143</td>\n      <td>76</td>\n      <td>devel04_11</td>\n    </tr>\n    <tr>\n      <th>...</th>\n      <td>...</td>\n      <td>...</td>\n      <td>...</td>\n      <td>...</td>\n      <td>...</td>\n      <td>...</td>\n      <td>...</td>\n      <td>...</td>\n      <td>...</td>\n      <td>...</td>\n      <td>...</td>\n      <td>...</td>\n      <td>...</td>\n      <td>...</td>\n      <td>...</td>\n      <td>...</td>\n      <td>...</td>\n      <td>...</td>\n      <td>...</td>\n      <td>...</td>\n      <td>...</td>\n    </tr>\n    <tr>\n      <th>7694</th>\n      <td>160</td>\n      <td>86</td>\n      <td>158</td>\n      <td>121</td>\n      <td>130</td>\n      <td>121</td>\n      <td>115</td>\n      <td>165</td>\n      <td>115</td>\n      <td>200</td>\n      <td>...</td>\n      <td>0</td>\n      <td>154</td>\n      <td>82</td>\n      <td>165</td>\n      <td>82</td>\n      <td>147</td>\n      <td>86</td>\n      <td>175</td>\n      <td>86</td>\n      <td>devel199_9</td>\n    </tr>\n    <tr>\n      <th>7695</th>\n      <td>160</td>\n      <td>86</td>\n      <td>158</td>\n      <td>121</td>\n      <td>130</td>\n      <td>121</td>\n      <td>115</td>\n      <td>165</td>\n      <td>115</td>\n      <td>200</td>\n      <td>...</td>\n      <td>0</td>\n      <td>154</td>\n      <td>82</td>\n      <td>165</td>\n      <td>82</td>\n      <td>147</td>\n      <td>86</td>\n      <td>175</td>\n      <td>86</td>\n      <td>devel199_9</td>\n    </tr>\n    <tr>\n      <th>7696</th>\n      <td>160</td>\n      <td>86</td>\n      <td>158</td>\n      <td>121</td>\n      <td>130</td>\n      <td>121</td>\n      <td>113</td>\n      <td>163</td>\n      <td>115</td>\n      <td>200</td>\n      <td>...</td>\n      <td>0</td>\n      <td>154</td>\n      <td>82</td>\n      <td>165</td>\n      <td>82</td>\n      <td>147</td>\n      <td>86</td>\n      <td>175</td>\n      <td>86</td>\n      <td>devel199_9</td>\n    </tr>\n    <tr>\n      <th>7697</th>\n      <td>160</td>\n      <td>86</td>\n      <td>158</td>\n      <td>121</td>\n      <td>130</td>\n      <td>121</td>\n      <td>113</td>\n      <td>163</td>\n      <td>115</td>\n      <td>195</td>\n      <td>...</td>\n      <td>0</td>\n      <td>154</td>\n      <td>82</td>\n      <td>165</td>\n      <td>82</td>\n      <td>147</td>\n      <td>86</td>\n      <td>175</td>\n      <td>86</td>\n      <td>devel199_9</td>\n    </tr>\n    <tr>\n      <th>7698</th>\n      <td>160</td>\n      <td>86</td>\n      <td>158</td>\n      <td>121</td>\n      <td>130</td>\n      <td>121</td>\n      <td>111</td>\n      <td>159</td>\n      <td>113</td>\n      <td>185</td>\n      <td>...</td>\n      <td>0</td>\n      <td>154</td>\n      <td>82</td>\n      <td>165</td>\n      <td>82</td>\n      <td>147</td>\n      <td>86</td>\n      <td>175</td>\n      <td>86</td>\n      <td>devel199_9</td>\n    </tr>\n  </tbody>\n</table>\n<p>7699 rows × 37 columns</p>\n</div>"
     },
     "metadata": {},
     "execution_count": 34
    }
   ],
   "source": [
    "J_poses_df = pd.DataFrame(columns=column_names + [\"name\"])\n",
    "for index, row in df.loc[df[\"user\"] == \"J\"].iterrows():\n",
    "    J_poses_df = pd.concat([J_poses_df, poses_df.loc[poses_df[\"name\"] == row[\"name\"]].iloc[9:]], ignore_index=True, sort=False)\n",
    "J_poses_df"
   ]
  },
  {
   "source": [
    "### Cut first and lact 1 second from \"Z\" user"
   ],
   "cell_type": "markdown",
   "metadata": {}
  },
  {
   "cell_type": "code",
   "execution_count": 33,
   "metadata": {},
   "outputs": [
    {
     "output_type": "execute_result",
     "data": {
      "text/plain": [
       "     j0_x j0_y j1_x j1_y j2_x j2_y j3_x j3_y j4_x j4_y  ... j13_y j14_x j14_y  \\\n",
       "0     143   67  150  108  124  110  115  146  111  168  ...     0   137    63   \n",
       "1     143   67  152  108  122  112  115  148  111  168  ...     0   137    63   \n",
       "2     143   67  150  108  124  110  115  146  111  168  ...     0   137    63   \n",
       "3     143   65  150  108  122  110  115  148  113  170  ...     0   137    61   \n",
       "4     143   65  150  108  122  110  115  146  113  170  ...     0   137    61   \n",
       "...   ...  ...  ...  ...  ...  ...  ...  ...  ...  ...  ...   ...   ...   ...   \n",
       "5950  152   69  160  110  132  110  119  157  109  196  ...     0   147    65   \n",
       "5951  152   69  160  110  132  110  119  159  109  195  ...     0   147    65   \n",
       "5952  152   69  160  110  132  110  119  157  111  196  ...     0   147    65   \n",
       "5953  152   69  160  110  132  110  119  157  111  195  ...     0   147    65   \n",
       "5954  150   71  160  110  132  110  119  157  111  196  ...     0   147    65   \n",
       "\n",
       "     j15_x j15_y j16_x j16_y j17_x j17_y         name  \n",
       "0      150    61   134    71   164    67    valid03_1  \n",
       "1      150    61   134    71   164    67    valid03_1  \n",
       "2      150    61   134    71   164    67    valid03_1  \n",
       "3      150    61   134    69   164    67    valid03_1  \n",
       "4      150    61   134    69   164    67    valid03_1  \n",
       "...    ...   ...   ...   ...   ...   ...          ...  \n",
       "5950   158    63   143    73   173    69  devel197_47  \n",
       "5951   158    63   143    73   173    69  devel197_47  \n",
       "5952   158    63   143    75   173    71  devel197_47  \n",
       "5953   158    63   143    75   173    69  devel197_47  \n",
       "5954   158    63   143    73   173    71  devel197_47  \n",
       "\n",
       "[5955 rows x 37 columns]"
      ],
      "text/html": "<div>\n<style scoped>\n    .dataframe tbody tr th:only-of-type {\n        vertical-align: middle;\n    }\n\n    .dataframe tbody tr th {\n        vertical-align: top;\n    }\n\n    .dataframe thead th {\n        text-align: right;\n    }\n</style>\n<table border=\"1\" class=\"dataframe\">\n  <thead>\n    <tr style=\"text-align: right;\">\n      <th></th>\n      <th>j0_x</th>\n      <th>j0_y</th>\n      <th>j1_x</th>\n      <th>j1_y</th>\n      <th>j2_x</th>\n      <th>j2_y</th>\n      <th>j3_x</th>\n      <th>j3_y</th>\n      <th>j4_x</th>\n      <th>j4_y</th>\n      <th>...</th>\n      <th>j13_y</th>\n      <th>j14_x</th>\n      <th>j14_y</th>\n      <th>j15_x</th>\n      <th>j15_y</th>\n      <th>j16_x</th>\n      <th>j16_y</th>\n      <th>j17_x</th>\n      <th>j17_y</th>\n      <th>name</th>\n    </tr>\n  </thead>\n  <tbody>\n    <tr>\n      <th>0</th>\n      <td>143</td>\n      <td>67</td>\n      <td>150</td>\n      <td>108</td>\n      <td>124</td>\n      <td>110</td>\n      <td>115</td>\n      <td>146</td>\n      <td>111</td>\n      <td>168</td>\n      <td>...</td>\n      <td>0</td>\n      <td>137</td>\n      <td>63</td>\n      <td>150</td>\n      <td>61</td>\n      <td>134</td>\n      <td>71</td>\n      <td>164</td>\n      <td>67</td>\n      <td>valid03_1</td>\n    </tr>\n    <tr>\n      <th>1</th>\n      <td>143</td>\n      <td>67</td>\n      <td>152</td>\n      <td>108</td>\n      <td>122</td>\n      <td>112</td>\n      <td>115</td>\n      <td>148</td>\n      <td>111</td>\n      <td>168</td>\n      <td>...</td>\n      <td>0</td>\n      <td>137</td>\n      <td>63</td>\n      <td>150</td>\n      <td>61</td>\n      <td>134</td>\n      <td>71</td>\n      <td>164</td>\n      <td>67</td>\n      <td>valid03_1</td>\n    </tr>\n    <tr>\n      <th>2</th>\n      <td>143</td>\n      <td>67</td>\n      <td>150</td>\n      <td>108</td>\n      <td>124</td>\n      <td>110</td>\n      <td>115</td>\n      <td>146</td>\n      <td>111</td>\n      <td>168</td>\n      <td>...</td>\n      <td>0</td>\n      <td>137</td>\n      <td>63</td>\n      <td>150</td>\n      <td>61</td>\n      <td>134</td>\n      <td>71</td>\n      <td>164</td>\n      <td>67</td>\n      <td>valid03_1</td>\n    </tr>\n    <tr>\n      <th>3</th>\n      <td>143</td>\n      <td>65</td>\n      <td>150</td>\n      <td>108</td>\n      <td>122</td>\n      <td>110</td>\n      <td>115</td>\n      <td>148</td>\n      <td>113</td>\n      <td>170</td>\n      <td>...</td>\n      <td>0</td>\n      <td>137</td>\n      <td>61</td>\n      <td>150</td>\n      <td>61</td>\n      <td>134</td>\n      <td>69</td>\n      <td>164</td>\n      <td>67</td>\n      <td>valid03_1</td>\n    </tr>\n    <tr>\n      <th>4</th>\n      <td>143</td>\n      <td>65</td>\n      <td>150</td>\n      <td>108</td>\n      <td>122</td>\n      <td>110</td>\n      <td>115</td>\n      <td>146</td>\n      <td>113</td>\n      <td>170</td>\n      <td>...</td>\n      <td>0</td>\n      <td>137</td>\n      <td>61</td>\n      <td>150</td>\n      <td>61</td>\n      <td>134</td>\n      <td>69</td>\n      <td>164</td>\n      <td>67</td>\n      <td>valid03_1</td>\n    </tr>\n    <tr>\n      <th>...</th>\n      <td>...</td>\n      <td>...</td>\n      <td>...</td>\n      <td>...</td>\n      <td>...</td>\n      <td>...</td>\n      <td>...</td>\n      <td>...</td>\n      <td>...</td>\n      <td>...</td>\n      <td>...</td>\n      <td>...</td>\n      <td>...</td>\n      <td>...</td>\n      <td>...</td>\n      <td>...</td>\n      <td>...</td>\n      <td>...</td>\n      <td>...</td>\n      <td>...</td>\n      <td>...</td>\n    </tr>\n    <tr>\n      <th>5950</th>\n      <td>152</td>\n      <td>69</td>\n      <td>160</td>\n      <td>110</td>\n      <td>132</td>\n      <td>110</td>\n      <td>119</td>\n      <td>157</td>\n      <td>109</td>\n      <td>196</td>\n      <td>...</td>\n      <td>0</td>\n      <td>147</td>\n      <td>65</td>\n      <td>158</td>\n      <td>63</td>\n      <td>143</td>\n      <td>73</td>\n      <td>173</td>\n      <td>69</td>\n      <td>devel197_47</td>\n    </tr>\n    <tr>\n      <th>5951</th>\n      <td>152</td>\n      <td>69</td>\n      <td>160</td>\n      <td>110</td>\n      <td>132</td>\n      <td>110</td>\n      <td>119</td>\n      <td>159</td>\n      <td>109</td>\n      <td>195</td>\n      <td>...</td>\n      <td>0</td>\n      <td>147</td>\n      <td>65</td>\n      <td>158</td>\n      <td>63</td>\n      <td>143</td>\n      <td>73</td>\n      <td>173</td>\n      <td>69</td>\n      <td>devel197_47</td>\n    </tr>\n    <tr>\n      <th>5952</th>\n      <td>152</td>\n      <td>69</td>\n      <td>160</td>\n      <td>110</td>\n      <td>132</td>\n      <td>110</td>\n      <td>119</td>\n      <td>157</td>\n      <td>111</td>\n      <td>196</td>\n      <td>...</td>\n      <td>0</td>\n      <td>147</td>\n      <td>65</td>\n      <td>158</td>\n      <td>63</td>\n      <td>143</td>\n      <td>75</td>\n      <td>173</td>\n      <td>71</td>\n      <td>devel197_47</td>\n    </tr>\n    <tr>\n      <th>5953</th>\n      <td>152</td>\n      <td>69</td>\n      <td>160</td>\n      <td>110</td>\n      <td>132</td>\n      <td>110</td>\n      <td>119</td>\n      <td>157</td>\n      <td>111</td>\n      <td>195</td>\n      <td>...</td>\n      <td>0</td>\n      <td>147</td>\n      <td>65</td>\n      <td>158</td>\n      <td>63</td>\n      <td>143</td>\n      <td>75</td>\n      <td>173</td>\n      <td>69</td>\n      <td>devel197_47</td>\n    </tr>\n    <tr>\n      <th>5954</th>\n      <td>150</td>\n      <td>71</td>\n      <td>160</td>\n      <td>110</td>\n      <td>132</td>\n      <td>110</td>\n      <td>119</td>\n      <td>157</td>\n      <td>111</td>\n      <td>196</td>\n      <td>...</td>\n      <td>0</td>\n      <td>147</td>\n      <td>65</td>\n      <td>158</td>\n      <td>63</td>\n      <td>143</td>\n      <td>73</td>\n      <td>173</td>\n      <td>71</td>\n      <td>devel197_47</td>\n    </tr>\n  </tbody>\n</table>\n<p>5955 rows × 37 columns</p>\n</div>"
     },
     "metadata": {},
     "execution_count": 33
    }
   ],
   "source": [
    "Z_poses_df = pd.DataFrame(columns=column_names + [\"name\"])\n",
    "for index, row in df.loc[df[\"user\"] == \"Z\"].iterrows():\n",
    "    Z_poses_df = pd.concat([Z_poses_df, poses_df.loc[poses_df[\"name\"] == row[\"name\"]].iloc[9:]], ignore_index=True, sort=False)\n",
    "Z_poses_df"
   ]
  },
  {
   "source": [
    "### Concatenate all"
   ],
   "cell_type": "markdown",
   "metadata": {}
  },
  {
   "cell_type": "code",
   "execution_count": 44,
   "metadata": {},
   "outputs": [
    {
     "output_type": "execute_result",
     "data": {
      "text/plain": [
       "            name label                                               path  \\\n",
       "104    devel26_1     4  /home/vlados/datasets/chalearn/devel-21-135/de...   \n",
       "105    devel26_2     7  /home/vlados/datasets/chalearn/devel-21-135/de...   \n",
       "106    devel26_3     2  /home/vlados/datasets/chalearn/devel-21-135/de...   \n",
       "107    devel26_4    10  /home/vlados/datasets/chalearn/devel-21-135/de...   \n",
       "108    devel26_5     9  /home/vlados/datasets/chalearn/devel-21-135/de...   \n",
       "...          ...   ...                                                ...   \n",
       "1321  devel475_5     9  /home/vlados/datasets/chalearn/devel-366-480/d...   \n",
       "1322  devel475_6     8  /home/vlados/datasets/chalearn/devel-366-480/d...   \n",
       "1323  devel475_7     5  /home/vlados/datasets/chalearn/devel-366-480/d...   \n",
       "1324  devel475_8     4  /home/vlados/datasets/chalearn/devel-366-480/d...   \n",
       "1325  devel475_9     2  /home/vlados/datasets/chalearn/devel-366-480/d...   \n",
       "\n",
       "             lexicon user  \n",
       "104   DivingSignals2    L  \n",
       "105   DivingSignals2    L  \n",
       "106   DivingSignals2    L  \n",
       "107   DivingSignals2    L  \n",
       "108   DivingSignals2    L  \n",
       "...              ...  ...  \n",
       "1321  DivingSignals1    M  \n",
       "1322  DivingSignals1    M  \n",
       "1323  DivingSignals1    M  \n",
       "1324  DivingSignals1    M  \n",
       "1325  DivingSignals1    M  \n",
       "\n",
       "[1081 rows x 5 columns]"
      ],
      "text/html": "<div>\n<style scoped>\n    .dataframe tbody tr th:only-of-type {\n        vertical-align: middle;\n    }\n\n    .dataframe tbody tr th {\n        vertical-align: top;\n    }\n\n    .dataframe thead th {\n        text-align: right;\n    }\n</style>\n<table border=\"1\" class=\"dataframe\">\n  <thead>\n    <tr style=\"text-align: right;\">\n      <th></th>\n      <th>name</th>\n      <th>label</th>\n      <th>path</th>\n      <th>lexicon</th>\n      <th>user</th>\n    </tr>\n  </thead>\n  <tbody>\n    <tr>\n      <th>104</th>\n      <td>devel26_1</td>\n      <td>4</td>\n      <td>/home/vlados/datasets/chalearn/devel-21-135/de...</td>\n      <td>DivingSignals2</td>\n      <td>L</td>\n    </tr>\n    <tr>\n      <th>105</th>\n      <td>devel26_2</td>\n      <td>7</td>\n      <td>/home/vlados/datasets/chalearn/devel-21-135/de...</td>\n      <td>DivingSignals2</td>\n      <td>L</td>\n    </tr>\n    <tr>\n      <th>106</th>\n      <td>devel26_3</td>\n      <td>2</td>\n      <td>/home/vlados/datasets/chalearn/devel-21-135/de...</td>\n      <td>DivingSignals2</td>\n      <td>L</td>\n    </tr>\n    <tr>\n      <th>107</th>\n      <td>devel26_4</td>\n      <td>10</td>\n      <td>/home/vlados/datasets/chalearn/devel-21-135/de...</td>\n      <td>DivingSignals2</td>\n      <td>L</td>\n    </tr>\n    <tr>\n      <th>108</th>\n      <td>devel26_5</td>\n      <td>9</td>\n      <td>/home/vlados/datasets/chalearn/devel-21-135/de...</td>\n      <td>DivingSignals2</td>\n      <td>L</td>\n    </tr>\n    <tr>\n      <th>...</th>\n      <td>...</td>\n      <td>...</td>\n      <td>...</td>\n      <td>...</td>\n      <td>...</td>\n    </tr>\n    <tr>\n      <th>1321</th>\n      <td>devel475_5</td>\n      <td>9</td>\n      <td>/home/vlados/datasets/chalearn/devel-366-480/d...</td>\n      <td>DivingSignals1</td>\n      <td>M</td>\n    </tr>\n    <tr>\n      <th>1322</th>\n      <td>devel475_6</td>\n      <td>8</td>\n      <td>/home/vlados/datasets/chalearn/devel-366-480/d...</td>\n      <td>DivingSignals1</td>\n      <td>M</td>\n    </tr>\n    <tr>\n      <th>1323</th>\n      <td>devel475_7</td>\n      <td>5</td>\n      <td>/home/vlados/datasets/chalearn/devel-366-480/d...</td>\n      <td>DivingSignals1</td>\n      <td>M</td>\n    </tr>\n    <tr>\n      <th>1324</th>\n      <td>devel475_8</td>\n      <td>4</td>\n      <td>/home/vlados/datasets/chalearn/devel-366-480/d...</td>\n      <td>DivingSignals1</td>\n      <td>M</td>\n    </tr>\n    <tr>\n      <th>1325</th>\n      <td>devel475_9</td>\n      <td>2</td>\n      <td>/home/vlados/datasets/chalearn/devel-366-480/d...</td>\n      <td>DivingSignals1</td>\n      <td>M</td>\n    </tr>\n  </tbody>\n</table>\n<p>1081 rows × 5 columns</p>\n</div>"
     },
     "metadata": {},
     "execution_count": 44
    }
   ],
   "source": [
    "df.loc[(df[\"user\"] != \"J\") & (df[\"user\"] != \"Z\") & (df[\"user\"] != \"D\")]"
   ]
  },
  {
   "cell_type": "code",
   "execution_count": 45,
   "metadata": {},
   "outputs": [],
   "source": [
    "new_poses_df = pd.DataFrame(columns=column_names + [\"name\"])\n",
    "for index, row in df.loc[(df[\"user\"] != \"J\") & (df[\"user\"] != \"Z\") & (df[\"user\"] != \"D\")].iterrows():\n",
    "    new_poses_df = pd.concat([new_poses_df, poses_df.loc[poses_df[\"name\"] == row[\"name\"]]loc[9:]], ignore_index=True, sort=False)"
   ]
  },
  {
   "source": [
    "## Prepare data for training"
   ],
   "cell_type": "markdown",
   "metadata": {}
  },
  {
   "cell_type": "code",
   "execution_count": 56,
   "metadata": {},
   "outputs": [
    {
     "output_type": "stream",
     "name": "stdout",
     "text": [
      "69.0 devel04_11 J\n",
      "29.0 devel04_12 J\n",
      "24.0 devel04_16 J\n",
      "21.0 devel20_10 D\n",
      "19.0 devel20_11 D\n",
      "16.0 devel20_13 D\n",
      "13.0 devel20_22 D\n",
      "12.0 devel361_31 D\n",
      "11.0 devel361_33 D\n",
      "10.333333333333334 devel361_34 D\n",
      "10.0 devel361_39 D\n",
      "9.0 devel361_41 D\n"
     ]
    }
   ],
   "source": [
    "sequence_size = int(count_min_frames_for_gesture(df,new_poses_df))"
   ]
  },
  {
   "cell_type": "code",
   "execution_count": 58,
   "metadata": {},
   "outputs": [
    {
     "output_type": "execute_result",
     "data": {
      "text/plain": [
       "  j0_x j0_y j1_x j1_y j2_x j2_y j3_x j3_y j4_x j4_y  ... j13_y j14_x j14_y  \\\n",
       "0  164   48  175   84  143   86  135  138  137  183  ...     0   158    41   \n",
       "1  164   46  175   84  143   86  135  138  137  183  ...     0   158    41   \n",
       "2  164   46  175   84  143   86  135  138  137  183  ...     0   158    41   \n",
       "\n",
       "  j15_x j15_y j16_x j16_y j17_x j17_y       name  \n",
       "0   169    41   150    45   188    41  devel26_1  \n",
       "1   169    41   152    45   188    43  devel26_1  \n",
       "2   169    39   152    45   188    41  devel26_1  \n",
       "\n",
       "[3 rows x 37 columns]"
      ],
      "text/html": "<div>\n<style scoped>\n    .dataframe tbody tr th:only-of-type {\n        vertical-align: middle;\n    }\n\n    .dataframe tbody tr th {\n        vertical-align: top;\n    }\n\n    .dataframe thead th {\n        text-align: right;\n    }\n</style>\n<table border=\"1\" class=\"dataframe\">\n  <thead>\n    <tr style=\"text-align: right;\">\n      <th></th>\n      <th>j0_x</th>\n      <th>j0_y</th>\n      <th>j1_x</th>\n      <th>j1_y</th>\n      <th>j2_x</th>\n      <th>j2_y</th>\n      <th>j3_x</th>\n      <th>j3_y</th>\n      <th>j4_x</th>\n      <th>j4_y</th>\n      <th>...</th>\n      <th>j13_y</th>\n      <th>j14_x</th>\n      <th>j14_y</th>\n      <th>j15_x</th>\n      <th>j15_y</th>\n      <th>j16_x</th>\n      <th>j16_y</th>\n      <th>j17_x</th>\n      <th>j17_y</th>\n      <th>name</th>\n    </tr>\n  </thead>\n  <tbody>\n    <tr>\n      <th>0</th>\n      <td>164</td>\n      <td>48</td>\n      <td>175</td>\n      <td>84</td>\n      <td>143</td>\n      <td>86</td>\n      <td>135</td>\n      <td>138</td>\n      <td>137</td>\n      <td>183</td>\n      <td>...</td>\n      <td>0</td>\n      <td>158</td>\n      <td>41</td>\n      <td>169</td>\n      <td>41</td>\n      <td>150</td>\n      <td>45</td>\n      <td>188</td>\n      <td>41</td>\n      <td>devel26_1</td>\n    </tr>\n    <tr>\n      <th>1</th>\n      <td>164</td>\n      <td>46</td>\n      <td>175</td>\n      <td>84</td>\n      <td>143</td>\n      <td>86</td>\n      <td>135</td>\n      <td>138</td>\n      <td>137</td>\n      <td>183</td>\n      <td>...</td>\n      <td>0</td>\n      <td>158</td>\n      <td>41</td>\n      <td>169</td>\n      <td>41</td>\n      <td>152</td>\n      <td>45</td>\n      <td>188</td>\n      <td>43</td>\n      <td>devel26_1</td>\n    </tr>\n    <tr>\n      <th>2</th>\n      <td>164</td>\n      <td>46</td>\n      <td>175</td>\n      <td>84</td>\n      <td>143</td>\n      <td>86</td>\n      <td>135</td>\n      <td>138</td>\n      <td>137</td>\n      <td>183</td>\n      <td>...</td>\n      <td>0</td>\n      <td>158</td>\n      <td>41</td>\n      <td>169</td>\n      <td>39</td>\n      <td>152</td>\n      <td>45</td>\n      <td>188</td>\n      <td>41</td>\n      <td>devel26_1</td>\n    </tr>\n  </tbody>\n</table>\n<p>3 rows × 37 columns</p>\n</div>"
     },
     "metadata": {},
     "execution_count": 58
    }
   ],
   "source": [
    "new_poses_df.iloc[0:3]"
   ]
  },
  {
   "cell_type": "code",
   "execution_count": 60,
   "metadata": {},
   "outputs": [],
   "source": [
    "import math"
   ]
  },
  {
   "cell_type": "code",
   "execution_count": 62,
   "metadata": {},
   "outputs": [],
   "source": [
    "final_labels_df = pd.DataFrame(columns=[\"label\"])\n",
    "final_poses_df = pd.DataFrame(columns=column_names + [\"name\"])\n",
    "for index, row in df.iterrows():\n",
    "    if index == 2:\n",
    "        break\n",
    "    poses_from_one_video = poses_df.loc[poses_df[\"name\"] == row[\"name\"]]\n",
    "    temp_label_df = pd.DataFrame(columns=[\"label\"])\n",
    "    labels_string = str(row[\"label\"]);\n",
    "    splitted = labels_string.split(\" \")\n",
    "    num_labels = len(splitted) - 1\n",
    "    label_sequence_size = math.ceil(poses_from_one_video.shape[0] / num_labels)\n",
    "    for i, label in enumerate(splitted):\n",
    "        if label == \"\":\n",
    "            continue\n",
    "        pose_sequence = poses_from_one_video.iloc[label_sequence_size * i:label_sequence_size + label_sequence_size * i]\n",
    "        temp_label_df.at[0, \"label\"] = int(label)\n",
    "        final_labels_df = pd.concat([final_labels_df, temp_label_df], ignore_index=True, sort=False)\n",
    "        final_poses_df = pd.concat([final_poses_df, pose_sequence], ignore_index=True, sort=False)\n"
   ]
  },
  {
   "cell_type": "code",
   "execution_count": 63,
   "metadata": {},
   "outputs": [
    {
     "output_type": "execute_result",
     "data": {
      "text/plain": [
       "  label\n",
       "0     3\n",
       "1     1"
      ],
      "text/html": "<div>\n<style scoped>\n    .dataframe tbody tr th:only-of-type {\n        vertical-align: middle;\n    }\n\n    .dataframe tbody tr th {\n        vertical-align: top;\n    }\n\n    .dataframe thead th {\n        text-align: right;\n    }\n</style>\n<table border=\"1\" class=\"dataframe\">\n  <thead>\n    <tr style=\"text-align: right;\">\n      <th></th>\n      <th>label</th>\n    </tr>\n  </thead>\n  <tbody>\n    <tr>\n      <th>0</th>\n      <td>3</td>\n    </tr>\n    <tr>\n      <th>1</th>\n      <td>1</td>\n    </tr>\n  </tbody>\n</table>\n</div>"
     },
     "metadata": {},
     "execution_count": 63
    }
   ],
   "source": [
    "final_labels_df"
   ]
  },
  {
   "cell_type": "code",
   "execution_count": 64,
   "metadata": {},
   "outputs": [
    {
     "output_type": "execute_result",
     "data": {
      "text/plain": [
       "Empty DataFrame\n",
       "Columns: [j0_x, j0_y, j1_x, j1_y, j2_x, j2_y, j3_x, j3_y, j4_x, j4_y, j5_x, j5_y, j6_x, j6_y, j7_x, j7_y, j8_x, j8_y, j9_x, j9_y, j10_x, j10_y, j11_x, j11_y, j12_x, j12_y, j13_x, j13_y, j14_x, j14_y, j15_x, j15_y, j16_x, j16_y, j17_x, j17_y, name]\n",
       "Index: []\n",
       "\n",
       "[0 rows x 37 columns]"
      ],
      "text/html": "<div>\n<style scoped>\n    .dataframe tbody tr th:only-of-type {\n        vertical-align: middle;\n    }\n\n    .dataframe tbody tr th {\n        vertical-align: top;\n    }\n\n    .dataframe thead th {\n        text-align: right;\n    }\n</style>\n<table border=\"1\" class=\"dataframe\">\n  <thead>\n    <tr style=\"text-align: right;\">\n      <th></th>\n      <th>j0_x</th>\n      <th>j0_y</th>\n      <th>j1_x</th>\n      <th>j1_y</th>\n      <th>j2_x</th>\n      <th>j2_y</th>\n      <th>j3_x</th>\n      <th>j3_y</th>\n      <th>j4_x</th>\n      <th>j4_y</th>\n      <th>...</th>\n      <th>j13_y</th>\n      <th>j14_x</th>\n      <th>j14_y</th>\n      <th>j15_x</th>\n      <th>j15_y</th>\n      <th>j16_x</th>\n      <th>j16_y</th>\n      <th>j17_x</th>\n      <th>j17_y</th>\n      <th>name</th>\n    </tr>\n  </thead>\n  <tbody>\n  </tbody>\n</table>\n<p>0 rows × 37 columns</p>\n</div>"
     },
     "metadata": {},
     "execution_count": 64
    }
   ],
   "source": [
    "final_poses_df"
   ]
  },
  {
   "cell_type": "code",
   "execution_count": null,
   "metadata": {},
   "outputs": [],
   "source": []
  }
 ]
}