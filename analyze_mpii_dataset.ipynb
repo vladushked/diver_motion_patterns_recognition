{
 "metadata": {
  "language_info": {
   "codemirror_mode": {
    "name": "ipython",
    "version": 3
   },
   "file_extension": ".py",
   "mimetype": "text/x-python",
   "name": "python",
   "nbconvert_exporter": "python",
   "pygments_lexer": "ipython3",
   "version": "3.8.10"
  },
  "orig_nbformat": 2,
  "kernelspec": {
   "name": "python3",
   "display_name": "Python 3.8.10 64-bit ('venv': venv)"
  },
  "interpreter": {
   "hash": "6e14dc837887b30b7a6656139ce350d50b37897dc07ca1a55cddba3bb74b2095"
  }
 },
 "nbformat": 4,
 "nbformat_minor": 2,
 "cells": [
  {
   "cell_type": "code",
   "execution_count": 50,
   "source": [
    "from scipy.io import loadmat\n",
    "import pandas as pd\n",
    "import numpy as np"
   ],
   "outputs": [],
   "metadata": {}
  },
  {
   "cell_type": "code",
   "execution_count": 56,
   "source": [
    "mat = loadmat('/home/vladushked/datasets/mpii/mpii_human_pose_v1_u12_2/mpii_human_pose_v1_u12_1.mat',squeeze_me=False)"
   ],
   "outputs": [],
   "metadata": {}
  },
  {
   "cell_type": "code",
   "execution_count": 121,
   "source": [
    "mpii = {n: mat['RELEASE'][n][0,0] for n in mat['RELEASE'].dtype.names}"
   ],
   "outputs": [],
   "metadata": {}
  },
  {
   "cell_type": "code",
   "execution_count": 202,
   "source": [
    "mpii.keys()"
   ],
   "outputs": [
    {
     "output_type": "execute_result",
     "data": {
      "text/plain": [
       "dict_keys(['annolist', 'img_train', 'version', 'single_person', 'act', 'video_list'])"
      ]
     },
     "metadata": {},
     "execution_count": 202
    }
   ],
   "metadata": {}
  },
  {
   "cell_type": "markdown",
   "source": [
    "Number of images"
   ],
   "metadata": {}
  },
  {
   "cell_type": "code",
   "execution_count": 224,
   "source": [
    "joint_num = 16\n",
    "img_num = len(mpii['annolist']['image'][0])\n",
    "img_id = 4"
   ],
   "outputs": [],
   "metadata": {}
  },
  {
   "cell_type": "code",
   "execution_count": 268,
   "source": [
    "mpii['annolist']['image'][0][0]['name'][0][0][0]"
   ],
   "outputs": [
    {
     "output_type": "execute_result",
     "data": {
      "text/plain": [
       "'037454012.jpg'"
      ]
     },
     "metadata": {},
     "execution_count": 268
    }
   ],
   "metadata": {}
  },
  {
   "cell_type": "markdown",
   "source": [
    "Массив аннотаций для каждого изображения"
   ],
   "metadata": {}
  },
  {
   "cell_type": "code",
   "execution_count": 161,
   "source": [
    "len(mpii['annolist']['annorect'][0])"
   ],
   "outputs": [
    {
     "output_type": "execute_result",
     "data": {
      "text/plain": [
       "24987"
      ]
     },
     "metadata": {},
     "execution_count": 161
    }
   ],
   "metadata": {}
  },
  {
   "cell_type": "markdown",
   "source": [
    "Acts"
   ],
   "metadata": {}
  },
  {
   "cell_type": "code",
   "execution_count": 283,
   "source": [
    "mpii['act'][951]['cat_name'][0][0]\n",
    "mpii['img_train'][0][img_id]\n",
    "mpii['act'][img_id]['act_name'][0].size"
   ],
   "outputs": [
    {
     "output_type": "execute_result",
     "data": {
      "text/plain": [
       "1"
      ]
     },
     "metadata": {},
     "execution_count": 283
    }
   ],
   "metadata": {}
  },
  {
   "cell_type": "code",
   "execution_count": 301,
   "source": [
    "np.random.choice(np.arange(0, 2), p=[0.5, 0.5])"
   ],
   "outputs": [
    {
     "output_type": "execute_result",
     "data": {
      "text/plain": [
       "1"
      ]
     },
     "metadata": {},
     "execution_count": 301
    }
   ],
   "metadata": {}
  },
  {
   "cell_type": "code",
   "execution_count": 300,
   "source": [
    "num = 0\n",
    "for i in range(img_num) :\n",
    "    if mpii['act'][i]['act_name'][0].size > 0:\n",
    "        if 'water' in mpii['act'][i]['cat_name'][0][0] and mpii['img_train'][0][i] == 1:\n",
    "            num += 1\n",
    "num"
   ],
   "outputs": [
    {
     "output_type": "execute_result",
     "data": {
      "text/plain": [
       "1066"
      ]
     },
     "metadata": {},
     "execution_count": 300
    }
   ],
   "metadata": {}
  },
  {
   "cell_type": "code",
   "execution_count": 281,
   "source": [
    "num = 0\n",
    "for i in range(img_num) :\n",
    "    if mpii['act'][i]['act_name'][0].size > 0:\n",
    "        if 'div' in mpii['act'][i]['act_name'][0][0]:\n",
    "            num += 1\n",
    "            print(mpii['act'][i]['cat_name'][0][0], '|', mpii['act'][i]['act_name'][0][0], '|', mpii['act'][i]['act_id'][0][0][0], '|', mpii['annolist']['image'][0][i]['name'][0][0][0], '|', mpii['img_train'][0][i])\n",
    "            if (mpii['img_train'][0][i] == 0):\n",
    "                print('fuck')\n",
    "                break\n",
    "num"
   ],
   "outputs": [
    {
     "output_type": "stream",
     "name": "stdout",
     "text": [
      "occupation | skindiving or SCUBA diving as a frogman, Navy Seal | 62 | 062755808.jpg | 1\n",
      "occupation | skindiving or SCUBA diving as a frogman, Navy Seal | 62 | 058431431.jpg | 1\n",
      "occupation | skindiving or SCUBA diving as a frogman, Navy Seal | 62 | 090115801.jpg | 1\n",
      "occupation | skindiving or SCUBA diving as a frogman, Navy Seal | 62 | 004544638.jpg | 1\n",
      "occupation | skindiving or SCUBA diving as a frogman, Navy Seal | 62 | 028096319.jpg | 1\n",
      "occupation | skindiving or SCUBA diving as a frogman, Navy Seal | 62 | 095041148.jpg | 1\n",
      "occupation | skindiving or SCUBA diving as a frogman, Navy Seal | 62 | 089026378.jpg | 1\n",
      "occupation | skindiving or SCUBA diving as a frogman, Navy Seal | 62 | 045565675.jpg | 1\n",
      "occupation | skindiving or SCUBA diving as a frogman, Navy Seal | 62 | 062013260.jpg | 1\n",
      "occupation | skindiving or SCUBA diving as a frogman, Navy Seal | 62 | 027738118.jpg | 1\n",
      "occupation | skindiving or SCUBA diving as a frogman, Navy Seal | 62 | 038855810.jpg | 1\n",
      "occupation | skindiving or SCUBA diving as a frogman, Navy Seal | 62 | 044869362.jpg | 1\n",
      "water activities | skindiving, scuba diving, snorkeling | 219 | 052594658.jpg | 1\n",
      "water activities | skindiving, scuba diving, snorkeling | 219 | 080879944.jpg | 1\n",
      "water activities | skindiving, scuba diving, snorkeling | 219 | 036176831.jpg | 1\n",
      "water activities | skindiving, scuba diving, snorkeling | 219 | 052425472.jpg | 1\n",
      "water activities | skindiving, scuba diving, snorkeling | 219 | 067072733.jpg | 1\n",
      "water activities | skindiving, scuba diving, snorkeling | 219 | 026943945.jpg | 1\n",
      "water activities | skindiving, scuba diving, snorkeling | 219 | 054574968.jpg | 1\n",
      "water activities | skindiving, scuba diving, snorkeling | 219 | 035942383.jpg | 1\n",
      "water activities | skindiving, scuba diving, snorkeling | 219 | 008147390.jpg | 1\n",
      "water activities | skindiving, scuba diving, snorkeling | 219 | 019333923.jpg | 1\n",
      "water activities | diving, springboard or platform | 594 | 065924454.jpg | 1\n",
      "water activities | diving, springboard or platform | 594 | 084216603.jpg | 1\n",
      "water activities | diving, springboard or platform | 594 | 023000045.jpg | 1\n",
      "water activities | skindiving, scuba diving, snorkeling | 397 | 000572093.jpg | 1\n",
      "water activities | diving, springboard or platform | 594 | 065131990.jpg | 1\n",
      "water activities | skindiving, scuba diving, snorkeling | 397 | 020246218.jpg | 1\n",
      "water activities | skindiving, scuba diving, snorkeling | 397 | 089011514.jpg | 1\n",
      "water activities | skindiving, scuba diving, snorkeling | 397 | 085904633.jpg | 1\n",
      "water activities | skindiving, scuba diving, snorkeling | 397 | 007672737.jpg | 1\n",
      "water activities | skindiving, scuba diving, snorkeling | 397 | 010638841.jpg | 1\n",
      "water activities | skindiving, scuba diving, snorkeling | 397 | 049517159.jpg | 1\n",
      "water activities | skindiving, scuba diving, snorkeling | 397 | 060922266.jpg | 1\n",
      "water activities | skindiving, scuba diving, snorkeling | 397 | 027490834.jpg | 1\n",
      "water activities | skindiving, scuba diving, snorkeling | 397 | 071679772.jpg | 1\n",
      "water activities | skindiving, scuba diving, snorkeling | 397 | 059491602.jpg | 1\n",
      "water activities | skindiving, scuba diving, snorkeling | 397 | 032482411.jpg | 1\n",
      "water activities | skindiving, scuba diving, snorkeling | 397 | 002537149.jpg | 1\n",
      "water activities | skindiving, scuba diving, snorkeling | 397 | 075015028.jpg | 1\n",
      "water activities | skindiving, scuba diving, snorkeling | 397 | 021475367.jpg | 1\n",
      "water activities | skindiving, scuba diving, snorkeling | 397 | 083447374.jpg | 1\n",
      "sports | skydiving, base jumping, bungee jumping | 350 | 028882943.jpg | 1\n",
      "sports | skydiving, base jumping, bungee jumping | 350 | 040900774.jpg | 1\n",
      "sports | skydiving, base jumping, bungee jumping | 350 | 052397420.jpg | 1\n",
      "sports | skydiving, base jumping, bungee jumping | 350 | 013487485.jpg | 1\n",
      "sports | skydiving, base jumping, bungee jumping | 350 | 002598229.jpg | 1\n",
      "sports | skydiving, base jumping, bungee jumping | 350 | 015280581.jpg | 1\n",
      "sports | skydiving, base jumping, bungee jumping | 350 | 062685362.jpg | 1\n",
      "sports | skydiving, base jumping, bungee jumping | 350 | 007361826.jpg | 1\n",
      "sports | skydiving, base jumping, bungee jumping | 350 | 018969636.jpg | 1\n",
      "sports | skydiving, base jumping, bungee jumping | 350 | 033785389.jpg | 1\n",
      "sports | skydiving, base jumping, bungee jumping | 350 | 007787006.jpg | 1\n",
      "sports | skydiving, base jumping, bungee jumping | 350 | 019169927.jpg | 1\n",
      "sports | skydiving, base jumping, bungee jumping | 350 | 091126979.jpg | 1\n",
      "sports | skydiving, base jumping, bungee jumping | 350 | 001929913.jpg | 1\n",
      "sports | skydiving, base jumping, bungee jumping | 350 | 065343192.jpg | 1\n",
      "sports | skydiving, base jumping, bungee jumping | 350 | 038440893.jpg | 1\n",
      "sports | skydiving, base jumping, bungee jumping | 350 | 058869172.jpg | 1\n",
      "sports | skydiving, base jumping, bungee jumping | 350 | 022349875.jpg | 1\n",
      "sports | skydiving, base jumping, bungee jumping | 350 | 084720949.jpg | 1\n",
      "sports | skydiving, base jumping, bungee jumping | 350 | 049194038.jpg | 1\n",
      "sports | skydiving, base jumping, bungee jumping | 350 | 082253602.jpg | 1\n",
      "sports | skydiving, base jumping, bungee jumping | 350 | 040601254.jpg | 1\n",
      "sports | skydiving, base jumping, bungee jumping | 350 | 098468555.jpg | 1\n",
      "sports | skydiving, base jumping, bungee jumping | 350 | 077048936.jpg | 1\n",
      "sports | skydiving, base jumping, bungee jumping | 350 | 096595021.jpg | 1\n",
      "sports | skydiving, base jumping, bungee jumping | 350 | 051432648.jpg | 1\n",
      "sports | skydiving, base jumping, bungee jumping | 350 | 047369113.jpg | 1\n",
      "sports | skydiving, base jumping, bungee jumping | 350 | 075545381.jpg | 1\n",
      "sports | skydiving, base jumping, bungee jumping | 350 | 088029126.jpg | 1\n",
      "sports | skydiving, base jumping, bungee jumping | 350 | 096414580.jpg | 1\n",
      "sports | skydiving, base jumping, bungee jumping | 350 | 032455191.jpg | 1\n",
      "sports | skydiving, base jumping, bungee jumping | 350 | 079870457.jpg | 1\n",
      "sports | skydiving, base jumping, bungee jumping | 350 | 021064560.jpg | 1\n",
      "sports | skydiving, base jumping, bungee jumping | 350 | 054557435.jpg | 1\n",
      "sports | skydiving, base jumping, bungee jumping | 350 | 017984815.jpg | 1\n",
      "sports | skydiving, base jumping, bungee jumping | 350 | 093135837.jpg | 1\n",
      "sports | skydiving, base jumping, bungee jumping | 350 | 014609070.jpg | 1\n",
      "sports | skydiving, base jumping, bungee jumping | 350 | 063240090.jpg | 1\n",
      "sports | skydiving, base jumping, bungee jumping | 350 | 059295427.jpg | 1\n",
      "sports | skydiving, base jumping, bungee jumping | 350 | 012073835.jpg | 1\n",
      "sports | skydiving, base jumping, bungee jumping | 350 | 080062366.jpg | 1\n",
      "sports | skydiving, base jumping, bungee jumping | 350 | 097215651.jpg | 1\n",
      "sports | skydiving, base jumping, bungee jumping | 350 | 021475940.jpg | 1\n",
      "sports | skydiving, base jumping, bungee jumping | 350 | 018691196.jpg | 1\n",
      "sports | skydiving, base jumping, bungee jumping | 350 | 045493507.jpg | 1\n",
      "sports | skydiving, base jumping, bungee jumping | 350 | 074776528.jpg | 1\n",
      "sports | skydiving, base jumping, bungee jumping | 350 | 028160061.jpg | 1\n",
      "sports | skydiving, base jumping, bungee jumping | 350 | 071917192.jpg | 1\n",
      "sports | skydiving, base jumping, bungee jumping | 350 | 056270201.jpg | 1\n",
      "sports | skydiving, base jumping, bungee jumping | 350 | 097460921.jpg | 1\n",
      "water activities | skindiving, scuba diving, snorkeling | 428 | 066754827.jpg | 1\n",
      "water activities | skindiving, scuba diving, snorkeling | 428 | 036148843.jpg | 1\n",
      "water activities | skindiving, scuba diving, snorkeling | 428 | 054487328.jpg | 1\n",
      "water activities | skindiving, scuba diving, snorkeling | 428 | 048756536.jpg | 1\n",
      "water activities | skindiving, scuba diving, snorkeling | 428 | 038117500.jpg | 1\n",
      "water activities | skindiving, scuba diving, snorkeling | 428 | 071887798.jpg | 1\n",
      "water activities | skindiving, scuba diving, snorkeling | 428 | 088387611.jpg | 1\n",
      "water activities | skindiving, scuba diving, snorkeling | 428 | 000521252.jpg | 1\n",
      "water activities | skindiving, scuba diving, snorkeling | 428 | 070073188.jpg | 1\n",
      "water activities | skindiving, scuba diving, snorkeling | 428 | 085562457.jpg | 1\n",
      "water activities | skindiving, scuba diving, snorkeling | 428 | 046710369.jpg | 1\n",
      "water activities | skindiving, scuba diving, snorkeling | 428 | 083497407.jpg | 1\n",
      "water activities | skindiving, scuba diving, snorkeling | 428 | 017761982.jpg | 1\n",
      "water activities | skindiving, scuba diving, snorkeling | 428 | 015916753.jpg | 1\n",
      "water activities | skindiving, scuba diving, snorkeling | 428 | 065747137.jpg | 1\n",
      "water activities | skindiving, scuba diving, snorkeling | 428 | 087014301.jpg | 1\n",
      "water activities | skindiving, scuba diving, snorkeling | 428 | 089242618.jpg | 1\n",
      "water activities | skindiving, scuba diving, snorkeling | 428 | 064374046.jpg | 1\n",
      "water activities | skindiving, scuba diving, snorkeling | 428 | 052548923.jpg | 1\n",
      "water activities | skindiving, scuba diving, snorkeling | 428 | 033139309.jpg | 1\n",
      "water activities | skindiving, scuba diving, snorkeling | 428 | 098000042.jpg | 1\n",
      "water activities | skindiving, scuba diving, snorkeling | 428 | 031969569.jpg | 1\n",
      "water activities | skindiving, scuba diving, snorkeling | 428 | 074418611.jpg | 1\n",
      "water activities | skindiving, scuba diving, snorkeling | 428 | 053198180.jpg | 1\n",
      "water activities | diving, springboard or platform | 594 | 032869739.jpg | 1\n",
      "water activities | diving, springboard or platform | 594 | 012142212.jpg | 1\n",
      "water activities | diving, springboard or platform | 594 | 046625674.jpg | 1\n",
      "water activities | diving, springboard or platform | 594 | 000338399.jpg | 1\n",
      "water activities | diving, springboard or platform | 594 | 040178525.jpg | 1\n",
      "water activities | diving, springboard or platform | 594 | 010573527.jpg | 1\n",
      "water activities | diving, springboard or platform | 594 | 002429270.jpg | 1\n",
      "water activities | diving, springboard or platform | 594 | 082447505.jpg | 1\n",
      "water activities | diving, springboard or platform | 594 | 091624880.jpg | 1\n",
      "water activities | diving, springboard or platform | 594 | 020767465.jpg | 1\n",
      "water activities | diving, springboard or platform | 594 | 053929826.jpg | 1\n",
      "water activities | diving, springboard or platform | 594 | 027795816.jpg | 1\n",
      "water activities | diving, springboard or platform | 594 | 049357744.jpg | 1\n",
      "water activities | diving, springboard or platform | 594 | 043663132.jpg | 1\n",
      "water activities | diving, springboard or platform | 594 | 026905106.jpg | 1\n",
      "water activities | diving, springboard or platform | 594 | 070039358.jpg | 1\n",
      "water activities | diving, springboard or platform | 594 | 012649096.jpg | 1\n",
      "water activities | diving, springboard or platform | 594 | 005307278.jpg | 1\n",
      "water activities | skindiving, scuba diving, snorkeling | 951 | 054132886.jpg | 1\n",
      "water activities | diving, springboard or platform | 594 | 048505267.jpg | 1\n"
     ]
    },
    {
     "output_type": "execute_result",
     "data": {
      "text/plain": [
       "136"
      ]
     },
     "metadata": {},
     "execution_count": 281
    }
   ],
   "metadata": {}
  },
  {
   "cell_type": "markdown",
   "source": [
    "Image name"
   ],
   "metadata": {}
  },
  {
   "cell_type": "code",
   "execution_count": 162,
   "source": [
    "mpii['annolist'][0][img_id]['image']['name'][0,0][0]"
   ],
   "outputs": [
    {
     "output_type": "execute_result",
     "data": {
      "text/plain": [
       "'018283778.jpg'"
      ]
     },
     "metadata": {},
     "execution_count": 162
    }
   ],
   "metadata": {}
  },
  {
   "cell_type": "markdown",
   "source": [
    "Массив поз на одном изображении"
   ],
   "metadata": {}
  },
  {
   "cell_type": "code",
   "execution_count": 163,
   "source": [
    "len(mpii['annolist'][0][img_id]['annorect'][0])"
   ],
   "outputs": [
    {
     "output_type": "execute_result",
     "data": {
      "text/plain": [
       "1"
      ]
     },
     "metadata": {},
     "execution_count": 163
    }
   ],
   "metadata": {}
  },
  {
   "cell_type": "code",
   "execution_count": 196,
   "source": [
    "mpii['annolist'][0][img_id]['annorect'][0][0] is None"
   ],
   "outputs": [
    {
     "output_type": "execute_result",
     "data": {
      "text/plain": [
       "True"
      ]
     },
     "metadata": {},
     "execution_count": 196
    }
   ],
   "metadata": {}
  },
  {
   "cell_type": "markdown",
   "source": [
    "Annotations"
   ],
   "metadata": {}
  },
  {
   "cell_type": "code",
   "execution_count": 199,
   "source": [
    "mpii['annolist'][0][img_id]['annorect'][0][0]['annopoints']"
   ],
   "outputs": [
    {
     "output_type": "execute_result",
     "data": {
      "text/plain": [
       "array([[(array([[(array([[610]], dtype=uint16), array([[187]], dtype=uint8), array([[6]], dtype=uint8), array([[0]], dtype=uint8)),\n",
       "                (array([[647]], dtype=uint16), array([[176]], dtype=uint8), array([[7]], dtype=uint8), array([[1]], dtype=uint8)),\n",
       "                (array([[637.0201]]), array([[189.8183]]), array([[8]], dtype=uint8), array([], shape=(0, 0), dtype=uint8)),\n",
       "                (array([[695.9799]]), array([[108.1817]]), array([[9]], dtype=uint8), array([], shape=(0, 0), dtype=uint8)),\n",
       "                (array([[620]], dtype=uint16), array([[394]], dtype=uint16), array([[0]], dtype=uint8), array([[1]], dtype=uint8)),\n",
       "                (array([[616]], dtype=uint16), array([[269]], dtype=uint16), array([[1]], dtype=uint8), array([[1]], dtype=uint8)),\n",
       "                (array([[573]], dtype=uint16), array([[185]], dtype=uint8), array([[2]], dtype=uint8), array([[1]], dtype=uint8)),\n",
       "                (array([[647]], dtype=uint16), array([[188]], dtype=uint8), array([[3]], dtype=uint8), array([[0]], dtype=uint8)),\n",
       "                (array([[661]], dtype=uint16), array([[221]], dtype=uint8), array([[4]], dtype=uint8), array([[1]], dtype=uint8)),\n",
       "                (array([[656]], dtype=uint16), array([[231]], dtype=uint8), array([[5]], dtype=uint8), array([[1]], dtype=uint8)),\n",
       "                (array([[606]], dtype=uint16), array([[217]], dtype=uint8), array([[10]], dtype=uint8), array([[1]], dtype=uint8)),\n",
       "                (array([[553]], dtype=uint16), array([[161]], dtype=uint8), array([[11]], dtype=uint8), array([[1]], dtype=uint8)),\n",
       "                (array([[601]], dtype=uint16), array([[167]], dtype=uint8), array([[12]], dtype=uint8), array([[1]], dtype=uint8)),\n",
       "                (array([[692]], dtype=uint16), array([[185]], dtype=uint8), array([[13]], dtype=uint8), array([[1]], dtype=uint8)),\n",
       "                (array([[693]], dtype=uint16), array([[240]], dtype=uint8), array([[14]], dtype=uint8), array([[1]], dtype=uint8)),\n",
       "                (array([[688]], dtype=uint16), array([[313]], dtype=uint16), array([[15]], dtype=uint8), array([[1]], dtype=uint8))]],\n",
       "              dtype=[('x', 'O'), ('y', 'O'), ('id', 'O'), ('is_visible', 'O')]),)                                                     ]],\n",
       "      dtype=[('point', 'O')])"
      ]
     },
     "metadata": {},
     "execution_count": 199
    }
   ],
   "metadata": {}
  },
  {
   "cell_type": "markdown",
   "source": [
    "Точка"
   ],
   "metadata": {}
  },
  {
   "cell_type": "code",
   "execution_count": 149,
   "source": [
    "mpii['annolist'][0][img_id]['annorect'][0][0]['annopoints'][\"point\"][0][0].shape"
   ],
   "outputs": [
    {
     "output_type": "execute_result",
     "data": {
      "text/plain": [
       "(1, 11)"
      ]
     },
     "metadata": {},
     "execution_count": 149
    }
   ],
   "metadata": {}
  },
  {
   "cell_type": "markdown",
   "source": [
    "Количество точек"
   ],
   "metadata": {}
  },
  {
   "cell_type": "code",
   "execution_count": 152,
   "source": [
    "len(mpii['annolist'][0][img_id]['annorect'][0][0]['annopoints'][\"point\"][0][0][0])"
   ],
   "outputs": [
    {
     "output_type": "execute_result",
     "data": {
      "text/plain": [
       "16"
      ]
     },
     "metadata": {},
     "execution_count": 152
    }
   ],
   "metadata": {}
  },
  {
   "cell_type": "markdown",
   "source": [
    "Coordinates"
   ],
   "metadata": {}
  },
  {
   "cell_type": "code",
   "execution_count": 157,
   "source": [
    "mpii['annolist'][0][img_id]['annorect'][0][0]['annopoints'][\"point\"][0][0][0][5]['id'][0][0]"
   ],
   "outputs": [
    {
     "output_type": "execute_result",
     "data": {
      "text/plain": [
       "1"
      ]
     },
     "metadata": {},
     "execution_count": 157
    }
   ],
   "metadata": {}
  },
  {
   "cell_type": "markdown",
   "source": [
    "Train or test assignment"
   ],
   "metadata": {}
  },
  {
   "cell_type": "code",
   "execution_count": 91,
   "source": [
    "RELEASE['img_train'][0]"
   ],
   "outputs": [
    {
     "output_type": "execute_result",
     "data": {
      "text/plain": [
       "array([0, 0, 0, ..., 1, 0, 0], dtype=uint8)"
      ]
     },
     "metadata": {},
     "execution_count": 91
    }
   ],
   "metadata": {}
  },
  {
   "cell_type": "markdown",
   "source": [
    "Check empty annotations"
   ],
   "metadata": {}
  },
  {
   "cell_type": "code",
   "execution_count": 90,
   "source": [
    "def check_empty(list, name):\n",
    "    try:\n",
    "        list[name]\n",
    "    except ValueError:\n",
    "        return True\n",
    "\n",
    "    if len(list[name]) > 0:\n",
    "        return False\n",
    "    else:\n",
    "        return True\n"
   ],
   "outputs": [],
   "metadata": {}
  },
  {
   "cell_type": "code",
   "execution_count": null,
   "source": [
    "def getData(dataset, dataset_type='train'):\n",
    "    coco = {'images': [], 'categories': [], 'annotations': []}\n",
    "    # idx, cat_name, act_name, act_id\n",
    "    datasetList = []\n",
    "    datasetSize = dataset['annolist'].shape[1]\n",
    "    for i in range(datasetSize):\n",
    "        if ((dataset_type == 'train' and dataset['img_train'][0][i] == 1) or (dataset_type == 'test' and dataset['img_train'][0][i] == 0)) and check_empty(dataset['annolist'][0][i],'annorect') == False: #any person is annotated\n",
    "            \n",
    "\n",
    "        name = dataset['annolist']['image'][0][i]['name'][0,0][0]\n",
    "        img_train = list(dataset['img_train'][0][i])\n",
    "        single_person = \n",
    "        act = [dataset['act']['cat_name'][0][0], dataset['act']['act_name'][0][0], dataset['act']['act_id'][0][0]]\n",
    "        yield [i, act]"
   ],
   "outputs": [],
   "metadata": {}
  }
 ]
}